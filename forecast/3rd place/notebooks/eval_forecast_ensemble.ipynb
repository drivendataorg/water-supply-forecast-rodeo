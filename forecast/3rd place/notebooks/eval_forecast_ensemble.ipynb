{
 "cells": [
  {
   "cell_type": "code",
   "execution_count": 1,
   "metadata": {},
   "outputs": [],
   "source": [
    "import pandas as pd\n",
    "import plotly.express as px\n",
    "\n",
    "from src.utils import *\n",
    "from src.features.base import *\n",
    "from src.features.volume_obs import *\n",
    "from src.features.swe import *\n",
    "from src.data.base import *\n",
    "from src.config import *\n",
    "from src.models.postprocess import *\n",
    "from src.models.lgb import *\n",
    "from src.models.ensemble import *\n",
    "\n",
    "import importlib\n",
    "\n",
    "EXP_NAME = 'swe_k9_s1_dp'\n",
    "cfg = importlib.import_module(f\"configs.forecast.{EXP_NAME}\").cfg\n",
    "\n",
    "val_years=[2020,2021,2022]\n",
    "test_years=[2023]"
   ]
  },
  {
   "cell_type": "markdown",
   "metadata": {},
   "source": [
    "# Evaluation"
   ]
  },
  {
   "cell_type": "code",
   "execution_count": 2,
   "metadata": {},
   "outputs": [],
   "source": [
    "exp_list = [\n",
    "    \"swe_k9_s1_dp\",\n",
    "    \"swe_k9_s1_dp_s1024\",\n",
    "    \"swe_k9_s1_dp_s3024\",\n",
    "    \"swe_k5_s3_dp\",\n",
    "    \"swe_k5_s3_dp_s1024\",\n",
    "    \"swe_k5_s3_dp_s3024\",\n",
    "    \"pdsi_swe_k9_s1_dp\",\n",
    "    \"pdsi_swe_k9_s1_dp_s1024\",\n",
    "    \"pdsi_swe_k9_s1_dp_s3024\",\n",
    "    \"pdsi_swe_k5_s3_dp\",\n",
    "    \"pdsi_swe_k5_s3_dp_s1024\",\n",
    "    \"pdsi_swe_k5_s3_dp_s3024\",\n",
    "]\n",
    "groupby_cols=[\"site_id\", \"year\", \"month\", \"day\", \"md_id\"]\n",
    "\n",
    "df_pred_val_all = []\n",
    "df_pred_test_all = []\n",
    "for exp_name in exp_list:\n",
    "    df_pred = pd.read_csv(f\"runs/forecast_v2_prd/{exp_name}/pred.csv\").query('(site_id==\"detroit_lake_inflow\" & md_id>=24)==False')\n",
    "    df_pred['pred_volume_50'] = df_pred['pred_volume_reg']\n",
    "\n",
    "    df_pred_val = df_pred[df_pred[\"year\"].isin(val_years)]\n",
    "    df_pred_test = df_pred[df_pred[\"year\"].isin(test_years)]\n",
    "\n",
    "\n",
    "    df_pred_val_all.append(df_pred_val.assign(model_id=exp_name.replace(\"_s1024\", \"\").replace(\"_s3024\", \"\")))\n",
    "    df_pred_test_all.append(df_pred_test.assign(model_id=exp_name.replace(\"_s1024\", \"\").replace(\"_s3024\", \"\")))\n",
    "\n",
    "df_pred_val_all = pd.concat(df_pred_val_all)\n",
    "df_pred_test_all = pd.concat(df_pred_test_all)\n",
    "df_pred_val_all = mean_ensemble(df_pred_val_all, groupby_cols=groupby_cols + [\"model_id\"])\n",
    "df_pred_test_all = mean_ensemble(df_pred_test_all, groupby_cols=groupby_cols + [\"model_id\"])\n",
    "df_pred_val_all = clip_prediction(rearrange_prediction(df_pred_val_all))\n",
    "df_pred_test_all = clip_prediction(rearrange_prediction(df_pred_test_all))\n",
    "\n",
    "df_pred_val_ens = custom_ensemble(df_pred_val_all, groupby_cols=groupby_cols)\n",
    "df_pred_test_ens = custom_ensemble(df_pred_test_all, groupby_cols=groupby_cols)\n",
    "\n",
    "df_test = read_train(is_forecast=True)\n",
    "df_test = df_test[df_test[\"year\"].isin(cfg[\"test_years\"])]\n",
    "df_pred_test_ens = pd.merge(\n",
    "    df_pred_test_ens.drop(columns=[\"volume\"]),\n",
    "    df_test\n",
    ")\n",
    "\n",
    "df_pred_val_ens[\"cat\"] = \"val\"\n",
    "df_pred_test_ens[\"cat\"] = \"test\"\n",
    "\n",
    "df_pred_val_ens_pp = use_previous_forecast_sites(df_pred_val_ens,\n",
    "                                                 months=[5,6,7],\n",
    "                                                 cols=[\"pred_volume_10\", \"pred_volume_50\"])\n",
    "df_pred_test_ens_pp = use_previous_forecast_sites(df_pred_test_ens,\n",
    "                                                  months=[5,6,7],\n",
    "                                                  cols=[\"pred_volume_10\", \"pred_volume_50\"])"
   ]
  },
  {
   "cell_type": "code",
   "execution_count": 3,
   "metadata": {},
   "outputs": [
    {
     "name": "stdout",
     "output_type": "stream",
     "text": [
      "['cat']\n"
     ]
    },
    {
     "data": {
      "text/html": [
       "<div>\n",
       "<style scoped>\n",
       "    .dataframe tbody tr th:only-of-type {\n",
       "        vertical-align: middle;\n",
       "    }\n",
       "\n",
       "    .dataframe tbody tr th {\n",
       "        vertical-align: top;\n",
       "    }\n",
       "\n",
       "    .dataframe thead th {\n",
       "        text-align: right;\n",
       "    }\n",
       "</style>\n",
       "<table border=\"1\" class=\"dataframe\">\n",
       "  <thead>\n",
       "    <tr style=\"text-align: right;\">\n",
       "      <th></th>\n",
       "      <th>n</th>\n",
       "      <th>mpl</th>\n",
       "      <th>mpl10</th>\n",
       "      <th>mpl50</th>\n",
       "      <th>mpl90</th>\n",
       "      <th>int_cvr</th>\n",
       "      <th>rmse</th>\n",
       "      <th>r2</th>\n",
       "      <th>mape</th>\n",
       "      <th>bias</th>\n",
       "      <th>actual_mean</th>\n",
       "      <th>pred_mean</th>\n",
       "    </tr>\n",
       "  </thead>\n",
       "  <tbody>\n",
       "    <tr>\n",
       "      <th>test</th>\n",
       "      <td>724.000000</td>\n",
       "      <td>81.133305</td>\n",
       "      <td>57.712249</td>\n",
       "      <td>129.912470</td>\n",
       "      <td>55.775196</td>\n",
       "      <td>0.819061</td>\n",
       "      <td>230.858854</td>\n",
       "      <td>0.954501</td>\n",
       "      <td>12.226386</td>\n",
       "      <td>40.253740</td>\n",
       "      <td>1039.918597</td>\n",
       "      <td>999.664857</td>\n",
       "    </tr>\n",
       "    <tr>\n",
       "      <th>val</th>\n",
       "      <td>2172.000000</td>\n",
       "      <td>68.857836</td>\n",
       "      <td>40.667781</td>\n",
       "      <td>108.691744</td>\n",
       "      <td>57.213984</td>\n",
       "      <td>0.756446</td>\n",
       "      <td>202.070527</td>\n",
       "      <td>0.970596</td>\n",
       "      <td>27.960806</td>\n",
       "      <td>-35.227464</td>\n",
       "      <td>753.240214</td>\n",
       "      <td>788.467678</td>\n",
       "    </tr>\n",
       "    <tr>\n",
       "      <th>0</th>\n",
       "      <td>1448.000000</td>\n",
       "      <td>74.995571</td>\n",
       "      <td>49.190015</td>\n",
       "      <td>119.302107</td>\n",
       "      <td>56.494590</td>\n",
       "      <td>0.787753</td>\n",
       "      <td>216.464691</td>\n",
       "      <td>0.962548</td>\n",
       "      <td>20.093596</td>\n",
       "      <td>2.513138</td>\n",
       "      <td>896.579405</td>\n",
       "      <td>894.066267</td>\n",
       "    </tr>\n",
       "    <tr>\n",
       "      <th>0</th>\n",
       "      <td>1023.890619</td>\n",
       "      <td>8.680067</td>\n",
       "      <td>12.052258</td>\n",
       "      <td>15.005319</td>\n",
       "      <td>1.017377</td>\n",
       "      <td>0.044276</td>\n",
       "      <td>20.356421</td>\n",
       "      <td>0.011381</td>\n",
       "      <td>11.125915</td>\n",
       "      <td>53.373272</td>\n",
       "      <td>202.712229</td>\n",
       "      <td>149.338957</td>\n",
       "    </tr>\n",
       "  </tbody>\n",
       "</table>\n",
       "</div>"
      ],
      "text/plain": [
       "                n        mpl      mpl10       mpl50      mpl90   int_cvr  \\\n",
       "test   724.000000  81.133305  57.712249  129.912470  55.775196  0.819061   \n",
       "val   2172.000000  68.857836  40.667781  108.691744  57.213984  0.756446   \n",
       "0     1448.000000  74.995571  49.190015  119.302107  56.494590  0.787753   \n",
       "0     1023.890619   8.680067  12.052258   15.005319   1.017377  0.044276   \n",
       "\n",
       "            rmse        r2       mape       bias  actual_mean   pred_mean  \n",
       "test  230.858854  0.954501  12.226386  40.253740  1039.918597  999.664857  \n",
       "val   202.070527  0.970596  27.960806 -35.227464   753.240214  788.467678  \n",
       "0     216.464691  0.962548  20.093596   2.513138   896.579405  894.066267  \n",
       "0      20.356421  0.011381  11.125915  53.373272   202.712229  149.338957  "
      ]
     },
     "metadata": {},
     "output_type": "display_data"
    },
    {
     "name": "stdout",
     "output_type": "stream",
     "text": [
      "\n",
      "\n",
      "['year']\n"
     ]
    },
    {
     "data": {
      "text/html": [
       "<div>\n",
       "<style scoped>\n",
       "    .dataframe tbody tr th:only-of-type {\n",
       "        vertical-align: middle;\n",
       "    }\n",
       "\n",
       "    .dataframe tbody tr th {\n",
       "        vertical-align: top;\n",
       "    }\n",
       "\n",
       "    .dataframe thead th {\n",
       "        text-align: right;\n",
       "    }\n",
       "</style>\n",
       "<table border=\"1\" class=\"dataframe\">\n",
       "  <thead>\n",
       "    <tr style=\"text-align: right;\">\n",
       "      <th></th>\n",
       "      <th>n</th>\n",
       "      <th>mpl</th>\n",
       "      <th>mpl10</th>\n",
       "      <th>mpl50</th>\n",
       "      <th>mpl90</th>\n",
       "      <th>int_cvr</th>\n",
       "      <th>rmse</th>\n",
       "      <th>r2</th>\n",
       "      <th>mape</th>\n",
       "      <th>bias</th>\n",
       "      <th>actual_mean</th>\n",
       "      <th>pred_mean</th>\n",
       "    </tr>\n",
       "  </thead>\n",
       "  <tbody>\n",
       "    <tr>\n",
       "      <th>2020</th>\n",
       "      <td>724.0</td>\n",
       "      <td>63.163739</td>\n",
       "      <td>47.153755</td>\n",
       "      <td>97.313219</td>\n",
       "      <td>45.024244</td>\n",
       "      <td>0.803867</td>\n",
       "      <td>179.513837</td>\n",
       "      <td>0.980041</td>\n",
       "      <td>20.906127</td>\n",
       "      <td>47.369437</td>\n",
       "      <td>851.730580</td>\n",
       "      <td>804.361143</td>\n",
       "    </tr>\n",
       "    <tr>\n",
       "      <th>2021</th>\n",
       "      <td>724.0</td>\n",
       "      <td>73.624789</td>\n",
       "      <td>36.003935</td>\n",
       "      <td>121.090080</td>\n",
       "      <td>63.780352</td>\n",
       "      <td>0.691989</td>\n",
       "      <td>223.412734</td>\n",
       "      <td>0.944705</td>\n",
       "      <td>32.947493</td>\n",
       "      <td>-108.265007</td>\n",
       "      <td>599.508630</td>\n",
       "      <td>707.773637</td>\n",
       "    </tr>\n",
       "    <tr>\n",
       "      <th>2022</th>\n",
       "      <td>724.0</td>\n",
       "      <td>69.784980</td>\n",
       "      <td>38.845654</td>\n",
       "      <td>107.671933</td>\n",
       "      <td>62.837354</td>\n",
       "      <td>0.773481</td>\n",
       "      <td>200.895561</td>\n",
       "      <td>0.974970</td>\n",
       "      <td>30.028798</td>\n",
       "      <td>-44.786823</td>\n",
       "      <td>808.481431</td>\n",
       "      <td>853.268254</td>\n",
       "    </tr>\n",
       "    <tr>\n",
       "      <th>2023</th>\n",
       "      <td>724.0</td>\n",
       "      <td>81.133305</td>\n",
       "      <td>57.712249</td>\n",
       "      <td>129.912470</td>\n",
       "      <td>55.775196</td>\n",
       "      <td>0.819061</td>\n",
       "      <td>230.858854</td>\n",
       "      <td>0.954501</td>\n",
       "      <td>12.226386</td>\n",
       "      <td>40.253740</td>\n",
       "      <td>1039.918597</td>\n",
       "      <td>999.664857</td>\n",
       "    </tr>\n",
       "    <tr>\n",
       "      <th>0</th>\n",
       "      <td>724.0</td>\n",
       "      <td>71.926703</td>\n",
       "      <td>44.928898</td>\n",
       "      <td>113.996925</td>\n",
       "      <td>56.854287</td>\n",
       "      <td>0.772099</td>\n",
       "      <td>208.670246</td>\n",
       "      <td>0.963554</td>\n",
       "      <td>24.027201</td>\n",
       "      <td>-16.357163</td>\n",
       "      <td>824.909809</td>\n",
       "      <td>841.266973</td>\n",
       "    </tr>\n",
       "    <tr>\n",
       "      <th>0</th>\n",
       "      <td>0.0</td>\n",
       "      <td>7.506031</td>\n",
       "      <td>9.747219</td>\n",
       "      <td>14.398715</td>\n",
       "      <td>8.657980</td>\n",
       "      <td>0.056669</td>\n",
       "      <td>23.239457</td>\n",
       "      <td>0.016727</td>\n",
       "      <td>9.391328</td>\n",
       "      <td>74.209549</td>\n",
       "      <td>180.761091</td>\n",
       "      <td>121.677759</td>\n",
       "    </tr>\n",
       "  </tbody>\n",
       "</table>\n",
       "</div>"
      ],
      "text/plain": [
       "          n        mpl      mpl10       mpl50      mpl90   int_cvr  \\\n",
       "2020  724.0  63.163739  47.153755   97.313219  45.024244  0.803867   \n",
       "2021  724.0  73.624789  36.003935  121.090080  63.780352  0.691989   \n",
       "2022  724.0  69.784980  38.845654  107.671933  62.837354  0.773481   \n",
       "2023  724.0  81.133305  57.712249  129.912470  55.775196  0.819061   \n",
       "0     724.0  71.926703  44.928898  113.996925  56.854287  0.772099   \n",
       "0       0.0   7.506031   9.747219   14.398715   8.657980  0.056669   \n",
       "\n",
       "            rmse        r2       mape        bias  actual_mean   pred_mean  \n",
       "2020  179.513837  0.980041  20.906127   47.369437   851.730580  804.361143  \n",
       "2021  223.412734  0.944705  32.947493 -108.265007   599.508630  707.773637  \n",
       "2022  200.895561  0.974970  30.028798  -44.786823   808.481431  853.268254  \n",
       "2023  230.858854  0.954501  12.226386   40.253740  1039.918597  999.664857  \n",
       "0     208.670246  0.963554  24.027201  -16.357163   824.909809  841.266973  \n",
       "0      23.239457  0.016727   9.391328   74.209549   180.761091  121.677759  "
      ]
     },
     "metadata": {},
     "output_type": "display_data"
    },
    {
     "name": "stdout",
     "output_type": "stream",
     "text": [
      "\n",
      "\n",
      "['month']\n"
     ]
    },
    {
     "data": {
      "text/html": [
       "<div>\n",
       "<style scoped>\n",
       "    .dataframe tbody tr th:only-of-type {\n",
       "        vertical-align: middle;\n",
       "    }\n",
       "\n",
       "    .dataframe tbody tr th {\n",
       "        vertical-align: top;\n",
       "    }\n",
       "\n",
       "    .dataframe thead th {\n",
       "        text-align: right;\n",
       "    }\n",
       "</style>\n",
       "<table border=\"1\" class=\"dataframe\">\n",
       "  <thead>\n",
       "    <tr style=\"text-align: right;\">\n",
       "      <th></th>\n",
       "      <th>n</th>\n",
       "      <th>mpl</th>\n",
       "      <th>mpl10</th>\n",
       "      <th>mpl50</th>\n",
       "      <th>mpl90</th>\n",
       "      <th>int_cvr</th>\n",
       "      <th>rmse</th>\n",
       "      <th>r2</th>\n",
       "      <th>mape</th>\n",
       "      <th>bias</th>\n",
       "      <th>actual_mean</th>\n",
       "      <th>pred_mean</th>\n",
       "    </tr>\n",
       "  </thead>\n",
       "  <tbody>\n",
       "    <tr>\n",
       "      <th>1</th>\n",
       "      <td>416.000000</td>\n",
       "      <td>118.923634</td>\n",
       "      <td>61.027925</td>\n",
       "      <td>201.317118</td>\n",
       "      <td>94.425859</td>\n",
       "      <td>0.814904</td>\n",
       "      <td>335.029585</td>\n",
       "      <td>0.916425</td>\n",
       "      <td>43.782025</td>\n",
       "      <td>-69.017448</td>\n",
       "      <td>823.096404</td>\n",
       "      <td>892.113852</td>\n",
       "    </tr>\n",
       "    <tr>\n",
       "      <th>2</th>\n",
       "      <td>416.000000</td>\n",
       "      <td>94.001075</td>\n",
       "      <td>59.207199</td>\n",
       "      <td>146.846065</td>\n",
       "      <td>75.949961</td>\n",
       "      <td>0.783654</td>\n",
       "      <td>231.992667</td>\n",
       "      <td>0.959926</td>\n",
       "      <td>34.986797</td>\n",
       "      <td>-39.817803</td>\n",
       "      <td>823.096404</td>\n",
       "      <td>862.914207</td>\n",
       "    </tr>\n",
       "    <tr>\n",
       "      <th>3</th>\n",
       "      <td>416.000000</td>\n",
       "      <td>89.263346</td>\n",
       "      <td>58.393560</td>\n",
       "      <td>142.058864</td>\n",
       "      <td>67.337614</td>\n",
       "      <td>0.747596</td>\n",
       "      <td>229.873016</td>\n",
       "      <td>0.960655</td>\n",
       "      <td>31.984840</td>\n",
       "      <td>-25.343237</td>\n",
       "      <td>823.096404</td>\n",
       "      <td>848.439641</td>\n",
       "    </tr>\n",
       "    <tr>\n",
       "      <th>4</th>\n",
       "      <td>416.000000</td>\n",
       "      <td>70.269334</td>\n",
       "      <td>48.839800</td>\n",
       "      <td>103.641650</td>\n",
       "      <td>58.326552</td>\n",
       "      <td>0.735577</td>\n",
       "      <td>168.564017</td>\n",
       "      <td>0.978844</td>\n",
       "      <td>24.382405</td>\n",
       "      <td>-18.827776</td>\n",
       "      <td>823.096404</td>\n",
       "      <td>841.924180</td>\n",
       "    </tr>\n",
       "    <tr>\n",
       "      <th>5</th>\n",
       "      <td>416.000000</td>\n",
       "      <td>60.299406</td>\n",
       "      <td>40.681903</td>\n",
       "      <td>92.844881</td>\n",
       "      <td>47.371433</td>\n",
       "      <td>0.786058</td>\n",
       "      <td>168.878863</td>\n",
       "      <td>0.978765</td>\n",
       "      <td>17.126902</td>\n",
       "      <td>25.014484</td>\n",
       "      <td>823.096404</td>\n",
       "      <td>798.081920</td>\n",
       "    </tr>\n",
       "    <tr>\n",
       "      <th>6</th>\n",
       "      <td>416.000000</td>\n",
       "      <td>46.636112</td>\n",
       "      <td>30.577211</td>\n",
       "      <td>73.139814</td>\n",
       "      <td>36.191310</td>\n",
       "      <td>0.745192</td>\n",
       "      <td>148.014176</td>\n",
       "      <td>0.983688</td>\n",
       "      <td>10.168333</td>\n",
       "      <td>19.570324</td>\n",
       "      <td>823.096404</td>\n",
       "      <td>803.526080</td>\n",
       "    </tr>\n",
       "    <tr>\n",
       "      <th>7</th>\n",
       "      <td>400.000000</td>\n",
       "      <td>22.180710</td>\n",
       "      <td>14.608520</td>\n",
       "      <td>35.095412</td>\n",
       "      <td>16.838198</td>\n",
       "      <td>0.792500</td>\n",
       "      <td>92.340663</td>\n",
       "      <td>0.993872</td>\n",
       "      <td>5.028381</td>\n",
       "      <td>-5.667548</td>\n",
       "      <td>836.225460</td>\n",
       "      <td>841.893008</td>\n",
       "    </tr>\n",
       "    <tr>\n",
       "      <th>0</th>\n",
       "      <td>413.714286</td>\n",
       "      <td>71.653374</td>\n",
       "      <td>44.762303</td>\n",
       "      <td>113.563401</td>\n",
       "      <td>56.634418</td>\n",
       "      <td>0.772212</td>\n",
       "      <td>196.384712</td>\n",
       "      <td>0.967454</td>\n",
       "      <td>23.922812</td>\n",
       "      <td>-16.298429</td>\n",
       "      <td>824.971983</td>\n",
       "      <td>841.270413</td>\n",
       "    </tr>\n",
       "    <tr>\n",
       "      <th>0</th>\n",
       "      <td>6.047432</td>\n",
       "      <td>32.270328</td>\n",
       "      <td>17.333877</td>\n",
       "      <td>54.680027</td>\n",
       "      <td>25.839787</td>\n",
       "      <td>0.029538</td>\n",
       "      <td>77.789491</td>\n",
       "      <td>0.025580</td>\n",
       "      <td>13.990337</td>\n",
       "      <td>32.982323</td>\n",
       "      <td>4.962317</td>\n",
       "      <td>32.648641</td>\n",
       "    </tr>\n",
       "  </tbody>\n",
       "</table>\n",
       "</div>"
      ],
      "text/plain": [
       "            n         mpl      mpl10       mpl50      mpl90   int_cvr  \\\n",
       "1  416.000000  118.923634  61.027925  201.317118  94.425859  0.814904   \n",
       "2  416.000000   94.001075  59.207199  146.846065  75.949961  0.783654   \n",
       "3  416.000000   89.263346  58.393560  142.058864  67.337614  0.747596   \n",
       "4  416.000000   70.269334  48.839800  103.641650  58.326552  0.735577   \n",
       "5  416.000000   60.299406  40.681903   92.844881  47.371433  0.786058   \n",
       "6  416.000000   46.636112  30.577211   73.139814  36.191310  0.745192   \n",
       "7  400.000000   22.180710  14.608520   35.095412  16.838198  0.792500   \n",
       "0  413.714286   71.653374  44.762303  113.563401  56.634418  0.772212   \n",
       "0    6.047432   32.270328  17.333877   54.680027  25.839787  0.029538   \n",
       "\n",
       "         rmse        r2       mape       bias  actual_mean   pred_mean  \n",
       "1  335.029585  0.916425  43.782025 -69.017448   823.096404  892.113852  \n",
       "2  231.992667  0.959926  34.986797 -39.817803   823.096404  862.914207  \n",
       "3  229.873016  0.960655  31.984840 -25.343237   823.096404  848.439641  \n",
       "4  168.564017  0.978844  24.382405 -18.827776   823.096404  841.924180  \n",
       "5  168.878863  0.978765  17.126902  25.014484   823.096404  798.081920  \n",
       "6  148.014176  0.983688  10.168333  19.570324   823.096404  803.526080  \n",
       "7   92.340663  0.993872   5.028381  -5.667548   836.225460  841.893008  \n",
       "0  196.384712  0.967454  23.922812 -16.298429   824.971983  841.270413  \n",
       "0   77.789491  0.025580  13.990337  32.982323     4.962317   32.648641  "
      ]
     },
     "metadata": {},
     "output_type": "display_data"
    },
    {
     "name": "stdout",
     "output_type": "stream",
     "text": [
      "\n",
      "\n"
     ]
    }
   ],
   "source": [
    "eval_all(pd.concat([df_pred_val_ens, df_pred_test_ens]), [[\"cat\"], [\"year\"], [\"month\"]])"
   ]
  },
  {
   "cell_type": "code",
   "execution_count": 4,
   "metadata": {},
   "outputs": [
    {
     "name": "stdout",
     "output_type": "stream",
     "text": [
      "['cat']\n"
     ]
    },
    {
     "data": {
      "text/html": [
       "<div>\n",
       "<style scoped>\n",
       "    .dataframe tbody tr th:only-of-type {\n",
       "        vertical-align: middle;\n",
       "    }\n",
       "\n",
       "    .dataframe tbody tr th {\n",
       "        vertical-align: top;\n",
       "    }\n",
       "\n",
       "    .dataframe thead th {\n",
       "        text-align: right;\n",
       "    }\n",
       "</style>\n",
       "<table border=\"1\" class=\"dataframe\">\n",
       "  <thead>\n",
       "    <tr style=\"text-align: right;\">\n",
       "      <th></th>\n",
       "      <th>n</th>\n",
       "      <th>mpl</th>\n",
       "      <th>mpl10</th>\n",
       "      <th>mpl50</th>\n",
       "      <th>mpl90</th>\n",
       "      <th>int_cvr</th>\n",
       "      <th>rmse</th>\n",
       "      <th>r2</th>\n",
       "      <th>mape</th>\n",
       "      <th>bias</th>\n",
       "      <th>actual_mean</th>\n",
       "      <th>pred_mean</th>\n",
       "    </tr>\n",
       "  </thead>\n",
       "  <tbody>\n",
       "    <tr>\n",
       "      <th>test</th>\n",
       "      <td>724.000000</td>\n",
       "      <td>79.530989</td>\n",
       "      <td>55.262987</td>\n",
       "      <td>127.554784</td>\n",
       "      <td>55.775196</td>\n",
       "      <td>0.812155</td>\n",
       "      <td>224.522698</td>\n",
       "      <td>0.956964</td>\n",
       "      <td>12.202903</td>\n",
       "      <td>33.609210</td>\n",
       "      <td>1039.918597</td>\n",
       "      <td>1006.309387</td>\n",
       "    </tr>\n",
       "    <tr>\n",
       "      <th>val</th>\n",
       "      <td>2172.000000</td>\n",
       "      <td>68.824243</td>\n",
       "      <td>40.214330</td>\n",
       "      <td>109.044415</td>\n",
       "      <td>57.213984</td>\n",
       "      <td>0.751381</td>\n",
       "      <td>201.490988</td>\n",
       "      <td>0.970765</td>\n",
       "      <td>28.310692</td>\n",
       "      <td>-38.337803</td>\n",
       "      <td>753.240214</td>\n",
       "      <td>791.578017</td>\n",
       "    </tr>\n",
       "    <tr>\n",
       "      <th>0</th>\n",
       "      <td>1448.000000</td>\n",
       "      <td>74.177616</td>\n",
       "      <td>47.738659</td>\n",
       "      <td>118.299599</td>\n",
       "      <td>56.494590</td>\n",
       "      <td>0.781768</td>\n",
       "      <td>213.006843</td>\n",
       "      <td>0.963864</td>\n",
       "      <td>20.256797</td>\n",
       "      <td>-2.364297</td>\n",
       "      <td>896.579405</td>\n",
       "      <td>898.943702</td>\n",
       "    </tr>\n",
       "    <tr>\n",
       "      <th>0</th>\n",
       "      <td>1023.890619</td>\n",
       "      <td>7.570813</td>\n",
       "      <td>10.641008</td>\n",
       "      <td>13.088808</td>\n",
       "      <td>1.017377</td>\n",
       "      <td>0.042973</td>\n",
       "      <td>16.285878</td>\n",
       "      <td>0.009759</td>\n",
       "      <td>11.389927</td>\n",
       "      <td>50.874221</td>\n",
       "      <td>202.712229</td>\n",
       "      <td>151.838008</td>\n",
       "    </tr>\n",
       "  </tbody>\n",
       "</table>\n",
       "</div>"
      ],
      "text/plain": [
       "                n        mpl      mpl10       mpl50      mpl90   int_cvr  \\\n",
       "test   724.000000  79.530989  55.262987  127.554784  55.775196  0.812155   \n",
       "val   2172.000000  68.824243  40.214330  109.044415  57.213984  0.751381   \n",
       "0     1448.000000  74.177616  47.738659  118.299599  56.494590  0.781768   \n",
       "0     1023.890619   7.570813  10.641008   13.088808   1.017377  0.042973   \n",
       "\n",
       "            rmse        r2       mape       bias  actual_mean    pred_mean  \n",
       "test  224.522698  0.956964  12.202903  33.609210  1039.918597  1006.309387  \n",
       "val   201.490988  0.970765  28.310692 -38.337803   753.240214   791.578017  \n",
       "0     213.006843  0.963864  20.256797  -2.364297   896.579405   898.943702  \n",
       "0      16.285878  0.009759  11.389927  50.874221   202.712229   151.838008  "
      ]
     },
     "metadata": {},
     "output_type": "display_data"
    },
    {
     "name": "stdout",
     "output_type": "stream",
     "text": [
      "\n",
      "\n",
      "['year']\n"
     ]
    },
    {
     "data": {
      "text/html": [
       "<div>\n",
       "<style scoped>\n",
       "    .dataframe tbody tr th:only-of-type {\n",
       "        vertical-align: middle;\n",
       "    }\n",
       "\n",
       "    .dataframe tbody tr th {\n",
       "        vertical-align: top;\n",
       "    }\n",
       "\n",
       "    .dataframe thead th {\n",
       "        text-align: right;\n",
       "    }\n",
       "</style>\n",
       "<table border=\"1\" class=\"dataframe\">\n",
       "  <thead>\n",
       "    <tr style=\"text-align: right;\">\n",
       "      <th></th>\n",
       "      <th>n</th>\n",
       "      <th>mpl</th>\n",
       "      <th>mpl10</th>\n",
       "      <th>mpl50</th>\n",
       "      <th>mpl90</th>\n",
       "      <th>int_cvr</th>\n",
       "      <th>rmse</th>\n",
       "      <th>r2</th>\n",
       "      <th>mape</th>\n",
       "      <th>bias</th>\n",
       "      <th>actual_mean</th>\n",
       "      <th>pred_mean</th>\n",
       "    </tr>\n",
       "  </thead>\n",
       "  <tbody>\n",
       "    <tr>\n",
       "      <th>2020</th>\n",
       "      <td>724.0</td>\n",
       "      <td>62.522392</td>\n",
       "      <td>46.851819</td>\n",
       "      <td>95.691111</td>\n",
       "      <td>45.024244</td>\n",
       "      <td>0.798343</td>\n",
       "      <td>175.598337</td>\n",
       "      <td>0.980902</td>\n",
       "      <td>21.314246</td>\n",
       "      <td>44.623446</td>\n",
       "      <td>851.730580</td>\n",
       "      <td>807.107134</td>\n",
       "    </tr>\n",
       "    <tr>\n",
       "      <th>2021</th>\n",
       "      <td>724.0</td>\n",
       "      <td>73.796330</td>\n",
       "      <td>35.481094</td>\n",
       "      <td>122.127543</td>\n",
       "      <td>63.780352</td>\n",
       "      <td>0.693370</td>\n",
       "      <td>223.835717</td>\n",
       "      <td>0.944496</td>\n",
       "      <td>33.249380</td>\n",
       "      <td>-115.113277</td>\n",
       "      <td>599.508630</td>\n",
       "      <td>714.621907</td>\n",
       "    </tr>\n",
       "    <tr>\n",
       "      <th>2022</th>\n",
       "      <td>724.0</td>\n",
       "      <td>70.154007</td>\n",
       "      <td>38.310077</td>\n",
       "      <td>109.314589</td>\n",
       "      <td>62.837354</td>\n",
       "      <td>0.762431</td>\n",
       "      <td>202.135229</td>\n",
       "      <td>0.974660</td>\n",
       "      <td>30.368450</td>\n",
       "      <td>-44.523580</td>\n",
       "      <td>808.481431</td>\n",
       "      <td>853.005011</td>\n",
       "    </tr>\n",
       "    <tr>\n",
       "      <th>2023</th>\n",
       "      <td>724.0</td>\n",
       "      <td>79.530989</td>\n",
       "      <td>55.262987</td>\n",
       "      <td>127.554784</td>\n",
       "      <td>55.775196</td>\n",
       "      <td>0.812155</td>\n",
       "      <td>224.522698</td>\n",
       "      <td>0.956964</td>\n",
       "      <td>12.202903</td>\n",
       "      <td>33.609210</td>\n",
       "      <td>1039.918597</td>\n",
       "      <td>1006.309387</td>\n",
       "    </tr>\n",
       "    <tr>\n",
       "      <th>0</th>\n",
       "      <td>724.0</td>\n",
       "      <td>71.500929</td>\n",
       "      <td>43.976494</td>\n",
       "      <td>113.672007</td>\n",
       "      <td>56.854287</td>\n",
       "      <td>0.766575</td>\n",
       "      <td>206.522995</td>\n",
       "      <td>0.964255</td>\n",
       "      <td>24.283745</td>\n",
       "      <td>-20.351050</td>\n",
       "      <td>824.909809</td>\n",
       "      <td>845.260860</td>\n",
       "    </tr>\n",
       "    <tr>\n",
       "      <th>0</th>\n",
       "      <td>0.0</td>\n",
       "      <td>7.122244</td>\n",
       "      <td>8.943015</td>\n",
       "      <td>14.218852</td>\n",
       "      <td>8.657980</td>\n",
       "      <td>0.053112</td>\n",
       "      <td>23.089006</td>\n",
       "      <td>0.016623</td>\n",
       "      <td>9.524896</td>\n",
       "      <td>74.604704</td>\n",
       "      <td>180.761091</td>\n",
       "      <td>121.817956</td>\n",
       "    </tr>\n",
       "  </tbody>\n",
       "</table>\n",
       "</div>"
      ],
      "text/plain": [
       "          n        mpl      mpl10       mpl50      mpl90   int_cvr  \\\n",
       "2020  724.0  62.522392  46.851819   95.691111  45.024244  0.798343   \n",
       "2021  724.0  73.796330  35.481094  122.127543  63.780352  0.693370   \n",
       "2022  724.0  70.154007  38.310077  109.314589  62.837354  0.762431   \n",
       "2023  724.0  79.530989  55.262987  127.554784  55.775196  0.812155   \n",
       "0     724.0  71.500929  43.976494  113.672007  56.854287  0.766575   \n",
       "0       0.0   7.122244   8.943015   14.218852   8.657980  0.053112   \n",
       "\n",
       "            rmse        r2       mape        bias  actual_mean    pred_mean  \n",
       "2020  175.598337  0.980902  21.314246   44.623446   851.730580   807.107134  \n",
       "2021  223.835717  0.944496  33.249380 -115.113277   599.508630   714.621907  \n",
       "2022  202.135229  0.974660  30.368450  -44.523580   808.481431   853.005011  \n",
       "2023  224.522698  0.956964  12.202903   33.609210  1039.918597  1006.309387  \n",
       "0     206.522995  0.964255  24.283745  -20.351050   824.909809   845.260860  \n",
       "0      23.089006  0.016623   9.524896   74.604704   180.761091   121.817956  "
      ]
     },
     "metadata": {},
     "output_type": "display_data"
    },
    {
     "name": "stdout",
     "output_type": "stream",
     "text": [
      "\n",
      "\n",
      "['month']\n"
     ]
    },
    {
     "data": {
      "text/html": [
       "<div>\n",
       "<style scoped>\n",
       "    .dataframe tbody tr th:only-of-type {\n",
       "        vertical-align: middle;\n",
       "    }\n",
       "\n",
       "    .dataframe tbody tr th {\n",
       "        vertical-align: top;\n",
       "    }\n",
       "\n",
       "    .dataframe thead th {\n",
       "        text-align: right;\n",
       "    }\n",
       "</style>\n",
       "<table border=\"1\" class=\"dataframe\">\n",
       "  <thead>\n",
       "    <tr style=\"text-align: right;\">\n",
       "      <th></th>\n",
       "      <th>n</th>\n",
       "      <th>mpl</th>\n",
       "      <th>mpl10</th>\n",
       "      <th>mpl50</th>\n",
       "      <th>mpl90</th>\n",
       "      <th>int_cvr</th>\n",
       "      <th>rmse</th>\n",
       "      <th>r2</th>\n",
       "      <th>mape</th>\n",
       "      <th>bias</th>\n",
       "      <th>actual_mean</th>\n",
       "      <th>pred_mean</th>\n",
       "    </tr>\n",
       "  </thead>\n",
       "  <tbody>\n",
       "    <tr>\n",
       "      <th>1</th>\n",
       "      <td>416.000000</td>\n",
       "      <td>118.923634</td>\n",
       "      <td>61.027925</td>\n",
       "      <td>201.317118</td>\n",
       "      <td>94.425859</td>\n",
       "      <td>0.814904</td>\n",
       "      <td>335.029585</td>\n",
       "      <td>0.916425</td>\n",
       "      <td>43.782025</td>\n",
       "      <td>-69.017448</td>\n",
       "      <td>823.096404</td>\n",
       "      <td>892.113852</td>\n",
       "    </tr>\n",
       "    <tr>\n",
       "      <th>2</th>\n",
       "      <td>416.000000</td>\n",
       "      <td>94.001075</td>\n",
       "      <td>59.207199</td>\n",
       "      <td>146.846065</td>\n",
       "      <td>75.949961</td>\n",
       "      <td>0.783654</td>\n",
       "      <td>231.992667</td>\n",
       "      <td>0.959926</td>\n",
       "      <td>34.986797</td>\n",
       "      <td>-39.817803</td>\n",
       "      <td>823.096404</td>\n",
       "      <td>862.914207</td>\n",
       "    </tr>\n",
       "    <tr>\n",
       "      <th>3</th>\n",
       "      <td>416.000000</td>\n",
       "      <td>89.263346</td>\n",
       "      <td>58.393560</td>\n",
       "      <td>142.058864</td>\n",
       "      <td>67.337614</td>\n",
       "      <td>0.747596</td>\n",
       "      <td>229.873016</td>\n",
       "      <td>0.960655</td>\n",
       "      <td>31.984840</td>\n",
       "      <td>-25.343237</td>\n",
       "      <td>823.096404</td>\n",
       "      <td>848.439641</td>\n",
       "    </tr>\n",
       "    <tr>\n",
       "      <th>4</th>\n",
       "      <td>416.000000</td>\n",
       "      <td>70.269334</td>\n",
       "      <td>48.839800</td>\n",
       "      <td>103.641650</td>\n",
       "      <td>58.326552</td>\n",
       "      <td>0.735577</td>\n",
       "      <td>168.564017</td>\n",
       "      <td>0.978844</td>\n",
       "      <td>24.382405</td>\n",
       "      <td>-18.827776</td>\n",
       "      <td>823.096404</td>\n",
       "      <td>841.924180</td>\n",
       "    </tr>\n",
       "    <tr>\n",
       "      <th>5</th>\n",
       "      <td>416.000000</td>\n",
       "      <td>60.066366</td>\n",
       "      <td>37.632091</td>\n",
       "      <td>95.195575</td>\n",
       "      <td>47.371433</td>\n",
       "      <td>0.771635</td>\n",
       "      <td>163.985485</td>\n",
       "      <td>0.979977</td>\n",
       "      <td>18.360304</td>\n",
       "      <td>8.343400</td>\n",
       "      <td>823.096404</td>\n",
       "      <td>814.753004</td>\n",
       "    </tr>\n",
       "    <tr>\n",
       "      <th>6</th>\n",
       "      <td>416.000000</td>\n",
       "      <td>44.333660</td>\n",
       "      <td>28.190209</td>\n",
       "      <td>68.619462</td>\n",
       "      <td>36.191310</td>\n",
       "      <td>0.723558</td>\n",
       "      <td>132.428604</td>\n",
       "      <td>0.986942</td>\n",
       "      <td>10.741456</td>\n",
       "      <td>7.724318</td>\n",
       "      <td>823.096404</td>\n",
       "      <td>815.372086</td>\n",
       "    </tr>\n",
       "    <tr>\n",
       "      <th>7</th>\n",
       "      <td>400.000000</td>\n",
       "      <td>21.735016</td>\n",
       "      <td>13.367405</td>\n",
       "      <td>34.999446</td>\n",
       "      <td>16.838198</td>\n",
       "      <td>0.790000</td>\n",
       "      <td>90.961503</td>\n",
       "      <td>0.994054</td>\n",
       "      <td>5.006973</td>\n",
       "      <td>-4.925514</td>\n",
       "      <td>836.225460</td>\n",
       "      <td>841.150974</td>\n",
       "    </tr>\n",
       "    <tr>\n",
       "      <th>0</th>\n",
       "      <td>413.714286</td>\n",
       "      <td>71.227490</td>\n",
       "      <td>43.808313</td>\n",
       "      <td>113.239740</td>\n",
       "      <td>56.634418</td>\n",
       "      <td>0.766703</td>\n",
       "      <td>193.262125</td>\n",
       "      <td>0.968118</td>\n",
       "      <td>24.177829</td>\n",
       "      <td>-20.266294</td>\n",
       "      <td>824.971983</td>\n",
       "      <td>845.238278</td>\n",
       "    </tr>\n",
       "    <tr>\n",
       "      <th>0</th>\n",
       "      <td>6.047432</td>\n",
       "      <td>32.703522</td>\n",
       "      <td>18.167764</td>\n",
       "      <td>55.147952</td>\n",
       "      <td>25.839787</td>\n",
       "      <td>0.032591</td>\n",
       "      <td>80.178631</td>\n",
       "      <td>0.026069</td>\n",
       "      <td>13.808518</td>\n",
       "      <td>27.761213</td>\n",
       "      <td>4.962317</td>\n",
       "      <td>26.984679</td>\n",
       "    </tr>\n",
       "  </tbody>\n",
       "</table>\n",
       "</div>"
      ],
      "text/plain": [
       "            n         mpl      mpl10       mpl50      mpl90   int_cvr  \\\n",
       "1  416.000000  118.923634  61.027925  201.317118  94.425859  0.814904   \n",
       "2  416.000000   94.001075  59.207199  146.846065  75.949961  0.783654   \n",
       "3  416.000000   89.263346  58.393560  142.058864  67.337614  0.747596   \n",
       "4  416.000000   70.269334  48.839800  103.641650  58.326552  0.735577   \n",
       "5  416.000000   60.066366  37.632091   95.195575  47.371433  0.771635   \n",
       "6  416.000000   44.333660  28.190209   68.619462  36.191310  0.723558   \n",
       "7  400.000000   21.735016  13.367405   34.999446  16.838198  0.790000   \n",
       "0  413.714286   71.227490  43.808313  113.239740  56.634418  0.766703   \n",
       "0    6.047432   32.703522  18.167764   55.147952  25.839787  0.032591   \n",
       "\n",
       "         rmse        r2       mape       bias  actual_mean   pred_mean  \n",
       "1  335.029585  0.916425  43.782025 -69.017448   823.096404  892.113852  \n",
       "2  231.992667  0.959926  34.986797 -39.817803   823.096404  862.914207  \n",
       "3  229.873016  0.960655  31.984840 -25.343237   823.096404  848.439641  \n",
       "4  168.564017  0.978844  24.382405 -18.827776   823.096404  841.924180  \n",
       "5  163.985485  0.979977  18.360304   8.343400   823.096404  814.753004  \n",
       "6  132.428604  0.986942  10.741456   7.724318   823.096404  815.372086  \n",
       "7   90.961503  0.994054   5.006973  -4.925514   836.225460  841.150974  \n",
       "0  193.262125  0.968118  24.177829 -20.266294   824.971983  845.238278  \n",
       "0   80.178631  0.026069  13.808518  27.761213     4.962317   26.984679  "
      ]
     },
     "metadata": {},
     "output_type": "display_data"
    },
    {
     "name": "stdout",
     "output_type": "stream",
     "text": [
      "\n",
      "\n"
     ]
    }
   ],
   "source": [
    "eval_all(pd.concat([df_pred_val_ens_pp, df_pred_test_ens_pp]), [[\"cat\"], [\"year\"], [\"month\"]])"
   ]
  },
  {
   "cell_type": "code",
   "execution_count": 5,
   "metadata": {},
   "outputs": [
    {
     "data": {
      "text/html": [
       "<div>\n",
       "<style scoped>\n",
       "    .dataframe tbody tr th:only-of-type {\n",
       "        vertical-align: middle;\n",
       "    }\n",
       "\n",
       "    .dataframe tbody tr th {\n",
       "        vertical-align: top;\n",
       "    }\n",
       "\n",
       "    .dataframe thead th {\n",
       "        text-align: right;\n",
       "    }\n",
       "</style>\n",
       "<table border=\"1\" class=\"dataframe\">\n",
       "  <thead>\n",
       "    <tr style=\"text-align: right;\">\n",
       "      <th></th>\n",
       "      <th>mpl</th>\n",
       "      <th>mpl10</th>\n",
       "      <th>mpl50</th>\n",
       "      <th>mpl90</th>\n",
       "      <th>int_cvr</th>\n",
       "      <th>nmpl</th>\n",
       "      <th>rmse</th>\n",
       "    </tr>\n",
       "    <tr>\n",
       "      <th>site_id</th>\n",
       "      <th></th>\n",
       "      <th></th>\n",
       "      <th></th>\n",
       "      <th></th>\n",
       "      <th></th>\n",
       "      <th></th>\n",
       "      <th></th>\n",
       "    </tr>\n",
       "  </thead>\n",
       "  <tbody>\n",
       "    <tr>\n",
       "      <th>stehekin_r_at_stehekin</th>\n",
       "      <td>24.811914</td>\n",
       "      <td>21.456396</td>\n",
       "      <td>34.203760</td>\n",
       "      <td>18.775587</td>\n",
       "      <td>0.952381</td>\n",
       "      <td>0.034568</td>\n",
       "      <td>44.795357</td>\n",
       "    </tr>\n",
       "    <tr>\n",
       "      <th>libby_reservoir_inflow</th>\n",
       "      <td>274.201484</td>\n",
       "      <td>193.679890</td>\n",
       "      <td>424.182592</td>\n",
       "      <td>204.741971</td>\n",
       "      <td>0.940476</td>\n",
       "      <td>0.049805</td>\n",
       "      <td>531.614701</td>\n",
       "    </tr>\n",
       "    <tr>\n",
       "      <th>hungry_horse_reservoir_inflow</th>\n",
       "      <td>112.527225</td>\n",
       "      <td>88.166432</td>\n",
       "      <td>182.117735</td>\n",
       "      <td>67.297508</td>\n",
       "      <td>0.821429</td>\n",
       "      <td>0.052958</td>\n",
       "      <td>229.071366</td>\n",
       "    </tr>\n",
       "    <tr>\n",
       "      <th>green_r_bl_howard_a_hanson_dam</th>\n",
       "      <td>17.305620</td>\n",
       "      <td>11.636293</td>\n",
       "      <td>26.532763</td>\n",
       "      <td>13.747803</td>\n",
       "      <td>0.988095</td>\n",
       "      <td>0.069771</td>\n",
       "      <td>34.120816</td>\n",
       "    </tr>\n",
       "    <tr>\n",
       "      <th>snake_r_nr_heise</th>\n",
       "      <td>194.939166</td>\n",
       "      <td>105.745689</td>\n",
       "      <td>330.002123</td>\n",
       "      <td>149.069686</td>\n",
       "      <td>0.797619</td>\n",
       "      <td>0.073446</td>\n",
       "      <td>449.297860</td>\n",
       "    </tr>\n",
       "    <tr>\n",
       "      <th>skagit_ross_reservoir</th>\n",
       "      <td>109.204892</td>\n",
       "      <td>54.563422</td>\n",
       "      <td>180.372931</td>\n",
       "      <td>92.678322</td>\n",
       "      <td>0.797619</td>\n",
       "      <td>0.074694</td>\n",
       "      <td>223.725725</td>\n",
       "    </tr>\n",
       "    <tr>\n",
       "      <th>boise_r_nr_boise</th>\n",
       "      <td>80.854649</td>\n",
       "      <td>36.705581</td>\n",
       "      <td>129.033969</td>\n",
       "      <td>76.824396</td>\n",
       "      <td>0.880952</td>\n",
       "      <td>0.097233</td>\n",
       "      <td>189.494617</td>\n",
       "    </tr>\n",
       "    <tr>\n",
       "      <th>weber_r_nr_oakley</th>\n",
       "      <td>8.309057</td>\n",
       "      <td>4.967133</td>\n",
       "      <td>13.063954</td>\n",
       "      <td>6.896083</td>\n",
       "      <td>0.797619</td>\n",
       "      <td>0.109638</td>\n",
       "      <td>17.546594</td>\n",
       "    </tr>\n",
       "    <tr>\n",
       "      <th>missouri_r_at_toston</th>\n",
       "      <td>163.114658</td>\n",
       "      <td>106.317794</td>\n",
       "      <td>235.014880</td>\n",
       "      <td>148.011301</td>\n",
       "      <td>0.714286</td>\n",
       "      <td>0.112651</td>\n",
       "      <td>308.706909</td>\n",
       "    </tr>\n",
       "    <tr>\n",
       "      <th>fontenelle_reservoir_inflow</th>\n",
       "      <td>55.502444</td>\n",
       "      <td>26.034315</td>\n",
       "      <td>84.143038</td>\n",
       "      <td>56.329978</td>\n",
       "      <td>0.976190</td>\n",
       "      <td>0.114677</td>\n",
       "      <td>116.133856</td>\n",
       "    </tr>\n",
       "    <tr>\n",
       "      <th>dillon_reservoir_inflow</th>\n",
       "      <td>14.257654</td>\n",
       "      <td>4.586706</td>\n",
       "      <td>24.398771</td>\n",
       "      <td>13.787483</td>\n",
       "      <td>0.904762</td>\n",
       "      <td>0.121268</td>\n",
       "      <td>29.433532</td>\n",
       "    </tr>\n",
       "    <tr>\n",
       "      <th>ruedi_reservoir_inflow</th>\n",
       "      <td>11.985568</td>\n",
       "      <td>5.677768</td>\n",
       "      <td>20.019577</td>\n",
       "      <td>10.259359</td>\n",
       "      <td>0.702381</td>\n",
       "      <td>0.125825</td>\n",
       "      <td>24.167431</td>\n",
       "    </tr>\n",
       "    <tr>\n",
       "      <th>pecos_r_nr_pecos</th>\n",
       "      <td>4.602905</td>\n",
       "      <td>2.660147</td>\n",
       "      <td>7.153296</td>\n",
       "      <td>3.995273</td>\n",
       "      <td>0.845238</td>\n",
       "      <td>0.130501</td>\n",
       "      <td>8.229245</td>\n",
       "    </tr>\n",
       "    <tr>\n",
       "      <th>boysen_reservoir_inflow</th>\n",
       "      <td>65.653341</td>\n",
       "      <td>36.874075</td>\n",
       "      <td>87.026956</td>\n",
       "      <td>73.058991</td>\n",
       "      <td>0.940476</td>\n",
       "      <td>0.133864</td>\n",
       "      <td>104.599637</td>\n",
       "    </tr>\n",
       "    <tr>\n",
       "      <th>animas_r_at_durango</th>\n",
       "      <td>32.947243</td>\n",
       "      <td>12.373958</td>\n",
       "      <td>54.358015</td>\n",
       "      <td>32.109755</td>\n",
       "      <td>0.761905</td>\n",
       "      <td>0.140646</td>\n",
       "      <td>74.993186</td>\n",
       "    </tr>\n",
       "    <tr>\n",
       "      <th>detroit_lake_inflow</th>\n",
       "      <td>69.445083</td>\n",
       "      <td>34.367908</td>\n",
       "      <td>115.743526</td>\n",
       "      <td>58.223815</td>\n",
       "      <td>0.569444</td>\n",
       "      <td>0.144742</td>\n",
       "      <td>143.988079</td>\n",
       "    </tr>\n",
       "    <tr>\n",
       "      <th>yampa_r_nr_maybell</th>\n",
       "      <td>94.397359</td>\n",
       "      <td>71.770689</td>\n",
       "      <td>135.239134</td>\n",
       "      <td>76.182255</td>\n",
       "      <td>0.738095</td>\n",
       "      <td>0.159655</td>\n",
       "      <td>199.702658</td>\n",
       "    </tr>\n",
       "    <tr>\n",
       "      <th>taylor_park_reservoir_inflow</th>\n",
       "      <td>10.769170</td>\n",
       "      <td>6.493528</td>\n",
       "      <td>16.605222</td>\n",
       "      <td>9.208759</td>\n",
       "      <td>0.630952</td>\n",
       "      <td>0.169754</td>\n",
       "      <td>21.088352</td>\n",
       "    </tr>\n",
       "    <tr>\n",
       "      <th>american_river_folsom_lake</th>\n",
       "      <td>120.523119</td>\n",
       "      <td>55.400336</td>\n",
       "      <td>196.914652</td>\n",
       "      <td>109.254370</td>\n",
       "      <td>0.666667</td>\n",
       "      <td>0.180271</td>\n",
       "      <td>278.298294</td>\n",
       "    </tr>\n",
       "    <tr>\n",
       "      <th>pueblo_reservoir_inflow</th>\n",
       "      <td>43.156157</td>\n",
       "      <td>19.539631</td>\n",
       "      <td>66.763533</td>\n",
       "      <td>43.165306</td>\n",
       "      <td>0.547619</td>\n",
       "      <td>0.187091</td>\n",
       "      <td>82.517112</td>\n",
       "    </tr>\n",
       "    <tr>\n",
       "      <th>colville_r_at_kettle_falls</th>\n",
       "      <td>20.183791</td>\n",
       "      <td>12.752451</td>\n",
       "      <td>31.318143</td>\n",
       "      <td>16.480777</td>\n",
       "      <td>0.476190</td>\n",
       "      <td>0.196197</td>\n",
       "      <td>40.566232</td>\n",
       "    </tr>\n",
       "    <tr>\n",
       "      <th>merced_river_yosemite_at_pohono_bridge</th>\n",
       "      <td>36.546911</td>\n",
       "      <td>21.134303</td>\n",
       "      <td>61.112126</td>\n",
       "      <td>27.394303</td>\n",
       "      <td>0.511905</td>\n",
       "      <td>0.208047</td>\n",
       "      <td>94.130653</td>\n",
       "    </tr>\n",
       "    <tr>\n",
       "      <th>virgin_r_at_virtin</th>\n",
       "      <td>7.239580</td>\n",
       "      <td>3.528917</td>\n",
       "      <td>12.175414</td>\n",
       "      <td>6.014409</td>\n",
       "      <td>0.630952</td>\n",
       "      <td>0.270376</td>\n",
       "      <td>18.974524</td>\n",
       "    </tr>\n",
       "    <tr>\n",
       "      <th>owyhee_r_bl_owyhee_dam</th>\n",
       "      <td>39.913892</td>\n",
       "      <td>8.547893</td>\n",
       "      <td>66.989588</td>\n",
       "      <td>44.204196</td>\n",
       "      <td>0.821429</td>\n",
       "      <td>0.279292</td>\n",
       "      <td>92.361565</td>\n",
       "    </tr>\n",
       "    <tr>\n",
       "      <th>san_joaquin_river_millerton_reservoir</th>\n",
       "      <td>165.078632</td>\n",
       "      <td>97.513304</td>\n",
       "      <td>279.226157</td>\n",
       "      <td>118.496435</td>\n",
       "      <td>0.380952</td>\n",
       "      <td>0.317866</td>\n",
       "      <td>366.111101</td>\n",
       "    </tr>\n",
       "    <tr>\n",
       "      <th>sweetwater_r_nr_alcova</th>\n",
       "      <td>12.047492</td>\n",
       "      <td>2.242820</td>\n",
       "      <td>22.399942</td>\n",
       "      <td>11.499714</td>\n",
       "      <td>0.714286</td>\n",
       "      <td>0.619472</td>\n",
       "      <td>26.600529</td>\n",
       "    </tr>\n",
       "  </tbody>\n",
       "</table>\n",
       "</div>"
      ],
      "text/plain": [
       "                                               mpl       mpl10       mpl50  \\\n",
       "site_id                                                                      \n",
       "stehekin_r_at_stehekin                   24.811914   21.456396   34.203760   \n",
       "libby_reservoir_inflow                  274.201484  193.679890  424.182592   \n",
       "hungry_horse_reservoir_inflow           112.527225   88.166432  182.117735   \n",
       "green_r_bl_howard_a_hanson_dam           17.305620   11.636293   26.532763   \n",
       "snake_r_nr_heise                        194.939166  105.745689  330.002123   \n",
       "skagit_ross_reservoir                   109.204892   54.563422  180.372931   \n",
       "boise_r_nr_boise                         80.854649   36.705581  129.033969   \n",
       "weber_r_nr_oakley                         8.309057    4.967133   13.063954   \n",
       "missouri_r_at_toston                    163.114658  106.317794  235.014880   \n",
       "fontenelle_reservoir_inflow              55.502444   26.034315   84.143038   \n",
       "dillon_reservoir_inflow                  14.257654    4.586706   24.398771   \n",
       "ruedi_reservoir_inflow                   11.985568    5.677768   20.019577   \n",
       "pecos_r_nr_pecos                          4.602905    2.660147    7.153296   \n",
       "boysen_reservoir_inflow                  65.653341   36.874075   87.026956   \n",
       "animas_r_at_durango                      32.947243   12.373958   54.358015   \n",
       "detroit_lake_inflow                      69.445083   34.367908  115.743526   \n",
       "yampa_r_nr_maybell                       94.397359   71.770689  135.239134   \n",
       "taylor_park_reservoir_inflow             10.769170    6.493528   16.605222   \n",
       "american_river_folsom_lake              120.523119   55.400336  196.914652   \n",
       "pueblo_reservoir_inflow                  43.156157   19.539631   66.763533   \n",
       "colville_r_at_kettle_falls               20.183791   12.752451   31.318143   \n",
       "merced_river_yosemite_at_pohono_bridge   36.546911   21.134303   61.112126   \n",
       "virgin_r_at_virtin                        7.239580    3.528917   12.175414   \n",
       "owyhee_r_bl_owyhee_dam                   39.913892    8.547893   66.989588   \n",
       "san_joaquin_river_millerton_reservoir   165.078632   97.513304  279.226157   \n",
       "sweetwater_r_nr_alcova                   12.047492    2.242820   22.399942   \n",
       "\n",
       "                                             mpl90   int_cvr      nmpl  \\\n",
       "site_id                                                                  \n",
       "stehekin_r_at_stehekin                   18.775587  0.952381  0.034568   \n",
       "libby_reservoir_inflow                  204.741971  0.940476  0.049805   \n",
       "hungry_horse_reservoir_inflow            67.297508  0.821429  0.052958   \n",
       "green_r_bl_howard_a_hanson_dam           13.747803  0.988095  0.069771   \n",
       "snake_r_nr_heise                        149.069686  0.797619  0.073446   \n",
       "skagit_ross_reservoir                    92.678322  0.797619  0.074694   \n",
       "boise_r_nr_boise                         76.824396  0.880952  0.097233   \n",
       "weber_r_nr_oakley                         6.896083  0.797619  0.109638   \n",
       "missouri_r_at_toston                    148.011301  0.714286  0.112651   \n",
       "fontenelle_reservoir_inflow              56.329978  0.976190  0.114677   \n",
       "dillon_reservoir_inflow                  13.787483  0.904762  0.121268   \n",
       "ruedi_reservoir_inflow                   10.259359  0.702381  0.125825   \n",
       "pecos_r_nr_pecos                          3.995273  0.845238  0.130501   \n",
       "boysen_reservoir_inflow                  73.058991  0.940476  0.133864   \n",
       "animas_r_at_durango                      32.109755  0.761905  0.140646   \n",
       "detroit_lake_inflow                      58.223815  0.569444  0.144742   \n",
       "yampa_r_nr_maybell                       76.182255  0.738095  0.159655   \n",
       "taylor_park_reservoir_inflow              9.208759  0.630952  0.169754   \n",
       "american_river_folsom_lake              109.254370  0.666667  0.180271   \n",
       "pueblo_reservoir_inflow                  43.165306  0.547619  0.187091   \n",
       "colville_r_at_kettle_falls               16.480777  0.476190  0.196197   \n",
       "merced_river_yosemite_at_pohono_bridge   27.394303  0.511905  0.208047   \n",
       "virgin_r_at_virtin                        6.014409  0.630952  0.270376   \n",
       "owyhee_r_bl_owyhee_dam                   44.204196  0.821429  0.279292   \n",
       "san_joaquin_river_millerton_reservoir   118.496435  0.380952  0.317866   \n",
       "sweetwater_r_nr_alcova                   11.499714  0.714286  0.619472   \n",
       "\n",
       "                                              rmse  \n",
       "site_id                                             \n",
       "stehekin_r_at_stehekin                   44.795357  \n",
       "libby_reservoir_inflow                  531.614701  \n",
       "hungry_horse_reservoir_inflow           229.071366  \n",
       "green_r_bl_howard_a_hanson_dam           34.120816  \n",
       "snake_r_nr_heise                        449.297860  \n",
       "skagit_ross_reservoir                   223.725725  \n",
       "boise_r_nr_boise                        189.494617  \n",
       "weber_r_nr_oakley                        17.546594  \n",
       "missouri_r_at_toston                    308.706909  \n",
       "fontenelle_reservoir_inflow             116.133856  \n",
       "dillon_reservoir_inflow                  29.433532  \n",
       "ruedi_reservoir_inflow                   24.167431  \n",
       "pecos_r_nr_pecos                          8.229245  \n",
       "boysen_reservoir_inflow                 104.599637  \n",
       "animas_r_at_durango                      74.993186  \n",
       "detroit_lake_inflow                     143.988079  \n",
       "yampa_r_nr_maybell                      199.702658  \n",
       "taylor_park_reservoir_inflow             21.088352  \n",
       "american_river_folsom_lake              278.298294  \n",
       "pueblo_reservoir_inflow                  82.517112  \n",
       "colville_r_at_kettle_falls               40.566232  \n",
       "merced_river_yosemite_at_pohono_bridge   94.130653  \n",
       "virgin_r_at_virtin                       18.974524  \n",
       "owyhee_r_bl_owyhee_dam                   92.361565  \n",
       "san_joaquin_river_millerton_reservoir   366.111101  \n",
       "sweetwater_r_nr_alcova                   26.600529  "
      ]
     },
     "execution_count": 5,
     "metadata": {},
     "output_type": "execute_result"
    }
   ],
   "source": [
    "eval_agg(df_pred_val_ens_pp, [\"site_id\"], is_include_mean_std=False).assign(\n",
    "    nmpl = lambda x: x['mpl'] / x['actual_mean']\n",
    ")[['mpl','mpl10','mpl50','mpl90','int_cvr','nmpl','rmse']].sort_values(\"nmpl\")"
   ]
  },
  {
   "cell_type": "code",
   "execution_count": 6,
   "metadata": {},
   "outputs": [
    {
     "data": {
      "application/vnd.plotly.v1+json": {
       "config": {
        "plotlyServerURL": "https://plot.ly"
       },
       "data": [
        {
         "alignmentgroup": "True",
         "hovertemplate": "month=%{x}<br>value=%{y}<extra></extra>",
         "legendgroup": "",
         "marker": {
          "color": "#636efa"
         },
         "name": "",
         "notched": false,
         "offsetgroup": "",
         "orientation": "v",
         "showlegend": false,
         "type": "box",
         "x": [
          1,
          2,
          3,
          4,
          5,
          6,
          7,
          1,
          2,
          3,
          4,
          5,
          6,
          7,
          1,
          2,
          3,
          4,
          5,
          6,
          7
         ],
         "x0": " ",
         "xaxis": "x",
         "y": [
          96.84899294926133,
          71.07711343241188,
          77.19080223169959,
          66.97457737782862,
          66.00488596445899,
          44.68539151022403,
          17.612436776270062,
          106.63184379047497,
          111.59550319341163,
          116.72456496191008,
          80.85470507713326,
          48.42461026898183,
          31.47232251011576,
          17.511782471014882,
          146.96864186575772,
          91.44053767051336,
          69.03575015703042,
          64.35103547012525,
          56.478114537798376,
          38.63169258508574,
          19.661254855908616
         ],
         "y0": " ",
         "yaxis": "y"
        }
       ],
       "layout": {
        "boxmode": "group",
        "legend": {
         "tracegroupgap": 0
        },
        "margin": {
         "t": 60
        },
        "template": {
         "data": {
          "bar": [
           {
            "error_x": {
             "color": "#2a3f5f"
            },
            "error_y": {
             "color": "#2a3f5f"
            },
            "marker": {
             "line": {
              "color": "#E5ECF6",
              "width": 0.5
             },
             "pattern": {
              "fillmode": "overlay",
              "size": 10,
              "solidity": 0.2
             }
            },
            "type": "bar"
           }
          ],
          "barpolar": [
           {
            "marker": {
             "line": {
              "color": "#E5ECF6",
              "width": 0.5
             },
             "pattern": {
              "fillmode": "overlay",
              "size": 10,
              "solidity": 0.2
             }
            },
            "type": "barpolar"
           }
          ],
          "carpet": [
           {
            "aaxis": {
             "endlinecolor": "#2a3f5f",
             "gridcolor": "white",
             "linecolor": "white",
             "minorgridcolor": "white",
             "startlinecolor": "#2a3f5f"
            },
            "baxis": {
             "endlinecolor": "#2a3f5f",
             "gridcolor": "white",
             "linecolor": "white",
             "minorgridcolor": "white",
             "startlinecolor": "#2a3f5f"
            },
            "type": "carpet"
           }
          ],
          "choropleth": [
           {
            "colorbar": {
             "outlinewidth": 0,
             "ticks": ""
            },
            "type": "choropleth"
           }
          ],
          "contour": [
           {
            "colorbar": {
             "outlinewidth": 0,
             "ticks": ""
            },
            "colorscale": [
             [
              0,
              "#0d0887"
             ],
             [
              0.1111111111111111,
              "#46039f"
             ],
             [
              0.2222222222222222,
              "#7201a8"
             ],
             [
              0.3333333333333333,
              "#9c179e"
             ],
             [
              0.4444444444444444,
              "#bd3786"
             ],
             [
              0.5555555555555556,
              "#d8576b"
             ],
             [
              0.6666666666666666,
              "#ed7953"
             ],
             [
              0.7777777777777778,
              "#fb9f3a"
             ],
             [
              0.8888888888888888,
              "#fdca26"
             ],
             [
              1,
              "#f0f921"
             ]
            ],
            "type": "contour"
           }
          ],
          "contourcarpet": [
           {
            "colorbar": {
             "outlinewidth": 0,
             "ticks": ""
            },
            "type": "contourcarpet"
           }
          ],
          "heatmap": [
           {
            "colorbar": {
             "outlinewidth": 0,
             "ticks": ""
            },
            "colorscale": [
             [
              0,
              "#0d0887"
             ],
             [
              0.1111111111111111,
              "#46039f"
             ],
             [
              0.2222222222222222,
              "#7201a8"
             ],
             [
              0.3333333333333333,
              "#9c179e"
             ],
             [
              0.4444444444444444,
              "#bd3786"
             ],
             [
              0.5555555555555556,
              "#d8576b"
             ],
             [
              0.6666666666666666,
              "#ed7953"
             ],
             [
              0.7777777777777778,
              "#fb9f3a"
             ],
             [
              0.8888888888888888,
              "#fdca26"
             ],
             [
              1,
              "#f0f921"
             ]
            ],
            "type": "heatmap"
           }
          ],
          "heatmapgl": [
           {
            "colorbar": {
             "outlinewidth": 0,
             "ticks": ""
            },
            "colorscale": [
             [
              0,
              "#0d0887"
             ],
             [
              0.1111111111111111,
              "#46039f"
             ],
             [
              0.2222222222222222,
              "#7201a8"
             ],
             [
              0.3333333333333333,
              "#9c179e"
             ],
             [
              0.4444444444444444,
              "#bd3786"
             ],
             [
              0.5555555555555556,
              "#d8576b"
             ],
             [
              0.6666666666666666,
              "#ed7953"
             ],
             [
              0.7777777777777778,
              "#fb9f3a"
             ],
             [
              0.8888888888888888,
              "#fdca26"
             ],
             [
              1,
              "#f0f921"
             ]
            ],
            "type": "heatmapgl"
           }
          ],
          "histogram": [
           {
            "marker": {
             "pattern": {
              "fillmode": "overlay",
              "size": 10,
              "solidity": 0.2
             }
            },
            "type": "histogram"
           }
          ],
          "histogram2d": [
           {
            "colorbar": {
             "outlinewidth": 0,
             "ticks": ""
            },
            "colorscale": [
             [
              0,
              "#0d0887"
             ],
             [
              0.1111111111111111,
              "#46039f"
             ],
             [
              0.2222222222222222,
              "#7201a8"
             ],
             [
              0.3333333333333333,
              "#9c179e"
             ],
             [
              0.4444444444444444,
              "#bd3786"
             ],
             [
              0.5555555555555556,
              "#d8576b"
             ],
             [
              0.6666666666666666,
              "#ed7953"
             ],
             [
              0.7777777777777778,
              "#fb9f3a"
             ],
             [
              0.8888888888888888,
              "#fdca26"
             ],
             [
              1,
              "#f0f921"
             ]
            ],
            "type": "histogram2d"
           }
          ],
          "histogram2dcontour": [
           {
            "colorbar": {
             "outlinewidth": 0,
             "ticks": ""
            },
            "colorscale": [
             [
              0,
              "#0d0887"
             ],
             [
              0.1111111111111111,
              "#46039f"
             ],
             [
              0.2222222222222222,
              "#7201a8"
             ],
             [
              0.3333333333333333,
              "#9c179e"
             ],
             [
              0.4444444444444444,
              "#bd3786"
             ],
             [
              0.5555555555555556,
              "#d8576b"
             ],
             [
              0.6666666666666666,
              "#ed7953"
             ],
             [
              0.7777777777777778,
              "#fb9f3a"
             ],
             [
              0.8888888888888888,
              "#fdca26"
             ],
             [
              1,
              "#f0f921"
             ]
            ],
            "type": "histogram2dcontour"
           }
          ],
          "mesh3d": [
           {
            "colorbar": {
             "outlinewidth": 0,
             "ticks": ""
            },
            "type": "mesh3d"
           }
          ],
          "parcoords": [
           {
            "line": {
             "colorbar": {
              "outlinewidth": 0,
              "ticks": ""
             }
            },
            "type": "parcoords"
           }
          ],
          "pie": [
           {
            "automargin": true,
            "type": "pie"
           }
          ],
          "scatter": [
           {
            "fillpattern": {
             "fillmode": "overlay",
             "size": 10,
             "solidity": 0.2
            },
            "type": "scatter"
           }
          ],
          "scatter3d": [
           {
            "line": {
             "colorbar": {
              "outlinewidth": 0,
              "ticks": ""
             }
            },
            "marker": {
             "colorbar": {
              "outlinewidth": 0,
              "ticks": ""
             }
            },
            "type": "scatter3d"
           }
          ],
          "scattercarpet": [
           {
            "marker": {
             "colorbar": {
              "outlinewidth": 0,
              "ticks": ""
             }
            },
            "type": "scattercarpet"
           }
          ],
          "scattergeo": [
           {
            "marker": {
             "colorbar": {
              "outlinewidth": 0,
              "ticks": ""
             }
            },
            "type": "scattergeo"
           }
          ],
          "scattergl": [
           {
            "marker": {
             "colorbar": {
              "outlinewidth": 0,
              "ticks": ""
             }
            },
            "type": "scattergl"
           }
          ],
          "scattermapbox": [
           {
            "marker": {
             "colorbar": {
              "outlinewidth": 0,
              "ticks": ""
             }
            },
            "type": "scattermapbox"
           }
          ],
          "scatterpolar": [
           {
            "marker": {
             "colorbar": {
              "outlinewidth": 0,
              "ticks": ""
             }
            },
            "type": "scatterpolar"
           }
          ],
          "scatterpolargl": [
           {
            "marker": {
             "colorbar": {
              "outlinewidth": 0,
              "ticks": ""
             }
            },
            "type": "scatterpolargl"
           }
          ],
          "scatterternary": [
           {
            "marker": {
             "colorbar": {
              "outlinewidth": 0,
              "ticks": ""
             }
            },
            "type": "scatterternary"
           }
          ],
          "surface": [
           {
            "colorbar": {
             "outlinewidth": 0,
             "ticks": ""
            },
            "colorscale": [
             [
              0,
              "#0d0887"
             ],
             [
              0.1111111111111111,
              "#46039f"
             ],
             [
              0.2222222222222222,
              "#7201a8"
             ],
             [
              0.3333333333333333,
              "#9c179e"
             ],
             [
              0.4444444444444444,
              "#bd3786"
             ],
             [
              0.5555555555555556,
              "#d8576b"
             ],
             [
              0.6666666666666666,
              "#ed7953"
             ],
             [
              0.7777777777777778,
              "#fb9f3a"
             ],
             [
              0.8888888888888888,
              "#fdca26"
             ],
             [
              1,
              "#f0f921"
             ]
            ],
            "type": "surface"
           }
          ],
          "table": [
           {
            "cells": {
             "fill": {
              "color": "#EBF0F8"
             },
             "line": {
              "color": "white"
             }
            },
            "header": {
             "fill": {
              "color": "#C8D4E3"
             },
             "line": {
              "color": "white"
             }
            },
            "type": "table"
           }
          ]
         },
         "layout": {
          "annotationdefaults": {
           "arrowcolor": "#2a3f5f",
           "arrowhead": 0,
           "arrowwidth": 1
          },
          "autotypenumbers": "strict",
          "coloraxis": {
           "colorbar": {
            "outlinewidth": 0,
            "ticks": ""
           }
          },
          "colorscale": {
           "diverging": [
            [
             0,
             "#8e0152"
            ],
            [
             0.1,
             "#c51b7d"
            ],
            [
             0.2,
             "#de77ae"
            ],
            [
             0.3,
             "#f1b6da"
            ],
            [
             0.4,
             "#fde0ef"
            ],
            [
             0.5,
             "#f7f7f7"
            ],
            [
             0.6,
             "#e6f5d0"
            ],
            [
             0.7,
             "#b8e186"
            ],
            [
             0.8,
             "#7fbc41"
            ],
            [
             0.9,
             "#4d9221"
            ],
            [
             1,
             "#276419"
            ]
           ],
           "sequential": [
            [
             0,
             "#0d0887"
            ],
            [
             0.1111111111111111,
             "#46039f"
            ],
            [
             0.2222222222222222,
             "#7201a8"
            ],
            [
             0.3333333333333333,
             "#9c179e"
            ],
            [
             0.4444444444444444,
             "#bd3786"
            ],
            [
             0.5555555555555556,
             "#d8576b"
            ],
            [
             0.6666666666666666,
             "#ed7953"
            ],
            [
             0.7777777777777778,
             "#fb9f3a"
            ],
            [
             0.8888888888888888,
             "#fdca26"
            ],
            [
             1,
             "#f0f921"
            ]
           ],
           "sequentialminus": [
            [
             0,
             "#0d0887"
            ],
            [
             0.1111111111111111,
             "#46039f"
            ],
            [
             0.2222222222222222,
             "#7201a8"
            ],
            [
             0.3333333333333333,
             "#9c179e"
            ],
            [
             0.4444444444444444,
             "#bd3786"
            ],
            [
             0.5555555555555556,
             "#d8576b"
            ],
            [
             0.6666666666666666,
             "#ed7953"
            ],
            [
             0.7777777777777778,
             "#fb9f3a"
            ],
            [
             0.8888888888888888,
             "#fdca26"
            ],
            [
             1,
             "#f0f921"
            ]
           ]
          },
          "colorway": [
           "#636efa",
           "#EF553B",
           "#00cc96",
           "#ab63fa",
           "#FFA15A",
           "#19d3f3",
           "#FF6692",
           "#B6E880",
           "#FF97FF",
           "#FECB52"
          ],
          "font": {
           "color": "#2a3f5f"
          },
          "geo": {
           "bgcolor": "white",
           "lakecolor": "white",
           "landcolor": "#E5ECF6",
           "showlakes": true,
           "showland": true,
           "subunitcolor": "white"
          },
          "hoverlabel": {
           "align": "left"
          },
          "hovermode": "closest",
          "mapbox": {
           "style": "light"
          },
          "paper_bgcolor": "white",
          "plot_bgcolor": "#E5ECF6",
          "polar": {
           "angularaxis": {
            "gridcolor": "white",
            "linecolor": "white",
            "ticks": ""
           },
           "bgcolor": "#E5ECF6",
           "radialaxis": {
            "gridcolor": "white",
            "linecolor": "white",
            "ticks": ""
           }
          },
          "scene": {
           "xaxis": {
            "backgroundcolor": "#E5ECF6",
            "gridcolor": "white",
            "gridwidth": 2,
            "linecolor": "white",
            "showbackground": true,
            "ticks": "",
            "zerolinecolor": "white"
           },
           "yaxis": {
            "backgroundcolor": "#E5ECF6",
            "gridcolor": "white",
            "gridwidth": 2,
            "linecolor": "white",
            "showbackground": true,
            "ticks": "",
            "zerolinecolor": "white"
           },
           "zaxis": {
            "backgroundcolor": "#E5ECF6",
            "gridcolor": "white",
            "gridwidth": 2,
            "linecolor": "white",
            "showbackground": true,
            "ticks": "",
            "zerolinecolor": "white"
           }
          },
          "shapedefaults": {
           "line": {
            "color": "#2a3f5f"
           }
          },
          "ternary": {
           "aaxis": {
            "gridcolor": "white",
            "linecolor": "white",
            "ticks": ""
           },
           "baxis": {
            "gridcolor": "white",
            "linecolor": "white",
            "ticks": ""
           },
           "bgcolor": "#E5ECF6",
           "caxis": {
            "gridcolor": "white",
            "linecolor": "white",
            "ticks": ""
           }
          },
          "title": {
           "x": 0.05
          },
          "xaxis": {
           "automargin": true,
           "gridcolor": "white",
           "linecolor": "white",
           "ticks": "",
           "title": {
            "standoff": 15
           },
           "zerolinecolor": "white",
           "zerolinewidth": 2
          },
          "yaxis": {
           "automargin": true,
           "gridcolor": "white",
           "linecolor": "white",
           "ticks": "",
           "title": {
            "standoff": 15
           },
           "zerolinecolor": "white",
           "zerolinewidth": 2
          }
         }
        },
        "xaxis": {
         "anchor": "y",
         "domain": [
          0,
          1
         ],
         "title": {
          "text": "month"
         }
        },
        "yaxis": {
         "anchor": "x",
         "domain": [
          0,
          1
         ],
         "title": {
          "text": "value"
         }
        }
       }
      }
     },
     "metadata": {},
     "output_type": "display_data"
    }
   ],
   "source": [
    "px.box(\n",
    "    eval_agg(df_pred_val_ens, [\"year\",\"month\"]).reset_index(),\n",
    "    x='month',\n",
    "    y=['mpl']\n",
    ")"
   ]
  },
  {
   "cell_type": "code",
   "execution_count": 7,
   "metadata": {},
   "outputs": [
    {
     "data": {
      "application/vnd.plotly.v1+json": {
       "config": {
        "plotlyServerURL": "https://plot.ly"
       },
       "data": [
        {
         "hovertemplate": "variable=mpl<br>md_id=%{x}<br>value=%{y}<extra></extra>",
         "legendgroup": "mpl",
         "line": {
          "color": "#636efa",
          "dash": "solid"
         },
         "marker": {
          "symbol": "circle"
         },
         "mode": "lines",
         "name": "mpl",
         "orientation": "v",
         "showlegend": true,
         "type": "scatter",
         "x": [
          0,
          1,
          2,
          3,
          4,
          5,
          6,
          7,
          8,
          9,
          10,
          11,
          12,
          13,
          14,
          15,
          16,
          17,
          18,
          19,
          20,
          21,
          22,
          23,
          24,
          25,
          26,
          27
         ],
         "xaxis": "x",
         "y": [
          126.93501600179214,
          122.96456736416398,
          114.03616737705768,
          103.33022073097821,
          90.93994930322374,
          91.7249073573804,
          90.32572621591827,
          92.49362285192673,
          97.03244340210824,
          86.32406435522567,
          83.94944723149105,
          83.29553481202846,
          80.97054931531532,
          69.20425352773059,
          66.36110389866066,
          66.37118382507633,
          63.00423655573403,
          56.69113386647381,
          55.83887749541518,
          52.34256644402924,
          41.69546366214297,
          38.765483252795455,
          35.48836473351181,
          37.10323049211713,
          18.94926738544773,
          18.20496770911844,
          17.38469018738303,
          18.508373522308883
         ],
         "yaxis": "y"
        },
        {
         "hovertemplate": "variable=mpl10<br>md_id=%{x}<br>value=%{y}<extra></extra>",
         "legendgroup": "mpl10",
         "line": {
          "color": "#EF553B",
          "dash": "solid"
         },
         "marker": {
          "symbol": "circle"
         },
         "mode": "lines",
         "name": "mpl10",
         "orientation": "v",
         "showlegend": true,
         "type": "scatter",
         "x": [
          0,
          1,
          2,
          3,
          4,
          5,
          6,
          7,
          8,
          9,
          10,
          11,
          12,
          13,
          14,
          15,
          16,
          17,
          18,
          19,
          20,
          21,
          22,
          23,
          24,
          25,
          26,
          27
         ],
         "xaxis": "x",
         "y": [
          60.77124626342043,
          51.403284548763246,
          50.61137590305243,
          47.05567619985068,
          46.65352682583705,
          51.032151359098755,
          54.187270831715246,
          59.951867866639056,
          62.19355219956617,
          52.97706289377269,
          52.893053147185746,
          54.453780500671314,
          56.28206041215823,
          46.73000023768068,
          43.94067650072788,
          41.80090941384636,
          37.12732265625163,
          36.790528975989396,
          36.87697570695558,
          36.24696168645106,
          31.020527158714224,
          28.207724325226792,
          28.100236793413416,
          26.743695765317053,
          9.624676432940383,
          8.925307582715655,
          10.260700691688275,
          11.114732118153851
         ],
         "yaxis": "y"
        },
        {
         "hovertemplate": "variable=mpl50<br>md_id=%{x}<br>value=%{y}<extra></extra>",
         "legendgroup": "mpl50",
         "line": {
          "color": "#00cc96",
          "dash": "solid"
         },
         "marker": {
          "symbol": "circle"
         },
         "mode": "lines",
         "name": "mpl50",
         "orientation": "v",
         "showlegend": true,
         "type": "scatter",
         "x": [
          0,
          1,
          2,
          3,
          4,
          5,
          6,
          7,
          8,
          9,
          10,
          11,
          12,
          13,
          14,
          15,
          16,
          17,
          18,
          19,
          20,
          21,
          22,
          23,
          24,
          25,
          26,
          27
         ],
         "xaxis": "x",
         "y": [
          212.56044883826405,
          210.6631764710942,
          189.13241684310026,
          172.54911508293648,
          142.19444978625503,
          141.244397691657,
          137.60310236988224,
          142.23756050185492,
          155.79403671439684,
          138.32072864962748,
          131.2381949014704,
          129.91157816681346,
          126.94617601865892,
          103.11640914313007,
          96.44996171173476,
          98.48335240496053,
          98.42133919946569,
          86.91331907371298,
          85.59316630950204,
          80.4084948088278,
          61.477805505426566,
          61.89505024277993,
          55.522775066164726,
          58.65423734583989,
          29.98610351648266,
          29.035725412478914,
          25.80318647068421,
          28.863344737275924
         ],
         "yaxis": "y"
        },
        {
         "hovertemplate": "variable=mpl90<br>md_id=%{x}<br>value=%{y}<extra></extra>",
         "legendgroup": "mpl90",
         "line": {
          "color": "#ab63fa",
          "dash": "solid"
         },
         "marker": {
          "symbol": "circle"
         },
         "mode": "lines",
         "name": "mpl90",
         "orientation": "v",
         "showlegend": true,
         "type": "scatter",
         "x": [
          0,
          1,
          2,
          3,
          4,
          5,
          6,
          7,
          8,
          9,
          10,
          11,
          12,
          13,
          14,
          15,
          16,
          17,
          18,
          19,
          20,
          21,
          22,
          23,
          24,
          25,
          26,
          27
         ],
         "xaxis": "x",
         "y": [
          107.47335290369192,
          106.82724107263446,
          102.36470938502039,
          90.38587091014745,
          83.97187129757916,
          82.89817302138547,
          79.18680544615732,
          75.29144018728623,
          73.10974129236173,
          67.67440152227682,
          67.717093645817,
          65.52124576860064,
          59.683411515128824,
          57.766351202381024,
          58.69267348351932,
          58.829289656422084,
          53.4640478114848,
          46.36955354971905,
          45.04649046978794,
          40.37224283680885,
          32.58805832228812,
          26.193675190379654,
          22.842082340957294,
          25.91175836519443,
          17.237022206920145,
          16.653870132160748,
          16.090183399776603,
          15.547043711496878
         ],
         "yaxis": "y"
        }
       ],
       "layout": {
        "legend": {
         "title": {
          "text": "variable"
         },
         "tracegroupgap": 0
        },
        "margin": {
         "t": 60
        },
        "template": {
         "data": {
          "bar": [
           {
            "error_x": {
             "color": "#2a3f5f"
            },
            "error_y": {
             "color": "#2a3f5f"
            },
            "marker": {
             "line": {
              "color": "#E5ECF6",
              "width": 0.5
             },
             "pattern": {
              "fillmode": "overlay",
              "size": 10,
              "solidity": 0.2
             }
            },
            "type": "bar"
           }
          ],
          "barpolar": [
           {
            "marker": {
             "line": {
              "color": "#E5ECF6",
              "width": 0.5
             },
             "pattern": {
              "fillmode": "overlay",
              "size": 10,
              "solidity": 0.2
             }
            },
            "type": "barpolar"
           }
          ],
          "carpet": [
           {
            "aaxis": {
             "endlinecolor": "#2a3f5f",
             "gridcolor": "white",
             "linecolor": "white",
             "minorgridcolor": "white",
             "startlinecolor": "#2a3f5f"
            },
            "baxis": {
             "endlinecolor": "#2a3f5f",
             "gridcolor": "white",
             "linecolor": "white",
             "minorgridcolor": "white",
             "startlinecolor": "#2a3f5f"
            },
            "type": "carpet"
           }
          ],
          "choropleth": [
           {
            "colorbar": {
             "outlinewidth": 0,
             "ticks": ""
            },
            "type": "choropleth"
           }
          ],
          "contour": [
           {
            "colorbar": {
             "outlinewidth": 0,
             "ticks": ""
            },
            "colorscale": [
             [
              0,
              "#0d0887"
             ],
             [
              0.1111111111111111,
              "#46039f"
             ],
             [
              0.2222222222222222,
              "#7201a8"
             ],
             [
              0.3333333333333333,
              "#9c179e"
             ],
             [
              0.4444444444444444,
              "#bd3786"
             ],
             [
              0.5555555555555556,
              "#d8576b"
             ],
             [
              0.6666666666666666,
              "#ed7953"
             ],
             [
              0.7777777777777778,
              "#fb9f3a"
             ],
             [
              0.8888888888888888,
              "#fdca26"
             ],
             [
              1,
              "#f0f921"
             ]
            ],
            "type": "contour"
           }
          ],
          "contourcarpet": [
           {
            "colorbar": {
             "outlinewidth": 0,
             "ticks": ""
            },
            "type": "contourcarpet"
           }
          ],
          "heatmap": [
           {
            "colorbar": {
             "outlinewidth": 0,
             "ticks": ""
            },
            "colorscale": [
             [
              0,
              "#0d0887"
             ],
             [
              0.1111111111111111,
              "#46039f"
             ],
             [
              0.2222222222222222,
              "#7201a8"
             ],
             [
              0.3333333333333333,
              "#9c179e"
             ],
             [
              0.4444444444444444,
              "#bd3786"
             ],
             [
              0.5555555555555556,
              "#d8576b"
             ],
             [
              0.6666666666666666,
              "#ed7953"
             ],
             [
              0.7777777777777778,
              "#fb9f3a"
             ],
             [
              0.8888888888888888,
              "#fdca26"
             ],
             [
              1,
              "#f0f921"
             ]
            ],
            "type": "heatmap"
           }
          ],
          "heatmapgl": [
           {
            "colorbar": {
             "outlinewidth": 0,
             "ticks": ""
            },
            "colorscale": [
             [
              0,
              "#0d0887"
             ],
             [
              0.1111111111111111,
              "#46039f"
             ],
             [
              0.2222222222222222,
              "#7201a8"
             ],
             [
              0.3333333333333333,
              "#9c179e"
             ],
             [
              0.4444444444444444,
              "#bd3786"
             ],
             [
              0.5555555555555556,
              "#d8576b"
             ],
             [
              0.6666666666666666,
              "#ed7953"
             ],
             [
              0.7777777777777778,
              "#fb9f3a"
             ],
             [
              0.8888888888888888,
              "#fdca26"
             ],
             [
              1,
              "#f0f921"
             ]
            ],
            "type": "heatmapgl"
           }
          ],
          "histogram": [
           {
            "marker": {
             "pattern": {
              "fillmode": "overlay",
              "size": 10,
              "solidity": 0.2
             }
            },
            "type": "histogram"
           }
          ],
          "histogram2d": [
           {
            "colorbar": {
             "outlinewidth": 0,
             "ticks": ""
            },
            "colorscale": [
             [
              0,
              "#0d0887"
             ],
             [
              0.1111111111111111,
              "#46039f"
             ],
             [
              0.2222222222222222,
              "#7201a8"
             ],
             [
              0.3333333333333333,
              "#9c179e"
             ],
             [
              0.4444444444444444,
              "#bd3786"
             ],
             [
              0.5555555555555556,
              "#d8576b"
             ],
             [
              0.6666666666666666,
              "#ed7953"
             ],
             [
              0.7777777777777778,
              "#fb9f3a"
             ],
             [
              0.8888888888888888,
              "#fdca26"
             ],
             [
              1,
              "#f0f921"
             ]
            ],
            "type": "histogram2d"
           }
          ],
          "histogram2dcontour": [
           {
            "colorbar": {
             "outlinewidth": 0,
             "ticks": ""
            },
            "colorscale": [
             [
              0,
              "#0d0887"
             ],
             [
              0.1111111111111111,
              "#46039f"
             ],
             [
              0.2222222222222222,
              "#7201a8"
             ],
             [
              0.3333333333333333,
              "#9c179e"
             ],
             [
              0.4444444444444444,
              "#bd3786"
             ],
             [
              0.5555555555555556,
              "#d8576b"
             ],
             [
              0.6666666666666666,
              "#ed7953"
             ],
             [
              0.7777777777777778,
              "#fb9f3a"
             ],
             [
              0.8888888888888888,
              "#fdca26"
             ],
             [
              1,
              "#f0f921"
             ]
            ],
            "type": "histogram2dcontour"
           }
          ],
          "mesh3d": [
           {
            "colorbar": {
             "outlinewidth": 0,
             "ticks": ""
            },
            "type": "mesh3d"
           }
          ],
          "parcoords": [
           {
            "line": {
             "colorbar": {
              "outlinewidth": 0,
              "ticks": ""
             }
            },
            "type": "parcoords"
           }
          ],
          "pie": [
           {
            "automargin": true,
            "type": "pie"
           }
          ],
          "scatter": [
           {
            "fillpattern": {
             "fillmode": "overlay",
             "size": 10,
             "solidity": 0.2
            },
            "type": "scatter"
           }
          ],
          "scatter3d": [
           {
            "line": {
             "colorbar": {
              "outlinewidth": 0,
              "ticks": ""
             }
            },
            "marker": {
             "colorbar": {
              "outlinewidth": 0,
              "ticks": ""
             }
            },
            "type": "scatter3d"
           }
          ],
          "scattercarpet": [
           {
            "marker": {
             "colorbar": {
              "outlinewidth": 0,
              "ticks": ""
             }
            },
            "type": "scattercarpet"
           }
          ],
          "scattergeo": [
           {
            "marker": {
             "colorbar": {
              "outlinewidth": 0,
              "ticks": ""
             }
            },
            "type": "scattergeo"
           }
          ],
          "scattergl": [
           {
            "marker": {
             "colorbar": {
              "outlinewidth": 0,
              "ticks": ""
             }
            },
            "type": "scattergl"
           }
          ],
          "scattermapbox": [
           {
            "marker": {
             "colorbar": {
              "outlinewidth": 0,
              "ticks": ""
             }
            },
            "type": "scattermapbox"
           }
          ],
          "scatterpolar": [
           {
            "marker": {
             "colorbar": {
              "outlinewidth": 0,
              "ticks": ""
             }
            },
            "type": "scatterpolar"
           }
          ],
          "scatterpolargl": [
           {
            "marker": {
             "colorbar": {
              "outlinewidth": 0,
              "ticks": ""
             }
            },
            "type": "scatterpolargl"
           }
          ],
          "scatterternary": [
           {
            "marker": {
             "colorbar": {
              "outlinewidth": 0,
              "ticks": ""
             }
            },
            "type": "scatterternary"
           }
          ],
          "surface": [
           {
            "colorbar": {
             "outlinewidth": 0,
             "ticks": ""
            },
            "colorscale": [
             [
              0,
              "#0d0887"
             ],
             [
              0.1111111111111111,
              "#46039f"
             ],
             [
              0.2222222222222222,
              "#7201a8"
             ],
             [
              0.3333333333333333,
              "#9c179e"
             ],
             [
              0.4444444444444444,
              "#bd3786"
             ],
             [
              0.5555555555555556,
              "#d8576b"
             ],
             [
              0.6666666666666666,
              "#ed7953"
             ],
             [
              0.7777777777777778,
              "#fb9f3a"
             ],
             [
              0.8888888888888888,
              "#fdca26"
             ],
             [
              1,
              "#f0f921"
             ]
            ],
            "type": "surface"
           }
          ],
          "table": [
           {
            "cells": {
             "fill": {
              "color": "#EBF0F8"
             },
             "line": {
              "color": "white"
             }
            },
            "header": {
             "fill": {
              "color": "#C8D4E3"
             },
             "line": {
              "color": "white"
             }
            },
            "type": "table"
           }
          ]
         },
         "layout": {
          "annotationdefaults": {
           "arrowcolor": "#2a3f5f",
           "arrowhead": 0,
           "arrowwidth": 1
          },
          "autotypenumbers": "strict",
          "coloraxis": {
           "colorbar": {
            "outlinewidth": 0,
            "ticks": ""
           }
          },
          "colorscale": {
           "diverging": [
            [
             0,
             "#8e0152"
            ],
            [
             0.1,
             "#c51b7d"
            ],
            [
             0.2,
             "#de77ae"
            ],
            [
             0.3,
             "#f1b6da"
            ],
            [
             0.4,
             "#fde0ef"
            ],
            [
             0.5,
             "#f7f7f7"
            ],
            [
             0.6,
             "#e6f5d0"
            ],
            [
             0.7,
             "#b8e186"
            ],
            [
             0.8,
             "#7fbc41"
            ],
            [
             0.9,
             "#4d9221"
            ],
            [
             1,
             "#276419"
            ]
           ],
           "sequential": [
            [
             0,
             "#0d0887"
            ],
            [
             0.1111111111111111,
             "#46039f"
            ],
            [
             0.2222222222222222,
             "#7201a8"
            ],
            [
             0.3333333333333333,
             "#9c179e"
            ],
            [
             0.4444444444444444,
             "#bd3786"
            ],
            [
             0.5555555555555556,
             "#d8576b"
            ],
            [
             0.6666666666666666,
             "#ed7953"
            ],
            [
             0.7777777777777778,
             "#fb9f3a"
            ],
            [
             0.8888888888888888,
             "#fdca26"
            ],
            [
             1,
             "#f0f921"
            ]
           ],
           "sequentialminus": [
            [
             0,
             "#0d0887"
            ],
            [
             0.1111111111111111,
             "#46039f"
            ],
            [
             0.2222222222222222,
             "#7201a8"
            ],
            [
             0.3333333333333333,
             "#9c179e"
            ],
            [
             0.4444444444444444,
             "#bd3786"
            ],
            [
             0.5555555555555556,
             "#d8576b"
            ],
            [
             0.6666666666666666,
             "#ed7953"
            ],
            [
             0.7777777777777778,
             "#fb9f3a"
            ],
            [
             0.8888888888888888,
             "#fdca26"
            ],
            [
             1,
             "#f0f921"
            ]
           ]
          },
          "colorway": [
           "#636efa",
           "#EF553B",
           "#00cc96",
           "#ab63fa",
           "#FFA15A",
           "#19d3f3",
           "#FF6692",
           "#B6E880",
           "#FF97FF",
           "#FECB52"
          ],
          "font": {
           "color": "#2a3f5f"
          },
          "geo": {
           "bgcolor": "white",
           "lakecolor": "white",
           "landcolor": "#E5ECF6",
           "showlakes": true,
           "showland": true,
           "subunitcolor": "white"
          },
          "hoverlabel": {
           "align": "left"
          },
          "hovermode": "closest",
          "mapbox": {
           "style": "light"
          },
          "paper_bgcolor": "white",
          "plot_bgcolor": "#E5ECF6",
          "polar": {
           "angularaxis": {
            "gridcolor": "white",
            "linecolor": "white",
            "ticks": ""
           },
           "bgcolor": "#E5ECF6",
           "radialaxis": {
            "gridcolor": "white",
            "linecolor": "white",
            "ticks": ""
           }
          },
          "scene": {
           "xaxis": {
            "backgroundcolor": "#E5ECF6",
            "gridcolor": "white",
            "gridwidth": 2,
            "linecolor": "white",
            "showbackground": true,
            "ticks": "",
            "zerolinecolor": "white"
           },
           "yaxis": {
            "backgroundcolor": "#E5ECF6",
            "gridcolor": "white",
            "gridwidth": 2,
            "linecolor": "white",
            "showbackground": true,
            "ticks": "",
            "zerolinecolor": "white"
           },
           "zaxis": {
            "backgroundcolor": "#E5ECF6",
            "gridcolor": "white",
            "gridwidth": 2,
            "linecolor": "white",
            "showbackground": true,
            "ticks": "",
            "zerolinecolor": "white"
           }
          },
          "shapedefaults": {
           "line": {
            "color": "#2a3f5f"
           }
          },
          "ternary": {
           "aaxis": {
            "gridcolor": "white",
            "linecolor": "white",
            "ticks": ""
           },
           "baxis": {
            "gridcolor": "white",
            "linecolor": "white",
            "ticks": ""
           },
           "bgcolor": "#E5ECF6",
           "caxis": {
            "gridcolor": "white",
            "linecolor": "white",
            "ticks": ""
           }
          },
          "title": {
           "x": 0.05
          },
          "xaxis": {
           "automargin": true,
           "gridcolor": "white",
           "linecolor": "white",
           "ticks": "",
           "title": {
            "standoff": 15
           },
           "zerolinecolor": "white",
           "zerolinewidth": 2
          },
          "yaxis": {
           "automargin": true,
           "gridcolor": "white",
           "linecolor": "white",
           "ticks": "",
           "title": {
            "standoff": 15
           },
           "zerolinecolor": "white",
           "zerolinewidth": 2
          }
         }
        },
        "xaxis": {
         "anchor": "y",
         "domain": [
          0,
          1
         ],
         "title": {
          "text": "md_id"
         }
        },
        "yaxis": {
         "anchor": "x",
         "domain": [
          0,
          1
         ],
         "title": {
          "text": "value"
         }
        }
       }
      }
     },
     "metadata": {},
     "output_type": "display_data"
    }
   ],
   "source": [
    "px.line(\n",
    "    eval_agg(df_pred_val_ens, [\"md_id\"]).reset_index(),\n",
    "    x='md_id',\n",
    "    y=['mpl','mpl10','mpl50','mpl90']\n",
    ")"
   ]
  }
 ],
 "metadata": {
  "kernelspec": {
   "display_name": "base",
   "language": "python",
   "name": "python3"
  },
  "language_info": {
   "codemirror_mode": {
    "name": "ipython",
    "version": 3
   },
   "file_extension": ".py",
   "mimetype": "text/x-python",
   "name": "python",
   "nbconvert_exporter": "python",
   "pygments_lexer": "ipython3",
   "version": "3.8.5"
  }
 },
 "nbformat": 4,
 "nbformat_minor": 2
}
