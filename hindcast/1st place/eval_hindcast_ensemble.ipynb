{
 "cells": [
  {
   "cell_type": "code",
   "execution_count": 10,
   "metadata": {},
   "outputs": [],
   "source": [
    "import pandas as pd\n",
    "import plotly.express as px\n",
    "\n",
    "from src.utils import *\n",
    "from src.features.base import *\n",
    "from src.features.volume_obs import *\n",
    "from src.features.swe import *\n",
    "from src.data.base import *\n",
    "from src.config import *\n",
    "from src.models.postprocess import *\n",
    "from src.models.lgb import *\n",
    "from src.models.ensemble import *\n",
    "\n",
    "import importlib\n",
    "\n",
    "EXP_NAME = 'lgb_sweK9L2S1_diffp_S4_m3_ff'\n",
    "cfg = importlib.import_module(f\"configs.lgb.{EXP_NAME}\").cfg"
   ]
  },
  {
   "cell_type": "markdown",
   "metadata": {},
   "source": [
    "# Evaluation"
   ]
  },
  {
   "cell_type": "code",
   "execution_count": 11,
   "metadata": {},
   "outputs": [],
   "source": [
    "exp_list = [\n",
    "    \"lgb_sweK9L2S1_diffp_S4_m3_ff_s1024\",\n",
    "    \"lgb_sweK9L2S1_diffp_S4_m3_ff_s3024\",\n",
    "    \"lgb_sweK9L2S1_diffp_S4_m3_ff_s4024\",\n",
    "    \"lgb_sweK9L2S1_diffp_S4_m3_ff_s5024\",\n",
    "    \"lgb_sweK9L2S1_diffp_S4_m3_ff_s6024\",\n",
    "    \"lgb_sweK9L2S1_diffp_S4_m3_ff_s7024\",\n",
    "    \"lgb_sweK9L2S1_diffp_S4_m3_ff_s8024\",\n",
    "    \"lgb_sweK9L2S1_diffp_S4_m3_ff_s9024\",\n",
    "    \"lgb_sweK9L2S1_diffp_S4_m3_ff\",\n",
    "]\n",
    "\n",
    "groupby_cols=[\"site_id\", \"year\", \"month\", \"day\", \"md_id\"]\n",
    "\n",
    "df_pred_val_all = []\n",
    "df_pred_test_all = []\n",
    "for exp_name in exp_list:\n",
    "    df_pred = pd.read_csv(f\"runs/new/{exp_name}/pred.csv\").query('(site_id==\"detroit_lake_inflow\" & md_id>=24)==False')\n",
    "    df_pred['pred_volume_50'] = df_pred['pred_volume_reg']\n",
    "\n",
    "    df_pred_val = df_pred.query('volume==volume')\n",
    "    df_pred_test = df_pred.query('volume!=volume')\n",
    "    if len(exp_list) == 1:\n",
    "        df_pred_test = mean_ensemble(df_pred_test, groupby_cols=groupby_cols)\n",
    "\n",
    "\n",
    "    df_pred_val_all.append(df_pred_val)\n",
    "    df_pred_test_all.append(df_pred_test)\n",
    "\n",
    "df_pred_val_all = pd.concat(df_pred_val_all)\n",
    "df_pred_test_all = pd.concat(df_pred_test_all)\n",
    "df_pred_val_all = clip_prediction(rearrange_prediction(df_pred_val_all))\n",
    "df_pred_test_all = clip_prediction(rearrange_prediction(df_pred_test_all))\n",
    "\n",
    "df_pred_test_all = clip_prediction(rearrange_prediction(df_pred_test_all))\n",
    "df_pred_val_ens = custom_ensemble(df_pred_val_all, groupby_cols=groupby_cols)\n",
    "df_pred_test_ens = custom_ensemble(df_pred_test_all, groupby_cols=groupby_cols)\n",
    "df_pred_val_ens[\"cat\"] = \"val\"\n",
    "\n",
    "df_pred_val_ens_pp = use_previous_forecast_sites(df_pred_val_ens,\n",
    "                                                 months=[5,6,7],\n",
    "                                                 cols=[\"pred_volume_10\", \"pred_volume_50\"])\n",
    "df_pred_test_ens_pp = use_previous_forecast_sites(df_pred_test_ens,\n",
    "                                                  months=[5,6,7],\n",
    "                                                  cols=[\"pred_volume_10\", \"pred_volume_50\"])"
   ]
  },
  {
   "cell_type": "code",
   "execution_count": 12,
   "metadata": {},
   "outputs": [
    {
     "name": "stdout",
     "output_type": "stream",
     "text": [
      "['cat']\n"
     ]
    },
    {
     "data": {
      "text/html": [
       "<div>\n",
       "<style scoped>\n",
       "    .dataframe tbody tr th:only-of-type {\n",
       "        vertical-align: middle;\n",
       "    }\n",
       "\n",
       "    .dataframe tbody tr th {\n",
       "        vertical-align: top;\n",
       "    }\n",
       "\n",
       "    .dataframe thead th {\n",
       "        text-align: right;\n",
       "    }\n",
       "</style>\n",
       "<table border=\"1\" class=\"dataframe\">\n",
       "  <thead>\n",
       "    <tr style=\"text-align: right;\">\n",
       "      <th></th>\n",
       "      <th>n</th>\n",
       "      <th>mpl</th>\n",
       "      <th>mpl10</th>\n",
       "      <th>mpl50</th>\n",
       "      <th>mpl90</th>\n",
       "      <th>int_cvr</th>\n",
       "      <th>rmse</th>\n",
       "      <th>r2</th>\n",
       "      <th>mape</th>\n",
       "      <th>bias</th>\n",
       "      <th>actual_mean</th>\n",
       "      <th>pred_mean</th>\n",
       "    </tr>\n",
       "    <tr>\n",
       "      <th>cat</th>\n",
       "      <th></th>\n",
       "      <th></th>\n",
       "      <th></th>\n",
       "      <th></th>\n",
       "      <th></th>\n",
       "      <th></th>\n",
       "      <th></th>\n",
       "      <th></th>\n",
       "      <th></th>\n",
       "      <th></th>\n",
       "      <th></th>\n",
       "      <th></th>\n",
       "    </tr>\n",
       "  </thead>\n",
       "  <tbody>\n",
       "    <tr>\n",
       "      <th>val</th>\n",
       "      <td>7240.0</td>\n",
       "      <td>83.637944</td>\n",
       "      <td>47.621998</td>\n",
       "      <td>133.039327</td>\n",
       "      <td>70.252506</td>\n",
       "      <td>0.813536</td>\n",
       "      <td>278.146181</td>\n",
       "      <td>0.952545</td>\n",
       "      <td>22.022445</td>\n",
       "      <td>-5.447633</td>\n",
       "      <td>885.275985</td>\n",
       "      <td>890.723617</td>\n",
       "    </tr>\n",
       "  </tbody>\n",
       "</table>\n",
       "</div>"
      ],
      "text/plain": [
       "          n        mpl      mpl10       mpl50      mpl90   int_cvr  \\\n",
       "cat                                                                  \n",
       "val  7240.0  83.637944  47.621998  133.039327  70.252506  0.813536   \n",
       "\n",
       "           rmse        r2       mape      bias  actual_mean   pred_mean  \n",
       "cat                                                                      \n",
       "val  278.146181  0.952545  22.022445 -5.447633   885.275985  890.723617  "
      ]
     },
     "metadata": {},
     "output_type": "display_data"
    },
    {
     "name": "stdout",
     "output_type": "stream",
     "text": [
      "\n",
      "\n",
      "['year']\n"
     ]
    },
    {
     "data": {
      "text/html": [
       "<div>\n",
       "<style scoped>\n",
       "    .dataframe tbody tr th:only-of-type {\n",
       "        vertical-align: middle;\n",
       "    }\n",
       "\n",
       "    .dataframe tbody tr th {\n",
       "        vertical-align: top;\n",
       "    }\n",
       "\n",
       "    .dataframe thead th {\n",
       "        text-align: right;\n",
       "    }\n",
       "</style>\n",
       "<table border=\"1\" class=\"dataframe\">\n",
       "  <thead>\n",
       "    <tr style=\"text-align: right;\">\n",
       "      <th></th>\n",
       "      <th>n</th>\n",
       "      <th>mpl</th>\n",
       "      <th>mpl10</th>\n",
       "      <th>mpl50</th>\n",
       "      <th>mpl90</th>\n",
       "      <th>int_cvr</th>\n",
       "      <th>rmse</th>\n",
       "      <th>r2</th>\n",
       "      <th>mape</th>\n",
       "      <th>bias</th>\n",
       "      <th>actual_mean</th>\n",
       "      <th>pred_mean</th>\n",
       "    </tr>\n",
       "  </thead>\n",
       "  <tbody>\n",
       "    <tr>\n",
       "      <th>2004</th>\n",
       "      <td>724.0</td>\n",
       "      <td>93.781520</td>\n",
       "      <td>41.839902</td>\n",
       "      <td>162.597148</td>\n",
       "      <td>76.907510</td>\n",
       "      <td>0.707182</td>\n",
       "      <td>347.935600</td>\n",
       "      <td>0.845416</td>\n",
       "      <td>30.984727</td>\n",
       "      <td>-145.539152</td>\n",
       "      <td>639.101182</td>\n",
       "      <td>784.640334</td>\n",
       "    </tr>\n",
       "    <tr>\n",
       "      <th>2006</th>\n",
       "      <td>724.0</td>\n",
       "      <td>93.903268</td>\n",
       "      <td>51.195349</td>\n",
       "      <td>153.286000</td>\n",
       "      <td>77.228455</td>\n",
       "      <td>0.875691</td>\n",
       "      <td>278.159099</td>\n",
       "      <td>0.960290</td>\n",
       "      <td>22.834651</td>\n",
       "      <td>-3.684945</td>\n",
       "      <td>1093.336039</td>\n",
       "      <td>1097.020983</td>\n",
       "    </tr>\n",
       "    <tr>\n",
       "      <th>2008</th>\n",
       "      <td>724.0</td>\n",
       "      <td>78.927531</td>\n",
       "      <td>41.818999</td>\n",
       "      <td>126.214978</td>\n",
       "      <td>68.748615</td>\n",
       "      <td>0.899171</td>\n",
       "      <td>279.845529</td>\n",
       "      <td>0.943542</td>\n",
       "      <td>14.553012</td>\n",
       "      <td>-58.223248</td>\n",
       "      <td>939.324271</td>\n",
       "      <td>997.547519</td>\n",
       "    </tr>\n",
       "    <tr>\n",
       "      <th>2010</th>\n",
       "      <td>724.0</td>\n",
       "      <td>79.255409</td>\n",
       "      <td>50.922469</td>\n",
       "      <td>134.446672</td>\n",
       "      <td>52.397087</td>\n",
       "      <td>0.852210</td>\n",
       "      <td>243.270992</td>\n",
       "      <td>0.932883</td>\n",
       "      <td>15.029557</td>\n",
       "      <td>75.652620</td>\n",
       "      <td>836.593094</td>\n",
       "      <td>760.940474</td>\n",
       "    </tr>\n",
       "    <tr>\n",
       "      <th>2012</th>\n",
       "      <td>724.0</td>\n",
       "      <td>122.779000</td>\n",
       "      <td>59.490074</td>\n",
       "      <td>184.449257</td>\n",
       "      <td>124.397669</td>\n",
       "      <td>0.693370</td>\n",
       "      <td>460.612420</td>\n",
       "      <td>0.926972</td>\n",
       "      <td>28.628723</td>\n",
       "      <td>106.036524</td>\n",
       "      <td>955.773917</td>\n",
       "      <td>849.737394</td>\n",
       "    </tr>\n",
       "    <tr>\n",
       "      <th>2014</th>\n",
       "      <td>724.0</td>\n",
       "      <td>75.426052</td>\n",
       "      <td>49.864558</td>\n",
       "      <td>108.628092</td>\n",
       "      <td>67.785505</td>\n",
       "      <td>0.830110</td>\n",
       "      <td>219.760334</td>\n",
       "      <td>0.974765</td>\n",
       "      <td>19.059203</td>\n",
       "      <td>31.633709</td>\n",
       "      <td>935.756956</td>\n",
       "      <td>904.123247</td>\n",
       "    </tr>\n",
       "    <tr>\n",
       "      <th>2016</th>\n",
       "      <td>724.0</td>\n",
       "      <td>72.284886</td>\n",
       "      <td>32.786864</td>\n",
       "      <td>118.299653</td>\n",
       "      <td>65.768141</td>\n",
       "      <td>0.871547</td>\n",
       "      <td>190.370367</td>\n",
       "      <td>0.966238</td>\n",
       "      <td>18.780110</td>\n",
       "      <td>-81.561890</td>\n",
       "      <td>794.249193</td>\n",
       "      <td>875.811083</td>\n",
       "    </tr>\n",
       "    <tr>\n",
       "      <th>2018</th>\n",
       "      <td>724.0</td>\n",
       "      <td>80.554652</td>\n",
       "      <td>53.011154</td>\n",
       "      <td>136.816667</td>\n",
       "      <td>51.836136</td>\n",
       "      <td>0.838398</td>\n",
       "      <td>263.806986</td>\n",
       "      <td>0.965854</td>\n",
       "      <td>17.732259</td>\n",
       "      <td>47.943698</td>\n",
       "      <td>998.415890</td>\n",
       "      <td>950.472192</td>\n",
       "    </tr>\n",
       "    <tr>\n",
       "      <th>2020</th>\n",
       "      <td>724.0</td>\n",
       "      <td>61.369789</td>\n",
       "      <td>47.149556</td>\n",
       "      <td>89.124357</td>\n",
       "      <td>47.835455</td>\n",
       "      <td>0.805249</td>\n",
       "      <td>153.857099</td>\n",
       "      <td>0.985338</td>\n",
       "      <td>20.357651</td>\n",
       "      <td>33.639777</td>\n",
       "      <td>851.730580</td>\n",
       "      <td>818.090803</td>\n",
       "    </tr>\n",
       "    <tr>\n",
       "      <th>2022</th>\n",
       "      <td>724.0</td>\n",
       "      <td>78.097329</td>\n",
       "      <td>48.141054</td>\n",
       "      <td>116.530447</td>\n",
       "      <td>69.620485</td>\n",
       "      <td>0.762431</td>\n",
       "      <td>218.544278</td>\n",
       "      <td>0.970379</td>\n",
       "      <td>32.264557</td>\n",
       "      <td>-60.373421</td>\n",
       "      <td>808.478724</td>\n",
       "      <td>868.852144</td>\n",
       "    </tr>\n",
       "    <tr>\n",
       "      <th>0</th>\n",
       "      <td>724.0</td>\n",
       "      <td>83.637944</td>\n",
       "      <td>47.621998</td>\n",
       "      <td>133.039327</td>\n",
       "      <td>70.252506</td>\n",
       "      <td>0.813536</td>\n",
       "      <td>265.616270</td>\n",
       "      <td>0.947168</td>\n",
       "      <td>22.022445</td>\n",
       "      <td>-5.447633</td>\n",
       "      <td>885.275985</td>\n",
       "      <td>890.723617</td>\n",
       "    </tr>\n",
       "    <tr>\n",
       "      <th>0</th>\n",
       "      <td>0.0</td>\n",
       "      <td>16.713563</td>\n",
       "      <td>7.350484</td>\n",
       "      <td>27.895894</td>\n",
       "      <td>21.638472</td>\n",
       "      <td>0.071010</td>\n",
       "      <td>87.007629</td>\n",
       "      <td>0.040306</td>\n",
       "      <td>6.452300</td>\n",
       "      <td>78.869571</td>\n",
       "      <td>126.846441</td>\n",
       "      <td>101.911105</td>\n",
       "    </tr>\n",
       "  </tbody>\n",
       "</table>\n",
       "</div>"
      ],
      "text/plain": [
       "          n         mpl      mpl10       mpl50       mpl90   int_cvr  \\\n",
       "2004  724.0   93.781520  41.839902  162.597148   76.907510  0.707182   \n",
       "2006  724.0   93.903268  51.195349  153.286000   77.228455  0.875691   \n",
       "2008  724.0   78.927531  41.818999  126.214978   68.748615  0.899171   \n",
       "2010  724.0   79.255409  50.922469  134.446672   52.397087  0.852210   \n",
       "2012  724.0  122.779000  59.490074  184.449257  124.397669  0.693370   \n",
       "2014  724.0   75.426052  49.864558  108.628092   67.785505  0.830110   \n",
       "2016  724.0   72.284886  32.786864  118.299653   65.768141  0.871547   \n",
       "2018  724.0   80.554652  53.011154  136.816667   51.836136  0.838398   \n",
       "2020  724.0   61.369789  47.149556   89.124357   47.835455  0.805249   \n",
       "2022  724.0   78.097329  48.141054  116.530447   69.620485  0.762431   \n",
       "0     724.0   83.637944  47.621998  133.039327   70.252506  0.813536   \n",
       "0       0.0   16.713563   7.350484   27.895894   21.638472  0.071010   \n",
       "\n",
       "            rmse        r2       mape        bias  actual_mean    pred_mean  \n",
       "2004  347.935600  0.845416  30.984727 -145.539152   639.101182   784.640334  \n",
       "2006  278.159099  0.960290  22.834651   -3.684945  1093.336039  1097.020983  \n",
       "2008  279.845529  0.943542  14.553012  -58.223248   939.324271   997.547519  \n",
       "2010  243.270992  0.932883  15.029557   75.652620   836.593094   760.940474  \n",
       "2012  460.612420  0.926972  28.628723  106.036524   955.773917   849.737394  \n",
       "2014  219.760334  0.974765  19.059203   31.633709   935.756956   904.123247  \n",
       "2016  190.370367  0.966238  18.780110  -81.561890   794.249193   875.811083  \n",
       "2018  263.806986  0.965854  17.732259   47.943698   998.415890   950.472192  \n",
       "2020  153.857099  0.985338  20.357651   33.639777   851.730580   818.090803  \n",
       "2022  218.544278  0.970379  32.264557  -60.373421   808.478724   868.852144  \n",
       "0     265.616270  0.947168  22.022445   -5.447633   885.275985   890.723617  \n",
       "0      87.007629  0.040306   6.452300   78.869571   126.846441   101.911105  "
      ]
     },
     "metadata": {},
     "output_type": "display_data"
    },
    {
     "name": "stdout",
     "output_type": "stream",
     "text": [
      "\n",
      "\n",
      "['month']\n"
     ]
    },
    {
     "data": {
      "text/html": [
       "<div>\n",
       "<style scoped>\n",
       "    .dataframe tbody tr th:only-of-type {\n",
       "        vertical-align: middle;\n",
       "    }\n",
       "\n",
       "    .dataframe tbody tr th {\n",
       "        vertical-align: top;\n",
       "    }\n",
       "\n",
       "    .dataframe thead th {\n",
       "        text-align: right;\n",
       "    }\n",
       "</style>\n",
       "<table border=\"1\" class=\"dataframe\">\n",
       "  <thead>\n",
       "    <tr style=\"text-align: right;\">\n",
       "      <th></th>\n",
       "      <th>n</th>\n",
       "      <th>mpl</th>\n",
       "      <th>mpl10</th>\n",
       "      <th>mpl50</th>\n",
       "      <th>mpl90</th>\n",
       "      <th>int_cvr</th>\n",
       "      <th>rmse</th>\n",
       "      <th>r2</th>\n",
       "      <th>mape</th>\n",
       "      <th>bias</th>\n",
       "      <th>actual_mean</th>\n",
       "      <th>pred_mean</th>\n",
       "    </tr>\n",
       "  </thead>\n",
       "  <tbody>\n",
       "    <tr>\n",
       "      <th>1</th>\n",
       "      <td>1040.000000</td>\n",
       "      <td>139.230448</td>\n",
       "      <td>78.207786</td>\n",
       "      <td>222.078586</td>\n",
       "      <td>117.404971</td>\n",
       "      <td>0.762500</td>\n",
       "      <td>404.184615</td>\n",
       "      <td>0.899293</td>\n",
       "      <td>39.818489</td>\n",
       "      <td>-15.760463</td>\n",
       "      <td>883.286327</td>\n",
       "      <td>899.046790</td>\n",
       "    </tr>\n",
       "    <tr>\n",
       "      <th>2</th>\n",
       "      <td>1040.000000</td>\n",
       "      <td>125.355153</td>\n",
       "      <td>65.937411</td>\n",
       "      <td>202.472825</td>\n",
       "      <td>107.655221</td>\n",
       "      <td>0.754808</td>\n",
       "      <td>372.585196</td>\n",
       "      <td>0.914424</td>\n",
       "      <td>35.194978</td>\n",
       "      <td>-16.009450</td>\n",
       "      <td>883.286327</td>\n",
       "      <td>899.295776</td>\n",
       "    </tr>\n",
       "    <tr>\n",
       "      <th>3</th>\n",
       "      <td>1040.000000</td>\n",
       "      <td>107.261597</td>\n",
       "      <td>60.177649</td>\n",
       "      <td>171.974314</td>\n",
       "      <td>89.632829</td>\n",
       "      <td>0.770192</td>\n",
       "      <td>316.102269</td>\n",
       "      <td>0.938404</td>\n",
       "      <td>29.739306</td>\n",
       "      <td>0.459380</td>\n",
       "      <td>883.286327</td>\n",
       "      <td>882.826947</td>\n",
       "    </tr>\n",
       "    <tr>\n",
       "      <th>4</th>\n",
       "      <td>1040.000000</td>\n",
       "      <td>80.621209</td>\n",
       "      <td>47.136214</td>\n",
       "      <td>125.983393</td>\n",
       "      <td>68.744020</td>\n",
       "      <td>0.859615</td>\n",
       "      <td>242.477728</td>\n",
       "      <td>0.963755</td>\n",
       "      <td>21.163628</td>\n",
       "      <td>-4.569340</td>\n",
       "      <td>883.286327</td>\n",
       "      <td>887.855667</td>\n",
       "    </tr>\n",
       "    <tr>\n",
       "      <th>5</th>\n",
       "      <td>1040.000000</td>\n",
       "      <td>64.740472</td>\n",
       "      <td>40.879151</td>\n",
       "      <td>100.264364</td>\n",
       "      <td>53.077901</td>\n",
       "      <td>0.853846</td>\n",
       "      <td>210.757270</td>\n",
       "      <td>0.972618</td>\n",
       "      <td>14.547004</td>\n",
       "      <td>10.837113</td>\n",
       "      <td>883.286327</td>\n",
       "      <td>872.449213</td>\n",
       "    </tr>\n",
       "    <tr>\n",
       "      <th>6</th>\n",
       "      <td>1040.000000</td>\n",
       "      <td>44.641816</td>\n",
       "      <td>27.119528</td>\n",
       "      <td>70.945075</td>\n",
       "      <td>35.860845</td>\n",
       "      <td>0.835577</td>\n",
       "      <td>163.541658</td>\n",
       "      <td>0.983512</td>\n",
       "      <td>8.932513</td>\n",
       "      <td>-7.257769</td>\n",
       "      <td>883.286327</td>\n",
       "      <td>890.544096</td>\n",
       "    </tr>\n",
       "    <tr>\n",
       "      <th>7</th>\n",
       "      <td>1000.000000</td>\n",
       "      <td>21.213990</td>\n",
       "      <td>12.547217</td>\n",
       "      <td>33.737430</td>\n",
       "      <td>17.357322</td>\n",
       "      <td>0.860000</td>\n",
       "      <td>82.320167</td>\n",
       "      <td>0.995968</td>\n",
       "      <td>4.070747</td>\n",
       "      <td>-5.848311</td>\n",
       "      <td>897.691448</td>\n",
       "      <td>903.539759</td>\n",
       "    </tr>\n",
       "    <tr>\n",
       "      <th>0</th>\n",
       "      <td>1034.285714</td>\n",
       "      <td>83.294955</td>\n",
       "      <td>47.429279</td>\n",
       "      <td>132.493712</td>\n",
       "      <td>69.961873</td>\n",
       "      <td>0.813791</td>\n",
       "      <td>255.995558</td>\n",
       "      <td>0.952568</td>\n",
       "      <td>21.923809</td>\n",
       "      <td>-5.449834</td>\n",
       "      <td>885.344201</td>\n",
       "      <td>890.794036</td>\n",
       "    </tr>\n",
       "    <tr>\n",
       "      <th>0</th>\n",
       "      <td>15.118579</td>\n",
       "      <td>43.150451</td>\n",
       "      <td>22.820395</td>\n",
       "      <td>69.646006</td>\n",
       "      <td>37.137701</td>\n",
       "      <td>0.048862</td>\n",
       "      <td>115.546568</td>\n",
       "      <td>0.036199</td>\n",
       "      <td>13.539610</td>\n",
       "      <td>9.329172</td>\n",
       "      <td>5.444624</td>\n",
       "      <td>10.889938</td>\n",
       "    </tr>\n",
       "  </tbody>\n",
       "</table>\n",
       "</div>"
      ],
      "text/plain": [
       "             n         mpl      mpl10       mpl50       mpl90   int_cvr  \\\n",
       "1  1040.000000  139.230448  78.207786  222.078586  117.404971  0.762500   \n",
       "2  1040.000000  125.355153  65.937411  202.472825  107.655221  0.754808   \n",
       "3  1040.000000  107.261597  60.177649  171.974314   89.632829  0.770192   \n",
       "4  1040.000000   80.621209  47.136214  125.983393   68.744020  0.859615   \n",
       "5  1040.000000   64.740472  40.879151  100.264364   53.077901  0.853846   \n",
       "6  1040.000000   44.641816  27.119528   70.945075   35.860845  0.835577   \n",
       "7  1000.000000   21.213990  12.547217   33.737430   17.357322  0.860000   \n",
       "0  1034.285714   83.294955  47.429279  132.493712   69.961873  0.813791   \n",
       "0    15.118579   43.150451  22.820395   69.646006   37.137701  0.048862   \n",
       "\n",
       "         rmse        r2       mape       bias  actual_mean   pred_mean  \n",
       "1  404.184615  0.899293  39.818489 -15.760463   883.286327  899.046790  \n",
       "2  372.585196  0.914424  35.194978 -16.009450   883.286327  899.295776  \n",
       "3  316.102269  0.938404  29.739306   0.459380   883.286327  882.826947  \n",
       "4  242.477728  0.963755  21.163628  -4.569340   883.286327  887.855667  \n",
       "5  210.757270  0.972618  14.547004  10.837113   883.286327  872.449213  \n",
       "6  163.541658  0.983512   8.932513  -7.257769   883.286327  890.544096  \n",
       "7   82.320167  0.995968   4.070747  -5.848311   897.691448  903.539759  \n",
       "0  255.995558  0.952568  21.923809  -5.449834   885.344201  890.794036  \n",
       "0  115.546568  0.036199  13.539610   9.329172     5.444624   10.889938  "
      ]
     },
     "metadata": {},
     "output_type": "display_data"
    },
    {
     "name": "stdout",
     "output_type": "stream",
     "text": [
      "\n",
      "\n"
     ]
    }
   ],
   "source": [
    "eval_all(df_pred_val_ens, [[\"cat\"], [\"year\"], [\"month\"]])"
   ]
  },
  {
   "cell_type": "code",
   "execution_count": 13,
   "metadata": {},
   "outputs": [
    {
     "name": "stdout",
     "output_type": "stream",
     "text": [
      "['cat']\n"
     ]
    },
    {
     "data": {
      "text/html": [
       "<div>\n",
       "<style scoped>\n",
       "    .dataframe tbody tr th:only-of-type {\n",
       "        vertical-align: middle;\n",
       "    }\n",
       "\n",
       "    .dataframe tbody tr th {\n",
       "        vertical-align: top;\n",
       "    }\n",
       "\n",
       "    .dataframe thead th {\n",
       "        text-align: right;\n",
       "    }\n",
       "</style>\n",
       "<table border=\"1\" class=\"dataframe\">\n",
       "  <thead>\n",
       "    <tr style=\"text-align: right;\">\n",
       "      <th></th>\n",
       "      <th>n</th>\n",
       "      <th>mpl</th>\n",
       "      <th>mpl10</th>\n",
       "      <th>mpl50</th>\n",
       "      <th>mpl90</th>\n",
       "      <th>int_cvr</th>\n",
       "      <th>rmse</th>\n",
       "      <th>r2</th>\n",
       "      <th>mape</th>\n",
       "      <th>bias</th>\n",
       "      <th>actual_mean</th>\n",
       "      <th>pred_mean</th>\n",
       "    </tr>\n",
       "    <tr>\n",
       "      <th>cat</th>\n",
       "      <th></th>\n",
       "      <th></th>\n",
       "      <th></th>\n",
       "      <th></th>\n",
       "      <th></th>\n",
       "      <th></th>\n",
       "      <th></th>\n",
       "      <th></th>\n",
       "      <th></th>\n",
       "      <th></th>\n",
       "      <th></th>\n",
       "      <th></th>\n",
       "    </tr>\n",
       "  </thead>\n",
       "  <tbody>\n",
       "    <tr>\n",
       "      <th>val</th>\n",
       "      <td>7240.0</td>\n",
       "      <td>83.667988</td>\n",
       "      <td>47.521319</td>\n",
       "      <td>133.23014</td>\n",
       "      <td>70.252506</td>\n",
       "      <td>0.812017</td>\n",
       "      <td>279.069543</td>\n",
       "      <td>0.952229</td>\n",
       "      <td>22.134178</td>\n",
       "      <td>-7.601584</td>\n",
       "      <td>885.275985</td>\n",
       "      <td>892.877569</td>\n",
       "    </tr>\n",
       "  </tbody>\n",
       "</table>\n",
       "</div>"
      ],
      "text/plain": [
       "          n        mpl      mpl10      mpl50      mpl90   int_cvr        rmse  \\\n",
       "cat                                                                             \n",
       "val  7240.0  83.667988  47.521319  133.23014  70.252506  0.812017  279.069543   \n",
       "\n",
       "           r2       mape      bias  actual_mean   pred_mean  \n",
       "cat                                                          \n",
       "val  0.952229  22.134178 -7.601584   885.275985  892.877569  "
      ]
     },
     "metadata": {},
     "output_type": "display_data"
    },
    {
     "name": "stdout",
     "output_type": "stream",
     "text": [
      "\n",
      "\n",
      "['year']\n"
     ]
    },
    {
     "data": {
      "text/html": [
       "<div>\n",
       "<style scoped>\n",
       "    .dataframe tbody tr th:only-of-type {\n",
       "        vertical-align: middle;\n",
       "    }\n",
       "\n",
       "    .dataframe tbody tr th {\n",
       "        vertical-align: top;\n",
       "    }\n",
       "\n",
       "    .dataframe thead th {\n",
       "        text-align: right;\n",
       "    }\n",
       "</style>\n",
       "<table border=\"1\" class=\"dataframe\">\n",
       "  <thead>\n",
       "    <tr style=\"text-align: right;\">\n",
       "      <th></th>\n",
       "      <th>n</th>\n",
       "      <th>mpl</th>\n",
       "      <th>mpl10</th>\n",
       "      <th>mpl50</th>\n",
       "      <th>mpl90</th>\n",
       "      <th>int_cvr</th>\n",
       "      <th>rmse</th>\n",
       "      <th>r2</th>\n",
       "      <th>mape</th>\n",
       "      <th>bias</th>\n",
       "      <th>actual_mean</th>\n",
       "      <th>pred_mean</th>\n",
       "    </tr>\n",
       "  </thead>\n",
       "  <tbody>\n",
       "    <tr>\n",
       "      <th>2004</th>\n",
       "      <td>724.0</td>\n",
       "      <td>93.686901</td>\n",
       "      <td>41.671869</td>\n",
       "      <td>162.481325</td>\n",
       "      <td>76.907510</td>\n",
       "      <td>0.698895</td>\n",
       "      <td>347.686116</td>\n",
       "      <td>0.845637</td>\n",
       "      <td>31.281404</td>\n",
       "      <td>-147.986161</td>\n",
       "      <td>639.101182</td>\n",
       "      <td>787.087344</td>\n",
       "    </tr>\n",
       "    <tr>\n",
       "      <th>2006</th>\n",
       "      <td>724.0</td>\n",
       "      <td>93.339305</td>\n",
       "      <td>50.290173</td>\n",
       "      <td>152.499286</td>\n",
       "      <td>77.228455</td>\n",
       "      <td>0.879834</td>\n",
       "      <td>278.168773</td>\n",
       "      <td>0.960288</td>\n",
       "      <td>23.005561</td>\n",
       "      <td>-9.761977</td>\n",
       "      <td>1093.336039</td>\n",
       "      <td>1103.098016</td>\n",
       "    </tr>\n",
       "    <tr>\n",
       "      <th>2008</th>\n",
       "      <td>724.0</td>\n",
       "      <td>79.430366</td>\n",
       "      <td>43.982589</td>\n",
       "      <td>125.559894</td>\n",
       "      <td>68.748615</td>\n",
       "      <td>0.885359</td>\n",
       "      <td>278.219549</td>\n",
       "      <td>0.944197</td>\n",
       "      <td>14.496934</td>\n",
       "      <td>-60.922389</td>\n",
       "      <td>939.324271</td>\n",
       "      <td>1000.246660</td>\n",
       "    </tr>\n",
       "    <tr>\n",
       "      <th>2010</th>\n",
       "      <td>724.0</td>\n",
       "      <td>78.836946</td>\n",
       "      <td>51.049960</td>\n",
       "      <td>133.063791</td>\n",
       "      <td>52.397087</td>\n",
       "      <td>0.860497</td>\n",
       "      <td>239.513541</td>\n",
       "      <td>0.934940</td>\n",
       "      <td>14.822959</td>\n",
       "      <td>78.344922</td>\n",
       "      <td>836.593094</td>\n",
       "      <td>758.248172</td>\n",
       "    </tr>\n",
       "    <tr>\n",
       "      <th>2012</th>\n",
       "      <td>724.0</td>\n",
       "      <td>123.235948</td>\n",
       "      <td>59.295588</td>\n",
       "      <td>186.014588</td>\n",
       "      <td>124.397669</td>\n",
       "      <td>0.703039</td>\n",
       "      <td>466.710734</td>\n",
       "      <td>0.925025</td>\n",
       "      <td>28.784521</td>\n",
       "      <td>107.580614</td>\n",
       "      <td>955.773917</td>\n",
       "      <td>848.193303</td>\n",
       "    </tr>\n",
       "    <tr>\n",
       "      <th>2014</th>\n",
       "      <td>724.0</td>\n",
       "      <td>74.440486</td>\n",
       "      <td>48.195462</td>\n",
       "      <td>107.340491</td>\n",
       "      <td>67.785505</td>\n",
       "      <td>0.827348</td>\n",
       "      <td>218.967234</td>\n",
       "      <td>0.974947</td>\n",
       "      <td>19.011811</td>\n",
       "      <td>28.036324</td>\n",
       "      <td>935.756956</td>\n",
       "      <td>907.720632</td>\n",
       "    </tr>\n",
       "    <tr>\n",
       "      <th>2016</th>\n",
       "      <td>724.0</td>\n",
       "      <td>73.123488</td>\n",
       "      <td>33.095201</td>\n",
       "      <td>120.507122</td>\n",
       "      <td>65.768141</td>\n",
       "      <td>0.874309</td>\n",
       "      <td>192.515374</td>\n",
       "      <td>0.965472</td>\n",
       "      <td>18.891726</td>\n",
       "      <td>-84.429520</td>\n",
       "      <td>794.249193</td>\n",
       "      <td>878.678713</td>\n",
       "    </tr>\n",
       "    <tr>\n",
       "      <th>2018</th>\n",
       "      <td>724.0</td>\n",
       "      <td>81.322076</td>\n",
       "      <td>52.873521</td>\n",
       "      <td>139.256571</td>\n",
       "      <td>51.836136</td>\n",
       "      <td>0.835635</td>\n",
       "      <td>267.200526</td>\n",
       "      <td>0.964970</td>\n",
       "      <td>17.968111</td>\n",
       "      <td>40.886234</td>\n",
       "      <td>998.415890</td>\n",
       "      <td>957.529655</td>\n",
       "    </tr>\n",
       "    <tr>\n",
       "      <th>2020</th>\n",
       "      <td>724.0</td>\n",
       "      <td>60.409150</td>\n",
       "      <td>46.485448</td>\n",
       "      <td>86.906547</td>\n",
       "      <td>47.835455</td>\n",
       "      <td>0.794199</td>\n",
       "      <td>151.761222</td>\n",
       "      <td>0.985735</td>\n",
       "      <td>20.568494</td>\n",
       "      <td>30.177246</td>\n",
       "      <td>851.730580</td>\n",
       "      <td>821.553334</td>\n",
       "    </tr>\n",
       "    <tr>\n",
       "      <th>2022</th>\n",
       "      <td>724.0</td>\n",
       "      <td>78.855215</td>\n",
       "      <td>48.273377</td>\n",
       "      <td>118.671784</td>\n",
       "      <td>69.620485</td>\n",
       "      <td>0.761050</td>\n",
       "      <td>220.241746</td>\n",
       "      <td>0.969917</td>\n",
       "      <td>32.510260</td>\n",
       "      <td>-57.941136</td>\n",
       "      <td>808.478724</td>\n",
       "      <td>866.419860</td>\n",
       "    </tr>\n",
       "    <tr>\n",
       "      <th>0</th>\n",
       "      <td>724.0</td>\n",
       "      <td>83.667988</td>\n",
       "      <td>47.521319</td>\n",
       "      <td>133.230140</td>\n",
       "      <td>70.252506</td>\n",
       "      <td>0.812017</td>\n",
       "      <td>266.098481</td>\n",
       "      <td>0.947113</td>\n",
       "      <td>22.134178</td>\n",
       "      <td>-7.601584</td>\n",
       "      <td>885.275985</td>\n",
       "      <td>892.877569</td>\n",
       "    </tr>\n",
       "    <tr>\n",
       "      <th>0</th>\n",
       "      <td>0.0</td>\n",
       "      <td>16.887885</td>\n",
       "      <td>7.026474</td>\n",
       "      <td>28.476653</td>\n",
       "      <td>21.638472</td>\n",
       "      <td>0.070388</td>\n",
       "      <td>88.640398</td>\n",
       "      <td>0.040218</td>\n",
       "      <td>6.567367</td>\n",
       "      <td>79.368561</td>\n",
       "      <td>126.846441</td>\n",
       "      <td>104.042225</td>\n",
       "    </tr>\n",
       "  </tbody>\n",
       "</table>\n",
       "</div>"
      ],
      "text/plain": [
       "          n         mpl      mpl10       mpl50       mpl90   int_cvr  \\\n",
       "2004  724.0   93.686901  41.671869  162.481325   76.907510  0.698895   \n",
       "2006  724.0   93.339305  50.290173  152.499286   77.228455  0.879834   \n",
       "2008  724.0   79.430366  43.982589  125.559894   68.748615  0.885359   \n",
       "2010  724.0   78.836946  51.049960  133.063791   52.397087  0.860497   \n",
       "2012  724.0  123.235948  59.295588  186.014588  124.397669  0.703039   \n",
       "2014  724.0   74.440486  48.195462  107.340491   67.785505  0.827348   \n",
       "2016  724.0   73.123488  33.095201  120.507122   65.768141  0.874309   \n",
       "2018  724.0   81.322076  52.873521  139.256571   51.836136  0.835635   \n",
       "2020  724.0   60.409150  46.485448   86.906547   47.835455  0.794199   \n",
       "2022  724.0   78.855215  48.273377  118.671784   69.620485  0.761050   \n",
       "0     724.0   83.667988  47.521319  133.230140   70.252506  0.812017   \n",
       "0       0.0   16.887885   7.026474   28.476653   21.638472  0.070388   \n",
       "\n",
       "            rmse        r2       mape        bias  actual_mean    pred_mean  \n",
       "2004  347.686116  0.845637  31.281404 -147.986161   639.101182   787.087344  \n",
       "2006  278.168773  0.960288  23.005561   -9.761977  1093.336039  1103.098016  \n",
       "2008  278.219549  0.944197  14.496934  -60.922389   939.324271  1000.246660  \n",
       "2010  239.513541  0.934940  14.822959   78.344922   836.593094   758.248172  \n",
       "2012  466.710734  0.925025  28.784521  107.580614   955.773917   848.193303  \n",
       "2014  218.967234  0.974947  19.011811   28.036324   935.756956   907.720632  \n",
       "2016  192.515374  0.965472  18.891726  -84.429520   794.249193   878.678713  \n",
       "2018  267.200526  0.964970  17.968111   40.886234   998.415890   957.529655  \n",
       "2020  151.761222  0.985735  20.568494   30.177246   851.730580   821.553334  \n",
       "2022  220.241746  0.969917  32.510260  -57.941136   808.478724   866.419860  \n",
       "0     266.098481  0.947113  22.134178   -7.601584   885.275985   892.877569  \n",
       "0      88.640398  0.040218   6.567367   79.368561   126.846441   104.042225  "
      ]
     },
     "metadata": {},
     "output_type": "display_data"
    },
    {
     "name": "stdout",
     "output_type": "stream",
     "text": [
      "\n",
      "\n",
      "['month']\n"
     ]
    },
    {
     "data": {
      "text/html": [
       "<div>\n",
       "<style scoped>\n",
       "    .dataframe tbody tr th:only-of-type {\n",
       "        vertical-align: middle;\n",
       "    }\n",
       "\n",
       "    .dataframe tbody tr th {\n",
       "        vertical-align: top;\n",
       "    }\n",
       "\n",
       "    .dataframe thead th {\n",
       "        text-align: right;\n",
       "    }\n",
       "</style>\n",
       "<table border=\"1\" class=\"dataframe\">\n",
       "  <thead>\n",
       "    <tr style=\"text-align: right;\">\n",
       "      <th></th>\n",
       "      <th>n</th>\n",
       "      <th>mpl</th>\n",
       "      <th>mpl10</th>\n",
       "      <th>mpl50</th>\n",
       "      <th>mpl90</th>\n",
       "      <th>int_cvr</th>\n",
       "      <th>rmse</th>\n",
       "      <th>r2</th>\n",
       "      <th>mape</th>\n",
       "      <th>bias</th>\n",
       "      <th>actual_mean</th>\n",
       "      <th>pred_mean</th>\n",
       "    </tr>\n",
       "  </thead>\n",
       "  <tbody>\n",
       "    <tr>\n",
       "      <th>1</th>\n",
       "      <td>1040.000000</td>\n",
       "      <td>139.230448</td>\n",
       "      <td>78.207786</td>\n",
       "      <td>222.078586</td>\n",
       "      <td>117.404971</td>\n",
       "      <td>0.762500</td>\n",
       "      <td>404.184615</td>\n",
       "      <td>0.899293</td>\n",
       "      <td>39.818489</td>\n",
       "      <td>-15.760463</td>\n",
       "      <td>883.286327</td>\n",
       "      <td>899.046790</td>\n",
       "    </tr>\n",
       "    <tr>\n",
       "      <th>2</th>\n",
       "      <td>1040.000000</td>\n",
       "      <td>125.355153</td>\n",
       "      <td>65.937411</td>\n",
       "      <td>202.472825</td>\n",
       "      <td>107.655221</td>\n",
       "      <td>0.754808</td>\n",
       "      <td>372.585196</td>\n",
       "      <td>0.914424</td>\n",
       "      <td>35.194978</td>\n",
       "      <td>-16.009450</td>\n",
       "      <td>883.286327</td>\n",
       "      <td>899.295776</td>\n",
       "    </tr>\n",
       "    <tr>\n",
       "      <th>3</th>\n",
       "      <td>1040.000000</td>\n",
       "      <td>107.261597</td>\n",
       "      <td>60.177649</td>\n",
       "      <td>171.974314</td>\n",
       "      <td>89.632829</td>\n",
       "      <td>0.770192</td>\n",
       "      <td>316.102269</td>\n",
       "      <td>0.938404</td>\n",
       "      <td>29.739306</td>\n",
       "      <td>0.459380</td>\n",
       "      <td>883.286327</td>\n",
       "      <td>882.826947</td>\n",
       "    </tr>\n",
       "    <tr>\n",
       "      <th>4</th>\n",
       "      <td>1040.000000</td>\n",
       "      <td>80.621209</td>\n",
       "      <td>47.136214</td>\n",
       "      <td>125.983393</td>\n",
       "      <td>68.744020</td>\n",
       "      <td>0.859615</td>\n",
       "      <td>242.477728</td>\n",
       "      <td>0.963755</td>\n",
       "      <td>21.163628</td>\n",
       "      <td>-4.569340</td>\n",
       "      <td>883.286327</td>\n",
       "      <td>887.855667</td>\n",
       "    </tr>\n",
       "    <tr>\n",
       "      <th>5</th>\n",
       "      <td>1040.000000</td>\n",
       "      <td>64.223930</td>\n",
       "      <td>39.807654</td>\n",
       "      <td>99.786234</td>\n",
       "      <td>53.077901</td>\n",
       "      <td>0.845192</td>\n",
       "      <td>212.165823</td>\n",
       "      <td>0.972251</td>\n",
       "      <td>15.248622</td>\n",
       "      <td>3.574213</td>\n",
       "      <td>883.286327</td>\n",
       "      <td>879.712114</td>\n",
       "    </tr>\n",
       "    <tr>\n",
       "      <th>6</th>\n",
       "      <td>1040.000000</td>\n",
       "      <td>45.521290</td>\n",
       "      <td>28.608242</td>\n",
       "      <td>72.094783</td>\n",
       "      <td>35.860845</td>\n",
       "      <td>0.826923</td>\n",
       "      <td>171.315460</td>\n",
       "      <td>0.981908</td>\n",
       "      <td>9.073472</td>\n",
       "      <td>-9.861943</td>\n",
       "      <td>883.286327</td>\n",
       "      <td>893.148270</td>\n",
       "    </tr>\n",
       "    <tr>\n",
       "      <th>7</th>\n",
       "      <td>1000.000000</td>\n",
       "      <td>21.054063</td>\n",
       "      <td>11.384396</td>\n",
       "      <td>34.420471</td>\n",
       "      <td>17.357322</td>\n",
       "      <td>0.867000</td>\n",
       "      <td>84.704794</td>\n",
       "      <td>0.995731</td>\n",
       "      <td>4.003415</td>\n",
       "      <td>-11.181164</td>\n",
       "      <td>897.691448</td>\n",
       "      <td>908.872612</td>\n",
       "    </tr>\n",
       "    <tr>\n",
       "      <th>0</th>\n",
       "      <td>1034.285714</td>\n",
       "      <td>83.323956</td>\n",
       "      <td>47.322764</td>\n",
       "      <td>132.687230</td>\n",
       "      <td>69.961873</td>\n",
       "      <td>0.812319</td>\n",
       "      <td>257.647984</td>\n",
       "      <td>0.952252</td>\n",
       "      <td>22.034559</td>\n",
       "      <td>-7.621252</td>\n",
       "      <td>885.344201</td>\n",
       "      <td>892.965454</td>\n",
       "    </tr>\n",
       "    <tr>\n",
       "      <th>0</th>\n",
       "      <td>15.118579</td>\n",
       "      <td>43.096529</td>\n",
       "      <td>22.963555</td>\n",
       "      <td>69.353606</td>\n",
       "      <td>37.137701</td>\n",
       "      <td>0.048451</td>\n",
       "      <td>113.843362</td>\n",
       "      <td>0.035892</td>\n",
       "      <td>13.470631</td>\n",
       "      <td>7.683874</td>\n",
       "      <td>5.444624</td>\n",
       "      <td>10.284916</td>\n",
       "    </tr>\n",
       "  </tbody>\n",
       "</table>\n",
       "</div>"
      ],
      "text/plain": [
       "             n         mpl      mpl10       mpl50       mpl90   int_cvr  \\\n",
       "1  1040.000000  139.230448  78.207786  222.078586  117.404971  0.762500   \n",
       "2  1040.000000  125.355153  65.937411  202.472825  107.655221  0.754808   \n",
       "3  1040.000000  107.261597  60.177649  171.974314   89.632829  0.770192   \n",
       "4  1040.000000   80.621209  47.136214  125.983393   68.744020  0.859615   \n",
       "5  1040.000000   64.223930  39.807654   99.786234   53.077901  0.845192   \n",
       "6  1040.000000   45.521290  28.608242   72.094783   35.860845  0.826923   \n",
       "7  1000.000000   21.054063  11.384396   34.420471   17.357322  0.867000   \n",
       "0  1034.285714   83.323956  47.322764  132.687230   69.961873  0.812319   \n",
       "0    15.118579   43.096529  22.963555   69.353606   37.137701  0.048451   \n",
       "\n",
       "         rmse        r2       mape       bias  actual_mean   pred_mean  \n",
       "1  404.184615  0.899293  39.818489 -15.760463   883.286327  899.046790  \n",
       "2  372.585196  0.914424  35.194978 -16.009450   883.286327  899.295776  \n",
       "3  316.102269  0.938404  29.739306   0.459380   883.286327  882.826947  \n",
       "4  242.477728  0.963755  21.163628  -4.569340   883.286327  887.855667  \n",
       "5  212.165823  0.972251  15.248622   3.574213   883.286327  879.712114  \n",
       "6  171.315460  0.981908   9.073472  -9.861943   883.286327  893.148270  \n",
       "7   84.704794  0.995731   4.003415 -11.181164   897.691448  908.872612  \n",
       "0  257.647984  0.952252  22.034559  -7.621252   885.344201  892.965454  \n",
       "0  113.843362  0.035892  13.470631   7.683874     5.444624   10.284916  "
      ]
     },
     "metadata": {},
     "output_type": "display_data"
    },
    {
     "name": "stdout",
     "output_type": "stream",
     "text": [
      "\n",
      "\n"
     ]
    }
   ],
   "source": [
    "eval_all(df_pred_val_ens_pp, [[\"cat\"], [\"year\"], [\"month\"]])"
   ]
  },
  {
   "cell_type": "code",
   "execution_count": 14,
   "metadata": {},
   "outputs": [
    {
     "data": {
      "text/html": [
       "<div>\n",
       "<style scoped>\n",
       "    .dataframe tbody tr th:only-of-type {\n",
       "        vertical-align: middle;\n",
       "    }\n",
       "\n",
       "    .dataframe tbody tr th {\n",
       "        vertical-align: top;\n",
       "    }\n",
       "\n",
       "    .dataframe thead th {\n",
       "        text-align: right;\n",
       "    }\n",
       "</style>\n",
       "<table border=\"1\" class=\"dataframe\">\n",
       "  <thead>\n",
       "    <tr style=\"text-align: right;\">\n",
       "      <th></th>\n",
       "      <th>mpl</th>\n",
       "      <th>mpl10</th>\n",
       "      <th>mpl50</th>\n",
       "      <th>mpl90</th>\n",
       "      <th>int_cvr</th>\n",
       "      <th>nmpl</th>\n",
       "    </tr>\n",
       "    <tr>\n",
       "      <th>site_id</th>\n",
       "      <th></th>\n",
       "      <th></th>\n",
       "      <th></th>\n",
       "      <th></th>\n",
       "      <th></th>\n",
       "      <th></th>\n",
       "    </tr>\n",
       "  </thead>\n",
       "  <tbody>\n",
       "    <tr>\n",
       "      <th>stehekin_r_at_stehekin</th>\n",
       "      <td>42.141795</td>\n",
       "      <td>29.696864</td>\n",
       "      <td>59.998908</td>\n",
       "      <td>36.729612</td>\n",
       "      <td>0.889286</td>\n",
       "      <td>0.056187</td>\n",
       "    </tr>\n",
       "    <tr>\n",
       "      <th>hungry_horse_reservoir_inflow</th>\n",
       "      <td>137.025956</td>\n",
       "      <td>81.777182</td>\n",
       "      <td>215.326614</td>\n",
       "      <td>113.974074</td>\n",
       "      <td>0.792857</td>\n",
       "      <td>0.062042</td>\n",
       "    </tr>\n",
       "    <tr>\n",
       "      <th>snake_r_nr_heise</th>\n",
       "      <td>204.908219</td>\n",
       "      <td>132.718256</td>\n",
       "      <td>336.910906</td>\n",
       "      <td>145.095496</td>\n",
       "      <td>0.771429</td>\n",
       "      <td>0.064697</td>\n",
       "    </tr>\n",
       "    <tr>\n",
       "      <th>boise_r_nr_boise</th>\n",
       "      <td>91.969968</td>\n",
       "      <td>56.925284</td>\n",
       "      <td>144.745782</td>\n",
       "      <td>74.238839</td>\n",
       "      <td>0.853571</td>\n",
       "      <td>0.076185</td>\n",
       "    </tr>\n",
       "    <tr>\n",
       "      <th>libby_reservoir_inflow</th>\n",
       "      <td>464.215596</td>\n",
       "      <td>241.445710</td>\n",
       "      <td>706.261819</td>\n",
       "      <td>444.939259</td>\n",
       "      <td>0.775000</td>\n",
       "      <td>0.081576</td>\n",
       "    </tr>\n",
       "    <tr>\n",
       "      <th>weber_r_nr_oakley</th>\n",
       "      <td>7.935088</td>\n",
       "      <td>4.196735</td>\n",
       "      <td>12.660409</td>\n",
       "      <td>6.948120</td>\n",
       "      <td>0.839286</td>\n",
       "      <td>0.085616</td>\n",
       "    </tr>\n",
       "    <tr>\n",
       "      <th>yampa_r_nr_maybell</th>\n",
       "      <td>76.344874</td>\n",
       "      <td>44.397182</td>\n",
       "      <td>127.644369</td>\n",
       "      <td>56.993070</td>\n",
       "      <td>0.935714</td>\n",
       "      <td>0.091579</td>\n",
       "    </tr>\n",
       "    <tr>\n",
       "      <th>skagit_ross_reservoir</th>\n",
       "      <td>131.351764</td>\n",
       "      <td>68.654821</td>\n",
       "      <td>205.002623</td>\n",
       "      <td>120.397847</td>\n",
       "      <td>0.664286</td>\n",
       "      <td>0.092889</td>\n",
       "    </tr>\n",
       "    <tr>\n",
       "      <th>ruedi_reservoir_inflow</th>\n",
       "      <td>11.358137</td>\n",
       "      <td>6.103665</td>\n",
       "      <td>17.128755</td>\n",
       "      <td>10.841991</td>\n",
       "      <td>0.867857</td>\n",
       "      <td>0.096365</td>\n",
       "    </tr>\n",
       "    <tr>\n",
       "      <th>green_r_bl_howard_a_hanson_dam</th>\n",
       "      <td>25.387121</td>\n",
       "      <td>15.229950</td>\n",
       "      <td>41.582463</td>\n",
       "      <td>19.348951</td>\n",
       "      <td>0.750000</td>\n",
       "      <td>0.096887</td>\n",
       "    </tr>\n",
       "    <tr>\n",
       "      <th>animas_r_at_durango</th>\n",
       "      <td>30.118280</td>\n",
       "      <td>16.268144</td>\n",
       "      <td>47.196785</td>\n",
       "      <td>26.889912</td>\n",
       "      <td>0.839286</td>\n",
       "      <td>0.098049</td>\n",
       "    </tr>\n",
       "    <tr>\n",
       "      <th>fontenelle_reservoir_inflow</th>\n",
       "      <td>67.862255</td>\n",
       "      <td>38.040035</td>\n",
       "      <td>110.794135</td>\n",
       "      <td>54.752594</td>\n",
       "      <td>0.925000</td>\n",
       "      <td>0.104731</td>\n",
       "    </tr>\n",
       "    <tr>\n",
       "      <th>dillon_reservoir_inflow</th>\n",
       "      <td>14.746297</td>\n",
       "      <td>7.897170</td>\n",
       "      <td>23.787602</td>\n",
       "      <td>12.554118</td>\n",
       "      <td>0.846429</td>\n",
       "      <td>0.105159</td>\n",
       "    </tr>\n",
       "    <tr>\n",
       "      <th>missouri_r_at_toston</th>\n",
       "      <td>198.662286</td>\n",
       "      <td>127.719926</td>\n",
       "      <td>311.486427</td>\n",
       "      <td>156.780504</td>\n",
       "      <td>0.878571</td>\n",
       "      <td>0.107627</td>\n",
       "    </tr>\n",
       "    <tr>\n",
       "      <th>merced_river_yosemite_at_pohono_bridge</th>\n",
       "      <td>35.388800</td>\n",
       "      <td>25.108280</td>\n",
       "      <td>55.191386</td>\n",
       "      <td>25.866734</td>\n",
       "      <td>0.814286</td>\n",
       "      <td>0.116155</td>\n",
       "    </tr>\n",
       "    <tr>\n",
       "      <th>pecos_r_nr_pecos</th>\n",
       "      <td>4.465844</td>\n",
       "      <td>2.321368</td>\n",
       "      <td>6.707431</td>\n",
       "      <td>4.368732</td>\n",
       "      <td>0.875000</td>\n",
       "      <td>0.120920</td>\n",
       "    </tr>\n",
       "    <tr>\n",
       "      <th>taylor_park_reservoir_inflow</th>\n",
       "      <td>10.269275</td>\n",
       "      <td>6.329075</td>\n",
       "      <td>15.538255</td>\n",
       "      <td>8.940496</td>\n",
       "      <td>0.775000</td>\n",
       "      <td>0.134762</td>\n",
       "    </tr>\n",
       "    <tr>\n",
       "      <th>colville_r_at_kettle_falls</th>\n",
       "      <td>17.679065</td>\n",
       "      <td>10.835011</td>\n",
       "      <td>26.925432</td>\n",
       "      <td>15.276751</td>\n",
       "      <td>0.789286</td>\n",
       "      <td>0.138419</td>\n",
       "    </tr>\n",
       "    <tr>\n",
       "      <th>detroit_lake_inflow</th>\n",
       "      <td>74.452336</td>\n",
       "      <td>41.345937</td>\n",
       "      <td>115.550930</td>\n",
       "      <td>66.460142</td>\n",
       "      <td>0.629167</td>\n",
       "      <td>0.142313</td>\n",
       "    </tr>\n",
       "    <tr>\n",
       "      <th>american_river_folsom_lake</th>\n",
       "      <td>150.862573</td>\n",
       "      <td>76.613561</td>\n",
       "      <td>257.801160</td>\n",
       "      <td>118.172997</td>\n",
       "      <td>0.785714</td>\n",
       "      <td>0.145025</td>\n",
       "    </tr>\n",
       "    <tr>\n",
       "      <th>san_joaquin_river_millerton_reservoir</th>\n",
       "      <td>159.672358</td>\n",
       "      <td>98.146984</td>\n",
       "      <td>276.198299</td>\n",
       "      <td>104.671791</td>\n",
       "      <td>0.746429</td>\n",
       "      <td>0.167203</td>\n",
       "    </tr>\n",
       "    <tr>\n",
       "      <th>boysen_reservoir_inflow</th>\n",
       "      <td>102.031787</td>\n",
       "      <td>56.770034</td>\n",
       "      <td>163.986670</td>\n",
       "      <td>85.338655</td>\n",
       "      <td>0.753571</td>\n",
       "      <td>0.167698</td>\n",
       "    </tr>\n",
       "    <tr>\n",
       "      <th>pueblo_reservoir_inflow</th>\n",
       "      <td>47.189352</td>\n",
       "      <td>16.741391</td>\n",
       "      <td>73.295313</td>\n",
       "      <td>51.531351</td>\n",
       "      <td>0.789286</td>\n",
       "      <td>0.174539</td>\n",
       "    </tr>\n",
       "    <tr>\n",
       "      <th>virgin_r_at_virtin</th>\n",
       "      <td>6.444698</td>\n",
       "      <td>2.961378</td>\n",
       "      <td>10.049535</td>\n",
       "      <td>6.323180</td>\n",
       "      <td>0.821429</td>\n",
       "      <td>0.177843</td>\n",
       "    </tr>\n",
       "    <tr>\n",
       "      <th>owyhee_r_bl_owyhee_dam</th>\n",
       "      <td>50.604261</td>\n",
       "      <td>22.281454</td>\n",
       "      <td>81.198672</td>\n",
       "      <td>48.332657</td>\n",
       "      <td>0.796429</td>\n",
       "      <td>0.195398</td>\n",
       "    </tr>\n",
       "    <tr>\n",
       "      <th>sweetwater_r_nr_alcova</th>\n",
       "      <td>10.963187</td>\n",
       "      <td>4.146698</td>\n",
       "      <td>18.487354</td>\n",
       "      <td>10.255508</td>\n",
       "      <td>0.882143</td>\n",
       "      <td>0.258472</td>\n",
       "    </tr>\n",
       "  </tbody>\n",
       "</table>\n",
       "</div>"
      ],
      "text/plain": [
       "                                               mpl       mpl10       mpl50  \\\n",
       "site_id                                                                      \n",
       "stehekin_r_at_stehekin                   42.141795   29.696864   59.998908   \n",
       "hungry_horse_reservoir_inflow           137.025956   81.777182  215.326614   \n",
       "snake_r_nr_heise                        204.908219  132.718256  336.910906   \n",
       "boise_r_nr_boise                         91.969968   56.925284  144.745782   \n",
       "libby_reservoir_inflow                  464.215596  241.445710  706.261819   \n",
       "weber_r_nr_oakley                         7.935088    4.196735   12.660409   \n",
       "yampa_r_nr_maybell                       76.344874   44.397182  127.644369   \n",
       "skagit_ross_reservoir                   131.351764   68.654821  205.002623   \n",
       "ruedi_reservoir_inflow                   11.358137    6.103665   17.128755   \n",
       "green_r_bl_howard_a_hanson_dam           25.387121   15.229950   41.582463   \n",
       "animas_r_at_durango                      30.118280   16.268144   47.196785   \n",
       "fontenelle_reservoir_inflow              67.862255   38.040035  110.794135   \n",
       "dillon_reservoir_inflow                  14.746297    7.897170   23.787602   \n",
       "missouri_r_at_toston                    198.662286  127.719926  311.486427   \n",
       "merced_river_yosemite_at_pohono_bridge   35.388800   25.108280   55.191386   \n",
       "pecos_r_nr_pecos                          4.465844    2.321368    6.707431   \n",
       "taylor_park_reservoir_inflow             10.269275    6.329075   15.538255   \n",
       "colville_r_at_kettle_falls               17.679065   10.835011   26.925432   \n",
       "detroit_lake_inflow                      74.452336   41.345937  115.550930   \n",
       "american_river_folsom_lake              150.862573   76.613561  257.801160   \n",
       "san_joaquin_river_millerton_reservoir   159.672358   98.146984  276.198299   \n",
       "boysen_reservoir_inflow                 102.031787   56.770034  163.986670   \n",
       "pueblo_reservoir_inflow                  47.189352   16.741391   73.295313   \n",
       "virgin_r_at_virtin                        6.444698    2.961378   10.049535   \n",
       "owyhee_r_bl_owyhee_dam                   50.604261   22.281454   81.198672   \n",
       "sweetwater_r_nr_alcova                   10.963187    4.146698   18.487354   \n",
       "\n",
       "                                             mpl90   int_cvr      nmpl  \n",
       "site_id                                                                 \n",
       "stehekin_r_at_stehekin                   36.729612  0.889286  0.056187  \n",
       "hungry_horse_reservoir_inflow           113.974074  0.792857  0.062042  \n",
       "snake_r_nr_heise                        145.095496  0.771429  0.064697  \n",
       "boise_r_nr_boise                         74.238839  0.853571  0.076185  \n",
       "libby_reservoir_inflow                  444.939259  0.775000  0.081576  \n",
       "weber_r_nr_oakley                         6.948120  0.839286  0.085616  \n",
       "yampa_r_nr_maybell                       56.993070  0.935714  0.091579  \n",
       "skagit_ross_reservoir                   120.397847  0.664286  0.092889  \n",
       "ruedi_reservoir_inflow                   10.841991  0.867857  0.096365  \n",
       "green_r_bl_howard_a_hanson_dam           19.348951  0.750000  0.096887  \n",
       "animas_r_at_durango                      26.889912  0.839286  0.098049  \n",
       "fontenelle_reservoir_inflow              54.752594  0.925000  0.104731  \n",
       "dillon_reservoir_inflow                  12.554118  0.846429  0.105159  \n",
       "missouri_r_at_toston                    156.780504  0.878571  0.107627  \n",
       "merced_river_yosemite_at_pohono_bridge   25.866734  0.814286  0.116155  \n",
       "pecos_r_nr_pecos                          4.368732  0.875000  0.120920  \n",
       "taylor_park_reservoir_inflow              8.940496  0.775000  0.134762  \n",
       "colville_r_at_kettle_falls               15.276751  0.789286  0.138419  \n",
       "detroit_lake_inflow                      66.460142  0.629167  0.142313  \n",
       "american_river_folsom_lake              118.172997  0.785714  0.145025  \n",
       "san_joaquin_river_millerton_reservoir   104.671791  0.746429  0.167203  \n",
       "boysen_reservoir_inflow                  85.338655  0.753571  0.167698  \n",
       "pueblo_reservoir_inflow                  51.531351  0.789286  0.174539  \n",
       "virgin_r_at_virtin                        6.323180  0.821429  0.177843  \n",
       "owyhee_r_bl_owyhee_dam                   48.332657  0.796429  0.195398  \n",
       "sweetwater_r_nr_alcova                   10.255508  0.882143  0.258472  "
      ]
     },
     "execution_count": 14,
     "metadata": {},
     "output_type": "execute_result"
    }
   ],
   "source": [
    "eval_agg(df_pred_val_ens_pp, [\"site_id\"], is_include_mean_std=False).assign(\n",
    "    nmpl = lambda x: x['mpl'] / x['actual_mean']\n",
    ")[['mpl','mpl10','mpl50','mpl90','int_cvr','nmpl']].sort_values(\"nmpl\")"
   ]
  },
  {
   "cell_type": "code",
   "execution_count": 15,
   "metadata": {},
   "outputs": [
    {
     "data": {
      "application/vnd.plotly.v1+json": {
       "config": {
        "plotlyServerURL": "https://plot.ly"
       },
       "data": [
        {
         "alignmentgroup": "True",
         "hovertemplate": "month=%{x}<br>value=%{y}<extra></extra>",
         "legendgroup": "",
         "marker": {
          "color": "#636efa"
         },
         "name": "",
         "notched": false,
         "offsetgroup": "",
         "orientation": "v",
         "showlegend": false,
         "type": "box",
         "x": [
          1,
          2,
          3,
          4,
          5,
          6,
          7,
          1,
          2,
          3,
          4,
          5,
          6,
          7,
          1,
          2,
          3,
          4,
          5,
          6,
          7,
          1,
          2,
          3,
          4,
          5,
          6,
          7,
          1,
          2,
          3,
          4,
          5,
          6,
          7,
          1,
          2,
          3,
          4,
          5,
          6,
          7,
          1,
          2,
          3,
          4,
          5,
          6,
          7,
          1,
          2,
          3,
          4,
          5,
          6,
          7,
          1,
          2,
          3,
          4,
          5,
          6,
          7,
          1,
          2,
          3,
          4,
          5,
          6,
          7
         ],
         "x0": " ",
         "xaxis": "x",
         "y": [
          188.1156781802948,
          172.00944029133848,
          138.18677993477831,
          61.78241440512835,
          49.03882031506668,
          29.94899270295188,
          14.332794063660158,
          154.75653321689444,
          150.57860421306899,
          134.5917779914414,
          92.16536552893206,
          60.29791078772567,
          37.09397173325009,
          25.196131477164425,
          101.56301524192502,
          108.52050044708533,
          94.07388678285935,
          91.68606345987261,
          74.4532657043617,
          58.80728534684939,
          21.16714556715273,
          112.55132515263422,
          105.75720715067602,
          114.23169701501917,
          91.86492547140966,
          60.44253121850943,
          44.78587496610741,
          22.990258449586417,
          214.8541991205209,
          191.01723461738015,
          170.66597131020112,
          115.24100063458407,
          82.04871026631737,
          54.35574579781062,
          27.609783826585755,
          142.49106880453724,
          136.14347208063745,
          77.34486624888494,
          60.827059811928564,
          55.461357936964966,
          35.274171161229,
          18.24093801453321,
          105.65012571757909,
          101.32457128006995,
          89.75907024851078,
          76.37589037289945,
          60.98789705712318,
          45.75397052788384,
          24.296989275979588,
          109.55867205534655,
          112.03524065203891,
          100.52064497278748,
          84.27692834624965,
          82.55851865696496,
          52.257963357168286,
          20.35939639926916,
          91.46046196548446,
          73.19237079953096,
          77.6633234840603,
          62.20385340416694,
          62.83458508601631,
          44.62557138883873,
          15.857900919808651,
          171.30339559972847,
          102.97288499114232,
          75.5779553241763,
          69.78858742024589,
          59.28112224684276,
          43.51461142621073,
          22.088559637387046
         ],
         "y0": " ",
         "yaxis": "y"
        }
       ],
       "layout": {
        "boxmode": "group",
        "legend": {
         "tracegroupgap": 0
        },
        "margin": {
         "t": 60
        },
        "template": {
         "data": {
          "bar": [
           {
            "error_x": {
             "color": "#2a3f5f"
            },
            "error_y": {
             "color": "#2a3f5f"
            },
            "marker": {
             "line": {
              "color": "#E5ECF6",
              "width": 0.5
             },
             "pattern": {
              "fillmode": "overlay",
              "size": 10,
              "solidity": 0.2
             }
            },
            "type": "bar"
           }
          ],
          "barpolar": [
           {
            "marker": {
             "line": {
              "color": "#E5ECF6",
              "width": 0.5
             },
             "pattern": {
              "fillmode": "overlay",
              "size": 10,
              "solidity": 0.2
             }
            },
            "type": "barpolar"
           }
          ],
          "carpet": [
           {
            "aaxis": {
             "endlinecolor": "#2a3f5f",
             "gridcolor": "white",
             "linecolor": "white",
             "minorgridcolor": "white",
             "startlinecolor": "#2a3f5f"
            },
            "baxis": {
             "endlinecolor": "#2a3f5f",
             "gridcolor": "white",
             "linecolor": "white",
             "minorgridcolor": "white",
             "startlinecolor": "#2a3f5f"
            },
            "type": "carpet"
           }
          ],
          "choropleth": [
           {
            "colorbar": {
             "outlinewidth": 0,
             "ticks": ""
            },
            "type": "choropleth"
           }
          ],
          "contour": [
           {
            "colorbar": {
             "outlinewidth": 0,
             "ticks": ""
            },
            "colorscale": [
             [
              0,
              "#0d0887"
             ],
             [
              0.1111111111111111,
              "#46039f"
             ],
             [
              0.2222222222222222,
              "#7201a8"
             ],
             [
              0.3333333333333333,
              "#9c179e"
             ],
             [
              0.4444444444444444,
              "#bd3786"
             ],
             [
              0.5555555555555556,
              "#d8576b"
             ],
             [
              0.6666666666666666,
              "#ed7953"
             ],
             [
              0.7777777777777778,
              "#fb9f3a"
             ],
             [
              0.8888888888888888,
              "#fdca26"
             ],
             [
              1,
              "#f0f921"
             ]
            ],
            "type": "contour"
           }
          ],
          "contourcarpet": [
           {
            "colorbar": {
             "outlinewidth": 0,
             "ticks": ""
            },
            "type": "contourcarpet"
           }
          ],
          "heatmap": [
           {
            "colorbar": {
             "outlinewidth": 0,
             "ticks": ""
            },
            "colorscale": [
             [
              0,
              "#0d0887"
             ],
             [
              0.1111111111111111,
              "#46039f"
             ],
             [
              0.2222222222222222,
              "#7201a8"
             ],
             [
              0.3333333333333333,
              "#9c179e"
             ],
             [
              0.4444444444444444,
              "#bd3786"
             ],
             [
              0.5555555555555556,
              "#d8576b"
             ],
             [
              0.6666666666666666,
              "#ed7953"
             ],
             [
              0.7777777777777778,
              "#fb9f3a"
             ],
             [
              0.8888888888888888,
              "#fdca26"
             ],
             [
              1,
              "#f0f921"
             ]
            ],
            "type": "heatmap"
           }
          ],
          "heatmapgl": [
           {
            "colorbar": {
             "outlinewidth": 0,
             "ticks": ""
            },
            "colorscale": [
             [
              0,
              "#0d0887"
             ],
             [
              0.1111111111111111,
              "#46039f"
             ],
             [
              0.2222222222222222,
              "#7201a8"
             ],
             [
              0.3333333333333333,
              "#9c179e"
             ],
             [
              0.4444444444444444,
              "#bd3786"
             ],
             [
              0.5555555555555556,
              "#d8576b"
             ],
             [
              0.6666666666666666,
              "#ed7953"
             ],
             [
              0.7777777777777778,
              "#fb9f3a"
             ],
             [
              0.8888888888888888,
              "#fdca26"
             ],
             [
              1,
              "#f0f921"
             ]
            ],
            "type": "heatmapgl"
           }
          ],
          "histogram": [
           {
            "marker": {
             "pattern": {
              "fillmode": "overlay",
              "size": 10,
              "solidity": 0.2
             }
            },
            "type": "histogram"
           }
          ],
          "histogram2d": [
           {
            "colorbar": {
             "outlinewidth": 0,
             "ticks": ""
            },
            "colorscale": [
             [
              0,
              "#0d0887"
             ],
             [
              0.1111111111111111,
              "#46039f"
             ],
             [
              0.2222222222222222,
              "#7201a8"
             ],
             [
              0.3333333333333333,
              "#9c179e"
             ],
             [
              0.4444444444444444,
              "#bd3786"
             ],
             [
              0.5555555555555556,
              "#d8576b"
             ],
             [
              0.6666666666666666,
              "#ed7953"
             ],
             [
              0.7777777777777778,
              "#fb9f3a"
             ],
             [
              0.8888888888888888,
              "#fdca26"
             ],
             [
              1,
              "#f0f921"
             ]
            ],
            "type": "histogram2d"
           }
          ],
          "histogram2dcontour": [
           {
            "colorbar": {
             "outlinewidth": 0,
             "ticks": ""
            },
            "colorscale": [
             [
              0,
              "#0d0887"
             ],
             [
              0.1111111111111111,
              "#46039f"
             ],
             [
              0.2222222222222222,
              "#7201a8"
             ],
             [
              0.3333333333333333,
              "#9c179e"
             ],
             [
              0.4444444444444444,
              "#bd3786"
             ],
             [
              0.5555555555555556,
              "#d8576b"
             ],
             [
              0.6666666666666666,
              "#ed7953"
             ],
             [
              0.7777777777777778,
              "#fb9f3a"
             ],
             [
              0.8888888888888888,
              "#fdca26"
             ],
             [
              1,
              "#f0f921"
             ]
            ],
            "type": "histogram2dcontour"
           }
          ],
          "mesh3d": [
           {
            "colorbar": {
             "outlinewidth": 0,
             "ticks": ""
            },
            "type": "mesh3d"
           }
          ],
          "parcoords": [
           {
            "line": {
             "colorbar": {
              "outlinewidth": 0,
              "ticks": ""
             }
            },
            "type": "parcoords"
           }
          ],
          "pie": [
           {
            "automargin": true,
            "type": "pie"
           }
          ],
          "scatter": [
           {
            "fillpattern": {
             "fillmode": "overlay",
             "size": 10,
             "solidity": 0.2
            },
            "type": "scatter"
           }
          ],
          "scatter3d": [
           {
            "line": {
             "colorbar": {
              "outlinewidth": 0,
              "ticks": ""
             }
            },
            "marker": {
             "colorbar": {
              "outlinewidth": 0,
              "ticks": ""
             }
            },
            "type": "scatter3d"
           }
          ],
          "scattercarpet": [
           {
            "marker": {
             "colorbar": {
              "outlinewidth": 0,
              "ticks": ""
             }
            },
            "type": "scattercarpet"
           }
          ],
          "scattergeo": [
           {
            "marker": {
             "colorbar": {
              "outlinewidth": 0,
              "ticks": ""
             }
            },
            "type": "scattergeo"
           }
          ],
          "scattergl": [
           {
            "marker": {
             "colorbar": {
              "outlinewidth": 0,
              "ticks": ""
             }
            },
            "type": "scattergl"
           }
          ],
          "scattermapbox": [
           {
            "marker": {
             "colorbar": {
              "outlinewidth": 0,
              "ticks": ""
             }
            },
            "type": "scattermapbox"
           }
          ],
          "scatterpolar": [
           {
            "marker": {
             "colorbar": {
              "outlinewidth": 0,
              "ticks": ""
             }
            },
            "type": "scatterpolar"
           }
          ],
          "scatterpolargl": [
           {
            "marker": {
             "colorbar": {
              "outlinewidth": 0,
              "ticks": ""
             }
            },
            "type": "scatterpolargl"
           }
          ],
          "scatterternary": [
           {
            "marker": {
             "colorbar": {
              "outlinewidth": 0,
              "ticks": ""
             }
            },
            "type": "scatterternary"
           }
          ],
          "surface": [
           {
            "colorbar": {
             "outlinewidth": 0,
             "ticks": ""
            },
            "colorscale": [
             [
              0,
              "#0d0887"
             ],
             [
              0.1111111111111111,
              "#46039f"
             ],
             [
              0.2222222222222222,
              "#7201a8"
             ],
             [
              0.3333333333333333,
              "#9c179e"
             ],
             [
              0.4444444444444444,
              "#bd3786"
             ],
             [
              0.5555555555555556,
              "#d8576b"
             ],
             [
              0.6666666666666666,
              "#ed7953"
             ],
             [
              0.7777777777777778,
              "#fb9f3a"
             ],
             [
              0.8888888888888888,
              "#fdca26"
             ],
             [
              1,
              "#f0f921"
             ]
            ],
            "type": "surface"
           }
          ],
          "table": [
           {
            "cells": {
             "fill": {
              "color": "#EBF0F8"
             },
             "line": {
              "color": "white"
             }
            },
            "header": {
             "fill": {
              "color": "#C8D4E3"
             },
             "line": {
              "color": "white"
             }
            },
            "type": "table"
           }
          ]
         },
         "layout": {
          "annotationdefaults": {
           "arrowcolor": "#2a3f5f",
           "arrowhead": 0,
           "arrowwidth": 1
          },
          "autotypenumbers": "strict",
          "coloraxis": {
           "colorbar": {
            "outlinewidth": 0,
            "ticks": ""
           }
          },
          "colorscale": {
           "diverging": [
            [
             0,
             "#8e0152"
            ],
            [
             0.1,
             "#c51b7d"
            ],
            [
             0.2,
             "#de77ae"
            ],
            [
             0.3,
             "#f1b6da"
            ],
            [
             0.4,
             "#fde0ef"
            ],
            [
             0.5,
             "#f7f7f7"
            ],
            [
             0.6,
             "#e6f5d0"
            ],
            [
             0.7,
             "#b8e186"
            ],
            [
             0.8,
             "#7fbc41"
            ],
            [
             0.9,
             "#4d9221"
            ],
            [
             1,
             "#276419"
            ]
           ],
           "sequential": [
            [
             0,
             "#0d0887"
            ],
            [
             0.1111111111111111,
             "#46039f"
            ],
            [
             0.2222222222222222,
             "#7201a8"
            ],
            [
             0.3333333333333333,
             "#9c179e"
            ],
            [
             0.4444444444444444,
             "#bd3786"
            ],
            [
             0.5555555555555556,
             "#d8576b"
            ],
            [
             0.6666666666666666,
             "#ed7953"
            ],
            [
             0.7777777777777778,
             "#fb9f3a"
            ],
            [
             0.8888888888888888,
             "#fdca26"
            ],
            [
             1,
             "#f0f921"
            ]
           ],
           "sequentialminus": [
            [
             0,
             "#0d0887"
            ],
            [
             0.1111111111111111,
             "#46039f"
            ],
            [
             0.2222222222222222,
             "#7201a8"
            ],
            [
             0.3333333333333333,
             "#9c179e"
            ],
            [
             0.4444444444444444,
             "#bd3786"
            ],
            [
             0.5555555555555556,
             "#d8576b"
            ],
            [
             0.6666666666666666,
             "#ed7953"
            ],
            [
             0.7777777777777778,
             "#fb9f3a"
            ],
            [
             0.8888888888888888,
             "#fdca26"
            ],
            [
             1,
             "#f0f921"
            ]
           ]
          },
          "colorway": [
           "#636efa",
           "#EF553B",
           "#00cc96",
           "#ab63fa",
           "#FFA15A",
           "#19d3f3",
           "#FF6692",
           "#B6E880",
           "#FF97FF",
           "#FECB52"
          ],
          "font": {
           "color": "#2a3f5f"
          },
          "geo": {
           "bgcolor": "white",
           "lakecolor": "white",
           "landcolor": "#E5ECF6",
           "showlakes": true,
           "showland": true,
           "subunitcolor": "white"
          },
          "hoverlabel": {
           "align": "left"
          },
          "hovermode": "closest",
          "mapbox": {
           "style": "light"
          },
          "paper_bgcolor": "white",
          "plot_bgcolor": "#E5ECF6",
          "polar": {
           "angularaxis": {
            "gridcolor": "white",
            "linecolor": "white",
            "ticks": ""
           },
           "bgcolor": "#E5ECF6",
           "radialaxis": {
            "gridcolor": "white",
            "linecolor": "white",
            "ticks": ""
           }
          },
          "scene": {
           "xaxis": {
            "backgroundcolor": "#E5ECF6",
            "gridcolor": "white",
            "gridwidth": 2,
            "linecolor": "white",
            "showbackground": true,
            "ticks": "",
            "zerolinecolor": "white"
           },
           "yaxis": {
            "backgroundcolor": "#E5ECF6",
            "gridcolor": "white",
            "gridwidth": 2,
            "linecolor": "white",
            "showbackground": true,
            "ticks": "",
            "zerolinecolor": "white"
           },
           "zaxis": {
            "backgroundcolor": "#E5ECF6",
            "gridcolor": "white",
            "gridwidth": 2,
            "linecolor": "white",
            "showbackground": true,
            "ticks": "",
            "zerolinecolor": "white"
           }
          },
          "shapedefaults": {
           "line": {
            "color": "#2a3f5f"
           }
          },
          "ternary": {
           "aaxis": {
            "gridcolor": "white",
            "linecolor": "white",
            "ticks": ""
           },
           "baxis": {
            "gridcolor": "white",
            "linecolor": "white",
            "ticks": ""
           },
           "bgcolor": "#E5ECF6",
           "caxis": {
            "gridcolor": "white",
            "linecolor": "white",
            "ticks": ""
           }
          },
          "title": {
           "x": 0.05
          },
          "xaxis": {
           "automargin": true,
           "gridcolor": "white",
           "linecolor": "white",
           "ticks": "",
           "title": {
            "standoff": 15
           },
           "zerolinecolor": "white",
           "zerolinewidth": 2
          },
          "yaxis": {
           "automargin": true,
           "gridcolor": "white",
           "linecolor": "white",
           "ticks": "",
           "title": {
            "standoff": 15
           },
           "zerolinecolor": "white",
           "zerolinewidth": 2
          }
         }
        },
        "xaxis": {
         "anchor": "y",
         "domain": [
          0,
          1
         ],
         "title": {
          "text": "month"
         }
        },
        "yaxis": {
         "anchor": "x",
         "domain": [
          0,
          1
         ],
         "title": {
          "text": "value"
         }
        }
       }
      }
     },
     "metadata": {},
     "output_type": "display_data"
    }
   ],
   "source": [
    "px.box(\n",
    "    eval_agg(df_pred_val_ens, [\"year\",\"month\"]).reset_index(),\n",
    "    x='month',\n",
    "    y=['mpl']\n",
    ")"
   ]
  },
  {
   "cell_type": "code",
   "execution_count": 16,
   "metadata": {},
   "outputs": [
    {
     "data": {
      "application/vnd.plotly.v1+json": {
       "config": {
        "plotlyServerURL": "https://plot.ly"
       },
       "data": [
        {
         "hovertemplate": "variable=mpl<br>md_id=%{x}<br>value=%{y}<extra></extra>",
         "legendgroup": "mpl",
         "line": {
          "color": "#636efa",
          "dash": "solid"
         },
         "marker": {
          "symbol": "circle"
         },
         "mode": "lines",
         "name": "mpl",
         "orientation": "v",
         "showlegend": true,
         "type": "scatter",
         "x": [
          0,
          1,
          2,
          3,
          4,
          5,
          6,
          7,
          8,
          9,
          10,
          11,
          12,
          13,
          14,
          15,
          16,
          17,
          18,
          19,
          20,
          21,
          22,
          23,
          24,
          25,
          26,
          27
         ],
         "xaxis": "x",
         "y": [
          142.83859731800035,
          148.87642472207642,
          136.0824032610851,
          129.12436472081617,
          131.65197501720937,
          130.06852807893154,
          122.1536920340127,
          117.5464154790338,
          113.25948969557373,
          111.26069458384966,
          106.2218824113225,
          98.30432263434177,
          89.3788476089477,
          80.71051126682251,
          76.65042167029227,
          75.74505499610441,
          68.82643746178023,
          64.81743305224204,
          62.840491418834425,
          62.477525777500524,
          49.2716886050446,
          44.45029594623113,
          43.85455892020016,
          40.9907198918441,
          23.078221493236395,
          20.120406600913565,
          20.26773041891418,
          21.389600539386723
         ],
         "yaxis": "y"
        },
        {
         "hovertemplate": "variable=mpl10<br>md_id=%{x}<br>value=%{y}<extra></extra>",
         "legendgroup": "mpl10",
         "line": {
          "color": "#EF553B",
          "dash": "solid"
         },
         "marker": {
          "symbol": "circle"
         },
         "mode": "lines",
         "name": "mpl10",
         "orientation": "v",
         "showlegend": true,
         "type": "scatter",
         "x": [
          0,
          1,
          2,
          3,
          4,
          5,
          6,
          7,
          8,
          9,
          10,
          11,
          12,
          13,
          14,
          15,
          16,
          17,
          18,
          19,
          20,
          21,
          22,
          23,
          24,
          25,
          26,
          27
         ],
         "xaxis": "x",
         "y": [
          82.23984024574753,
          85.92187948323365,
          76.27226433071786,
          68.39715848531053,
          68.76345435350024,
          65.83351113312182,
          63.64100679912542,
          65.51167346288038,
          63.63727243134795,
          63.930087011246776,
          59.001395345704914,
          54.14184024961007,
          50.809696381742505,
          46.64235399816739,
          45.21534643105219,
          45.87745790938463,
          41.200263311753936,
          40.774605200984375,
          40.260343215437764,
          41.28139215894648,
          30.713417730211347,
          28.364494413956706,
          26.005576198379146,
          23.394622882398505,
          12.394475880088688,
          12.322700058882033,
          12.496227233804788,
          12.975464333515584
         ],
         "yaxis": "y"
        },
        {
         "hovertemplate": "variable=mpl50<br>md_id=%{x}<br>value=%{y}<extra></extra>",
         "legendgroup": "mpl50",
         "line": {
          "color": "#00cc96",
          "dash": "solid"
         },
         "marker": {
          "symbol": "circle"
         },
         "mode": "lines",
         "name": "mpl50",
         "orientation": "v",
         "showlegend": true,
         "type": "scatter",
         "x": [
          0,
          1,
          2,
          3,
          4,
          5,
          6,
          7,
          8,
          9,
          10,
          11,
          12,
          13,
          14,
          15,
          16,
          17,
          18,
          19,
          20,
          21,
          22,
          23,
          24,
          25,
          26,
          27
         ],
         "xaxis": "x",
         "y": [
          231.43692927789414,
          236.679406568399,
          214.46008697593035,
          205.73792031371542,
          211.8867660715055,
          211.90975876071005,
          197.7458844552215,
          188.3488925226669,
          181.38568521818485,
          177.11034334553844,
          171.94834840688415,
          157.4528789810703,
          142.5848929341613,
          127.22751671956665,
          119.05632118183871,
          115.06484237112844,
          106.61014698922267,
          98.42824379893058,
          97.3362300209467,
          98.68283359031182,
          77.22830406637361,
          71.03856944137809,
          69.4576063839778,
          66.05581863475894,
          36.717784464350835,
          32.03858371955328,
          32.01903910104595,
          34.17431463969559
         ],
         "yaxis": "y"
        },
        {
         "hovertemplate": "variable=mpl90<br>md_id=%{x}<br>value=%{y}<extra></extra>",
         "legendgroup": "mpl90",
         "line": {
          "color": "#ab63fa",
          "dash": "solid"
         },
         "marker": {
          "symbol": "circle"
         },
         "mode": "lines",
         "name": "mpl90",
         "orientation": "v",
         "showlegend": true,
         "type": "scatter",
         "x": [
          0,
          1,
          2,
          3,
          4,
          5,
          6,
          7,
          8,
          9,
          10,
          11,
          12,
          13,
          14,
          15,
          16,
          17,
          18,
          19,
          20,
          21,
          22,
          23,
          24,
          25,
          26,
          27
         ],
         "xaxis": "x",
         "y": [
          114.8390224303594,
          124.02798811459661,
          117.51485847660712,
          113.23801536342256,
          114.3057046266224,
          112.46231434296269,
          105.07418484769123,
          98.77868045155412,
          94.75551143718839,
          92.74165339476372,
          87.71590348137843,
          83.31824867234494,
          74.74195351093927,
          68.2616630827335,
          65.67959739798593,
          66.29286470780019,
          58.66890208436409,
          55.24945015681114,
          50.9249010201188,
          47.46835158324328,
          39.87334401854885,
          33.94782398335858,
          36.10049417824353,
          33.52171815837487,
          20.122404135269658,
          15.999936024305375,
          16.287924921891797,
          17.019022644949008
         ],
         "yaxis": "y"
        }
       ],
       "layout": {
        "legend": {
         "title": {
          "text": "variable"
         },
         "tracegroupgap": 0
        },
        "margin": {
         "t": 60
        },
        "template": {
         "data": {
          "bar": [
           {
            "error_x": {
             "color": "#2a3f5f"
            },
            "error_y": {
             "color": "#2a3f5f"
            },
            "marker": {
             "line": {
              "color": "#E5ECF6",
              "width": 0.5
             },
             "pattern": {
              "fillmode": "overlay",
              "size": 10,
              "solidity": 0.2
             }
            },
            "type": "bar"
           }
          ],
          "barpolar": [
           {
            "marker": {
             "line": {
              "color": "#E5ECF6",
              "width": 0.5
             },
             "pattern": {
              "fillmode": "overlay",
              "size": 10,
              "solidity": 0.2
             }
            },
            "type": "barpolar"
           }
          ],
          "carpet": [
           {
            "aaxis": {
             "endlinecolor": "#2a3f5f",
             "gridcolor": "white",
             "linecolor": "white",
             "minorgridcolor": "white",
             "startlinecolor": "#2a3f5f"
            },
            "baxis": {
             "endlinecolor": "#2a3f5f",
             "gridcolor": "white",
             "linecolor": "white",
             "minorgridcolor": "white",
             "startlinecolor": "#2a3f5f"
            },
            "type": "carpet"
           }
          ],
          "choropleth": [
           {
            "colorbar": {
             "outlinewidth": 0,
             "ticks": ""
            },
            "type": "choropleth"
           }
          ],
          "contour": [
           {
            "colorbar": {
             "outlinewidth": 0,
             "ticks": ""
            },
            "colorscale": [
             [
              0,
              "#0d0887"
             ],
             [
              0.1111111111111111,
              "#46039f"
             ],
             [
              0.2222222222222222,
              "#7201a8"
             ],
             [
              0.3333333333333333,
              "#9c179e"
             ],
             [
              0.4444444444444444,
              "#bd3786"
             ],
             [
              0.5555555555555556,
              "#d8576b"
             ],
             [
              0.6666666666666666,
              "#ed7953"
             ],
             [
              0.7777777777777778,
              "#fb9f3a"
             ],
             [
              0.8888888888888888,
              "#fdca26"
             ],
             [
              1,
              "#f0f921"
             ]
            ],
            "type": "contour"
           }
          ],
          "contourcarpet": [
           {
            "colorbar": {
             "outlinewidth": 0,
             "ticks": ""
            },
            "type": "contourcarpet"
           }
          ],
          "heatmap": [
           {
            "colorbar": {
             "outlinewidth": 0,
             "ticks": ""
            },
            "colorscale": [
             [
              0,
              "#0d0887"
             ],
             [
              0.1111111111111111,
              "#46039f"
             ],
             [
              0.2222222222222222,
              "#7201a8"
             ],
             [
              0.3333333333333333,
              "#9c179e"
             ],
             [
              0.4444444444444444,
              "#bd3786"
             ],
             [
              0.5555555555555556,
              "#d8576b"
             ],
             [
              0.6666666666666666,
              "#ed7953"
             ],
             [
              0.7777777777777778,
              "#fb9f3a"
             ],
             [
              0.8888888888888888,
              "#fdca26"
             ],
             [
              1,
              "#f0f921"
             ]
            ],
            "type": "heatmap"
           }
          ],
          "heatmapgl": [
           {
            "colorbar": {
             "outlinewidth": 0,
             "ticks": ""
            },
            "colorscale": [
             [
              0,
              "#0d0887"
             ],
             [
              0.1111111111111111,
              "#46039f"
             ],
             [
              0.2222222222222222,
              "#7201a8"
             ],
             [
              0.3333333333333333,
              "#9c179e"
             ],
             [
              0.4444444444444444,
              "#bd3786"
             ],
             [
              0.5555555555555556,
              "#d8576b"
             ],
             [
              0.6666666666666666,
              "#ed7953"
             ],
             [
              0.7777777777777778,
              "#fb9f3a"
             ],
             [
              0.8888888888888888,
              "#fdca26"
             ],
             [
              1,
              "#f0f921"
             ]
            ],
            "type": "heatmapgl"
           }
          ],
          "histogram": [
           {
            "marker": {
             "pattern": {
              "fillmode": "overlay",
              "size": 10,
              "solidity": 0.2
             }
            },
            "type": "histogram"
           }
          ],
          "histogram2d": [
           {
            "colorbar": {
             "outlinewidth": 0,
             "ticks": ""
            },
            "colorscale": [
             [
              0,
              "#0d0887"
             ],
             [
              0.1111111111111111,
              "#46039f"
             ],
             [
              0.2222222222222222,
              "#7201a8"
             ],
             [
              0.3333333333333333,
              "#9c179e"
             ],
             [
              0.4444444444444444,
              "#bd3786"
             ],
             [
              0.5555555555555556,
              "#d8576b"
             ],
             [
              0.6666666666666666,
              "#ed7953"
             ],
             [
              0.7777777777777778,
              "#fb9f3a"
             ],
             [
              0.8888888888888888,
              "#fdca26"
             ],
             [
              1,
              "#f0f921"
             ]
            ],
            "type": "histogram2d"
           }
          ],
          "histogram2dcontour": [
           {
            "colorbar": {
             "outlinewidth": 0,
             "ticks": ""
            },
            "colorscale": [
             [
              0,
              "#0d0887"
             ],
             [
              0.1111111111111111,
              "#46039f"
             ],
             [
              0.2222222222222222,
              "#7201a8"
             ],
             [
              0.3333333333333333,
              "#9c179e"
             ],
             [
              0.4444444444444444,
              "#bd3786"
             ],
             [
              0.5555555555555556,
              "#d8576b"
             ],
             [
              0.6666666666666666,
              "#ed7953"
             ],
             [
              0.7777777777777778,
              "#fb9f3a"
             ],
             [
              0.8888888888888888,
              "#fdca26"
             ],
             [
              1,
              "#f0f921"
             ]
            ],
            "type": "histogram2dcontour"
           }
          ],
          "mesh3d": [
           {
            "colorbar": {
             "outlinewidth": 0,
             "ticks": ""
            },
            "type": "mesh3d"
           }
          ],
          "parcoords": [
           {
            "line": {
             "colorbar": {
              "outlinewidth": 0,
              "ticks": ""
             }
            },
            "type": "parcoords"
           }
          ],
          "pie": [
           {
            "automargin": true,
            "type": "pie"
           }
          ],
          "scatter": [
           {
            "fillpattern": {
             "fillmode": "overlay",
             "size": 10,
             "solidity": 0.2
            },
            "type": "scatter"
           }
          ],
          "scatter3d": [
           {
            "line": {
             "colorbar": {
              "outlinewidth": 0,
              "ticks": ""
             }
            },
            "marker": {
             "colorbar": {
              "outlinewidth": 0,
              "ticks": ""
             }
            },
            "type": "scatter3d"
           }
          ],
          "scattercarpet": [
           {
            "marker": {
             "colorbar": {
              "outlinewidth": 0,
              "ticks": ""
             }
            },
            "type": "scattercarpet"
           }
          ],
          "scattergeo": [
           {
            "marker": {
             "colorbar": {
              "outlinewidth": 0,
              "ticks": ""
             }
            },
            "type": "scattergeo"
           }
          ],
          "scattergl": [
           {
            "marker": {
             "colorbar": {
              "outlinewidth": 0,
              "ticks": ""
             }
            },
            "type": "scattergl"
           }
          ],
          "scattermapbox": [
           {
            "marker": {
             "colorbar": {
              "outlinewidth": 0,
              "ticks": ""
             }
            },
            "type": "scattermapbox"
           }
          ],
          "scatterpolar": [
           {
            "marker": {
             "colorbar": {
              "outlinewidth": 0,
              "ticks": ""
             }
            },
            "type": "scatterpolar"
           }
          ],
          "scatterpolargl": [
           {
            "marker": {
             "colorbar": {
              "outlinewidth": 0,
              "ticks": ""
             }
            },
            "type": "scatterpolargl"
           }
          ],
          "scatterternary": [
           {
            "marker": {
             "colorbar": {
              "outlinewidth": 0,
              "ticks": ""
             }
            },
            "type": "scatterternary"
           }
          ],
          "surface": [
           {
            "colorbar": {
             "outlinewidth": 0,
             "ticks": ""
            },
            "colorscale": [
             [
              0,
              "#0d0887"
             ],
             [
              0.1111111111111111,
              "#46039f"
             ],
             [
              0.2222222222222222,
              "#7201a8"
             ],
             [
              0.3333333333333333,
              "#9c179e"
             ],
             [
              0.4444444444444444,
              "#bd3786"
             ],
             [
              0.5555555555555556,
              "#d8576b"
             ],
             [
              0.6666666666666666,
              "#ed7953"
             ],
             [
              0.7777777777777778,
              "#fb9f3a"
             ],
             [
              0.8888888888888888,
              "#fdca26"
             ],
             [
              1,
              "#f0f921"
             ]
            ],
            "type": "surface"
           }
          ],
          "table": [
           {
            "cells": {
             "fill": {
              "color": "#EBF0F8"
             },
             "line": {
              "color": "white"
             }
            },
            "header": {
             "fill": {
              "color": "#C8D4E3"
             },
             "line": {
              "color": "white"
             }
            },
            "type": "table"
           }
          ]
         },
         "layout": {
          "annotationdefaults": {
           "arrowcolor": "#2a3f5f",
           "arrowhead": 0,
           "arrowwidth": 1
          },
          "autotypenumbers": "strict",
          "coloraxis": {
           "colorbar": {
            "outlinewidth": 0,
            "ticks": ""
           }
          },
          "colorscale": {
           "diverging": [
            [
             0,
             "#8e0152"
            ],
            [
             0.1,
             "#c51b7d"
            ],
            [
             0.2,
             "#de77ae"
            ],
            [
             0.3,
             "#f1b6da"
            ],
            [
             0.4,
             "#fde0ef"
            ],
            [
             0.5,
             "#f7f7f7"
            ],
            [
             0.6,
             "#e6f5d0"
            ],
            [
             0.7,
             "#b8e186"
            ],
            [
             0.8,
             "#7fbc41"
            ],
            [
             0.9,
             "#4d9221"
            ],
            [
             1,
             "#276419"
            ]
           ],
           "sequential": [
            [
             0,
             "#0d0887"
            ],
            [
             0.1111111111111111,
             "#46039f"
            ],
            [
             0.2222222222222222,
             "#7201a8"
            ],
            [
             0.3333333333333333,
             "#9c179e"
            ],
            [
             0.4444444444444444,
             "#bd3786"
            ],
            [
             0.5555555555555556,
             "#d8576b"
            ],
            [
             0.6666666666666666,
             "#ed7953"
            ],
            [
             0.7777777777777778,
             "#fb9f3a"
            ],
            [
             0.8888888888888888,
             "#fdca26"
            ],
            [
             1,
             "#f0f921"
            ]
           ],
           "sequentialminus": [
            [
             0,
             "#0d0887"
            ],
            [
             0.1111111111111111,
             "#46039f"
            ],
            [
             0.2222222222222222,
             "#7201a8"
            ],
            [
             0.3333333333333333,
             "#9c179e"
            ],
            [
             0.4444444444444444,
             "#bd3786"
            ],
            [
             0.5555555555555556,
             "#d8576b"
            ],
            [
             0.6666666666666666,
             "#ed7953"
            ],
            [
             0.7777777777777778,
             "#fb9f3a"
            ],
            [
             0.8888888888888888,
             "#fdca26"
            ],
            [
             1,
             "#f0f921"
            ]
           ]
          },
          "colorway": [
           "#636efa",
           "#EF553B",
           "#00cc96",
           "#ab63fa",
           "#FFA15A",
           "#19d3f3",
           "#FF6692",
           "#B6E880",
           "#FF97FF",
           "#FECB52"
          ],
          "font": {
           "color": "#2a3f5f"
          },
          "geo": {
           "bgcolor": "white",
           "lakecolor": "white",
           "landcolor": "#E5ECF6",
           "showlakes": true,
           "showland": true,
           "subunitcolor": "white"
          },
          "hoverlabel": {
           "align": "left"
          },
          "hovermode": "closest",
          "mapbox": {
           "style": "light"
          },
          "paper_bgcolor": "white",
          "plot_bgcolor": "#E5ECF6",
          "polar": {
           "angularaxis": {
            "gridcolor": "white",
            "linecolor": "white",
            "ticks": ""
           },
           "bgcolor": "#E5ECF6",
           "radialaxis": {
            "gridcolor": "white",
            "linecolor": "white",
            "ticks": ""
           }
          },
          "scene": {
           "xaxis": {
            "backgroundcolor": "#E5ECF6",
            "gridcolor": "white",
            "gridwidth": 2,
            "linecolor": "white",
            "showbackground": true,
            "ticks": "",
            "zerolinecolor": "white"
           },
           "yaxis": {
            "backgroundcolor": "#E5ECF6",
            "gridcolor": "white",
            "gridwidth": 2,
            "linecolor": "white",
            "showbackground": true,
            "ticks": "",
            "zerolinecolor": "white"
           },
           "zaxis": {
            "backgroundcolor": "#E5ECF6",
            "gridcolor": "white",
            "gridwidth": 2,
            "linecolor": "white",
            "showbackground": true,
            "ticks": "",
            "zerolinecolor": "white"
           }
          },
          "shapedefaults": {
           "line": {
            "color": "#2a3f5f"
           }
          },
          "ternary": {
           "aaxis": {
            "gridcolor": "white",
            "linecolor": "white",
            "ticks": ""
           },
           "baxis": {
            "gridcolor": "white",
            "linecolor": "white",
            "ticks": ""
           },
           "bgcolor": "#E5ECF6",
           "caxis": {
            "gridcolor": "white",
            "linecolor": "white",
            "ticks": ""
           }
          },
          "title": {
           "x": 0.05
          },
          "xaxis": {
           "automargin": true,
           "gridcolor": "white",
           "linecolor": "white",
           "ticks": "",
           "title": {
            "standoff": 15
           },
           "zerolinecolor": "white",
           "zerolinewidth": 2
          },
          "yaxis": {
           "automargin": true,
           "gridcolor": "white",
           "linecolor": "white",
           "ticks": "",
           "title": {
            "standoff": 15
           },
           "zerolinecolor": "white",
           "zerolinewidth": 2
          }
         }
        },
        "xaxis": {
         "anchor": "y",
         "domain": [
          0,
          1
         ],
         "title": {
          "text": "md_id"
         }
        },
        "yaxis": {
         "anchor": "x",
         "domain": [
          0,
          1
         ],
         "title": {
          "text": "value"
         }
        }
       }
      }
     },
     "metadata": {},
     "output_type": "display_data"
    }
   ],
   "source": [
    "px.line(\n",
    "    eval_agg(df_pred_val_ens, [\"md_id\"]).reset_index(),\n",
    "    x='md_id',\n",
    "    y=['mpl','mpl10','mpl50','mpl90']\n",
    ")"
   ]
  },
  {
   "cell_type": "code",
   "execution_count": 17,
   "metadata": {},
   "outputs": [
    {
     "data": {
      "text/html": [
       "<div>\n",
       "<style scoped>\n",
       "    .dataframe tbody tr th:only-of-type {\n",
       "        vertical-align: middle;\n",
       "    }\n",
       "\n",
       "    .dataframe tbody tr th {\n",
       "        vertical-align: top;\n",
       "    }\n",
       "\n",
       "    .dataframe thead th {\n",
       "        text-align: right;\n",
       "    }\n",
       "</style>\n",
       "<table border=\"1\" class=\"dataframe\">\n",
       "  <thead>\n",
       "    <tr style=\"text-align: right;\">\n",
       "      <th></th>\n",
       "      <th>site_id</th>\n",
       "      <th>issue_date</th>\n",
       "      <th>volume_10</th>\n",
       "      <th>volume_50</th>\n",
       "      <th>volume_90</th>\n",
       "    </tr>\n",
       "  </thead>\n",
       "  <tbody>\n",
       "    <tr>\n",
       "      <th>0</th>\n",
       "      <td>hungry_horse_reservoir_inflow</td>\n",
       "      <td>2005-01-01</td>\n",
       "      <td>1260.112135</td>\n",
       "      <td>1793.995062</td>\n",
       "      <td>2318.676400</td>\n",
       "    </tr>\n",
       "    <tr>\n",
       "      <th>1</th>\n",
       "      <td>hungry_horse_reservoir_inflow</td>\n",
       "      <td>2005-01-08</td>\n",
       "      <td>1215.480662</td>\n",
       "      <td>1683.195117</td>\n",
       "      <td>2159.865551</td>\n",
       "    </tr>\n",
       "    <tr>\n",
       "      <th>2</th>\n",
       "      <td>hungry_horse_reservoir_inflow</td>\n",
       "      <td>2005-01-15</td>\n",
       "      <td>1292.345248</td>\n",
       "      <td>1679.669768</td>\n",
       "      <td>2032.373531</td>\n",
       "    </tr>\n",
       "    <tr>\n",
       "      <th>3</th>\n",
       "      <td>hungry_horse_reservoir_inflow</td>\n",
       "      <td>2005-01-22</td>\n",
       "      <td>1344.939706</td>\n",
       "      <td>1666.955377</td>\n",
       "      <td>1972.403307</td>\n",
       "    </tr>\n",
       "    <tr>\n",
       "      <th>4</th>\n",
       "      <td>hungry_horse_reservoir_inflow</td>\n",
       "      <td>2005-02-01</td>\n",
       "      <td>1143.127932</td>\n",
       "      <td>1487.324787</td>\n",
       "      <td>1864.247985</td>\n",
       "    </tr>\n",
       "    <tr>\n",
       "      <th>...</th>\n",
       "      <td>...</td>\n",
       "      <td>...</td>\n",
       "      <td>...</td>\n",
       "      <td>...</td>\n",
       "      <td>...</td>\n",
       "    </tr>\n",
       "    <tr>\n",
       "      <th>7235</th>\n",
       "      <td>owyhee_r_bl_owyhee_dam</td>\n",
       "      <td>2023-06-22</td>\n",
       "      <td>479.469397</td>\n",
       "      <td>522.073457</td>\n",
       "      <td>504.796418</td>\n",
       "    </tr>\n",
       "    <tr>\n",
       "      <th>7236</th>\n",
       "      <td>owyhee_r_bl_owyhee_dam</td>\n",
       "      <td>2023-07-01</td>\n",
       "      <td>515.715487</td>\n",
       "      <td>523.833327</td>\n",
       "      <td>534.240828</td>\n",
       "    </tr>\n",
       "    <tr>\n",
       "      <th>7237</th>\n",
       "      <td>owyhee_r_bl_owyhee_dam</td>\n",
       "      <td>2023-07-08</td>\n",
       "      <td>515.715487</td>\n",
       "      <td>523.833327</td>\n",
       "      <td>533.949848</td>\n",
       "    </tr>\n",
       "    <tr>\n",
       "      <th>7238</th>\n",
       "      <td>owyhee_r_bl_owyhee_dam</td>\n",
       "      <td>2023-07-15</td>\n",
       "      <td>515.715487</td>\n",
       "      <td>523.833327</td>\n",
       "      <td>534.816393</td>\n",
       "    </tr>\n",
       "    <tr>\n",
       "      <th>7239</th>\n",
       "      <td>owyhee_r_bl_owyhee_dam</td>\n",
       "      <td>2023-07-22</td>\n",
       "      <td>515.715487</td>\n",
       "      <td>523.833327</td>\n",
       "      <td>534.844385</td>\n",
       "    </tr>\n",
       "  </tbody>\n",
       "</table>\n",
       "<p>7240 rows × 5 columns</p>\n",
       "</div>"
      ],
      "text/plain": [
       "                            site_id  issue_date    volume_10    volume_50  \\\n",
       "0     hungry_horse_reservoir_inflow  2005-01-01  1260.112135  1793.995062   \n",
       "1     hungry_horse_reservoir_inflow  2005-01-08  1215.480662  1683.195117   \n",
       "2     hungry_horse_reservoir_inflow  2005-01-15  1292.345248  1679.669768   \n",
       "3     hungry_horse_reservoir_inflow  2005-01-22  1344.939706  1666.955377   \n",
       "4     hungry_horse_reservoir_inflow  2005-02-01  1143.127932  1487.324787   \n",
       "...                             ...         ...          ...          ...   \n",
       "7235         owyhee_r_bl_owyhee_dam  2023-06-22   479.469397   522.073457   \n",
       "7236         owyhee_r_bl_owyhee_dam  2023-07-01   515.715487   523.833327   \n",
       "7237         owyhee_r_bl_owyhee_dam  2023-07-08   515.715487   523.833327   \n",
       "7238         owyhee_r_bl_owyhee_dam  2023-07-15   515.715487   523.833327   \n",
       "7239         owyhee_r_bl_owyhee_dam  2023-07-22   515.715487   523.833327   \n",
       "\n",
       "        volume_90  \n",
       "0     2318.676400  \n",
       "1     2159.865551  \n",
       "2     2032.373531  \n",
       "3     1972.403307  \n",
       "4     1864.247985  \n",
       "...           ...  \n",
       "7235   504.796418  \n",
       "7236   534.240828  \n",
       "7237   533.949848  \n",
       "7238   534.816393  \n",
       "7239   534.844385  \n",
       "\n",
       "[7240 rows x 5 columns]"
      ]
     },
     "execution_count": 17,
     "metadata": {},
     "output_type": "execute_result"
    }
   ],
   "source": [
    "generate_hindcast_submission(\n",
    "    df_pred_test_ens_pp, dirname=\"data/sub\", fname=\"lgb_sweK9L2S1_diffp_S4_m3_ff_ens9_pfs\"\n",
    ")"
   ]
  }
 ],
 "metadata": {
  "kernelspec": {
   "display_name": "base",
   "language": "python",
   "name": "python3"
  },
  "language_info": {
   "codemirror_mode": {
    "name": "ipython",
    "version": 3
   },
   "file_extension": ".py",
   "mimetype": "text/x-python",
   "name": "python",
   "nbconvert_exporter": "python",
   "pygments_lexer": "ipython3",
   "version": "3.8.5"
  }
 },
 "nbformat": 4,
 "nbformat_minor": 2
}
