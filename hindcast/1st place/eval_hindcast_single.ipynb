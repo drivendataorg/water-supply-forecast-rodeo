{
 "cells": [
  {
   "cell_type": "code",
   "execution_count": 1,
   "metadata": {},
   "outputs": [],
   "source": [
    "import pandas as pd\n",
    "import plotly.express as px\n",
    "\n",
    "from src.utils import *\n",
    "from src.features.base import *\n",
    "from src.features.volume_obs import *\n",
    "from src.features.swe import *\n",
    "from src.data.base import *\n",
    "from src.config import *\n",
    "from src.models.postprocess import *\n",
    "from src.models.lgb import *\n",
    "from src.models.ensemble import *\n",
    "\n",
    "import importlib\n",
    "\n",
    "EXP_NAME = 'lgb_sweK9L2S1_diffp_S4_m3_ff'\n",
    "cfg = importlib.import_module(f\"configs.lgb.{EXP_NAME}\").cfg"
   ]
  },
  {
   "cell_type": "markdown",
   "metadata": {},
   "source": [
    "# Evaluation"
   ]
  },
  {
   "cell_type": "code",
   "execution_count": 2,
   "metadata": {},
   "outputs": [],
   "source": [
    "exp_list = [\n",
    "    \"lgb_sweK9L2S1_diffp_S4_m3_ff\",\n",
    "]\n",
    "\n",
    "groupby_cols=[\"site_id\", \"year\", \"month\", \"day\", \"md_id\"]\n",
    "\n",
    "df_pred_val_all = []\n",
    "df_pred_test_all = []\n",
    "for exp_name in exp_list:\n",
    "    df_pred = pd.read_csv(f\"runs/new/{exp_name}/pred.csv\").query('(site_id==\"detroit_lake_inflow\" & md_id>=24)==False')\n",
    "    df_pred['pred_volume_50'] = df_pred['pred_volume_reg']\n",
    "\n",
    "    df_pred_val = df_pred.query('volume==volume')\n",
    "    df_pred_test = df_pred.query('volume!=volume')\n",
    "    if len(exp_list) == 1:\n",
    "        df_pred_test = mean_ensemble(df_pred_test, groupby_cols=groupby_cols)\n",
    "\n",
    "\n",
    "    df_pred_val_all.append(df_pred_val)\n",
    "    df_pred_test_all.append(df_pred_test)\n",
    "\n",
    "df_pred_val_all = pd.concat(df_pred_val_all)\n",
    "df_pred_test_all = pd.concat(df_pred_test_all)\n",
    "df_pred_val_all = clip_prediction(rearrange_prediction(df_pred_val_all))\n",
    "df_pred_test_all = clip_prediction(rearrange_prediction(df_pred_test_all))\n",
    "\n",
    "df_pred_test_all = clip_prediction(rearrange_prediction(df_pred_test_all))\n",
    "df_pred_val_ens = custom_ensemble(df_pred_val_all, groupby_cols=groupby_cols)\n",
    "df_pred_test_ens = custom_ensemble(df_pred_test_all, groupby_cols=groupby_cols)\n",
    "df_pred_val_ens[\"cat\"] = \"val\"\n",
    "\n",
    "df_pred_val_ens_pp = use_previous_forecast_sites(df_pred_val_ens,\n",
    "                                                 months=[5,6,7],\n",
    "                                                 cols=[\"pred_volume_10\", \"pred_volume_50\"])\n",
    "df_pred_test_ens_pp = use_previous_forecast_sites(df_pred_test_ens,\n",
    "                                                  months=[5,6,7],\n",
    "                                                  cols=[\"pred_volume_10\", \"pred_volume_50\"])"
   ]
  },
  {
   "cell_type": "code",
   "execution_count": 3,
   "metadata": {},
   "outputs": [
    {
     "name": "stdout",
     "output_type": "stream",
     "text": [
      "['cat']\n"
     ]
    },
    {
     "data": {
      "text/html": [
       "<div>\n",
       "<style scoped>\n",
       "    .dataframe tbody tr th:only-of-type {\n",
       "        vertical-align: middle;\n",
       "    }\n",
       "\n",
       "    .dataframe tbody tr th {\n",
       "        vertical-align: top;\n",
       "    }\n",
       "\n",
       "    .dataframe thead th {\n",
       "        text-align: right;\n",
       "    }\n",
       "</style>\n",
       "<table border=\"1\" class=\"dataframe\">\n",
       "  <thead>\n",
       "    <tr style=\"text-align: right;\">\n",
       "      <th></th>\n",
       "      <th>n</th>\n",
       "      <th>mpl</th>\n",
       "      <th>mpl10</th>\n",
       "      <th>mpl50</th>\n",
       "      <th>mpl90</th>\n",
       "      <th>int_cvr</th>\n",
       "      <th>rmse</th>\n",
       "      <th>r2</th>\n",
       "      <th>mape</th>\n",
       "      <th>bias</th>\n",
       "      <th>actual_mean</th>\n",
       "      <th>pred_mean</th>\n",
       "    </tr>\n",
       "    <tr>\n",
       "      <th>cat</th>\n",
       "      <th></th>\n",
       "      <th></th>\n",
       "      <th></th>\n",
       "      <th></th>\n",
       "      <th></th>\n",
       "      <th></th>\n",
       "      <th></th>\n",
       "      <th></th>\n",
       "      <th></th>\n",
       "      <th></th>\n",
       "      <th></th>\n",
       "      <th></th>\n",
       "    </tr>\n",
       "  </thead>\n",
       "  <tbody>\n",
       "    <tr>\n",
       "      <th>val</th>\n",
       "      <td>7240.0</td>\n",
       "      <td>85.276281</td>\n",
       "      <td>48.893875</td>\n",
       "      <td>134.320422</td>\n",
       "      <td>72.614547</td>\n",
       "      <td>0.723066</td>\n",
       "      <td>282.235382</td>\n",
       "      <td>0.951139</td>\n",
       "      <td>22.122455</td>\n",
       "      <td>-3.950486</td>\n",
       "      <td>885.275985</td>\n",
       "      <td>889.22647</td>\n",
       "    </tr>\n",
       "  </tbody>\n",
       "</table>\n",
       "</div>"
      ],
      "text/plain": [
       "          n        mpl      mpl10       mpl50      mpl90   int_cvr  \\\n",
       "cat                                                                  \n",
       "val  7240.0  85.276281  48.893875  134.320422  72.614547  0.723066   \n",
       "\n",
       "           rmse        r2       mape      bias  actual_mean  pred_mean  \n",
       "cat                                                                     \n",
       "val  282.235382  0.951139  22.122455 -3.950486   885.275985  889.22647  "
      ]
     },
     "metadata": {},
     "output_type": "display_data"
    },
    {
     "name": "stdout",
     "output_type": "stream",
     "text": [
      "\n",
      "\n",
      "['year']\n"
     ]
    },
    {
     "data": {
      "text/html": [
       "<div>\n",
       "<style scoped>\n",
       "    .dataframe tbody tr th:only-of-type {\n",
       "        vertical-align: middle;\n",
       "    }\n",
       "\n",
       "    .dataframe tbody tr th {\n",
       "        vertical-align: top;\n",
       "    }\n",
       "\n",
       "    .dataframe thead th {\n",
       "        text-align: right;\n",
       "    }\n",
       "</style>\n",
       "<table border=\"1\" class=\"dataframe\">\n",
       "  <thead>\n",
       "    <tr style=\"text-align: right;\">\n",
       "      <th></th>\n",
       "      <th>n</th>\n",
       "      <th>mpl</th>\n",
       "      <th>mpl10</th>\n",
       "      <th>mpl50</th>\n",
       "      <th>mpl90</th>\n",
       "      <th>int_cvr</th>\n",
       "      <th>rmse</th>\n",
       "      <th>r2</th>\n",
       "      <th>mape</th>\n",
       "      <th>bias</th>\n",
       "      <th>actual_mean</th>\n",
       "      <th>pred_mean</th>\n",
       "    </tr>\n",
       "  </thead>\n",
       "  <tbody>\n",
       "    <tr>\n",
       "      <th>2004</th>\n",
       "      <td>724.0</td>\n",
       "      <td>94.825265</td>\n",
       "      <td>53.231869</td>\n",
       "      <td>160.667479</td>\n",
       "      <td>70.576447</td>\n",
       "      <td>0.611878</td>\n",
       "      <td>347.201301</td>\n",
       "      <td>0.846068</td>\n",
       "      <td>30.959518</td>\n",
       "      <td>-142.832142</td>\n",
       "      <td>639.101182</td>\n",
       "      <td>781.933325</td>\n",
       "    </tr>\n",
       "    <tr>\n",
       "      <th>2006</th>\n",
       "      <td>724.0</td>\n",
       "      <td>96.813230</td>\n",
       "      <td>48.920824</td>\n",
       "      <td>156.158999</td>\n",
       "      <td>85.359866</td>\n",
       "      <td>0.759669</td>\n",
       "      <td>284.085569</td>\n",
       "      <td>0.958580</td>\n",
       "      <td>22.704459</td>\n",
       "      <td>0.849045</td>\n",
       "      <td>1093.336039</td>\n",
       "      <td>1092.486994</td>\n",
       "    </tr>\n",
       "    <tr>\n",
       "      <th>2008</th>\n",
       "      <td>724.0</td>\n",
       "      <td>80.957513</td>\n",
       "      <td>48.269217</td>\n",
       "      <td>132.189472</td>\n",
       "      <td>62.413850</td>\n",
       "      <td>0.849448</td>\n",
       "      <td>299.132780</td>\n",
       "      <td>0.935492</td>\n",
       "      <td>14.733270</td>\n",
       "      <td>-59.274641</td>\n",
       "      <td>939.324271</td>\n",
       "      <td>998.598911</td>\n",
       "    </tr>\n",
       "    <tr>\n",
       "      <th>2010</th>\n",
       "      <td>724.0</td>\n",
       "      <td>80.909564</td>\n",
       "      <td>48.153076</td>\n",
       "      <td>135.195107</td>\n",
       "      <td>59.380510</td>\n",
       "      <td>0.770718</td>\n",
       "      <td>246.151648</td>\n",
       "      <td>0.931284</td>\n",
       "      <td>15.101639</td>\n",
       "      <td>75.551127</td>\n",
       "      <td>836.593094</td>\n",
       "      <td>761.041967</td>\n",
       "    </tr>\n",
       "    <tr>\n",
       "      <th>2012</th>\n",
       "      <td>724.0</td>\n",
       "      <td>130.306350</td>\n",
       "      <td>58.615497</td>\n",
       "      <td>185.402724</td>\n",
       "      <td>146.900828</td>\n",
       "      <td>0.578729</td>\n",
       "      <td>462.462636</td>\n",
       "      <td>0.926384</td>\n",
       "      <td>29.226131</td>\n",
       "      <td>107.656830</td>\n",
       "      <td>955.773917</td>\n",
       "      <td>848.117087</td>\n",
       "    </tr>\n",
       "    <tr>\n",
       "      <th>2014</th>\n",
       "      <td>724.0</td>\n",
       "      <td>77.308760</td>\n",
       "      <td>48.882202</td>\n",
       "      <td>111.163567</td>\n",
       "      <td>71.880511</td>\n",
       "      <td>0.729282</td>\n",
       "      <td>227.237561</td>\n",
       "      <td>0.973018</td>\n",
       "      <td>19.130651</td>\n",
       "      <td>33.681371</td>\n",
       "      <td>935.756956</td>\n",
       "      <td>902.075585</td>\n",
       "    </tr>\n",
       "    <tr>\n",
       "      <th>2016</th>\n",
       "      <td>724.0</td>\n",
       "      <td>69.913110</td>\n",
       "      <td>32.656094</td>\n",
       "      <td>117.288045</td>\n",
       "      <td>59.795190</td>\n",
       "      <td>0.808011</td>\n",
       "      <td>191.466034</td>\n",
       "      <td>0.965848</td>\n",
       "      <td>18.540281</td>\n",
       "      <td>-80.208140</td>\n",
       "      <td>794.249193</td>\n",
       "      <td>874.457334</td>\n",
       "    </tr>\n",
       "    <tr>\n",
       "      <th>2018</th>\n",
       "      <td>724.0</td>\n",
       "      <td>83.440139</td>\n",
       "      <td>53.142524</td>\n",
       "      <td>139.438123</td>\n",
       "      <td>57.739771</td>\n",
       "      <td>0.714088</td>\n",
       "      <td>270.993451</td>\n",
       "      <td>0.963969</td>\n",
       "      <td>17.925362</td>\n",
       "      <td>49.227589</td>\n",
       "      <td>998.415890</td>\n",
       "      <td>949.188300</td>\n",
       "    </tr>\n",
       "    <tr>\n",
       "      <th>2020</th>\n",
       "      <td>724.0</td>\n",
       "      <td>61.164419</td>\n",
       "      <td>44.874649</td>\n",
       "      <td>90.202440</td>\n",
       "      <td>48.416169</td>\n",
       "      <td>0.714088</td>\n",
       "      <td>154.969502</td>\n",
       "      <td>0.985125</td>\n",
       "      <td>20.630065</td>\n",
       "      <td>34.190340</td>\n",
       "      <td>851.730580</td>\n",
       "      <td>817.540241</td>\n",
       "    </tr>\n",
       "    <tr>\n",
       "      <th>2022</th>\n",
       "      <td>724.0</td>\n",
       "      <td>77.124465</td>\n",
       "      <td>52.192804</td>\n",
       "      <td>115.498264</td>\n",
       "      <td>63.682325</td>\n",
       "      <td>0.694751</td>\n",
       "      <td>213.595089</td>\n",
       "      <td>0.971706</td>\n",
       "      <td>32.273172</td>\n",
       "      <td>-58.346234</td>\n",
       "      <td>808.478724</td>\n",
       "      <td>866.824958</td>\n",
       "    </tr>\n",
       "    <tr>\n",
       "      <th>0</th>\n",
       "      <td>724.0</td>\n",
       "      <td>85.276281</td>\n",
       "      <td>48.893875</td>\n",
       "      <td>134.320422</td>\n",
       "      <td>72.614547</td>\n",
       "      <td>0.723066</td>\n",
       "      <td>269.729557</td>\n",
       "      <td>0.945747</td>\n",
       "      <td>22.122455</td>\n",
       "      <td>-3.950486</td>\n",
       "      <td>885.275985</td>\n",
       "      <td>889.226470</td>\n",
       "    </tr>\n",
       "    <tr>\n",
       "      <th>0</th>\n",
       "      <td>0.0</td>\n",
       "      <td>18.974911</td>\n",
       "      <td>6.855830</td>\n",
       "      <td>27.766889</td>\n",
       "      <td>27.919969</td>\n",
       "      <td>0.082324</td>\n",
       "      <td>87.577120</td>\n",
       "      <td>0.040131</td>\n",
       "      <td>6.476018</td>\n",
       "      <td>78.614054</td>\n",
       "      <td>126.846441</td>\n",
       "      <td>101.395611</td>\n",
       "    </tr>\n",
       "  </tbody>\n",
       "</table>\n",
       "</div>"
      ],
      "text/plain": [
       "          n         mpl      mpl10       mpl50       mpl90   int_cvr  \\\n",
       "2004  724.0   94.825265  53.231869  160.667479   70.576447  0.611878   \n",
       "2006  724.0   96.813230  48.920824  156.158999   85.359866  0.759669   \n",
       "2008  724.0   80.957513  48.269217  132.189472   62.413850  0.849448   \n",
       "2010  724.0   80.909564  48.153076  135.195107   59.380510  0.770718   \n",
       "2012  724.0  130.306350  58.615497  185.402724  146.900828  0.578729   \n",
       "2014  724.0   77.308760  48.882202  111.163567   71.880511  0.729282   \n",
       "2016  724.0   69.913110  32.656094  117.288045   59.795190  0.808011   \n",
       "2018  724.0   83.440139  53.142524  139.438123   57.739771  0.714088   \n",
       "2020  724.0   61.164419  44.874649   90.202440   48.416169  0.714088   \n",
       "2022  724.0   77.124465  52.192804  115.498264   63.682325  0.694751   \n",
       "0     724.0   85.276281  48.893875  134.320422   72.614547  0.723066   \n",
       "0       0.0   18.974911   6.855830   27.766889   27.919969  0.082324   \n",
       "\n",
       "            rmse        r2       mape        bias  actual_mean    pred_mean  \n",
       "2004  347.201301  0.846068  30.959518 -142.832142   639.101182   781.933325  \n",
       "2006  284.085569  0.958580  22.704459    0.849045  1093.336039  1092.486994  \n",
       "2008  299.132780  0.935492  14.733270  -59.274641   939.324271   998.598911  \n",
       "2010  246.151648  0.931284  15.101639   75.551127   836.593094   761.041967  \n",
       "2012  462.462636  0.926384  29.226131  107.656830   955.773917   848.117087  \n",
       "2014  227.237561  0.973018  19.130651   33.681371   935.756956   902.075585  \n",
       "2016  191.466034  0.965848  18.540281  -80.208140   794.249193   874.457334  \n",
       "2018  270.993451  0.963969  17.925362   49.227589   998.415890   949.188300  \n",
       "2020  154.969502  0.985125  20.630065   34.190340   851.730580   817.540241  \n",
       "2022  213.595089  0.971706  32.273172  -58.346234   808.478724   866.824958  \n",
       "0     269.729557  0.945747  22.122455   -3.950486   885.275985   889.226470  \n",
       "0      87.577120  0.040131   6.476018   78.614054   126.846441   101.395611  "
      ]
     },
     "metadata": {},
     "output_type": "display_data"
    },
    {
     "name": "stdout",
     "output_type": "stream",
     "text": [
      "\n",
      "\n",
      "['month']\n"
     ]
    },
    {
     "data": {
      "text/html": [
       "<div>\n",
       "<style scoped>\n",
       "    .dataframe tbody tr th:only-of-type {\n",
       "        vertical-align: middle;\n",
       "    }\n",
       "\n",
       "    .dataframe tbody tr th {\n",
       "        vertical-align: top;\n",
       "    }\n",
       "\n",
       "    .dataframe thead th {\n",
       "        text-align: right;\n",
       "    }\n",
       "</style>\n",
       "<table border=\"1\" class=\"dataframe\">\n",
       "  <thead>\n",
       "    <tr style=\"text-align: right;\">\n",
       "      <th></th>\n",
       "      <th>n</th>\n",
       "      <th>mpl</th>\n",
       "      <th>mpl10</th>\n",
       "      <th>mpl50</th>\n",
       "      <th>mpl90</th>\n",
       "      <th>int_cvr</th>\n",
       "      <th>rmse</th>\n",
       "      <th>r2</th>\n",
       "      <th>mape</th>\n",
       "      <th>bias</th>\n",
       "      <th>actual_mean</th>\n",
       "      <th>pred_mean</th>\n",
       "    </tr>\n",
       "  </thead>\n",
       "  <tbody>\n",
       "    <tr>\n",
       "      <th>1</th>\n",
       "      <td>1040.000000</td>\n",
       "      <td>140.248998</td>\n",
       "      <td>78.130851</td>\n",
       "      <td>223.453787</td>\n",
       "      <td>119.162356</td>\n",
       "      <td>0.689423</td>\n",
       "      <td>405.925426</td>\n",
       "      <td>0.898424</td>\n",
       "      <td>40.301580</td>\n",
       "      <td>-14.121495</td>\n",
       "      <td>883.286327</td>\n",
       "      <td>897.407822</td>\n",
       "    </tr>\n",
       "    <tr>\n",
       "      <th>2</th>\n",
       "      <td>1040.000000</td>\n",
       "      <td>127.938332</td>\n",
       "      <td>68.129041</td>\n",
       "      <td>202.244949</td>\n",
       "      <td>113.441004</td>\n",
       "      <td>0.686538</td>\n",
       "      <td>376.215812</td>\n",
       "      <td>0.912748</td>\n",
       "      <td>34.873206</td>\n",
       "      <td>-10.848257</td>\n",
       "      <td>883.286327</td>\n",
       "      <td>894.134584</td>\n",
       "    </tr>\n",
       "    <tr>\n",
       "      <th>3</th>\n",
       "      <td>1040.000000</td>\n",
       "      <td>110.586618</td>\n",
       "      <td>61.683744</td>\n",
       "      <td>173.409391</td>\n",
       "      <td>96.666719</td>\n",
       "      <td>0.697115</td>\n",
       "      <td>321.903055</td>\n",
       "      <td>0.936122</td>\n",
       "      <td>29.675629</td>\n",
       "      <td>3.121817</td>\n",
       "      <td>883.286327</td>\n",
       "      <td>880.164510</td>\n",
       "    </tr>\n",
       "    <tr>\n",
       "      <th>4</th>\n",
       "      <td>1040.000000</td>\n",
       "      <td>81.219418</td>\n",
       "      <td>47.427379</td>\n",
       "      <td>128.366111</td>\n",
       "      <td>67.864763</td>\n",
       "      <td>0.736538</td>\n",
       "      <td>251.284864</td>\n",
       "      <td>0.961075</td>\n",
       "      <td>21.336568</td>\n",
       "      <td>-4.562177</td>\n",
       "      <td>883.286327</td>\n",
       "      <td>887.848504</td>\n",
       "    </tr>\n",
       "    <tr>\n",
       "      <th>5</th>\n",
       "      <td>1040.000000</td>\n",
       "      <td>65.513217</td>\n",
       "      <td>41.608917</td>\n",
       "      <td>102.144403</td>\n",
       "      <td>52.786332</td>\n",
       "      <td>0.779808</td>\n",
       "      <td>214.149614</td>\n",
       "      <td>0.971729</td>\n",
       "      <td>14.768945</td>\n",
       "      <td>12.224875</td>\n",
       "      <td>883.286327</td>\n",
       "      <td>871.061452</td>\n",
       "    </tr>\n",
       "    <tr>\n",
       "      <th>6</th>\n",
       "      <td>1040.000000</td>\n",
       "      <td>46.582432</td>\n",
       "      <td>29.792183</td>\n",
       "      <td>72.578253</td>\n",
       "      <td>37.376860</td>\n",
       "      <td>0.730769</td>\n",
       "      <td>169.493878</td>\n",
       "      <td>0.982290</td>\n",
       "      <td>9.110399</td>\n",
       "      <td>-7.980863</td>\n",
       "      <td>883.286327</td>\n",
       "      <td>891.267189</td>\n",
       "    </tr>\n",
       "    <tr>\n",
       "      <th>7</th>\n",
       "      <td>1000.000000</td>\n",
       "      <td>22.427702</td>\n",
       "      <td>14.148658</td>\n",
       "      <td>34.195086</td>\n",
       "      <td>18.939363</td>\n",
       "      <td>0.742000</td>\n",
       "      <td>84.503980</td>\n",
       "      <td>0.995751</td>\n",
       "      <td>4.097593</td>\n",
       "      <td>-5.548772</td>\n",
       "      <td>897.691448</td>\n",
       "      <td>903.240220</td>\n",
       "    </tr>\n",
       "    <tr>\n",
       "      <th>0</th>\n",
       "      <td>1034.285714</td>\n",
       "      <td>84.930960</td>\n",
       "      <td>48.702968</td>\n",
       "      <td>133.770283</td>\n",
       "      <td>72.319628</td>\n",
       "      <td>0.723170</td>\n",
       "      <td>260.496661</td>\n",
       "      <td>0.951163</td>\n",
       "      <td>22.023417</td>\n",
       "      <td>-3.959267</td>\n",
       "      <td>885.344201</td>\n",
       "      <td>889.303469</td>\n",
       "    </tr>\n",
       "    <tr>\n",
       "      <th>0</th>\n",
       "      <td>15.118579</td>\n",
       "      <td>43.466507</td>\n",
       "      <td>22.418162</td>\n",
       "      <td>69.512895</td>\n",
       "      <td>38.621744</td>\n",
       "      <td>0.034055</td>\n",
       "      <td>115.324924</td>\n",
       "      <td>0.036427</td>\n",
       "      <td>13.533569</td>\n",
       "      <td>8.961590</td>\n",
       "      <td>5.444624</td>\n",
       "      <td>10.843724</td>\n",
       "    </tr>\n",
       "  </tbody>\n",
       "</table>\n",
       "</div>"
      ],
      "text/plain": [
       "             n         mpl      mpl10       mpl50       mpl90   int_cvr  \\\n",
       "1  1040.000000  140.248998  78.130851  223.453787  119.162356  0.689423   \n",
       "2  1040.000000  127.938332  68.129041  202.244949  113.441004  0.686538   \n",
       "3  1040.000000  110.586618  61.683744  173.409391   96.666719  0.697115   \n",
       "4  1040.000000   81.219418  47.427379  128.366111   67.864763  0.736538   \n",
       "5  1040.000000   65.513217  41.608917  102.144403   52.786332  0.779808   \n",
       "6  1040.000000   46.582432  29.792183   72.578253   37.376860  0.730769   \n",
       "7  1000.000000   22.427702  14.148658   34.195086   18.939363  0.742000   \n",
       "0  1034.285714   84.930960  48.702968  133.770283   72.319628  0.723170   \n",
       "0    15.118579   43.466507  22.418162   69.512895   38.621744  0.034055   \n",
       "\n",
       "         rmse        r2       mape       bias  actual_mean   pred_mean  \n",
       "1  405.925426  0.898424  40.301580 -14.121495   883.286327  897.407822  \n",
       "2  376.215812  0.912748  34.873206 -10.848257   883.286327  894.134584  \n",
       "3  321.903055  0.936122  29.675629   3.121817   883.286327  880.164510  \n",
       "4  251.284864  0.961075  21.336568  -4.562177   883.286327  887.848504  \n",
       "5  214.149614  0.971729  14.768945  12.224875   883.286327  871.061452  \n",
       "6  169.493878  0.982290   9.110399  -7.980863   883.286327  891.267189  \n",
       "7   84.503980  0.995751   4.097593  -5.548772   897.691448  903.240220  \n",
       "0  260.496661  0.951163  22.023417  -3.959267   885.344201  889.303469  \n",
       "0  115.324924  0.036427  13.533569   8.961590     5.444624   10.843724  "
      ]
     },
     "metadata": {},
     "output_type": "display_data"
    },
    {
     "name": "stdout",
     "output_type": "stream",
     "text": [
      "\n",
      "\n"
     ]
    }
   ],
   "source": [
    "eval_all(df_pred_val_ens, [[\"cat\"], [\"year\"], [\"month\"]])"
   ]
  },
  {
   "cell_type": "code",
   "execution_count": 4,
   "metadata": {},
   "outputs": [
    {
     "name": "stdout",
     "output_type": "stream",
     "text": [
      "['cat']\n"
     ]
    },
    {
     "data": {
      "text/html": [
       "<div>\n",
       "<style scoped>\n",
       "    .dataframe tbody tr th:only-of-type {\n",
       "        vertical-align: middle;\n",
       "    }\n",
       "\n",
       "    .dataframe tbody tr th {\n",
       "        vertical-align: top;\n",
       "    }\n",
       "\n",
       "    .dataframe thead th {\n",
       "        text-align: right;\n",
       "    }\n",
       "</style>\n",
       "<table border=\"1\" class=\"dataframe\">\n",
       "  <thead>\n",
       "    <tr style=\"text-align: right;\">\n",
       "      <th></th>\n",
       "      <th>n</th>\n",
       "      <th>mpl</th>\n",
       "      <th>mpl10</th>\n",
       "      <th>mpl50</th>\n",
       "      <th>mpl90</th>\n",
       "      <th>int_cvr</th>\n",
       "      <th>rmse</th>\n",
       "      <th>r2</th>\n",
       "      <th>mape</th>\n",
       "      <th>bias</th>\n",
       "      <th>actual_mean</th>\n",
       "      <th>pred_mean</th>\n",
       "    </tr>\n",
       "    <tr>\n",
       "      <th>cat</th>\n",
       "      <th></th>\n",
       "      <th></th>\n",
       "      <th></th>\n",
       "      <th></th>\n",
       "      <th></th>\n",
       "      <th></th>\n",
       "      <th></th>\n",
       "      <th></th>\n",
       "      <th></th>\n",
       "      <th></th>\n",
       "      <th></th>\n",
       "      <th></th>\n",
       "    </tr>\n",
       "  </thead>\n",
       "  <tbody>\n",
       "    <tr>\n",
       "      <th>val</th>\n",
       "      <td>7240.0</td>\n",
       "      <td>85.470096</td>\n",
       "      <td>49.343833</td>\n",
       "      <td>134.451909</td>\n",
       "      <td>72.614547</td>\n",
       "      <td>0.718094</td>\n",
       "      <td>283.442046</td>\n",
       "      <td>0.950721</td>\n",
       "      <td>22.228853</td>\n",
       "      <td>-5.966258</td>\n",
       "      <td>885.275985</td>\n",
       "      <td>891.242243</td>\n",
       "    </tr>\n",
       "  </tbody>\n",
       "</table>\n",
       "</div>"
      ],
      "text/plain": [
       "          n        mpl      mpl10       mpl50      mpl90   int_cvr  \\\n",
       "cat                                                                  \n",
       "val  7240.0  85.470096  49.343833  134.451909  72.614547  0.718094   \n",
       "\n",
       "           rmse        r2       mape      bias  actual_mean   pred_mean  \n",
       "cat                                                                      \n",
       "val  283.442046  0.950721  22.228853 -5.966258   885.275985  891.242243  "
      ]
     },
     "metadata": {},
     "output_type": "display_data"
    },
    {
     "name": "stdout",
     "output_type": "stream",
     "text": [
      "\n",
      "\n",
      "['year']\n"
     ]
    },
    {
     "data": {
      "text/html": [
       "<div>\n",
       "<style scoped>\n",
       "    .dataframe tbody tr th:only-of-type {\n",
       "        vertical-align: middle;\n",
       "    }\n",
       "\n",
       "    .dataframe tbody tr th {\n",
       "        vertical-align: top;\n",
       "    }\n",
       "\n",
       "    .dataframe thead th {\n",
       "        text-align: right;\n",
       "    }\n",
       "</style>\n",
       "<table border=\"1\" class=\"dataframe\">\n",
       "  <thead>\n",
       "    <tr style=\"text-align: right;\">\n",
       "      <th></th>\n",
       "      <th>n</th>\n",
       "      <th>mpl</th>\n",
       "      <th>mpl10</th>\n",
       "      <th>mpl50</th>\n",
       "      <th>mpl90</th>\n",
       "      <th>int_cvr</th>\n",
       "      <th>rmse</th>\n",
       "      <th>r2</th>\n",
       "      <th>mape</th>\n",
       "      <th>bias</th>\n",
       "      <th>actual_mean</th>\n",
       "      <th>pred_mean</th>\n",
       "    </tr>\n",
       "  </thead>\n",
       "  <tbody>\n",
       "    <tr>\n",
       "      <th>2004</th>\n",
       "      <td>724.0</td>\n",
       "      <td>94.353383</td>\n",
       "      <td>52.918704</td>\n",
       "      <td>159.564998</td>\n",
       "      <td>70.576447</td>\n",
       "      <td>0.611878</td>\n",
       "      <td>346.552922</td>\n",
       "      <td>0.846642</td>\n",
       "      <td>31.197308</td>\n",
       "      <td>-145.766299</td>\n",
       "      <td>639.101182</td>\n",
       "      <td>784.867482</td>\n",
       "    </tr>\n",
       "    <tr>\n",
       "      <th>2006</th>\n",
       "      <td>724.0</td>\n",
       "      <td>96.039181</td>\n",
       "      <td>47.956693</td>\n",
       "      <td>154.800982</td>\n",
       "      <td>85.359866</td>\n",
       "      <td>0.752762</td>\n",
       "      <td>283.631900</td>\n",
       "      <td>0.958712</td>\n",
       "      <td>22.862883</td>\n",
       "      <td>-4.716577</td>\n",
       "      <td>1093.336039</td>\n",
       "      <td>1098.052616</td>\n",
       "    </tr>\n",
       "    <tr>\n",
       "      <th>2008</th>\n",
       "      <td>724.0</td>\n",
       "      <td>82.897628</td>\n",
       "      <td>53.452617</td>\n",
       "      <td>132.826417</td>\n",
       "      <td>62.413850</td>\n",
       "      <td>0.839779</td>\n",
       "      <td>302.144821</td>\n",
       "      <td>0.934186</td>\n",
       "      <td>14.752746</td>\n",
       "      <td>-63.089603</td>\n",
       "      <td>939.324271</td>\n",
       "      <td>1002.413874</td>\n",
       "    </tr>\n",
       "    <tr>\n",
       "      <th>2010</th>\n",
       "      <td>724.0</td>\n",
       "      <td>80.184701</td>\n",
       "      <td>48.222690</td>\n",
       "      <td>132.950903</td>\n",
       "      <td>59.380510</td>\n",
       "      <td>0.774862</td>\n",
       "      <td>241.701445</td>\n",
       "      <td>0.933746</td>\n",
       "      <td>14.856473</td>\n",
       "      <td>79.110658</td>\n",
       "      <td>836.593094</td>\n",
       "      <td>757.482435</td>\n",
       "    </tr>\n",
       "    <tr>\n",
       "      <th>2012</th>\n",
       "      <td>724.0</td>\n",
       "      <td>130.844896</td>\n",
       "      <td>58.565178</td>\n",
       "      <td>187.068683</td>\n",
       "      <td>146.900828</td>\n",
       "      <td>0.581492</td>\n",
       "      <td>466.937824</td>\n",
       "      <td>0.924952</td>\n",
       "      <td>29.421998</td>\n",
       "      <td>109.269503</td>\n",
       "      <td>955.773917</td>\n",
       "      <td>846.504414</td>\n",
       "    </tr>\n",
       "    <tr>\n",
       "      <th>2014</th>\n",
       "      <td>724.0</td>\n",
       "      <td>76.533223</td>\n",
       "      <td>47.588761</td>\n",
       "      <td>110.130396</td>\n",
       "      <td>71.880511</td>\n",
       "      <td>0.718232</td>\n",
       "      <td>226.634293</td>\n",
       "      <td>0.973161</td>\n",
       "      <td>19.079516</td>\n",
       "      <td>30.364246</td>\n",
       "      <td>935.756956</td>\n",
       "      <td>905.392710</td>\n",
       "    </tr>\n",
       "    <tr>\n",
       "      <th>2016</th>\n",
       "      <td>724.0</td>\n",
       "      <td>71.110915</td>\n",
       "      <td>33.297950</td>\n",
       "      <td>120.239606</td>\n",
       "      <td>59.795190</td>\n",
       "      <td>0.808011</td>\n",
       "      <td>195.280937</td>\n",
       "      <td>0.964473</td>\n",
       "      <td>18.751495</td>\n",
       "      <td>-83.789192</td>\n",
       "      <td>794.249193</td>\n",
       "      <td>878.038386</td>\n",
       "    </tr>\n",
       "    <tr>\n",
       "      <th>2018</th>\n",
       "      <td>724.0</td>\n",
       "      <td>85.136005</td>\n",
       "      <td>55.350266</td>\n",
       "      <td>142.317979</td>\n",
       "      <td>57.739771</td>\n",
       "      <td>0.701657</td>\n",
       "      <td>276.498819</td>\n",
       "      <td>0.962490</td>\n",
       "      <td>18.189210</td>\n",
       "      <td>42.184398</td>\n",
       "      <td>998.415890</td>\n",
       "      <td>956.231492</td>\n",
       "    </tr>\n",
       "    <tr>\n",
       "      <th>2020</th>\n",
       "      <td>724.0</td>\n",
       "      <td>60.406998</td>\n",
       "      <td>44.270633</td>\n",
       "      <td>88.534191</td>\n",
       "      <td>48.416169</td>\n",
       "      <td>0.700276</td>\n",
       "      <td>153.680392</td>\n",
       "      <td>0.985372</td>\n",
       "      <td>20.814821</td>\n",
       "      <td>31.744679</td>\n",
       "      <td>851.730580</td>\n",
       "      <td>819.985901</td>\n",
       "    </tr>\n",
       "    <tr>\n",
       "      <th>2022</th>\n",
       "      <td>724.0</td>\n",
       "      <td>77.194035</td>\n",
       "      <td>51.814840</td>\n",
       "      <td>116.084938</td>\n",
       "      <td>63.682325</td>\n",
       "      <td>0.691989</td>\n",
       "      <td>213.398521</td>\n",
       "      <td>0.971758</td>\n",
       "      <td>32.362080</td>\n",
       "      <td>-54.974394</td>\n",
       "      <td>808.478724</td>\n",
       "      <td>863.453118</td>\n",
       "    </tr>\n",
       "    <tr>\n",
       "      <th>0</th>\n",
       "      <td>724.0</td>\n",
       "      <td>85.470096</td>\n",
       "      <td>49.343833</td>\n",
       "      <td>134.451909</td>\n",
       "      <td>72.614547</td>\n",
       "      <td>0.718094</td>\n",
       "      <td>270.646187</td>\n",
       "      <td>0.945549</td>\n",
       "      <td>22.228853</td>\n",
       "      <td>-5.966258</td>\n",
       "      <td>885.275985</td>\n",
       "      <td>891.242243</td>\n",
       "    </tr>\n",
       "    <tr>\n",
       "      <th>0</th>\n",
       "      <td>0.0</td>\n",
       "      <td>19.052154</td>\n",
       "      <td>7.042311</td>\n",
       "      <td>28.125424</td>\n",
       "      <td>27.919969</td>\n",
       "      <td>0.080642</td>\n",
       "      <td>88.757062</td>\n",
       "      <td>0.039901</td>\n",
       "      <td>6.547532</td>\n",
       "      <td>79.473801</td>\n",
       "      <td>126.846441</td>\n",
       "      <td>103.701652</td>\n",
       "    </tr>\n",
       "  </tbody>\n",
       "</table>\n",
       "</div>"
      ],
      "text/plain": [
       "          n         mpl      mpl10       mpl50       mpl90   int_cvr  \\\n",
       "2004  724.0   94.353383  52.918704  159.564998   70.576447  0.611878   \n",
       "2006  724.0   96.039181  47.956693  154.800982   85.359866  0.752762   \n",
       "2008  724.0   82.897628  53.452617  132.826417   62.413850  0.839779   \n",
       "2010  724.0   80.184701  48.222690  132.950903   59.380510  0.774862   \n",
       "2012  724.0  130.844896  58.565178  187.068683  146.900828  0.581492   \n",
       "2014  724.0   76.533223  47.588761  110.130396   71.880511  0.718232   \n",
       "2016  724.0   71.110915  33.297950  120.239606   59.795190  0.808011   \n",
       "2018  724.0   85.136005  55.350266  142.317979   57.739771  0.701657   \n",
       "2020  724.0   60.406998  44.270633   88.534191   48.416169  0.700276   \n",
       "2022  724.0   77.194035  51.814840  116.084938   63.682325  0.691989   \n",
       "0     724.0   85.470096  49.343833  134.451909   72.614547  0.718094   \n",
       "0       0.0   19.052154   7.042311   28.125424   27.919969  0.080642   \n",
       "\n",
       "            rmse        r2       mape        bias  actual_mean    pred_mean  \n",
       "2004  346.552922  0.846642  31.197308 -145.766299   639.101182   784.867482  \n",
       "2006  283.631900  0.958712  22.862883   -4.716577  1093.336039  1098.052616  \n",
       "2008  302.144821  0.934186  14.752746  -63.089603   939.324271  1002.413874  \n",
       "2010  241.701445  0.933746  14.856473   79.110658   836.593094   757.482435  \n",
       "2012  466.937824  0.924952  29.421998  109.269503   955.773917   846.504414  \n",
       "2014  226.634293  0.973161  19.079516   30.364246   935.756956   905.392710  \n",
       "2016  195.280937  0.964473  18.751495  -83.789192   794.249193   878.038386  \n",
       "2018  276.498819  0.962490  18.189210   42.184398   998.415890   956.231492  \n",
       "2020  153.680392  0.985372  20.814821   31.744679   851.730580   819.985901  \n",
       "2022  213.398521  0.971758  32.362080  -54.974394   808.478724   863.453118  \n",
       "0     270.646187  0.945549  22.228853   -5.966258   885.275985   891.242243  \n",
       "0      88.757062  0.039901   6.547532   79.473801   126.846441   103.701652  "
      ]
     },
     "metadata": {},
     "output_type": "display_data"
    },
    {
     "name": "stdout",
     "output_type": "stream",
     "text": [
      "\n",
      "\n",
      "['month']\n"
     ]
    },
    {
     "data": {
      "text/html": [
       "<div>\n",
       "<style scoped>\n",
       "    .dataframe tbody tr th:only-of-type {\n",
       "        vertical-align: middle;\n",
       "    }\n",
       "\n",
       "    .dataframe tbody tr th {\n",
       "        vertical-align: top;\n",
       "    }\n",
       "\n",
       "    .dataframe thead th {\n",
       "        text-align: right;\n",
       "    }\n",
       "</style>\n",
       "<table border=\"1\" class=\"dataframe\">\n",
       "  <thead>\n",
       "    <tr style=\"text-align: right;\">\n",
       "      <th></th>\n",
       "      <th>n</th>\n",
       "      <th>mpl</th>\n",
       "      <th>mpl10</th>\n",
       "      <th>mpl50</th>\n",
       "      <th>mpl90</th>\n",
       "      <th>int_cvr</th>\n",
       "      <th>rmse</th>\n",
       "      <th>r2</th>\n",
       "      <th>mape</th>\n",
       "      <th>bias</th>\n",
       "      <th>actual_mean</th>\n",
       "      <th>pred_mean</th>\n",
       "    </tr>\n",
       "  </thead>\n",
       "  <tbody>\n",
       "    <tr>\n",
       "      <th>1</th>\n",
       "      <td>1040.000000</td>\n",
       "      <td>140.248998</td>\n",
       "      <td>78.130851</td>\n",
       "      <td>223.453787</td>\n",
       "      <td>119.162356</td>\n",
       "      <td>0.689423</td>\n",
       "      <td>405.925426</td>\n",
       "      <td>0.898424</td>\n",
       "      <td>40.301580</td>\n",
       "      <td>-14.121495</td>\n",
       "      <td>883.286327</td>\n",
       "      <td>897.407822</td>\n",
       "    </tr>\n",
       "    <tr>\n",
       "      <th>2</th>\n",
       "      <td>1040.000000</td>\n",
       "      <td>127.938332</td>\n",
       "      <td>68.129041</td>\n",
       "      <td>202.244949</td>\n",
       "      <td>113.441004</td>\n",
       "      <td>0.686538</td>\n",
       "      <td>376.215812</td>\n",
       "      <td>0.912748</td>\n",
       "      <td>34.873206</td>\n",
       "      <td>-10.848257</td>\n",
       "      <td>883.286327</td>\n",
       "      <td>894.134584</td>\n",
       "    </tr>\n",
       "    <tr>\n",
       "      <th>3</th>\n",
       "      <td>1040.000000</td>\n",
       "      <td>110.586618</td>\n",
       "      <td>61.683744</td>\n",
       "      <td>173.409391</td>\n",
       "      <td>96.666719</td>\n",
       "      <td>0.697115</td>\n",
       "      <td>321.903055</td>\n",
       "      <td>0.936122</td>\n",
       "      <td>29.675629</td>\n",
       "      <td>3.121817</td>\n",
       "      <td>883.286327</td>\n",
       "      <td>880.164510</td>\n",
       "    </tr>\n",
       "    <tr>\n",
       "      <th>4</th>\n",
       "      <td>1040.000000</td>\n",
       "      <td>81.219418</td>\n",
       "      <td>47.427379</td>\n",
       "      <td>128.366111</td>\n",
       "      <td>67.864763</td>\n",
       "      <td>0.736538</td>\n",
       "      <td>251.284864</td>\n",
       "      <td>0.961075</td>\n",
       "      <td>21.336568</td>\n",
       "      <td>-4.562177</td>\n",
       "      <td>883.286327</td>\n",
       "      <td>887.848504</td>\n",
       "    </tr>\n",
       "    <tr>\n",
       "      <th>5</th>\n",
       "      <td>1040.000000</td>\n",
       "      <td>64.768052</td>\n",
       "      <td>42.152390</td>\n",
       "      <td>99.365434</td>\n",
       "      <td>52.786332</td>\n",
       "      <td>0.760577</td>\n",
       "      <td>212.852030</td>\n",
       "      <td>0.972071</td>\n",
       "      <td>15.403525</td>\n",
       "      <td>5.541618</td>\n",
       "      <td>883.286327</td>\n",
       "      <td>877.744709</td>\n",
       "    </tr>\n",
       "    <tr>\n",
       "      <th>6</th>\n",
       "      <td>1040.000000</td>\n",
       "      <td>48.596420</td>\n",
       "      <td>32.954286</td>\n",
       "      <td>75.458112</td>\n",
       "      <td>37.376860</td>\n",
       "      <td>0.721154</td>\n",
       "      <td>183.605971</td>\n",
       "      <td>0.979219</td>\n",
       "      <td>9.259937</td>\n",
       "      <td>-10.455941</td>\n",
       "      <td>883.286327</td>\n",
       "      <td>893.742268</td>\n",
       "    </tr>\n",
       "    <tr>\n",
       "      <th>7</th>\n",
       "      <td>1000.000000</td>\n",
       "      <td>22.511348</td>\n",
       "      <td>13.552552</td>\n",
       "      <td>35.042127</td>\n",
       "      <td>18.939363</td>\n",
       "      <td>0.736000</td>\n",
       "      <td>86.468233</td>\n",
       "      <td>0.995551</td>\n",
       "      <td>4.052433</td>\n",
       "      <td>-10.618297</td>\n",
       "      <td>897.691448</td>\n",
       "      <td>908.309745</td>\n",
       "    </tr>\n",
       "    <tr>\n",
       "      <th>0</th>\n",
       "      <td>1034.285714</td>\n",
       "      <td>85.124169</td>\n",
       "      <td>49.147178</td>\n",
       "      <td>133.905702</td>\n",
       "      <td>72.319628</td>\n",
       "      <td>0.718192</td>\n",
       "      <td>262.607913</td>\n",
       "      <td>0.950744</td>\n",
       "      <td>22.128983</td>\n",
       "      <td>-5.991819</td>\n",
       "      <td>885.344201</td>\n",
       "      <td>891.336020</td>\n",
       "    </tr>\n",
       "    <tr>\n",
       "      <th>0</th>\n",
       "      <td>15.118579</td>\n",
       "      <td>43.213416</td>\n",
       "      <td>22.130679</td>\n",
       "      <td>69.117651</td>\n",
       "      <td>38.621744</td>\n",
       "      <td>0.028086</td>\n",
       "      <td>113.161338</td>\n",
       "      <td>0.035998</td>\n",
       "      <td>13.465042</td>\n",
       "      <td>7.628146</td>\n",
       "      <td>5.444624</td>\n",
       "      <td>10.490355</td>\n",
       "    </tr>\n",
       "  </tbody>\n",
       "</table>\n",
       "</div>"
      ],
      "text/plain": [
       "             n         mpl      mpl10       mpl50       mpl90   int_cvr  \\\n",
       "1  1040.000000  140.248998  78.130851  223.453787  119.162356  0.689423   \n",
       "2  1040.000000  127.938332  68.129041  202.244949  113.441004  0.686538   \n",
       "3  1040.000000  110.586618  61.683744  173.409391   96.666719  0.697115   \n",
       "4  1040.000000   81.219418  47.427379  128.366111   67.864763  0.736538   \n",
       "5  1040.000000   64.768052  42.152390   99.365434   52.786332  0.760577   \n",
       "6  1040.000000   48.596420  32.954286   75.458112   37.376860  0.721154   \n",
       "7  1000.000000   22.511348  13.552552   35.042127   18.939363  0.736000   \n",
       "0  1034.285714   85.124169  49.147178  133.905702   72.319628  0.718192   \n",
       "0    15.118579   43.213416  22.130679   69.117651   38.621744  0.028086   \n",
       "\n",
       "         rmse        r2       mape       bias  actual_mean   pred_mean  \n",
       "1  405.925426  0.898424  40.301580 -14.121495   883.286327  897.407822  \n",
       "2  376.215812  0.912748  34.873206 -10.848257   883.286327  894.134584  \n",
       "3  321.903055  0.936122  29.675629   3.121817   883.286327  880.164510  \n",
       "4  251.284864  0.961075  21.336568  -4.562177   883.286327  887.848504  \n",
       "5  212.852030  0.972071  15.403525   5.541618   883.286327  877.744709  \n",
       "6  183.605971  0.979219   9.259937 -10.455941   883.286327  893.742268  \n",
       "7   86.468233  0.995551   4.052433 -10.618297   897.691448  908.309745  \n",
       "0  262.607913  0.950744  22.128983  -5.991819   885.344201  891.336020  \n",
       "0  113.161338  0.035998  13.465042   7.628146     5.444624   10.490355  "
      ]
     },
     "metadata": {},
     "output_type": "display_data"
    },
    {
     "name": "stdout",
     "output_type": "stream",
     "text": [
      "\n",
      "\n"
     ]
    }
   ],
   "source": [
    "eval_all(df_pred_val_ens_pp, [[\"cat\"], [\"year\"], [\"month\"]])"
   ]
  },
  {
   "cell_type": "code",
   "execution_count": 5,
   "metadata": {},
   "outputs": [
    {
     "data": {
      "text/html": [
       "<div>\n",
       "<style scoped>\n",
       "    .dataframe tbody tr th:only-of-type {\n",
       "        vertical-align: middle;\n",
       "    }\n",
       "\n",
       "    .dataframe tbody tr th {\n",
       "        vertical-align: top;\n",
       "    }\n",
       "\n",
       "    .dataframe thead th {\n",
       "        text-align: right;\n",
       "    }\n",
       "</style>\n",
       "<table border=\"1\" class=\"dataframe\">\n",
       "  <thead>\n",
       "    <tr style=\"text-align: right;\">\n",
       "      <th></th>\n",
       "      <th>mpl</th>\n",
       "      <th>mpl10</th>\n",
       "      <th>mpl50</th>\n",
       "      <th>mpl90</th>\n",
       "      <th>int_cvr</th>\n",
       "      <th>nmpl</th>\n",
       "    </tr>\n",
       "    <tr>\n",
       "      <th>site_id</th>\n",
       "      <th></th>\n",
       "      <th></th>\n",
       "      <th></th>\n",
       "      <th></th>\n",
       "      <th></th>\n",
       "      <th></th>\n",
       "    </tr>\n",
       "  </thead>\n",
       "  <tbody>\n",
       "    <tr>\n",
       "      <th>stehekin_r_at_stehekin</th>\n",
       "      <td>43.928149</td>\n",
       "      <td>27.272857</td>\n",
       "      <td>62.399451</td>\n",
       "      <td>42.112139</td>\n",
       "      <td>0.771429</td>\n",
       "      <td>0.058569</td>\n",
       "    </tr>\n",
       "    <tr>\n",
       "      <th>hungry_horse_reservoir_inflow</th>\n",
       "      <td>142.036349</td>\n",
       "      <td>79.411183</td>\n",
       "      <td>216.594891</td>\n",
       "      <td>130.102974</td>\n",
       "      <td>0.642857</td>\n",
       "      <td>0.064310</td>\n",
       "    </tr>\n",
       "    <tr>\n",
       "      <th>snake_r_nr_heise</th>\n",
       "      <td>209.576339</td>\n",
       "      <td>131.191851</td>\n",
       "      <td>342.568846</td>\n",
       "      <td>154.968320</td>\n",
       "      <td>0.707143</td>\n",
       "      <td>0.066171</td>\n",
       "    </tr>\n",
       "    <tr>\n",
       "      <th>boise_r_nr_boise</th>\n",
       "      <td>90.831721</td>\n",
       "      <td>56.358211</td>\n",
       "      <td>145.499511</td>\n",
       "      <td>70.637441</td>\n",
       "      <td>0.771429</td>\n",
       "      <td>0.075242</td>\n",
       "    </tr>\n",
       "    <tr>\n",
       "      <th>weber_r_nr_oakley</th>\n",
       "      <td>7.589490</td>\n",
       "      <td>4.450073</td>\n",
       "      <td>12.284327</td>\n",
       "      <td>6.034071</td>\n",
       "      <td>0.735714</td>\n",
       "      <td>0.081888</td>\n",
       "    </tr>\n",
       "    <tr>\n",
       "      <th>libby_reservoir_inflow</th>\n",
       "      <td>482.755408</td>\n",
       "      <td>269.761818</td>\n",
       "      <td>728.591169</td>\n",
       "      <td>449.913238</td>\n",
       "      <td>0.707143</td>\n",
       "      <td>0.084834</td>\n",
       "    </tr>\n",
       "    <tr>\n",
       "      <th>yampa_r_nr_maybell</th>\n",
       "      <td>75.144611</td>\n",
       "      <td>43.540061</td>\n",
       "      <td>128.148510</td>\n",
       "      <td>53.745262</td>\n",
       "      <td>0.850000</td>\n",
       "      <td>0.090139</td>\n",
       "    </tr>\n",
       "    <tr>\n",
       "      <th>ruedi_reservoir_inflow</th>\n",
       "      <td>10.665800</td>\n",
       "      <td>6.623867</td>\n",
       "      <td>17.249044</td>\n",
       "      <td>8.124489</td>\n",
       "      <td>0.767857</td>\n",
       "      <td>0.090491</td>\n",
       "    </tr>\n",
       "    <tr>\n",
       "      <th>skagit_ross_reservoir</th>\n",
       "      <td>134.091435</td>\n",
       "      <td>72.884923</td>\n",
       "      <td>202.043995</td>\n",
       "      <td>127.345386</td>\n",
       "      <td>0.542857</td>\n",
       "      <td>0.094826</td>\n",
       "    </tr>\n",
       "    <tr>\n",
       "      <th>animas_r_at_durango</th>\n",
       "      <td>29.725159</td>\n",
       "      <td>18.466145</td>\n",
       "      <td>45.990438</td>\n",
       "      <td>24.718893</td>\n",
       "      <td>0.778571</td>\n",
       "      <td>0.096769</td>\n",
       "    </tr>\n",
       "    <tr>\n",
       "      <th>green_r_bl_howard_a_hanson_dam</th>\n",
       "      <td>26.049775</td>\n",
       "      <td>15.386142</td>\n",
       "      <td>41.590061</td>\n",
       "      <td>21.173123</td>\n",
       "      <td>0.671429</td>\n",
       "      <td>0.099416</td>\n",
       "    </tr>\n",
       "    <tr>\n",
       "      <th>fontenelle_reservoir_inflow</th>\n",
       "      <td>65.457515</td>\n",
       "      <td>35.683596</td>\n",
       "      <td>108.971183</td>\n",
       "      <td>51.717768</td>\n",
       "      <td>0.885714</td>\n",
       "      <td>0.101020</td>\n",
       "    </tr>\n",
       "    <tr>\n",
       "      <th>dillon_reservoir_inflow</th>\n",
       "      <td>14.835377</td>\n",
       "      <td>8.906751</td>\n",
       "      <td>23.504995</td>\n",
       "      <td>12.094384</td>\n",
       "      <td>0.682143</td>\n",
       "      <td>0.105794</td>\n",
       "    </tr>\n",
       "    <tr>\n",
       "      <th>missouri_r_at_toston</th>\n",
       "      <td>195.511478</td>\n",
       "      <td>127.065044</td>\n",
       "      <td>313.797741</td>\n",
       "      <td>145.671648</td>\n",
       "      <td>0.846429</td>\n",
       "      <td>0.105920</td>\n",
       "    </tr>\n",
       "    <tr>\n",
       "      <th>merced_river_yosemite_at_pohono_bridge</th>\n",
       "      <td>35.376103</td>\n",
       "      <td>26.309684</td>\n",
       "      <td>55.316447</td>\n",
       "      <td>24.502178</td>\n",
       "      <td>0.703571</td>\n",
       "      <td>0.116113</td>\n",
       "    </tr>\n",
       "    <tr>\n",
       "      <th>pecos_r_nr_pecos</th>\n",
       "      <td>4.355626</td>\n",
       "      <td>2.218947</td>\n",
       "      <td>6.889067</td>\n",
       "      <td>3.958863</td>\n",
       "      <td>0.757143</td>\n",
       "      <td>0.117935</td>\n",
       "    </tr>\n",
       "    <tr>\n",
       "      <th>taylor_park_reservoir_inflow</th>\n",
       "      <td>10.241439</td>\n",
       "      <td>7.284813</td>\n",
       "      <td>15.803846</td>\n",
       "      <td>7.635656</td>\n",
       "      <td>0.685714</td>\n",
       "      <td>0.134397</td>\n",
       "    </tr>\n",
       "    <tr>\n",
       "      <th>colville_r_at_kettle_falls</th>\n",
       "      <td>18.042212</td>\n",
       "      <td>10.559362</td>\n",
       "      <td>26.733952</td>\n",
       "      <td>16.833322</td>\n",
       "      <td>0.732143</td>\n",
       "      <td>0.141262</td>\n",
       "    </tr>\n",
       "    <tr>\n",
       "      <th>detroit_lake_inflow</th>\n",
       "      <td>77.604982</td>\n",
       "      <td>40.720209</td>\n",
       "      <td>115.436375</td>\n",
       "      <td>76.658362</td>\n",
       "      <td>0.579167</td>\n",
       "      <td>0.148339</td>\n",
       "    </tr>\n",
       "    <tr>\n",
       "      <th>american_river_folsom_lake</th>\n",
       "      <td>158.483927</td>\n",
       "      <td>79.114595</td>\n",
       "      <td>256.866680</td>\n",
       "      <td>139.470507</td>\n",
       "      <td>0.710714</td>\n",
       "      <td>0.152352</td>\n",
       "    </tr>\n",
       "    <tr>\n",
       "      <th>pueblo_reservoir_inflow</th>\n",
       "      <td>45.761894</td>\n",
       "      <td>19.735453</td>\n",
       "      <td>72.573527</td>\n",
       "      <td>44.976701</td>\n",
       "      <td>0.667857</td>\n",
       "      <td>0.169259</td>\n",
       "    </tr>\n",
       "    <tr>\n",
       "      <th>boysen_reservoir_inflow</th>\n",
       "      <td>103.402808</td>\n",
       "      <td>56.174884</td>\n",
       "      <td>165.093136</td>\n",
       "      <td>88.940402</td>\n",
       "      <td>0.685714</td>\n",
       "      <td>0.169951</td>\n",
       "    </tr>\n",
       "    <tr>\n",
       "      <th>san_joaquin_river_millerton_reservoir</th>\n",
       "      <td>170.428554</td>\n",
       "      <td>111.013704</td>\n",
       "      <td>278.287099</td>\n",
       "      <td>121.984860</td>\n",
       "      <td>0.596429</td>\n",
       "      <td>0.178467</td>\n",
       "    </tr>\n",
       "    <tr>\n",
       "      <th>virgin_r_at_virtin</th>\n",
       "      <td>6.681579</td>\n",
       "      <td>3.664385</td>\n",
       "      <td>10.370832</td>\n",
       "      <td>6.009519</td>\n",
       "      <td>0.660714</td>\n",
       "      <td>0.184379</td>\n",
       "    </tr>\n",
       "    <tr>\n",
       "      <th>owyhee_r_bl_owyhee_dam</th>\n",
       "      <td>51.768310</td>\n",
       "      <td>23.278492</td>\n",
       "      <td>81.714981</td>\n",
       "      <td>50.311457</td>\n",
       "      <td>0.760714</td>\n",
       "      <td>0.199893</td>\n",
       "    </tr>\n",
       "    <tr>\n",
       "      <th>sweetwater_r_nr_alcova</th>\n",
       "      <td>10.752879</td>\n",
       "      <td>4.630663</td>\n",
       "      <td>18.713037</td>\n",
       "      <td>8.914937</td>\n",
       "      <td>0.750000</td>\n",
       "      <td>0.253514</td>\n",
       "    </tr>\n",
       "  </tbody>\n",
       "</table>\n",
       "</div>"
      ],
      "text/plain": [
       "                                               mpl       mpl10       mpl50  \\\n",
       "site_id                                                                      \n",
       "stehekin_r_at_stehekin                   43.928149   27.272857   62.399451   \n",
       "hungry_horse_reservoir_inflow           142.036349   79.411183  216.594891   \n",
       "snake_r_nr_heise                        209.576339  131.191851  342.568846   \n",
       "boise_r_nr_boise                         90.831721   56.358211  145.499511   \n",
       "weber_r_nr_oakley                         7.589490    4.450073   12.284327   \n",
       "libby_reservoir_inflow                  482.755408  269.761818  728.591169   \n",
       "yampa_r_nr_maybell                       75.144611   43.540061  128.148510   \n",
       "ruedi_reservoir_inflow                   10.665800    6.623867   17.249044   \n",
       "skagit_ross_reservoir                   134.091435   72.884923  202.043995   \n",
       "animas_r_at_durango                      29.725159   18.466145   45.990438   \n",
       "green_r_bl_howard_a_hanson_dam           26.049775   15.386142   41.590061   \n",
       "fontenelle_reservoir_inflow              65.457515   35.683596  108.971183   \n",
       "dillon_reservoir_inflow                  14.835377    8.906751   23.504995   \n",
       "missouri_r_at_toston                    195.511478  127.065044  313.797741   \n",
       "merced_river_yosemite_at_pohono_bridge   35.376103   26.309684   55.316447   \n",
       "pecos_r_nr_pecos                          4.355626    2.218947    6.889067   \n",
       "taylor_park_reservoir_inflow             10.241439    7.284813   15.803846   \n",
       "colville_r_at_kettle_falls               18.042212   10.559362   26.733952   \n",
       "detroit_lake_inflow                      77.604982   40.720209  115.436375   \n",
       "american_river_folsom_lake              158.483927   79.114595  256.866680   \n",
       "pueblo_reservoir_inflow                  45.761894   19.735453   72.573527   \n",
       "boysen_reservoir_inflow                 103.402808   56.174884  165.093136   \n",
       "san_joaquin_river_millerton_reservoir   170.428554  111.013704  278.287099   \n",
       "virgin_r_at_virtin                        6.681579    3.664385   10.370832   \n",
       "owyhee_r_bl_owyhee_dam                   51.768310   23.278492   81.714981   \n",
       "sweetwater_r_nr_alcova                   10.752879    4.630663   18.713037   \n",
       "\n",
       "                                             mpl90   int_cvr      nmpl  \n",
       "site_id                                                                 \n",
       "stehekin_r_at_stehekin                   42.112139  0.771429  0.058569  \n",
       "hungry_horse_reservoir_inflow           130.102974  0.642857  0.064310  \n",
       "snake_r_nr_heise                        154.968320  0.707143  0.066171  \n",
       "boise_r_nr_boise                         70.637441  0.771429  0.075242  \n",
       "weber_r_nr_oakley                         6.034071  0.735714  0.081888  \n",
       "libby_reservoir_inflow                  449.913238  0.707143  0.084834  \n",
       "yampa_r_nr_maybell                       53.745262  0.850000  0.090139  \n",
       "ruedi_reservoir_inflow                    8.124489  0.767857  0.090491  \n",
       "skagit_ross_reservoir                   127.345386  0.542857  0.094826  \n",
       "animas_r_at_durango                      24.718893  0.778571  0.096769  \n",
       "green_r_bl_howard_a_hanson_dam           21.173123  0.671429  0.099416  \n",
       "fontenelle_reservoir_inflow              51.717768  0.885714  0.101020  \n",
       "dillon_reservoir_inflow                  12.094384  0.682143  0.105794  \n",
       "missouri_r_at_toston                    145.671648  0.846429  0.105920  \n",
       "merced_river_yosemite_at_pohono_bridge   24.502178  0.703571  0.116113  \n",
       "pecos_r_nr_pecos                          3.958863  0.757143  0.117935  \n",
       "taylor_park_reservoir_inflow              7.635656  0.685714  0.134397  \n",
       "colville_r_at_kettle_falls               16.833322  0.732143  0.141262  \n",
       "detroit_lake_inflow                      76.658362  0.579167  0.148339  \n",
       "american_river_folsom_lake              139.470507  0.710714  0.152352  \n",
       "pueblo_reservoir_inflow                  44.976701  0.667857  0.169259  \n",
       "boysen_reservoir_inflow                  88.940402  0.685714  0.169951  \n",
       "san_joaquin_river_millerton_reservoir   121.984860  0.596429  0.178467  \n",
       "virgin_r_at_virtin                        6.009519  0.660714  0.184379  \n",
       "owyhee_r_bl_owyhee_dam                   50.311457  0.760714  0.199893  \n",
       "sweetwater_r_nr_alcova                    8.914937  0.750000  0.253514  "
      ]
     },
     "execution_count": 5,
     "metadata": {},
     "output_type": "execute_result"
    }
   ],
   "source": [
    "eval_agg(df_pred_val_ens_pp, [\"site_id\"], is_include_mean_std=False).assign(\n",
    "    nmpl = lambda x: x['mpl'] / x['actual_mean']\n",
    ")[['mpl','mpl10','mpl50','mpl90','int_cvr','nmpl']].sort_values(\"nmpl\")"
   ]
  },
  {
   "cell_type": "code",
   "execution_count": 6,
   "metadata": {},
   "outputs": [
    {
     "data": {
      "application/vnd.plotly.v1+json": {
       "config": {
        "plotlyServerURL": "https://plot.ly"
       },
       "data": [
        {
         "alignmentgroup": "True",
         "hovertemplate": "month=%{x}<br>value=%{y}<extra></extra>",
         "legendgroup": "",
         "marker": {
          "color": "#636efa"
         },
         "name": "",
         "notched": false,
         "offsetgroup": "",
         "orientation": "v",
         "showlegend": false,
         "type": "box",
         "x": [
          1,
          2,
          3,
          4,
          5,
          6,
          7,
          1,
          2,
          3,
          4,
          5,
          6,
          7,
          1,
          2,
          3,
          4,
          5,
          6,
          7,
          1,
          2,
          3,
          4,
          5,
          6,
          7,
          1,
          2,
          3,
          4,
          5,
          6,
          7,
          1,
          2,
          3,
          4,
          5,
          6,
          7,
          1,
          2,
          3,
          4,
          5,
          6,
          7,
          1,
          2,
          3,
          4,
          5,
          6,
          7,
          1,
          2,
          3,
          4,
          5,
          6,
          7,
          1,
          2,
          3,
          4,
          5,
          6,
          7
         ],
         "x0": " ",
         "xaxis": "x",
         "y": [
          192.06747307711422,
          177.39802756011053,
          144.69800116770529,
          57.22377198756637,
          46.879304057408405,
          28.472299227754068,
          13.926485887438261,
          155.50101309722257,
          152.73797815049522,
          143.5503168524884,
          91.9861534528165,
          61.28724741375738,
          39.86419018527581,
          30.203807632356497,
          99.95223661708877,
          105.06709838570488,
          91.37758671800145,
          99.32369260524668,
          81.25916427973017,
          64.84595951411086,
          22.63362525945696,
          110.54075794030625,
          105.939510429137,
          126.58630214122824,
          94.02971152483222,
          58.19531933066387,
          44.53755196827196,
          24.36292591051382,
          228.92957376401708,
          215.02147916711854,
          180.36059727090503,
          119.31909262579109,
          77.32824773319594,
          57.805662806848886,
          29.502732291132798,
          150.2037956633227,
          142.70065293137256,
          74.6824657896729,
          61.218375459259654,
          56.176208720676634,
          34.28967120815457,
          19.6734042769034,
          103.79531167040936,
          96.36101090915754,
          86.55708612200806,
          73.85142005255511,
          56.68464386720681,
          47.25126986394954,
          23.09014275117498,
          109.71476569389615,
          110.34268929819756,
          102.87235955433322,
          85.11077669223506,
          91.75018684517477,
          60.3556496318328,
          21.554322577530826,
          87.47015781358748,
          72.08997150276497,
          80.00551417215155,
          60.214811768899644,
          65.78688064354263,
          45.43030417974685,
          15.392849962811562,
          164.31489279873674,
          101.72489767329112,
          75.17595163759518,
          69.9163717533775,
          59.78496922696136,
          42.971761449725584,
          23.93672476114944
         ],
         "y0": " ",
         "yaxis": "y"
        }
       ],
       "layout": {
        "boxmode": "group",
        "legend": {
         "tracegroupgap": 0
        },
        "margin": {
         "t": 60
        },
        "template": {
         "data": {
          "bar": [
           {
            "error_x": {
             "color": "#2a3f5f"
            },
            "error_y": {
             "color": "#2a3f5f"
            },
            "marker": {
             "line": {
              "color": "#E5ECF6",
              "width": 0.5
             },
             "pattern": {
              "fillmode": "overlay",
              "size": 10,
              "solidity": 0.2
             }
            },
            "type": "bar"
           }
          ],
          "barpolar": [
           {
            "marker": {
             "line": {
              "color": "#E5ECF6",
              "width": 0.5
             },
             "pattern": {
              "fillmode": "overlay",
              "size": 10,
              "solidity": 0.2
             }
            },
            "type": "barpolar"
           }
          ],
          "carpet": [
           {
            "aaxis": {
             "endlinecolor": "#2a3f5f",
             "gridcolor": "white",
             "linecolor": "white",
             "minorgridcolor": "white",
             "startlinecolor": "#2a3f5f"
            },
            "baxis": {
             "endlinecolor": "#2a3f5f",
             "gridcolor": "white",
             "linecolor": "white",
             "minorgridcolor": "white",
             "startlinecolor": "#2a3f5f"
            },
            "type": "carpet"
           }
          ],
          "choropleth": [
           {
            "colorbar": {
             "outlinewidth": 0,
             "ticks": ""
            },
            "type": "choropleth"
           }
          ],
          "contour": [
           {
            "colorbar": {
             "outlinewidth": 0,
             "ticks": ""
            },
            "colorscale": [
             [
              0,
              "#0d0887"
             ],
             [
              0.1111111111111111,
              "#46039f"
             ],
             [
              0.2222222222222222,
              "#7201a8"
             ],
             [
              0.3333333333333333,
              "#9c179e"
             ],
             [
              0.4444444444444444,
              "#bd3786"
             ],
             [
              0.5555555555555556,
              "#d8576b"
             ],
             [
              0.6666666666666666,
              "#ed7953"
             ],
             [
              0.7777777777777778,
              "#fb9f3a"
             ],
             [
              0.8888888888888888,
              "#fdca26"
             ],
             [
              1,
              "#f0f921"
             ]
            ],
            "type": "contour"
           }
          ],
          "contourcarpet": [
           {
            "colorbar": {
             "outlinewidth": 0,
             "ticks": ""
            },
            "type": "contourcarpet"
           }
          ],
          "heatmap": [
           {
            "colorbar": {
             "outlinewidth": 0,
             "ticks": ""
            },
            "colorscale": [
             [
              0,
              "#0d0887"
             ],
             [
              0.1111111111111111,
              "#46039f"
             ],
             [
              0.2222222222222222,
              "#7201a8"
             ],
             [
              0.3333333333333333,
              "#9c179e"
             ],
             [
              0.4444444444444444,
              "#bd3786"
             ],
             [
              0.5555555555555556,
              "#d8576b"
             ],
             [
              0.6666666666666666,
              "#ed7953"
             ],
             [
              0.7777777777777778,
              "#fb9f3a"
             ],
             [
              0.8888888888888888,
              "#fdca26"
             ],
             [
              1,
              "#f0f921"
             ]
            ],
            "type": "heatmap"
           }
          ],
          "heatmapgl": [
           {
            "colorbar": {
             "outlinewidth": 0,
             "ticks": ""
            },
            "colorscale": [
             [
              0,
              "#0d0887"
             ],
             [
              0.1111111111111111,
              "#46039f"
             ],
             [
              0.2222222222222222,
              "#7201a8"
             ],
             [
              0.3333333333333333,
              "#9c179e"
             ],
             [
              0.4444444444444444,
              "#bd3786"
             ],
             [
              0.5555555555555556,
              "#d8576b"
             ],
             [
              0.6666666666666666,
              "#ed7953"
             ],
             [
              0.7777777777777778,
              "#fb9f3a"
             ],
             [
              0.8888888888888888,
              "#fdca26"
             ],
             [
              1,
              "#f0f921"
             ]
            ],
            "type": "heatmapgl"
           }
          ],
          "histogram": [
           {
            "marker": {
             "pattern": {
              "fillmode": "overlay",
              "size": 10,
              "solidity": 0.2
             }
            },
            "type": "histogram"
           }
          ],
          "histogram2d": [
           {
            "colorbar": {
             "outlinewidth": 0,
             "ticks": ""
            },
            "colorscale": [
             [
              0,
              "#0d0887"
             ],
             [
              0.1111111111111111,
              "#46039f"
             ],
             [
              0.2222222222222222,
              "#7201a8"
             ],
             [
              0.3333333333333333,
              "#9c179e"
             ],
             [
              0.4444444444444444,
              "#bd3786"
             ],
             [
              0.5555555555555556,
              "#d8576b"
             ],
             [
              0.6666666666666666,
              "#ed7953"
             ],
             [
              0.7777777777777778,
              "#fb9f3a"
             ],
             [
              0.8888888888888888,
              "#fdca26"
             ],
             [
              1,
              "#f0f921"
             ]
            ],
            "type": "histogram2d"
           }
          ],
          "histogram2dcontour": [
           {
            "colorbar": {
             "outlinewidth": 0,
             "ticks": ""
            },
            "colorscale": [
             [
              0,
              "#0d0887"
             ],
             [
              0.1111111111111111,
              "#46039f"
             ],
             [
              0.2222222222222222,
              "#7201a8"
             ],
             [
              0.3333333333333333,
              "#9c179e"
             ],
             [
              0.4444444444444444,
              "#bd3786"
             ],
             [
              0.5555555555555556,
              "#d8576b"
             ],
             [
              0.6666666666666666,
              "#ed7953"
             ],
             [
              0.7777777777777778,
              "#fb9f3a"
             ],
             [
              0.8888888888888888,
              "#fdca26"
             ],
             [
              1,
              "#f0f921"
             ]
            ],
            "type": "histogram2dcontour"
           }
          ],
          "mesh3d": [
           {
            "colorbar": {
             "outlinewidth": 0,
             "ticks": ""
            },
            "type": "mesh3d"
           }
          ],
          "parcoords": [
           {
            "line": {
             "colorbar": {
              "outlinewidth": 0,
              "ticks": ""
             }
            },
            "type": "parcoords"
           }
          ],
          "pie": [
           {
            "automargin": true,
            "type": "pie"
           }
          ],
          "scatter": [
           {
            "fillpattern": {
             "fillmode": "overlay",
             "size": 10,
             "solidity": 0.2
            },
            "type": "scatter"
           }
          ],
          "scatter3d": [
           {
            "line": {
             "colorbar": {
              "outlinewidth": 0,
              "ticks": ""
             }
            },
            "marker": {
             "colorbar": {
              "outlinewidth": 0,
              "ticks": ""
             }
            },
            "type": "scatter3d"
           }
          ],
          "scattercarpet": [
           {
            "marker": {
             "colorbar": {
              "outlinewidth": 0,
              "ticks": ""
             }
            },
            "type": "scattercarpet"
           }
          ],
          "scattergeo": [
           {
            "marker": {
             "colorbar": {
              "outlinewidth": 0,
              "ticks": ""
             }
            },
            "type": "scattergeo"
           }
          ],
          "scattergl": [
           {
            "marker": {
             "colorbar": {
              "outlinewidth": 0,
              "ticks": ""
             }
            },
            "type": "scattergl"
           }
          ],
          "scattermapbox": [
           {
            "marker": {
             "colorbar": {
              "outlinewidth": 0,
              "ticks": ""
             }
            },
            "type": "scattermapbox"
           }
          ],
          "scatterpolar": [
           {
            "marker": {
             "colorbar": {
              "outlinewidth": 0,
              "ticks": ""
             }
            },
            "type": "scatterpolar"
           }
          ],
          "scatterpolargl": [
           {
            "marker": {
             "colorbar": {
              "outlinewidth": 0,
              "ticks": ""
             }
            },
            "type": "scatterpolargl"
           }
          ],
          "scatterternary": [
           {
            "marker": {
             "colorbar": {
              "outlinewidth": 0,
              "ticks": ""
             }
            },
            "type": "scatterternary"
           }
          ],
          "surface": [
           {
            "colorbar": {
             "outlinewidth": 0,
             "ticks": ""
            },
            "colorscale": [
             [
              0,
              "#0d0887"
             ],
             [
              0.1111111111111111,
              "#46039f"
             ],
             [
              0.2222222222222222,
              "#7201a8"
             ],
             [
              0.3333333333333333,
              "#9c179e"
             ],
             [
              0.4444444444444444,
              "#bd3786"
             ],
             [
              0.5555555555555556,
              "#d8576b"
             ],
             [
              0.6666666666666666,
              "#ed7953"
             ],
             [
              0.7777777777777778,
              "#fb9f3a"
             ],
             [
              0.8888888888888888,
              "#fdca26"
             ],
             [
              1,
              "#f0f921"
             ]
            ],
            "type": "surface"
           }
          ],
          "table": [
           {
            "cells": {
             "fill": {
              "color": "#EBF0F8"
             },
             "line": {
              "color": "white"
             }
            },
            "header": {
             "fill": {
              "color": "#C8D4E3"
             },
             "line": {
              "color": "white"
             }
            },
            "type": "table"
           }
          ]
         },
         "layout": {
          "annotationdefaults": {
           "arrowcolor": "#2a3f5f",
           "arrowhead": 0,
           "arrowwidth": 1
          },
          "autotypenumbers": "strict",
          "coloraxis": {
           "colorbar": {
            "outlinewidth": 0,
            "ticks": ""
           }
          },
          "colorscale": {
           "diverging": [
            [
             0,
             "#8e0152"
            ],
            [
             0.1,
             "#c51b7d"
            ],
            [
             0.2,
             "#de77ae"
            ],
            [
             0.3,
             "#f1b6da"
            ],
            [
             0.4,
             "#fde0ef"
            ],
            [
             0.5,
             "#f7f7f7"
            ],
            [
             0.6,
             "#e6f5d0"
            ],
            [
             0.7,
             "#b8e186"
            ],
            [
             0.8,
             "#7fbc41"
            ],
            [
             0.9,
             "#4d9221"
            ],
            [
             1,
             "#276419"
            ]
           ],
           "sequential": [
            [
             0,
             "#0d0887"
            ],
            [
             0.1111111111111111,
             "#46039f"
            ],
            [
             0.2222222222222222,
             "#7201a8"
            ],
            [
             0.3333333333333333,
             "#9c179e"
            ],
            [
             0.4444444444444444,
             "#bd3786"
            ],
            [
             0.5555555555555556,
             "#d8576b"
            ],
            [
             0.6666666666666666,
             "#ed7953"
            ],
            [
             0.7777777777777778,
             "#fb9f3a"
            ],
            [
             0.8888888888888888,
             "#fdca26"
            ],
            [
             1,
             "#f0f921"
            ]
           ],
           "sequentialminus": [
            [
             0,
             "#0d0887"
            ],
            [
             0.1111111111111111,
             "#46039f"
            ],
            [
             0.2222222222222222,
             "#7201a8"
            ],
            [
             0.3333333333333333,
             "#9c179e"
            ],
            [
             0.4444444444444444,
             "#bd3786"
            ],
            [
             0.5555555555555556,
             "#d8576b"
            ],
            [
             0.6666666666666666,
             "#ed7953"
            ],
            [
             0.7777777777777778,
             "#fb9f3a"
            ],
            [
             0.8888888888888888,
             "#fdca26"
            ],
            [
             1,
             "#f0f921"
            ]
           ]
          },
          "colorway": [
           "#636efa",
           "#EF553B",
           "#00cc96",
           "#ab63fa",
           "#FFA15A",
           "#19d3f3",
           "#FF6692",
           "#B6E880",
           "#FF97FF",
           "#FECB52"
          ],
          "font": {
           "color": "#2a3f5f"
          },
          "geo": {
           "bgcolor": "white",
           "lakecolor": "white",
           "landcolor": "#E5ECF6",
           "showlakes": true,
           "showland": true,
           "subunitcolor": "white"
          },
          "hoverlabel": {
           "align": "left"
          },
          "hovermode": "closest",
          "mapbox": {
           "style": "light"
          },
          "paper_bgcolor": "white",
          "plot_bgcolor": "#E5ECF6",
          "polar": {
           "angularaxis": {
            "gridcolor": "white",
            "linecolor": "white",
            "ticks": ""
           },
           "bgcolor": "#E5ECF6",
           "radialaxis": {
            "gridcolor": "white",
            "linecolor": "white",
            "ticks": ""
           }
          },
          "scene": {
           "xaxis": {
            "backgroundcolor": "#E5ECF6",
            "gridcolor": "white",
            "gridwidth": 2,
            "linecolor": "white",
            "showbackground": true,
            "ticks": "",
            "zerolinecolor": "white"
           },
           "yaxis": {
            "backgroundcolor": "#E5ECF6",
            "gridcolor": "white",
            "gridwidth": 2,
            "linecolor": "white",
            "showbackground": true,
            "ticks": "",
            "zerolinecolor": "white"
           },
           "zaxis": {
            "backgroundcolor": "#E5ECF6",
            "gridcolor": "white",
            "gridwidth": 2,
            "linecolor": "white",
            "showbackground": true,
            "ticks": "",
            "zerolinecolor": "white"
           }
          },
          "shapedefaults": {
           "line": {
            "color": "#2a3f5f"
           }
          },
          "ternary": {
           "aaxis": {
            "gridcolor": "white",
            "linecolor": "white",
            "ticks": ""
           },
           "baxis": {
            "gridcolor": "white",
            "linecolor": "white",
            "ticks": ""
           },
           "bgcolor": "#E5ECF6",
           "caxis": {
            "gridcolor": "white",
            "linecolor": "white",
            "ticks": ""
           }
          },
          "title": {
           "x": 0.05
          },
          "xaxis": {
           "automargin": true,
           "gridcolor": "white",
           "linecolor": "white",
           "ticks": "",
           "title": {
            "standoff": 15
           },
           "zerolinecolor": "white",
           "zerolinewidth": 2
          },
          "yaxis": {
           "automargin": true,
           "gridcolor": "white",
           "linecolor": "white",
           "ticks": "",
           "title": {
            "standoff": 15
           },
           "zerolinecolor": "white",
           "zerolinewidth": 2
          }
         }
        },
        "xaxis": {
         "anchor": "y",
         "domain": [
          0,
          1
         ],
         "title": {
          "text": "month"
         }
        },
        "yaxis": {
         "anchor": "x",
         "domain": [
          0,
          1
         ],
         "title": {
          "text": "value"
         }
        }
       }
      }
     },
     "metadata": {},
     "output_type": "display_data"
    }
   ],
   "source": [
    "px.box(\n",
    "    eval_agg(df_pred_val_ens, [\"year\",\"month\"]).reset_index(),\n",
    "    x='month',\n",
    "    y=['mpl']\n",
    ")"
   ]
  },
  {
   "cell_type": "code",
   "execution_count": 7,
   "metadata": {},
   "outputs": [
    {
     "data": {
      "application/vnd.plotly.v1+json": {
       "config": {
        "plotlyServerURL": "https://plot.ly"
       },
       "data": [
        {
         "hovertemplate": "variable=mpl<br>md_id=%{x}<br>value=%{y}<extra></extra>",
         "legendgroup": "mpl",
         "line": {
          "color": "#636efa",
          "dash": "solid"
         },
         "marker": {
          "symbol": "circle"
         },
         "mode": "lines",
         "name": "mpl",
         "orientation": "v",
         "showlegend": true,
         "type": "scatter",
         "x": [
          0,
          1,
          2,
          3,
          4,
          5,
          6,
          7,
          8,
          9,
          10,
          11,
          12,
          13,
          14,
          15,
          16,
          17,
          18,
          19,
          20,
          21,
          22,
          23,
          24,
          25,
          26,
          27
         ],
         "xaxis": "x",
         "y": [
          145.1736165090336,
          150.80527267365358,
          135.58253800816246,
          129.43456406343088,
          132.93093725128304,
          130.89869785355992,
          125.67288550400148,
          122.25080579409554,
          117.95542393771757,
          115.02148265150619,
          108.99282689070418,
          100.37673909050777,
          90.6078843729705,
          82.25386069783589,
          75.71759794261494,
          76.29832815561059,
          69.48478088150863,
          66.09471292278948,
          62.527205916792475,
          63.94616912623661,
          52.52171136863027,
          46.87181486980773,
          45.32600395552168,
          41.6101978203087,
          23.94834089982262,
          21.548054841441655,
          21.697678882183087,
          22.516733900740054
         ],
         "yaxis": "y"
        },
        {
         "hovertemplate": "variable=mpl10<br>md_id=%{x}<br>value=%{y}<extra></extra>",
         "legendgroup": "mpl10",
         "line": {
          "color": "#EF553B",
          "dash": "solid"
         },
         "marker": {
          "symbol": "circle"
         },
         "mode": "lines",
         "name": "mpl10",
         "orientation": "v",
         "showlegend": true,
         "type": "scatter",
         "x": [
          0,
          1,
          2,
          3,
          4,
          5,
          6,
          7,
          8,
          9,
          10,
          11,
          12,
          13,
          14,
          15,
          16,
          17,
          18,
          19,
          20,
          21,
          22,
          23,
          24,
          25,
          26,
          27
         ],
         "xaxis": "x",
         "y": [
          81.43933495851053,
          85.88718730645667,
          77.02384269136103,
          68.17303818313457,
          70.63726174442742,
          68.94607878824854,
          66.78583399194342,
          66.14699088780748,
          65.58323690787091,
          65.25927941715615,
          61.622501422162166,
          54.26995938653058,
          50.455215243368166,
          46.83411353489033,
          45.002778076990936,
          47.41741055801274,
          43.33349627384609,
          41.61534764894539,
          41.004501452038646,
          40.48232302948033,
          34.80928286803483,
          32.373185222541636,
          28.645523716710102,
          23.340740470987193,
          14.500129884837552,
          14.175764715688715,
          13.497117618987737,
          14.42161874209287
         ],
         "yaxis": "y"
        },
        {
         "hovertemplate": "variable=mpl50<br>md_id=%{x}<br>value=%{y}<extra></extra>",
         "legendgroup": "mpl50",
         "line": {
          "color": "#00cc96",
          "dash": "solid"
         },
         "marker": {
          "symbol": "circle"
         },
         "mode": "lines",
         "name": "mpl50",
         "orientation": "v",
         "showlegend": true,
         "type": "scatter",
         "x": [
          0,
          1,
          2,
          3,
          4,
          5,
          6,
          7,
          8,
          9,
          10,
          11,
          12,
          13,
          14,
          15,
          16,
          17,
          18,
          19,
          20,
          21,
          22,
          23,
          24,
          25,
          26,
          27
         ],
         "xaxis": "x",
         "y": [
          235.41473521768512,
          237.88623152224878,
          213.42889500935524,
          207.08528589320227,
          212.05033287691634,
          210.6677645128659,
          195.23176960333913,
          191.02993023422073,
          183.469322727473,
          179.03122026507174,
          171.96004692771226,
          159.17697508412385,
          146.68329149640363,
          131.30900524854906,
          119.68885757599132,
          115.78328994689369,
          106.60348768024932,
          102.4129529058138,
          97.41629162916752,
          102.1448788852622,
          80.71924312136686,
          71.46818777016274,
          71.63061118663609,
          66.49496864219834,
          37.21375367150717,
          32.281188328095055,
          32.86343739895291,
          34.42196369812213
         ],
         "yaxis": "y"
        },
        {
         "hovertemplate": "variable=mpl90<br>md_id=%{x}<br>value=%{y}<extra></extra>",
         "legendgroup": "mpl90",
         "line": {
          "color": "#ab63fa",
          "dash": "solid"
         },
         "marker": {
          "symbol": "circle"
         },
         "mode": "lines",
         "name": "mpl90",
         "orientation": "v",
         "showlegend": true,
         "type": "scatter",
         "x": [
          0,
          1,
          2,
          3,
          4,
          5,
          6,
          7,
          8,
          9,
          10,
          11,
          12,
          13,
          14,
          15,
          16,
          17,
          18,
          19,
          20,
          21,
          22,
          23,
          24,
          25,
          26,
          27
         ],
         "xaxis": "x",
         "y": [
          118.66677935090513,
          128.64239919225528,
          116.29487632377113,
          113.04536811395582,
          116.10521713250536,
          113.08225025956533,
          115.00105291672192,
          109.57549626025843,
          104.81371217780878,
          100.7739482722907,
          93.39593232223812,
          87.68328280086887,
          74.68514637913971,
          68.61846331006832,
          62.461158174862575,
          65.69428396192535,
          58.51735869043045,
          54.255838213609266,
          49.160824669171255,
          49.21130546396732,
          42.03660811648912,
          36.77407161671879,
          35.70187696321884,
          34.99488434774055,
          20.131139143123136,
          18.187211480541198,
          18.73248162860862,
          18.70661926200517
         ],
         "yaxis": "y"
        }
       ],
       "layout": {
        "legend": {
         "title": {
          "text": "variable"
         },
         "tracegroupgap": 0
        },
        "margin": {
         "t": 60
        },
        "template": {
         "data": {
          "bar": [
           {
            "error_x": {
             "color": "#2a3f5f"
            },
            "error_y": {
             "color": "#2a3f5f"
            },
            "marker": {
             "line": {
              "color": "#E5ECF6",
              "width": 0.5
             },
             "pattern": {
              "fillmode": "overlay",
              "size": 10,
              "solidity": 0.2
             }
            },
            "type": "bar"
           }
          ],
          "barpolar": [
           {
            "marker": {
             "line": {
              "color": "#E5ECF6",
              "width": 0.5
             },
             "pattern": {
              "fillmode": "overlay",
              "size": 10,
              "solidity": 0.2
             }
            },
            "type": "barpolar"
           }
          ],
          "carpet": [
           {
            "aaxis": {
             "endlinecolor": "#2a3f5f",
             "gridcolor": "white",
             "linecolor": "white",
             "minorgridcolor": "white",
             "startlinecolor": "#2a3f5f"
            },
            "baxis": {
             "endlinecolor": "#2a3f5f",
             "gridcolor": "white",
             "linecolor": "white",
             "minorgridcolor": "white",
             "startlinecolor": "#2a3f5f"
            },
            "type": "carpet"
           }
          ],
          "choropleth": [
           {
            "colorbar": {
             "outlinewidth": 0,
             "ticks": ""
            },
            "type": "choropleth"
           }
          ],
          "contour": [
           {
            "colorbar": {
             "outlinewidth": 0,
             "ticks": ""
            },
            "colorscale": [
             [
              0,
              "#0d0887"
             ],
             [
              0.1111111111111111,
              "#46039f"
             ],
             [
              0.2222222222222222,
              "#7201a8"
             ],
             [
              0.3333333333333333,
              "#9c179e"
             ],
             [
              0.4444444444444444,
              "#bd3786"
             ],
             [
              0.5555555555555556,
              "#d8576b"
             ],
             [
              0.6666666666666666,
              "#ed7953"
             ],
             [
              0.7777777777777778,
              "#fb9f3a"
             ],
             [
              0.8888888888888888,
              "#fdca26"
             ],
             [
              1,
              "#f0f921"
             ]
            ],
            "type": "contour"
           }
          ],
          "contourcarpet": [
           {
            "colorbar": {
             "outlinewidth": 0,
             "ticks": ""
            },
            "type": "contourcarpet"
           }
          ],
          "heatmap": [
           {
            "colorbar": {
             "outlinewidth": 0,
             "ticks": ""
            },
            "colorscale": [
             [
              0,
              "#0d0887"
             ],
             [
              0.1111111111111111,
              "#46039f"
             ],
             [
              0.2222222222222222,
              "#7201a8"
             ],
             [
              0.3333333333333333,
              "#9c179e"
             ],
             [
              0.4444444444444444,
              "#bd3786"
             ],
             [
              0.5555555555555556,
              "#d8576b"
             ],
             [
              0.6666666666666666,
              "#ed7953"
             ],
             [
              0.7777777777777778,
              "#fb9f3a"
             ],
             [
              0.8888888888888888,
              "#fdca26"
             ],
             [
              1,
              "#f0f921"
             ]
            ],
            "type": "heatmap"
           }
          ],
          "heatmapgl": [
           {
            "colorbar": {
             "outlinewidth": 0,
             "ticks": ""
            },
            "colorscale": [
             [
              0,
              "#0d0887"
             ],
             [
              0.1111111111111111,
              "#46039f"
             ],
             [
              0.2222222222222222,
              "#7201a8"
             ],
             [
              0.3333333333333333,
              "#9c179e"
             ],
             [
              0.4444444444444444,
              "#bd3786"
             ],
             [
              0.5555555555555556,
              "#d8576b"
             ],
             [
              0.6666666666666666,
              "#ed7953"
             ],
             [
              0.7777777777777778,
              "#fb9f3a"
             ],
             [
              0.8888888888888888,
              "#fdca26"
             ],
             [
              1,
              "#f0f921"
             ]
            ],
            "type": "heatmapgl"
           }
          ],
          "histogram": [
           {
            "marker": {
             "pattern": {
              "fillmode": "overlay",
              "size": 10,
              "solidity": 0.2
             }
            },
            "type": "histogram"
           }
          ],
          "histogram2d": [
           {
            "colorbar": {
             "outlinewidth": 0,
             "ticks": ""
            },
            "colorscale": [
             [
              0,
              "#0d0887"
             ],
             [
              0.1111111111111111,
              "#46039f"
             ],
             [
              0.2222222222222222,
              "#7201a8"
             ],
             [
              0.3333333333333333,
              "#9c179e"
             ],
             [
              0.4444444444444444,
              "#bd3786"
             ],
             [
              0.5555555555555556,
              "#d8576b"
             ],
             [
              0.6666666666666666,
              "#ed7953"
             ],
             [
              0.7777777777777778,
              "#fb9f3a"
             ],
             [
              0.8888888888888888,
              "#fdca26"
             ],
             [
              1,
              "#f0f921"
             ]
            ],
            "type": "histogram2d"
           }
          ],
          "histogram2dcontour": [
           {
            "colorbar": {
             "outlinewidth": 0,
             "ticks": ""
            },
            "colorscale": [
             [
              0,
              "#0d0887"
             ],
             [
              0.1111111111111111,
              "#46039f"
             ],
             [
              0.2222222222222222,
              "#7201a8"
             ],
             [
              0.3333333333333333,
              "#9c179e"
             ],
             [
              0.4444444444444444,
              "#bd3786"
             ],
             [
              0.5555555555555556,
              "#d8576b"
             ],
             [
              0.6666666666666666,
              "#ed7953"
             ],
             [
              0.7777777777777778,
              "#fb9f3a"
             ],
             [
              0.8888888888888888,
              "#fdca26"
             ],
             [
              1,
              "#f0f921"
             ]
            ],
            "type": "histogram2dcontour"
           }
          ],
          "mesh3d": [
           {
            "colorbar": {
             "outlinewidth": 0,
             "ticks": ""
            },
            "type": "mesh3d"
           }
          ],
          "parcoords": [
           {
            "line": {
             "colorbar": {
              "outlinewidth": 0,
              "ticks": ""
             }
            },
            "type": "parcoords"
           }
          ],
          "pie": [
           {
            "automargin": true,
            "type": "pie"
           }
          ],
          "scatter": [
           {
            "fillpattern": {
             "fillmode": "overlay",
             "size": 10,
             "solidity": 0.2
            },
            "type": "scatter"
           }
          ],
          "scatter3d": [
           {
            "line": {
             "colorbar": {
              "outlinewidth": 0,
              "ticks": ""
             }
            },
            "marker": {
             "colorbar": {
              "outlinewidth": 0,
              "ticks": ""
             }
            },
            "type": "scatter3d"
           }
          ],
          "scattercarpet": [
           {
            "marker": {
             "colorbar": {
              "outlinewidth": 0,
              "ticks": ""
             }
            },
            "type": "scattercarpet"
           }
          ],
          "scattergeo": [
           {
            "marker": {
             "colorbar": {
              "outlinewidth": 0,
              "ticks": ""
             }
            },
            "type": "scattergeo"
           }
          ],
          "scattergl": [
           {
            "marker": {
             "colorbar": {
              "outlinewidth": 0,
              "ticks": ""
             }
            },
            "type": "scattergl"
           }
          ],
          "scattermapbox": [
           {
            "marker": {
             "colorbar": {
              "outlinewidth": 0,
              "ticks": ""
             }
            },
            "type": "scattermapbox"
           }
          ],
          "scatterpolar": [
           {
            "marker": {
             "colorbar": {
              "outlinewidth": 0,
              "ticks": ""
             }
            },
            "type": "scatterpolar"
           }
          ],
          "scatterpolargl": [
           {
            "marker": {
             "colorbar": {
              "outlinewidth": 0,
              "ticks": ""
             }
            },
            "type": "scatterpolargl"
           }
          ],
          "scatterternary": [
           {
            "marker": {
             "colorbar": {
              "outlinewidth": 0,
              "ticks": ""
             }
            },
            "type": "scatterternary"
           }
          ],
          "surface": [
           {
            "colorbar": {
             "outlinewidth": 0,
             "ticks": ""
            },
            "colorscale": [
             [
              0,
              "#0d0887"
             ],
             [
              0.1111111111111111,
              "#46039f"
             ],
             [
              0.2222222222222222,
              "#7201a8"
             ],
             [
              0.3333333333333333,
              "#9c179e"
             ],
             [
              0.4444444444444444,
              "#bd3786"
             ],
             [
              0.5555555555555556,
              "#d8576b"
             ],
             [
              0.6666666666666666,
              "#ed7953"
             ],
             [
              0.7777777777777778,
              "#fb9f3a"
             ],
             [
              0.8888888888888888,
              "#fdca26"
             ],
             [
              1,
              "#f0f921"
             ]
            ],
            "type": "surface"
           }
          ],
          "table": [
           {
            "cells": {
             "fill": {
              "color": "#EBF0F8"
             },
             "line": {
              "color": "white"
             }
            },
            "header": {
             "fill": {
              "color": "#C8D4E3"
             },
             "line": {
              "color": "white"
             }
            },
            "type": "table"
           }
          ]
         },
         "layout": {
          "annotationdefaults": {
           "arrowcolor": "#2a3f5f",
           "arrowhead": 0,
           "arrowwidth": 1
          },
          "autotypenumbers": "strict",
          "coloraxis": {
           "colorbar": {
            "outlinewidth": 0,
            "ticks": ""
           }
          },
          "colorscale": {
           "diverging": [
            [
             0,
             "#8e0152"
            ],
            [
             0.1,
             "#c51b7d"
            ],
            [
             0.2,
             "#de77ae"
            ],
            [
             0.3,
             "#f1b6da"
            ],
            [
             0.4,
             "#fde0ef"
            ],
            [
             0.5,
             "#f7f7f7"
            ],
            [
             0.6,
             "#e6f5d0"
            ],
            [
             0.7,
             "#b8e186"
            ],
            [
             0.8,
             "#7fbc41"
            ],
            [
             0.9,
             "#4d9221"
            ],
            [
             1,
             "#276419"
            ]
           ],
           "sequential": [
            [
             0,
             "#0d0887"
            ],
            [
             0.1111111111111111,
             "#46039f"
            ],
            [
             0.2222222222222222,
             "#7201a8"
            ],
            [
             0.3333333333333333,
             "#9c179e"
            ],
            [
             0.4444444444444444,
             "#bd3786"
            ],
            [
             0.5555555555555556,
             "#d8576b"
            ],
            [
             0.6666666666666666,
             "#ed7953"
            ],
            [
             0.7777777777777778,
             "#fb9f3a"
            ],
            [
             0.8888888888888888,
             "#fdca26"
            ],
            [
             1,
             "#f0f921"
            ]
           ],
           "sequentialminus": [
            [
             0,
             "#0d0887"
            ],
            [
             0.1111111111111111,
             "#46039f"
            ],
            [
             0.2222222222222222,
             "#7201a8"
            ],
            [
             0.3333333333333333,
             "#9c179e"
            ],
            [
             0.4444444444444444,
             "#bd3786"
            ],
            [
             0.5555555555555556,
             "#d8576b"
            ],
            [
             0.6666666666666666,
             "#ed7953"
            ],
            [
             0.7777777777777778,
             "#fb9f3a"
            ],
            [
             0.8888888888888888,
             "#fdca26"
            ],
            [
             1,
             "#f0f921"
            ]
           ]
          },
          "colorway": [
           "#636efa",
           "#EF553B",
           "#00cc96",
           "#ab63fa",
           "#FFA15A",
           "#19d3f3",
           "#FF6692",
           "#B6E880",
           "#FF97FF",
           "#FECB52"
          ],
          "font": {
           "color": "#2a3f5f"
          },
          "geo": {
           "bgcolor": "white",
           "lakecolor": "white",
           "landcolor": "#E5ECF6",
           "showlakes": true,
           "showland": true,
           "subunitcolor": "white"
          },
          "hoverlabel": {
           "align": "left"
          },
          "hovermode": "closest",
          "mapbox": {
           "style": "light"
          },
          "paper_bgcolor": "white",
          "plot_bgcolor": "#E5ECF6",
          "polar": {
           "angularaxis": {
            "gridcolor": "white",
            "linecolor": "white",
            "ticks": ""
           },
           "bgcolor": "#E5ECF6",
           "radialaxis": {
            "gridcolor": "white",
            "linecolor": "white",
            "ticks": ""
           }
          },
          "scene": {
           "xaxis": {
            "backgroundcolor": "#E5ECF6",
            "gridcolor": "white",
            "gridwidth": 2,
            "linecolor": "white",
            "showbackground": true,
            "ticks": "",
            "zerolinecolor": "white"
           },
           "yaxis": {
            "backgroundcolor": "#E5ECF6",
            "gridcolor": "white",
            "gridwidth": 2,
            "linecolor": "white",
            "showbackground": true,
            "ticks": "",
            "zerolinecolor": "white"
           },
           "zaxis": {
            "backgroundcolor": "#E5ECF6",
            "gridcolor": "white",
            "gridwidth": 2,
            "linecolor": "white",
            "showbackground": true,
            "ticks": "",
            "zerolinecolor": "white"
           }
          },
          "shapedefaults": {
           "line": {
            "color": "#2a3f5f"
           }
          },
          "ternary": {
           "aaxis": {
            "gridcolor": "white",
            "linecolor": "white",
            "ticks": ""
           },
           "baxis": {
            "gridcolor": "white",
            "linecolor": "white",
            "ticks": ""
           },
           "bgcolor": "#E5ECF6",
           "caxis": {
            "gridcolor": "white",
            "linecolor": "white",
            "ticks": ""
           }
          },
          "title": {
           "x": 0.05
          },
          "xaxis": {
           "automargin": true,
           "gridcolor": "white",
           "linecolor": "white",
           "ticks": "",
           "title": {
            "standoff": 15
           },
           "zerolinecolor": "white",
           "zerolinewidth": 2
          },
          "yaxis": {
           "automargin": true,
           "gridcolor": "white",
           "linecolor": "white",
           "ticks": "",
           "title": {
            "standoff": 15
           },
           "zerolinecolor": "white",
           "zerolinewidth": 2
          }
         }
        },
        "xaxis": {
         "anchor": "y",
         "domain": [
          0,
          1
         ],
         "title": {
          "text": "md_id"
         }
        },
        "yaxis": {
         "anchor": "x",
         "domain": [
          0,
          1
         ],
         "title": {
          "text": "value"
         }
        }
       }
      }
     },
     "metadata": {},
     "output_type": "display_data"
    }
   ],
   "source": [
    "px.line(\n",
    "    eval_agg(df_pred_val_ens, [\"md_id\"]).reset_index(),\n",
    "    x='md_id',\n",
    "    y=['mpl','mpl10','mpl50','mpl90']\n",
    ")"
   ]
  }
 ],
 "metadata": {
  "kernelspec": {
   "display_name": "base",
   "language": "python",
   "name": "python3"
  },
  "language_info": {
   "codemirror_mode": {
    "name": "ipython",
    "version": 3
   },
   "file_extension": ".py",
   "mimetype": "text/x-python",
   "name": "python",
   "nbconvert_exporter": "python",
   "pygments_lexer": "ipython3",
   "version": "3.8.5"
  }
 },
 "nbformat": 4,
 "nbformat_minor": 2
}
