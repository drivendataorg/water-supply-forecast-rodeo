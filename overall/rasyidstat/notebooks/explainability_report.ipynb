{
 "cells": [
  {
   "cell_type": "code",
   "execution_count": 1,
   "metadata": {},
   "outputs": [
    {
     "name": "stderr",
     "output_type": "stream",
     "text": [
      "d:\\Productivity\\Miniconda3\\lib\\site-packages\\requests\\__init__.py:89: RequestsDependencyWarning: urllib3 (2.2.3) or chardet (3.0.4) doesn't match a supported version!\n",
      "  warnings.warn(\"urllib3 ({}) or chardet ({}) doesn't match a supported \"\n"
     ]
    }
   ],
   "source": [
    "from explainability.shap import *\n",
    "from explainability.report import *"
   ]
  },
  {
   "cell_type": "code",
   "execution_count": 2,
   "metadata": {},
   "outputs": [],
   "source": [
    "df_features, df_features_all = read_features_input(val_year=2023)\n",
    "df_train_stats = read_contextual_data(val_year=2023)\n",
    "pred_output = read_features_shap(val_year=2023)\n",
    "pred_output_long = transform_features_shap_long(pred_output)\n",
    "pred_output_long_map = transform_features_shap_agg(pred_output_long, groupby_cols=[\"feature_group\", \"feature_map\"])\n",
    "pred_output_long_agg = transform_features_shap_agg(pred_output_long, groupby_cols=[\"feature_group\"])\n",
    "pred_output_transform = transform_features_shap_pred(pred_output, df_features)\n",
    "df_model_unc = get_uncertainty_model_list(pred_output_transform)\n",
    "df_pred = get_final_prediction(pred_output_transform, df_train_stats)\n",
    "\n",
    "# Convert total precipitation rate to be more interpretable\n",
    "tprate_cols = list(df_features.filter(like=\"tprate\"))\n",
    "df_features[tprate_cols] = df_features[tprate_cols] * 24 * 3600 * 1000\n",
    "df_features_all[tprate_cols] = df_features_all[tprate_cols] * 24 * 3600 * 1000\n",
    "\n",
    "df_features_pom, df_features_long = get_contextual_features_long(df_features, df_features_all)"
   ]
  },
  {
   "cell_type": "code",
   "execution_count": 3,
   "metadata": {},
   "outputs": [
    {
     "name": "stdout",
     "output_type": "stream",
     "text": [
      "owyhee_r_bl_owyhee_dam 2023-03-15\n",
      "P10 model: 0.2*ngm_pdsi_era5_s51 + 0.8*ngm_pdsi_ua_s51\n",
      "P90 model: 0.8*swe_ua + 0.2*ngm_ua\n",
      "\n",
      "Actual volume: 524.00\n"
     ]
    },
    {
     "data": {
      "text/html": [
       "<style type=\"text/css\">\n",
       "</style>\n",
       "<table id=\"T_714a4\">\n",
       "  <thead>\n",
       "    <tr>\n",
       "      <th class=\"index_name level0\" >idx</th>\n",
       "      <th id=\"T_714a4_level0_col0\" class=\"col_heading level0 col0\" >forecast</th>\n",
       "      <th id=\"T_714a4_level0_col1\" class=\"col_heading level0 col1\" >percent_mean</th>\n",
       "      <th id=\"T_714a4_level0_col2\" class=\"col_heading level0 col2\" >percent_median</th>\n",
       "    </tr>\n",
       "  </thead>\n",
       "  <tbody>\n",
       "    <tr>\n",
       "      <th id=\"T_714a4_level0_row0\" class=\"row_heading level0 row0\" >pred_volume_10</th>\n",
       "      <td id=\"T_714a4_row0_col0\" class=\"data row0 col0\" >262.72</td>\n",
       "      <td id=\"T_714a4_row0_col1\" class=\"data row0 col1\" >84%</td>\n",
       "      <td id=\"T_714a4_row0_col2\" class=\"data row0 col2\" >111%</td>\n",
       "    </tr>\n",
       "    <tr>\n",
       "      <th id=\"T_714a4_level0_row1\" class=\"row_heading level0 row1\" >pred_volume_50</th>\n",
       "      <td id=\"T_714a4_row1_col0\" class=\"data row1 col0\" >487.80</td>\n",
       "      <td id=\"T_714a4_row1_col1\" class=\"data row1 col1\" >156%</td>\n",
       "      <td id=\"T_714a4_row1_col2\" class=\"data row1 col2\" >206%</td>\n",
       "    </tr>\n",
       "    <tr>\n",
       "      <th id=\"T_714a4_level0_row2\" class=\"row_heading level0 row2\" >pred_volume_90</th>\n",
       "      <td id=\"T_714a4_row2_col0\" class=\"data row2 col0\" >1,130.83</td>\n",
       "      <td id=\"T_714a4_row2_col1\" class=\"data row2 col1\" >363%</td>\n",
       "      <td id=\"T_714a4_row2_col2\" class=\"data row2 col2\" >477%</td>\n",
       "    </tr>\n",
       "  </tbody>\n",
       "</table>\n"
      ],
      "text/plain": [
       "<pandas.io.formats.style.Styler at 0x2818992ac70>"
      ]
     },
     "metadata": {},
     "output_type": "display_data"
    },
    {
     "name": "stdout",
     "output_type": "stream",
     "text": [
      "owyhee_r_bl_owyhee_dam, 2023-03-15\n",
      "owyhee_r_bl_owyhee_dam, 2023-03-08\n",
      "\n",
      " SHAP feature contribution\n"
     ]
    },
    {
     "data": {
      "text/html": [
       "<style type=\"text/css\">\n",
       "#T_41ed8 th.col_heading.level0 {\n",
       "  text-align: center;\n",
       "}\n",
       "#T_41ed8 th.col_heading.level1 {\n",
       "  text-align: center;\n",
       "}\n",
       "#T_41ed8 th.col_heading.level2 {\n",
       "  text-align: center;\n",
       "}\n",
       "#T_41ed8 tr {\n",
       "  line-height: 21px;\n",
       "}\n",
       "#T_41ed8 td {\n",
       "  line-height: inherit;\n",
       "  padding-top: 0;\n",
       "  padding-bottom: 0;\n",
       "}\n",
       "#T_41ed8 th {\n",
       "  line-height: inherit;\n",
       "  padding-top: 0;\n",
       "  padding-bottom: 0;\n",
       "}\n",
       "#T_41ed8_row0_col0, #T_41ed8_row1_col0, #T_41ed8_row5_col0, #T_41ed8_row8_col0, #T_41ed8_row11_col0, #T_41ed8_row16_col0 {\n",
       "  text-align: left;\n",
       "  font-weight: bold;\n",
       "  border-right: 1px solid #D3D3D3;\n",
       "  font-weight: bold;\n",
       "  border-top: 1px solid #D3D3D3;\n",
       "}\n",
       "#T_41ed8_row0_col1, #T_41ed8_row0_col2, #T_41ed8_row0_col3, #T_41ed8_row0_col4, #T_41ed8_row0_col5, #T_41ed8_row0_col7, #T_41ed8_row0_col8, #T_41ed8_row0_col9, #T_41ed8_row1_col1, #T_41ed8_row1_col2, #T_41ed8_row1_col3, #T_41ed8_row1_col4, #T_41ed8_row1_col5, #T_41ed8_row1_col7, #T_41ed8_row1_col8, #T_41ed8_row1_col9, #T_41ed8_row5_col1, #T_41ed8_row5_col2, #T_41ed8_row5_col3, #T_41ed8_row5_col4, #T_41ed8_row5_col5, #T_41ed8_row5_col7, #T_41ed8_row5_col8, #T_41ed8_row5_col9, #T_41ed8_row8_col1, #T_41ed8_row8_col2, #T_41ed8_row8_col3, #T_41ed8_row8_col4, #T_41ed8_row8_col5, #T_41ed8_row8_col7, #T_41ed8_row8_col8, #T_41ed8_row8_col9, #T_41ed8_row11_col1, #T_41ed8_row11_col2, #T_41ed8_row11_col3, #T_41ed8_row11_col4, #T_41ed8_row11_col5, #T_41ed8_row11_col7, #T_41ed8_row11_col8, #T_41ed8_row11_col9, #T_41ed8_row16_col1, #T_41ed8_row16_col2, #T_41ed8_row16_col3, #T_41ed8_row16_col4, #T_41ed8_row16_col5, #T_41ed8_row16_col7, #T_41ed8_row16_col8, #T_41ed8_row16_col9 {\n",
       "  font-weight: bold;\n",
       "  border-top: 1px solid #D3D3D3;\n",
       "}\n",
       "#T_41ed8_row0_col6, #T_41ed8_row1_col6, #T_41ed8_row5_col6, #T_41ed8_row8_col6, #T_41ed8_row11_col6, #T_41ed8_row16_col6 {\n",
       "  border-left: 1px solid #D3D3D3;\n",
       "  font-weight: bold;\n",
       "  border-top: 1px solid #D3D3D3;\n",
       "}\n",
       "#T_41ed8_row2_col0, #T_41ed8_row3_col0, #T_41ed8_row4_col0, #T_41ed8_row6_col0, #T_41ed8_row7_col0, #T_41ed8_row9_col0, #T_41ed8_row10_col0, #T_41ed8_row12_col0, #T_41ed8_row13_col0, #T_41ed8_row14_col0, #T_41ed8_row15_col0, #T_41ed8_row17_col0, #T_41ed8_row18_col0, #T_41ed8_row19_col0 {\n",
       "  text-align: left;\n",
       "  font-weight: bold;\n",
       "  border-right: 1px solid #D3D3D3;\n",
       "  text-indent: 1em;\n",
       "  font-weight: normal;\n",
       "}\n",
       "#T_41ed8_row2_col2 {\n",
       "  width: 50px;\n",
       "  background: linear-gradient(90deg, transparent 25.0%, #1ca3ec 25.0%, #1ca3ec 34.3%, transparent 34.3%) no-repeat center;\n",
       "  background-size: 100% 50.0%;\n",
       "}\n",
       "#T_41ed8_row2_col3, #T_41ed8_row3_col8, #T_41ed8_row4_col4, #T_41ed8_row4_col9, #T_41ed8_row6_col3, #T_41ed8_row7_col8, #T_41ed8_row9_col4, #T_41ed8_row9_col9, #T_41ed8_row10_col4, #T_41ed8_row10_col9, #T_41ed8_row12_col4, #T_41ed8_row12_col9, #T_41ed8_row13_col4, #T_41ed8_row13_col9, #T_41ed8_row14_col4, #T_41ed8_row14_col9, #T_41ed8_row15_col4, #T_41ed8_row15_col9, #T_41ed8_row17_col4, #T_41ed8_row17_col8, #T_41ed8_row17_col9, #T_41ed8_row18_col4, #T_41ed8_row18_col8, #T_41ed8_row18_col9, #T_41ed8_row19_col4, #T_41ed8_row19_col8, #T_41ed8_row19_col9 {\n",
       "  width: 50px;\n",
       "}\n",
       "#T_41ed8_row2_col4 {\n",
       "  width: 50px;\n",
       "  background: linear-gradient(90deg, transparent 25.0%, #1ca3ec 25.0%, #1ca3ec 37.8%, transparent 37.8%) no-repeat center;\n",
       "  background-size: 100% 50.0%;\n",
       "}\n",
       "#T_41ed8_row2_col6, #T_41ed8_row3_col6, #T_41ed8_row4_col6, #T_41ed8_row6_col6, #T_41ed8_row7_col6, #T_41ed8_row9_col6, #T_41ed8_row10_col6, #T_41ed8_row12_col6, #T_41ed8_row13_col6, #T_41ed8_row14_col6, #T_41ed8_row15_col6, #T_41ed8_row17_col6, #T_41ed8_row18_col6, #T_41ed8_row19_col6 {\n",
       "  border-left: 1px solid #D3D3D3;\n",
       "}\n",
       "#T_41ed8_row2_col7 {\n",
       "  width: 50px;\n",
       "  background: linear-gradient(90deg, transparent 25.0%, #1ca3ec 25.0%, #1ca3ec 32.9%, transparent 32.9%) no-repeat center;\n",
       "  background-size: 100% 50.0%;\n",
       "}\n",
       "#T_41ed8_row2_col8 {\n",
       "  width: 50px;\n",
       "  background: linear-gradient(90deg, transparent 25.0%, #1ca3ec 25.0%, #1ca3ec 33.2%, transparent 33.2%) no-repeat center;\n",
       "  background-size: 100% 50.0%;\n",
       "}\n",
       "#T_41ed8_row2_col9 {\n",
       "  width: 50px;\n",
       "  background: linear-gradient(90deg, transparent 25.0%, #1ca3ec 25.0%, #1ca3ec 35.8%, transparent 35.8%) no-repeat center;\n",
       "  background-size: 100% 50.0%;\n",
       "}\n",
       "#T_41ed8_row3_col2 {\n",
       "  width: 50px;\n",
       "  background: linear-gradient(90deg, transparent 25.0%, #1ca3ec 25.0%, #1ca3ec 31.1%, transparent 31.1%) no-repeat center;\n",
       "  background-size: 100% 50.0%;\n",
       "}\n",
       "#T_41ed8_row3_col3, #T_41ed8_row18_col7 {\n",
       "  color: #c79854;\n",
       "  width: 50px;\n",
       "  background: linear-gradient(90deg, transparent 24.2%, #DABB8E 24.2%, #DABB8E 25.0%, transparent 25.0%) no-repeat center;\n",
       "  background-size: 100% 50.0%;\n",
       "}\n",
       "#T_41ed8_row3_col4 {\n",
       "  width: 50px;\n",
       "  background: linear-gradient(90deg, transparent 25.0%, #1ca3ec 25.0%, #1ca3ec 37.2%, transparent 37.2%) no-repeat center;\n",
       "  background-size: 100% 50.0%;\n",
       "}\n",
       "#T_41ed8_row3_col7 {\n",
       "  width: 50px;\n",
       "  background: linear-gradient(90deg, transparent 25.0%, #1ca3ec 25.0%, #1ca3ec 30.6%, transparent 30.6%) no-repeat center;\n",
       "  background-size: 100% 50.0%;\n",
       "}\n",
       "#T_41ed8_row3_col9 {\n",
       "  width: 50px;\n",
       "  background: linear-gradient(90deg, transparent 25.0%, #1ca3ec 25.0%, #1ca3ec 36.4%, transparent 36.4%) no-repeat center;\n",
       "  background-size: 100% 50.0%;\n",
       "}\n",
       "#T_41ed8_row4_col2 {\n",
       "  width: 50px;\n",
       "  background: linear-gradient(90deg, transparent 25.0%, #1ca3ec 25.0%, #1ca3ec 27.6%, transparent 27.6%) no-repeat center;\n",
       "  background-size: 100% 50.0%;\n",
       "}\n",
       "#T_41ed8_row4_col3 {\n",
       "  color: #c79854;\n",
       "  width: 50px;\n",
       "  background: linear-gradient(90deg, transparent 18.6%, #DABB8E 18.6%, #DABB8E 25.0%, transparent 25.0%) no-repeat center;\n",
       "  background-size: 100% 50.0%;\n",
       "}\n",
       "#T_41ed8_row4_col7 {\n",
       "  width: 50px;\n",
       "  background: linear-gradient(90deg, transparent 25.0%, #1ca3ec 25.0%, #1ca3ec 27.4%, transparent 27.4%) no-repeat center;\n",
       "  background-size: 100% 50.0%;\n",
       "}\n",
       "#T_41ed8_row4_col8 {\n",
       "  color: #c79854;\n",
       "  width: 50px;\n",
       "  background: linear-gradient(90deg, transparent 22.3%, #DABB8E 22.3%, #DABB8E 25.0%, transparent 25.0%) no-repeat center;\n",
       "  background-size: 100% 50.0%;\n",
       "}\n",
       "#T_41ed8_row6_col2, #T_41ed8_row13_col7 {\n",
       "  width: 50px;\n",
       "  background: linear-gradient(90deg, transparent 25.0%, #1ca3ec 25.0%, #1ca3ec 25.3%, transparent 25.3%) no-repeat center;\n",
       "  background-size: 100% 50.0%;\n",
       "}\n",
       "#T_41ed8_row6_col4 {\n",
       "  width: 50px;\n",
       "  background: linear-gradient(90deg, transparent 25.0%, #1ca3ec 25.0%, #1ca3ec 25.7%, transparent 25.7%) no-repeat center;\n",
       "  background-size: 100% 50.0%;\n",
       "}\n",
       "#T_41ed8_row6_col7, #T_41ed8_row10_col2 {\n",
       "  color: #c79854;\n",
       "  width: 50px;\n",
       "  background: linear-gradient(90deg, transparent 24.7%, #DABB8E 24.7%, #DABB8E 25.0%, transparent 25.0%) no-repeat center;\n",
       "  background-size: 100% 50.0%;\n",
       "}\n",
       "#T_41ed8_row6_col8 {\n",
       "  color: #c79854;\n",
       "  width: 50px;\n",
       "  background: linear-gradient(90deg, transparent 23.3%, #DABB8E 23.3%, #DABB8E 25.0%, transparent 25.0%) no-repeat center;\n",
       "  background-size: 100% 50.0%;\n",
       "}\n",
       "#T_41ed8_row6_col9 {\n",
       "  width: 50px;\n",
       "  background: linear-gradient(90deg, transparent 25.0%, #1ca3ec 25.0%, #1ca3ec 25.2%, transparent 25.2%) no-repeat center;\n",
       "  background-size: 100% 50.0%;\n",
       "}\n",
       "#T_41ed8_row7_col2 {\n",
       "  color: #c79854;\n",
       "  width: 50px;\n",
       "  background: linear-gradient(90deg, transparent 22.9%, #DABB8E 22.9%, #DABB8E 25.0%, transparent 25.0%) no-repeat center;\n",
       "  background-size: 100% 50.0%;\n",
       "}\n",
       "#T_41ed8_row7_col3 {\n",
       "  color: #c79854;\n",
       "  width: 50px;\n",
       "  background: linear-gradient(90deg, transparent 20.6%, #DABB8E 20.6%, #DABB8E 25.0%, transparent 25.0%) no-repeat center;\n",
       "  background-size: 100% 50.0%;\n",
       "}\n",
       "#T_41ed8_row7_col4, #T_41ed8_row19_col2 {\n",
       "  width: 50px;\n",
       "  background: linear-gradient(90deg, transparent 25.0%, #1ca3ec 25.0%, #1ca3ec 25.8%, transparent 25.8%) no-repeat center;\n",
       "  background-size: 100% 50.0%;\n",
       "}\n",
       "#T_41ed8_row7_col7 {\n",
       "  color: #c79854;\n",
       "  width: 50px;\n",
       "  background: linear-gradient(90deg, transparent 21.8%, #DABB8E 21.8%, #DABB8E 25.0%, transparent 25.0%) no-repeat center;\n",
       "  background-size: 100% 50.0%;\n",
       "}\n",
       "#T_41ed8_row7_col9 {\n",
       "  color: #c79854;\n",
       "  width: 50px;\n",
       "  background: linear-gradient(90deg, transparent 21.4%, #DABB8E 21.4%, #DABB8E 25.0%, transparent 25.0%) no-repeat center;\n",
       "  background-size: 100% 50.0%;\n",
       "}\n",
       "#T_41ed8_row9_col2, #T_41ed8_row9_col7, #T_41ed8_row19_col7 {\n",
       "  width: 50px;\n",
       "  background: linear-gradient(90deg, transparent 25.0%, #1ca3ec 25.0%, #1ca3ec 25.9%, transparent 25.9%) no-repeat center;\n",
       "  background-size: 100% 50.0%;\n",
       "}\n",
       "#T_41ed8_row9_col3, #T_41ed8_row17_col3 {\n",
       "  color: #c79854;\n",
       "  width: 50px;\n",
       "  background: linear-gradient(90deg, transparent 22.2%, #DABB8E 22.2%, #DABB8E 25.0%, transparent 25.0%) no-repeat center;\n",
       "  background-size: 100% 50.0%;\n",
       "}\n",
       "#T_41ed8_row9_col8 {\n",
       "  color: #c79854;\n",
       "  width: 50px;\n",
       "  background: linear-gradient(90deg, transparent 24.4%, #DABB8E 24.4%, #DABB8E 25.0%, transparent 25.0%) no-repeat center;\n",
       "  background-size: 100% 50.0%;\n",
       "}\n",
       "#T_41ed8_row10_col3, #T_41ed8_row10_col8, #T_41ed8_row15_col3 {\n",
       "  color: #c79854;\n",
       "  width: 50px;\n",
       "  background: linear-gradient(90deg, transparent 23.8%, #DABB8E 23.8%, #DABB8E 25.0%, transparent 25.0%) no-repeat center;\n",
       "  background-size: 100% 50.0%;\n",
       "}\n",
       "#T_41ed8_row10_col7 {\n",
       "  color: #c79854;\n",
       "  width: 50px;\n",
       "  background: linear-gradient(90deg, transparent 24.5%, #DABB8E 24.5%, #DABB8E 25.0%, transparent 25.0%) no-repeat center;\n",
       "  background-size: 100% 50.0%;\n",
       "}\n",
       "#T_41ed8_row12_col2, #T_41ed8_row12_col7, #T_41ed8_row12_col8, #T_41ed8_row14_col7, #T_41ed8_row14_col8 {\n",
       "  width: 50px;\n",
       "  background: linear-gradient(90deg, transparent 25.0%, #1ca3ec 25.0%, #1ca3ec 25.1%, transparent 25.1%) no-repeat center;\n",
       "  background-size: 100% 50.0%;\n",
       "}\n",
       "#T_41ed8_row12_col3 {\n",
       "  color: #c79854;\n",
       "  width: 50px;\n",
       "  background: linear-gradient(90deg, transparent 24.8%, #DABB8E 24.8%, #DABB8E 25.0%, transparent 25.0%) no-repeat center;\n",
       "  background-size: 100% 50.0%;\n",
       "}\n",
       "#T_41ed8_row13_col2 {\n",
       "  color: #c79854;\n",
       "  width: 50px;\n",
       "  background: linear-gradient(90deg, transparent 24.6%, #DABB8E 24.6%, #DABB8E 25.0%, transparent 25.0%) no-repeat center;\n",
       "  background-size: 100% 50.0%;\n",
       "}\n",
       "#T_41ed8_row13_col3 {\n",
       "  width: 50px;\n",
       "  background: linear-gradient(90deg, transparent 25.0%, #1ca3ec 25.0%, #1ca3ec 26.1%, transparent 26.1%) no-repeat center;\n",
       "  background-size: 100% 50.0%;\n",
       "}\n",
       "#T_41ed8_row13_col8 {\n",
       "  width: 50px;\n",
       "  background: linear-gradient(90deg, transparent 25.0%, #1ca3ec 25.0%, #1ca3ec 26.2%, transparent 26.2%) no-repeat center;\n",
       "  background-size: 100% 50.0%;\n",
       "}\n",
       "#T_41ed8_row14_col2 {\n",
       "  width: 50px;\n",
       "  background: linear-gradient(90deg, transparent 25.0%, #1ca3ec 25.0%, #1ca3ec 25.0%, transparent 25.0%) no-repeat center;\n",
       "  background-size: 100% 50.0%;\n",
       "}\n",
       "#T_41ed8_row14_col3 {\n",
       "  color: #c79854;\n",
       "  width: 50px;\n",
       "  background: linear-gradient(90deg, transparent 25.0%, #DABB8E 25.0%, #DABB8E 25.0%, transparent 25.0%) no-repeat center;\n",
       "  background-size: 100% 50.0%;\n",
       "}\n",
       "#T_41ed8_row15_col2, #T_41ed8_row15_col7 {\n",
       "  color: #c79854;\n",
       "  width: 50px;\n",
       "  background: linear-gradient(90deg, transparent 22.8%, #DABB8E 22.8%, #DABB8E 25.0%, transparent 25.0%) no-repeat center;\n",
       "  background-size: 100% 50.0%;\n",
       "}\n",
       "#T_41ed8_row15_col8 {\n",
       "  color: #c79854;\n",
       "  width: 50px;\n",
       "  background: linear-gradient(90deg, transparent 21.9%, #DABB8E 21.9%, #DABB8E 25.0%, transparent 25.0%) no-repeat center;\n",
       "  background-size: 100% 50.0%;\n",
       "}\n",
       "#T_41ed8_row17_col2 {\n",
       "  width: 50px;\n",
       "  background: linear-gradient(90deg, transparent 25.0%, #1ca3ec 25.0%, #1ca3ec 25.5%, transparent 25.5%) no-repeat center;\n",
       "  background-size: 100% 50.0%;\n",
       "}\n",
       "#T_41ed8_row17_col7 {\n",
       "  width: 50px;\n",
       "  background: linear-gradient(90deg, transparent 25.0%, #1ca3ec 25.0%, #1ca3ec 25.4%, transparent 25.4%) no-repeat center;\n",
       "  background-size: 100% 50.0%;\n",
       "}\n",
       "#T_41ed8_row18_col2 {\n",
       "  color: #c79854;\n",
       "  width: 50px;\n",
       "  background: linear-gradient(90deg, transparent 24.0%, #DABB8E 24.0%, #DABB8E 25.0%, transparent 25.0%) no-repeat center;\n",
       "  background-size: 100% 50.0%;\n",
       "}\n",
       "#T_41ed8_row18_col3 {\n",
       "  color: #c79854;\n",
       "  width: 50px;\n",
       "  background: linear-gradient(90deg, transparent 23.2%, #DABB8E 23.2%, #DABB8E 25.0%, transparent 25.0%) no-repeat center;\n",
       "  background-size: 100% 50.0%;\n",
       "}\n",
       "#T_41ed8_row19_col3 {\n",
       "  color: #c79854;\n",
       "  width: 50px;\n",
       "  background: linear-gradient(90deg, transparent 23.7%, #DABB8E 23.7%, #DABB8E 25.0%, transparent 25.0%) no-repeat center;\n",
       "  background-size: 100% 50.0%;\n",
       "}\n",
       "#T_41ed8_level0_col0, #T_41ed8_level0_col5, #T_41ed8_level1_col0, #T_41ed8_level1_col5, #T_41ed8_level2_col0, #T_41ed8_level2_col5 {\n",
       "  border-right: 1px solid #D3D3D3;\n",
       "}\n",
       "</style>\n",
       "<table id=\"T_41ed8\">\n",
       "  <thead>\n",
       "    <tr>\n",
       "      <th id=\"T_41ed8_level0_col0\" class=\"col_heading level0 col0\" > </th>\n",
       "      <th id=\"T_41ed8_level0_col1\" class=\"col_heading level0 col1\" colspan=\"4\">Issue Date: 2023-03-15</th>\n",
       "      <th id=\"T_41ed8_level0_col5\" class=\"col_heading level0 col5\" > </th>\n",
       "      <th id=\"T_41ed8_level0_col6\" class=\"col_heading level0 col6\" colspan=\"4\">Previous Issue Date: 2023-03-08</th>\n",
       "    </tr>\n",
       "    <tr>\n",
       "      <th id=\"T_41ed8_level1_col0\" class=\"col_heading level1 col0\" > </th>\n",
       "      <th id=\"T_41ed8_level1_col1\" class=\"col_heading level1 col1\" ></th>\n",
       "      <th id=\"T_41ed8_level1_col2\" class=\"col_heading level1 col2\" colspan=\"3\">% Feature contribution</th>\n",
       "      <th id=\"T_41ed8_level1_col5\" class=\"col_heading level1 col5\" > </th>\n",
       "      <th id=\"T_41ed8_level1_col6\" class=\"col_heading level1 col6\" ></th>\n",
       "      <th id=\"T_41ed8_level1_col7\" class=\"col_heading level1 col7\" colspan=\"3\">% Feature contribution</th>\n",
       "    </tr>\n",
       "    <tr>\n",
       "      <th id=\"T_41ed8_level2_col0\" class=\"col_heading level2 col0\" >Feature</th>\n",
       "      <th id=\"T_41ed8_level2_col1\" class=\"col_heading level2 col1\" >Value</th>\n",
       "      <th id=\"T_41ed8_level2_col2\" class=\"col_heading level2 col2\" >Q0.5</th>\n",
       "      <th id=\"T_41ed8_level2_col3\" class=\"col_heading level2 col3\" >Q0.1</th>\n",
       "      <th id=\"T_41ed8_level2_col4\" class=\"col_heading level2 col4\" >Q0.9</th>\n",
       "      <th id=\"T_41ed8_level2_col5\" class=\"col_heading level2 col5\" >Rel</th>\n",
       "      <th id=\"T_41ed8_level2_col6\" class=\"col_heading level2 col6\" >Value</th>\n",
       "      <th id=\"T_41ed8_level2_col7\" class=\"col_heading level2 col7\" >Q0.5</th>\n",
       "      <th id=\"T_41ed8_level2_col8\" class=\"col_heading level2 col8\" >Q0.1</th>\n",
       "      <th id=\"T_41ed8_level2_col9\" class=\"col_heading level2 col9\" >Q0.9</th>\n",
       "    </tr>\n",
       "  </thead>\n",
       "  <tbody>\n",
       "    <tr>\n",
       "      <td id=\"T_41ed8_row0_col0\" class=\"data row0 col0\" >Base</td>\n",
       "      <td id=\"T_41ed8_row0_col1\" class=\"data row0 col1\" ></td>\n",
       "      <td id=\"T_41ed8_row0_col2\" class=\"data row0 col2\" >38.8%</td>\n",
       "      <td id=\"T_41ed8_row0_col3\" class=\"data row0 col3\" >44.9%</td>\n",
       "      <td id=\"T_41ed8_row0_col4\" class=\"data row0 col4\" >39.1%</td>\n",
       "      <td id=\"T_41ed8_row0_col5\" class=\"data row0 col5\" >1.72</td>\n",
       "      <td id=\"T_41ed8_row0_col6\" class=\"data row0 col6\" ></td>\n",
       "      <td id=\"T_41ed8_row0_col7\" class=\"data row0 col7\" >41.0%</td>\n",
       "      <td id=\"T_41ed8_row0_col8\" class=\"data row0 col8\" >56.7%</td>\n",
       "      <td id=\"T_41ed8_row0_col9\" class=\"data row0 col9\" >40.5%</td>\n",
       "    </tr>\n",
       "    <tr>\n",
       "      <td id=\"T_41ed8_row1_col0\" class=\"data row1 col0\" >Snowpack</td>\n",
       "      <td id=\"T_41ed8_row1_col1\" class=\"data row1 col1\" ></td>\n",
       "      <td id=\"T_41ed8_row1_col2\" class=\"data row1 col2\" >41.2%</td>\n",
       "      <td id=\"T_41ed8_row1_col3\" class=\"data row1 col3\" >16.6%</td>\n",
       "      <td id=\"T_41ed8_row1_col4\" class=\"data row1 col4\" >57.3%</td>\n",
       "      <td id=\"T_41ed8_row1_col5\" class=\"data row1 col5\" >0.82</td>\n",
       "      <td id=\"T_41ed8_row1_col6\" class=\"data row1 col6\" ></td>\n",
       "      <td id=\"T_41ed8_row1_col7\" class=\"data row1 col7\" >36.5%</td>\n",
       "      <td id=\"T_41ed8_row1_col8\" class=\"data row1 col8\" >25.0%</td>\n",
       "      <td id=\"T_41ed8_row1_col9\" class=\"data row1 col9\" >50.8%</td>\n",
       "    </tr>\n",
       "    <tr>\n",
       "      <td id=\"T_41ed8_row2_col0\" class=\"data row2 col0\" >SNOTEL/CDEC</td>\n",
       "      <td id=\"T_41ed8_row2_col1\" class=\"data row2 col1\" >138%</td>\n",
       "      <td id=\"T_41ed8_row2_col2\" class=\"data row2 col2\" >21.2%</td>\n",
       "      <td id=\"T_41ed8_row2_col3\" class=\"data row2 col3\" ></td>\n",
       "      <td id=\"T_41ed8_row2_col4\" class=\"data row2 col4\" >29.3%</td>\n",
       "      <td id=\"T_41ed8_row2_col5\" class=\"data row2 col5\" >0.94</td>\n",
       "      <td id=\"T_41ed8_row2_col6\" class=\"data row2 col6\" >122%</td>\n",
       "      <td id=\"T_41ed8_row2_col7\" class=\"data row2 col7\" >18.0%</td>\n",
       "      <td id=\"T_41ed8_row2_col8\" class=\"data row2 col8\" >18.8%</td>\n",
       "      <td id=\"T_41ed8_row2_col9\" class=\"data row2 col9\" >24.7%</td>\n",
       "    </tr>\n",
       "    <tr>\n",
       "      <td id=\"T_41ed8_row3_col0\" class=\"data row3 col0\" >UA-SWANN</td>\n",
       "      <td id=\"T_41ed8_row3_col1\" class=\"data row3 col1\" >188%-288%</td>\n",
       "      <td id=\"T_41ed8_row3_col2\" class=\"data row3 col2\" >13.9%</td>\n",
       "      <td id=\"T_41ed8_row3_col3\" class=\"data row3 col3\" >1.8%</td>\n",
       "      <td id=\"T_41ed8_row3_col4\" class=\"data row3 col4\" >28.0%</td>\n",
       "      <td id=\"T_41ed8_row3_col5\" class=\"data row3 col5\" >0.83</td>\n",
       "      <td id=\"T_41ed8_row3_col6\" class=\"data row3 col6\" >158%-247%</td>\n",
       "      <td id=\"T_41ed8_row3_col7\" class=\"data row3 col7\" >12.9%</td>\n",
       "      <td id=\"T_41ed8_row3_col8\" class=\"data row3 col8\" ></td>\n",
       "      <td id=\"T_41ed8_row3_col9\" class=\"data row3 col9\" >26.1%</td>\n",
       "    </tr>\n",
       "    <tr>\n",
       "      <td id=\"T_41ed8_row4_col0\" class=\"data row4 col0\" >ERA5-Land</td>\n",
       "      <td id=\"T_41ed8_row4_col1\" class=\"data row4 col1\" >334%</td>\n",
       "      <td id=\"T_41ed8_row4_col2\" class=\"data row4 col2\" >6.0%</td>\n",
       "      <td id=\"T_41ed8_row4_col3\" class=\"data row4 col3\" >14.8%</td>\n",
       "      <td id=\"T_41ed8_row4_col4\" class=\"data row4 col4\" ></td>\n",
       "      <td id=\"T_41ed8_row4_col5\" class=\"data row4 col5\" >0.54</td>\n",
       "      <td id=\"T_41ed8_row4_col6\" class=\"data row4 col6\" >246%</td>\n",
       "      <td id=\"T_41ed8_row4_col7\" class=\"data row4 col7\" >5.5%</td>\n",
       "      <td id=\"T_41ed8_row4_col8\" class=\"data row4 col8\" >6.2%</td>\n",
       "      <td id=\"T_41ed8_row4_col9\" class=\"data row4 col9\" ></td>\n",
       "    </tr>\n",
       "    <tr>\n",
       "      <td id=\"T_41ed8_row5_col0\" class=\"data row5 col0\" >Precipitation</td>\n",
       "      <td id=\"T_41ed8_row5_col1\" class=\"data row5 col1\" ></td>\n",
       "      <td id=\"T_41ed8_row5_col2\" class=\"data row5 col2\" >5.6%</td>\n",
       "      <td id=\"T_41ed8_row5_col3\" class=\"data row5 col3\" >10.1%</td>\n",
       "      <td id=\"T_41ed8_row5_col4\" class=\"data row5 col4\" >3.6%</td>\n",
       "      <td id=\"T_41ed8_row5_col5\" class=\"data row5 col5\" >0.79</td>\n",
       "      <td id=\"T_41ed8_row5_col6\" class=\"data row5 col6\" ></td>\n",
       "      <td id=\"T_41ed8_row5_col7\" class=\"data row5 col7\" >8.2%</td>\n",
       "      <td id=\"T_41ed8_row5_col8\" class=\"data row5 col8\" >3.8%</td>\n",
       "      <td id=\"T_41ed8_row5_col9\" class=\"data row5 col9\" >8.8%</td>\n",
       "    </tr>\n",
       "    <tr>\n",
       "      <td id=\"T_41ed8_row6_col0\" class=\"data row6 col0\" >SNOTEL/CDEC</td>\n",
       "      <td id=\"T_41ed8_row6_col1\" class=\"data row6 col1\" >123%</td>\n",
       "      <td id=\"T_41ed8_row6_col2\" class=\"data row6 col2\" >0.8%</td>\n",
       "      <td id=\"T_41ed8_row6_col3\" class=\"data row6 col3\" ></td>\n",
       "      <td id=\"T_41ed8_row6_col4\" class=\"data row6 col4\" >1.7%</td>\n",
       "      <td id=\"T_41ed8_row6_col5\" class=\"data row6 col5\" >0.35</td>\n",
       "      <td id=\"T_41ed8_row6_col6\" class=\"data row6 col6\" >112%</td>\n",
       "      <td id=\"T_41ed8_row6_col7\" class=\"data row6 col7\" >0.8%</td>\n",
       "      <td id=\"T_41ed8_row6_col8\" class=\"data row6 col8\" >3.8%</td>\n",
       "      <td id=\"T_41ed8_row6_col9\" class=\"data row6 col9\" >0.5%</td>\n",
       "    </tr>\n",
       "    <tr>\n",
       "      <td id=\"T_41ed8_row7_col0\" class=\"data row7 col0\" >UA-SWANN</td>\n",
       "      <td id=\"T_41ed8_row7_col1\" class=\"data row7 col1\" >101%-125%</td>\n",
       "      <td id=\"T_41ed8_row7_col2\" class=\"data row7 col2\" >4.8%</td>\n",
       "      <td id=\"T_41ed8_row7_col3\" class=\"data row7 col3\" >10.1%</td>\n",
       "      <td id=\"T_41ed8_row7_col4\" class=\"data row7 col4\" >1.9%</td>\n",
       "      <td id=\"T_41ed8_row7_col5\" class=\"data row7 col5\" >0.98</td>\n",
       "      <td id=\"T_41ed8_row7_col6\" class=\"data row7 col6\" >92%-114%</td>\n",
       "      <td id=\"T_41ed8_row7_col7\" class=\"data row7 col7\" >7.4%</td>\n",
       "      <td id=\"T_41ed8_row7_col8\" class=\"data row7 col8\" ></td>\n",
       "      <td id=\"T_41ed8_row7_col9\" class=\"data row7 col9\" >8.3%</td>\n",
       "    </tr>\n",
       "    <tr>\n",
       "      <td id=\"T_41ed8_row8_col0\" class=\"data row8 col0\" >Drought</td>\n",
       "      <td id=\"T_41ed8_row8_col1\" class=\"data row8 col1\" ></td>\n",
       "      <td id=\"T_41ed8_row8_col2\" class=\"data row8 col2\" >2.9%</td>\n",
       "      <td id=\"T_41ed8_row8_col3\" class=\"data row8 col3\" >9.2%</td>\n",
       "      <td id=\"T_41ed8_row8_col4\" class=\"data row8 col4\" ></td>\n",
       "      <td id=\"T_41ed8_row8_col5\" class=\"data row8 col5\" >0.42</td>\n",
       "      <td id=\"T_41ed8_row8_col6\" class=\"data row8 col6\" ></td>\n",
       "      <td id=\"T_41ed8_row8_col7\" class=\"data row8 col7\" >3.3%</td>\n",
       "      <td id=\"T_41ed8_row8_col8\" class=\"data row8 col8\" >4.1%</td>\n",
       "      <td id=\"T_41ed8_row8_col9\" class=\"data row8 col9\" ></td>\n",
       "    </tr>\n",
       "    <tr>\n",
       "      <td id=\"T_41ed8_row9_col0\" class=\"data row9 col0\" >PDSI</td>\n",
       "      <td id=\"T_41ed8_row9_col1\" class=\"data row9 col1\" >0.08</td>\n",
       "      <td id=\"T_41ed8_row9_col2\" class=\"data row9 col2\" >2.1%</td>\n",
       "      <td id=\"T_41ed8_row9_col3\" class=\"data row9 col3\" >6.4%</td>\n",
       "      <td id=\"T_41ed8_row9_col4\" class=\"data row9 col4\" ></td>\n",
       "      <td id=\"T_41ed8_row9_col5\" class=\"data row9 col5\" >0.43</td>\n",
       "      <td id=\"T_41ed8_row9_col6\" class=\"data row9 col6\" >0.10</td>\n",
       "      <td id=\"T_41ed8_row9_col7\" class=\"data row9 col7\" >2.1%</td>\n",
       "      <td id=\"T_41ed8_row9_col8\" class=\"data row9 col8\" >1.3%</td>\n",
       "      <td id=\"T_41ed8_row9_col9\" class=\"data row9 col9\" ></td>\n",
       "    </tr>\n",
       "    <tr>\n",
       "      <td id=\"T_41ed8_row10_col0\" class=\"data row10 col0\" >Soil water</td>\n",
       "      <td id=\"T_41ed8_row10_col1\" class=\"data row10 col1\" >87%-112%</td>\n",
       "      <td id=\"T_41ed8_row10_col2\" class=\"data row10 col2\" >0.8%</td>\n",
       "      <td id=\"T_41ed8_row10_col3\" class=\"data row10 col3\" >2.8%</td>\n",
       "      <td id=\"T_41ed8_row10_col4\" class=\"data row10 col4\" ></td>\n",
       "      <td id=\"T_41ed8_row10_col5\" class=\"data row10 col5\" >0.40</td>\n",
       "      <td id=\"T_41ed8_row10_col6\" class=\"data row10 col6\" >85%-92%</td>\n",
       "      <td id=\"T_41ed8_row10_col7\" class=\"data row10 col7\" >1.2%</td>\n",
       "      <td id=\"T_41ed8_row10_col8\" class=\"data row10 col8\" >2.8%</td>\n",
       "      <td id=\"T_41ed8_row10_col9\" class=\"data row10 col9\" ></td>\n",
       "    </tr>\n",
       "    <tr>\n",
       "      <td id=\"T_41ed8_row11_col0\" class=\"data row11 col0\" >Others</td>\n",
       "      <td id=\"T_41ed8_row11_col1\" class=\"data row11 col1\" ></td>\n",
       "      <td id=\"T_41ed8_row11_col2\" class=\"data row11 col2\" >6.2%</td>\n",
       "      <td id=\"T_41ed8_row11_col3\" class=\"data row11 col3\" >5.8%</td>\n",
       "      <td id=\"T_41ed8_row11_col4\" class=\"data row11 col4\" ></td>\n",
       "      <td id=\"T_41ed8_row11_col5\" class=\"data row11 col5\" >1.75</td>\n",
       "      <td id=\"T_41ed8_row11_col6\" class=\"data row11 col6\" ></td>\n",
       "      <td id=\"T_41ed8_row11_col7\" class=\"data row11 col7\" >6.0%</td>\n",
       "      <td id=\"T_41ed8_row11_col8\" class=\"data row11 col8\" >10.5%</td>\n",
       "      <td id=\"T_41ed8_row11_col9\" class=\"data row11 col9\" ></td>\n",
       "    </tr>\n",
       "    <tr>\n",
       "      <td id=\"T_41ed8_row12_col0\" class=\"data row12 col0\" >Temperature</td>\n",
       "      <td id=\"T_41ed8_row12_col1\" class=\"data row12 col1\" >-2.04</td>\n",
       "      <td id=\"T_41ed8_row12_col2\" class=\"data row12 col2\" >0.3%</td>\n",
       "      <td id=\"T_41ed8_row12_col3\" class=\"data row12 col3\" >0.4%</td>\n",
       "      <td id=\"T_41ed8_row12_col4\" class=\"data row12 col4\" ></td>\n",
       "      <td id=\"T_41ed8_row12_col5\" class=\"data row12 col5\" >0.70</td>\n",
       "      <td id=\"T_41ed8_row12_col6\" class=\"data row12 col6\" >-7.58</td>\n",
       "      <td id=\"T_41ed8_row12_col7\" class=\"data row12 col7\" >0.2%</td>\n",
       "      <td id=\"T_41ed8_row12_col8\" class=\"data row12 col8\" >0.3%</td>\n",
       "      <td id=\"T_41ed8_row12_col9\" class=\"data row12 col9\" ></td>\n",
       "    </tr>\n",
       "    <tr>\n",
       "      <td id=\"T_41ed8_row13_col0\" class=\"data row13 col0\" >Snow cover</td>\n",
       "      <td id=\"T_41ed8_row13_col1\" class=\"data row13 col1\" >73% (32%)</td>\n",
       "      <td id=\"T_41ed8_row13_col2\" class=\"data row13 col2\" >0.9%</td>\n",
       "      <td id=\"T_41ed8_row13_col3\" class=\"data row13 col3\" >2.5%</td>\n",
       "      <td id=\"T_41ed8_row13_col4\" class=\"data row13 col4\" ></td>\n",
       "      <td id=\"T_41ed8_row13_col5\" class=\"data row13 col5\" >0.75</td>\n",
       "      <td id=\"T_41ed8_row13_col6\" class=\"data row13 col6\" >86% (47%)</td>\n",
       "      <td id=\"T_41ed8_row13_col7\" class=\"data row13 col7\" >0.7%</td>\n",
       "      <td id=\"T_41ed8_row13_col8\" class=\"data row13 col8\" >2.8%</td>\n",
       "      <td id=\"T_41ed8_row13_col9\" class=\"data row13 col9\" ></td>\n",
       "    </tr>\n",
       "    <tr>\n",
       "      <td id=\"T_41ed8_row14_col0\" class=\"data row14 col0\" >Snow albedo</td>\n",
       "      <td id=\"T_41ed8_row14_col1\" class=\"data row14 col1\" >113%</td>\n",
       "      <td id=\"T_41ed8_row14_col2\" class=\"data row14 col2\" >0.1%</td>\n",
       "      <td id=\"T_41ed8_row14_col3\" class=\"data row14 col3\" >0.1%</td>\n",
       "      <td id=\"T_41ed8_row14_col4\" class=\"data row14 col4\" ></td>\n",
       "      <td id=\"T_41ed8_row14_col5\" class=\"data row14 col5\" >0.06</td>\n",
       "      <td id=\"T_41ed8_row14_col6\" class=\"data row14 col6\" >113%</td>\n",
       "      <td id=\"T_41ed8_row14_col7\" class=\"data row14 col7\" >0.1%</td>\n",
       "      <td id=\"T_41ed8_row14_col8\" class=\"data row14 col8\" >0.2%</td>\n",
       "      <td id=\"T_41ed8_row14_col9\" class=\"data row14 col9\" ></td>\n",
       "    </tr>\n",
       "    <tr>\n",
       "      <td id=\"T_41ed8_row15_col0\" class=\"data row15 col0\" >Leaf area index</td>\n",
       "      <td id=\"T_41ed8_row15_col1\" class=\"data row15 col1\" >0.55-0.70</td>\n",
       "      <td id=\"T_41ed8_row15_col2\" class=\"data row15 col2\" >5.0%</td>\n",
       "      <td id=\"T_41ed8_row15_col3\" class=\"data row15 col3\" >2.7%</td>\n",
       "      <td id=\"T_41ed8_row15_col4\" class=\"data row15 col4\" ></td>\n",
       "      <td id=\"T_41ed8_row15_col5\" class=\"data row15 col5\" >4.71</td>\n",
       "      <td id=\"T_41ed8_row15_col6\" class=\"data row15 col6\" >0.54-0.70</td>\n",
       "      <td id=\"T_41ed8_row15_col7\" class=\"data row15 col7\" >5.0%</td>\n",
       "      <td id=\"T_41ed8_row15_col8\" class=\"data row15 col8\" >7.2%</td>\n",
       "      <td id=\"T_41ed8_row15_col9\" class=\"data row15 col9\" ></td>\n",
       "    </tr>\n",
       "    <tr>\n",
       "      <td id=\"T_41ed8_row16_col0\" class=\"data row16 col0\" >SEAS51 Forecast</td>\n",
       "      <td id=\"T_41ed8_row16_col1\" class=\"data row16 col1\" ></td>\n",
       "      <td id=\"T_41ed8_row16_col2\" class=\"data row16 col2\" >5.2%</td>\n",
       "      <td id=\"T_41ed8_row16_col3\" class=\"data row16 col3\" >13.5%</td>\n",
       "      <td id=\"T_41ed8_row16_col4\" class=\"data row16 col4\" ></td>\n",
       "      <td id=\"T_41ed8_row16_col5\" class=\"data row16 col5\" >0.57</td>\n",
       "      <td id=\"T_41ed8_row16_col6\" class=\"data row16 col6\" ></td>\n",
       "      <td id=\"T_41ed8_row16_col7\" class=\"data row16 col7\" >4.9%</td>\n",
       "      <td id=\"T_41ed8_row16_col8\" class=\"data row16 col8\" ></td>\n",
       "      <td id=\"T_41ed8_row16_col9\" class=\"data row16 col9\" ></td>\n",
       "    </tr>\n",
       "    <tr>\n",
       "      <td id=\"T_41ed8_row17_col0\" class=\"data row17 col0\" > Snowpack</td>\n",
       "      <td id=\"T_41ed8_row17_col1\" class=\"data row17 col1\" >502%-754%</td>\n",
       "      <td id=\"T_41ed8_row17_col2\" class=\"data row17 col2\" >1.2%</td>\n",
       "      <td id=\"T_41ed8_row17_col3\" class=\"data row17 col3\" >6.3%</td>\n",
       "      <td id=\"T_41ed8_row17_col4\" class=\"data row17 col4\" ></td>\n",
       "      <td id=\"T_41ed8_row17_col5\" class=\"data row17 col5\" >0.25</td>\n",
       "      <td id=\"T_41ed8_row17_col6\" class=\"data row17 col6\" >502%-754%</td>\n",
       "      <td id=\"T_41ed8_row17_col7\" class=\"data row17 col7\" >0.9%</td>\n",
       "      <td id=\"T_41ed8_row17_col8\" class=\"data row17 col8\" ></td>\n",
       "      <td id=\"T_41ed8_row17_col9\" class=\"data row17 col9\" ></td>\n",
       "    </tr>\n",
       "    <tr>\n",
       "      <td id=\"T_41ed8_row18_col0\" class=\"data row18 col0\" > Precipitation</td>\n",
       "      <td id=\"T_41ed8_row18_col1\" class=\"data row18 col1\" >96%-99%</td>\n",
       "      <td id=\"T_41ed8_row18_col2\" class=\"data row18 col2\" >2.2%</td>\n",
       "      <td id=\"T_41ed8_row18_col3\" class=\"data row18 col3\" >4.0%</td>\n",
       "      <td id=\"T_41ed8_row18_col4\" class=\"data row18 col4\" ></td>\n",
       "      <td id=\"T_41ed8_row18_col5\" class=\"data row18 col5\" >1.15</td>\n",
       "      <td id=\"T_41ed8_row18_col6\" class=\"data row18 col6\" >96%-99%</td>\n",
       "      <td id=\"T_41ed8_row18_col7\" class=\"data row18 col7\" >1.9%</td>\n",
       "      <td id=\"T_41ed8_row18_col8\" class=\"data row18 col8\" ></td>\n",
       "      <td id=\"T_41ed8_row18_col9\" class=\"data row18 col9\" ></td>\n",
       "    </tr>\n",
       "    <tr>\n",
       "      <td id=\"T_41ed8_row19_col0\" class=\"data row19 col0\" >Temperature</td>\n",
       "      <td id=\"T_41ed8_row19_col1\" class=\"data row19 col1\" >-5.08; -4.84</td>\n",
       "      <td id=\"T_41ed8_row19_col2\" class=\"data row19 col2\" >1.9%</td>\n",
       "      <td id=\"T_41ed8_row19_col3\" class=\"data row19 col3\" >3.1%</td>\n",
       "      <td id=\"T_41ed8_row19_col4\" class=\"data row19 col4\" ></td>\n",
       "      <td id=\"T_41ed8_row19_col5\" class=\"data row19 col5\" >0.68</td>\n",
       "      <td id=\"T_41ed8_row19_col6\" class=\"data row19 col6\" >-5.08; -4.84</td>\n",
       "      <td id=\"T_41ed8_row19_col7\" class=\"data row19 col7\" >2.0%</td>\n",
       "      <td id=\"T_41ed8_row19_col8\" class=\"data row19 col8\" ></td>\n",
       "      <td id=\"T_41ed8_row19_col9\" class=\"data row19 col9\" ></td>\n",
       "    </tr>\n",
       "  </tbody>\n",
       "</table>\n"
      ],
      "text/plain": [
       "<pandas.io.formats.style.Styler at 0x2818b24e9d0>"
      ]
     },
     "metadata": {},
     "output_type": "display_data"
    },
    {
     "name": "stdout",
     "output_type": "stream",
     "text": [
      "\n",
      "Aggregated SHAP feature contribution\n"
     ]
    },
    {
     "data": {
      "text/html": [
       "<style type=\"text/css\">\n",
       "#T_53c83_row0_col1, #T_53c83_row1_col0, #T_53c83_row1_col2 {\n",
       "  font-weight: bold;\n",
       "}\n",
       "</style>\n",
       "<table id=\"T_53c83\">\n",
       "  <thead>\n",
       "    <tr>\n",
       "      <th class=\"blank level0\" >&nbsp;</th>\n",
       "      <th id=\"T_53c83_level0_col0\" class=\"col_heading level0 col0\" >q50</th>\n",
       "      <th id=\"T_53c83_level0_col1\" class=\"col_heading level0 col1\" >q10</th>\n",
       "      <th id=\"T_53c83_level0_col2\" class=\"col_heading level0 col2\" >q90</th>\n",
       "      <th id=\"T_53c83_level0_col3\" class=\"col_heading level0 col3\" >q50_prev</th>\n",
       "      <th id=\"T_53c83_level0_col4\" class=\"col_heading level0 col4\" >q10_prev</th>\n",
       "      <th id=\"T_53c83_level0_col5\" class=\"col_heading level0 col5\" >q90_prev</th>\n",
       "    </tr>\n",
       "    <tr>\n",
       "      <th class=\"index_name level0\" >feature_group</th>\n",
       "      <th class=\"blank col0\" >&nbsp;</th>\n",
       "      <th class=\"blank col1\" >&nbsp;</th>\n",
       "      <th class=\"blank col2\" >&nbsp;</th>\n",
       "      <th class=\"blank col3\" >&nbsp;</th>\n",
       "      <th class=\"blank col4\" >&nbsp;</th>\n",
       "      <th class=\"blank col5\" >&nbsp;</th>\n",
       "    </tr>\n",
       "  </thead>\n",
       "  <tbody>\n",
       "    <tr>\n",
       "      <th id=\"T_53c83_level0_row0\" class=\"row_heading level0 row0\" >base</th>\n",
       "      <td id=\"T_53c83_row0_col0\" class=\"data row0 col0\" >38.8%</td>\n",
       "      <td id=\"T_53c83_row0_col1\" class=\"data row0 col1\" >44.9%</td>\n",
       "      <td id=\"T_53c83_row0_col2\" class=\"data row0 col2\" >39.1%</td>\n",
       "      <td id=\"T_53c83_row0_col3\" class=\"data row0 col3\" >41.0%</td>\n",
       "      <td id=\"T_53c83_row0_col4\" class=\"data row0 col4\" >56.7%</td>\n",
       "      <td id=\"T_53c83_row0_col5\" class=\"data row0 col5\" >40.5%</td>\n",
       "    </tr>\n",
       "    <tr>\n",
       "      <th id=\"T_53c83_level0_row1\" class=\"row_heading level0 row1\" >swe</th>\n",
       "      <td id=\"T_53c83_row1_col0\" class=\"data row1 col0\" >41.2%</td>\n",
       "      <td id=\"T_53c83_row1_col1\" class=\"data row1 col1\" >16.6%</td>\n",
       "      <td id=\"T_53c83_row1_col2\" class=\"data row1 col2\" >57.3%</td>\n",
       "      <td id=\"T_53c83_row1_col3\" class=\"data row1 col3\" >36.5%</td>\n",
       "      <td id=\"T_53c83_row1_col4\" class=\"data row1 col4\" >25.0%</td>\n",
       "      <td id=\"T_53c83_row1_col5\" class=\"data row1 col5\" >50.8%</td>\n",
       "    </tr>\n",
       "    <tr>\n",
       "      <th id=\"T_53c83_level0_row2\" class=\"row_heading level0 row2\" >prec_cml</th>\n",
       "      <td id=\"T_53c83_row2_col0\" class=\"data row2 col0\" >5.6%</td>\n",
       "      <td id=\"T_53c83_row2_col1\" class=\"data row2 col1\" >10.1%</td>\n",
       "      <td id=\"T_53c83_row2_col2\" class=\"data row2 col2\" >3.6%</td>\n",
       "      <td id=\"T_53c83_row2_col3\" class=\"data row2 col3\" >8.2%</td>\n",
       "      <td id=\"T_53c83_row2_col4\" class=\"data row2 col4\" >3.8%</td>\n",
       "      <td id=\"T_53c83_row2_col5\" class=\"data row2 col5\" >8.8%</td>\n",
       "    </tr>\n",
       "    <tr>\n",
       "      <th id=\"T_53c83_level0_row3\" class=\"row_heading level0 row3\" >drought</th>\n",
       "      <td id=\"T_53c83_row3_col0\" class=\"data row3 col0\" >2.9%</td>\n",
       "      <td id=\"T_53c83_row3_col1\" class=\"data row3 col1\" >9.2%</td>\n",
       "      <td id=\"T_53c83_row3_col2\" class=\"data row3 col2\" ></td>\n",
       "      <td id=\"T_53c83_row3_col3\" class=\"data row3 col3\" >3.3%</td>\n",
       "      <td id=\"T_53c83_row3_col4\" class=\"data row3 col4\" >4.1%</td>\n",
       "      <td id=\"T_53c83_row3_col5\" class=\"data row3 col5\" ></td>\n",
       "    </tr>\n",
       "    <tr>\n",
       "      <th id=\"T_53c83_level0_row4\" class=\"row_heading level0 row4\" >others</th>\n",
       "      <td id=\"T_53c83_row4_col0\" class=\"data row4 col0\" >6.2%</td>\n",
       "      <td id=\"T_53c83_row4_col1\" class=\"data row4 col1\" >5.8%</td>\n",
       "      <td id=\"T_53c83_row4_col2\" class=\"data row4 col2\" ></td>\n",
       "      <td id=\"T_53c83_row4_col3\" class=\"data row4 col3\" >6.0%</td>\n",
       "      <td id=\"T_53c83_row4_col4\" class=\"data row4 col4\" >10.5%</td>\n",
       "      <td id=\"T_53c83_row4_col5\" class=\"data row4 col5\" ></td>\n",
       "    </tr>\n",
       "    <tr>\n",
       "      <th id=\"T_53c83_level0_row5\" class=\"row_heading level0 row5\" >fcst</th>\n",
       "      <td id=\"T_53c83_row5_col0\" class=\"data row5 col0\" >5.2%</td>\n",
       "      <td id=\"T_53c83_row5_col1\" class=\"data row5 col1\" >13.5%</td>\n",
       "      <td id=\"T_53c83_row5_col2\" class=\"data row5 col2\" ></td>\n",
       "      <td id=\"T_53c83_row5_col3\" class=\"data row5 col3\" >4.9%</td>\n",
       "      <td id=\"T_53c83_row5_col4\" class=\"data row5 col4\" ></td>\n",
       "      <td id=\"T_53c83_row5_col5\" class=\"data row5 col5\" ></td>\n",
       "    </tr>\n",
       "  </tbody>\n",
       "</table>\n"
      ],
      "text/plain": [
       "<pandas.io.formats.style.Styler at 0x281898e7cd0>"
      ]
     },
     "metadata": {},
     "output_type": "display_data"
    },
    {
     "data": {
      "application/vnd.plotly.v1+json": {
       "config": {
        "plotlyServerURL": "https://plot.ly"
       },
       "data": [
        {
         "hovertemplate": "%{y:.2f}",
         "line": {
          "color": "rgba(0,0,0,0.25)",
          "dash": "dash"
         },
         "mode": "lines",
         "name": "Volume (median)",
         "type": "scatter",
         "x": [
          "2023-01-01T00:00:00",
          "2023-01-08T00:00:00",
          "2023-01-15T00:00:00",
          "2023-01-22T00:00:00",
          "2023-02-01T00:00:00",
          "2023-02-08T00:00:00",
          "2023-02-15T00:00:00",
          "2023-02-22T00:00:00",
          "2023-03-01T00:00:00",
          "2023-03-08T00:00:00",
          "2023-03-15T00:00:00",
          "2023-03-22T00:00:00",
          "2023-04-01T00:00:00",
          "2023-04-08T00:00:00",
          "2023-04-15T00:00:00",
          "2023-04-22T00:00:00",
          "2023-05-01T00:00:00",
          "2023-05-08T00:00:00",
          "2023-05-15T00:00:00",
          "2023-05-22T00:00:00",
          "2023-06-01T00:00:00",
          "2023-06-08T00:00:00",
          "2023-06-15T00:00:00",
          "2023-06-22T00:00:00",
          "2023-07-01T00:00:00",
          "2023-07-08T00:00:00",
          "2023-07-15T00:00:00",
          "2023-07-22T00:00:00"
         ],
         "y": [
          237.14600000000002,
          237.14600000000002,
          237.14600000000002,
          237.14600000000002,
          237.14600000000002,
          237.14600000000002,
          237.14600000000002,
          237.14600000000002,
          237.14600000000002,
          237.14600000000002,
          237.14600000000002,
          237.14600000000002,
          237.14600000000002,
          237.14600000000002,
          237.14600000000002,
          237.14600000000002,
          237.14600000000002,
          237.14600000000002,
          237.14600000000002,
          237.14600000000002,
          237.14600000000002,
          237.14600000000002,
          237.14600000000002,
          237.14600000000002,
          237.14600000000002,
          237.14600000000002,
          237.14600000000002,
          237.14600000000002
         ]
        },
        {
         "hovertemplate": "%{y:.2f}",
         "line": {
          "color": "rgba(0,0,0,0.25)",
          "dash": "dot"
         },
         "mode": "lines",
         "name": "Volume (mean)",
         "type": "scatter",
         "x": [
          "2023-01-01T00:00:00",
          "2023-01-08T00:00:00",
          "2023-01-15T00:00:00",
          "2023-01-22T00:00:00",
          "2023-02-01T00:00:00",
          "2023-02-08T00:00:00",
          "2023-02-15T00:00:00",
          "2023-02-22T00:00:00",
          "2023-03-01T00:00:00",
          "2023-03-08T00:00:00",
          "2023-03-15T00:00:00",
          "2023-03-22T00:00:00",
          "2023-04-01T00:00:00",
          "2023-04-08T00:00:00",
          "2023-04-15T00:00:00",
          "2023-04-22T00:00:00",
          "2023-05-01T00:00:00",
          "2023-05-08T00:00:00",
          "2023-05-15T00:00:00",
          "2023-05-22T00:00:00",
          "2023-06-01T00:00:00",
          "2023-06-08T00:00:00",
          "2023-06-15T00:00:00",
          "2023-06-22T00:00:00",
          "2023-07-01T00:00:00",
          "2023-07-08T00:00:00",
          "2023-07-15T00:00:00",
          "2023-07-22T00:00:00"
         ],
         "y": [
          311.8800333333333,
          311.8800333333333,
          311.8800333333333,
          311.8800333333333,
          311.8800333333333,
          311.8800333333333,
          311.8800333333333,
          311.8800333333333,
          311.8800333333333,
          311.8800333333333,
          311.8800333333333,
          311.8800333333333,
          311.8800333333333,
          311.8800333333333,
          311.8800333333333,
          311.8800333333333,
          311.8800333333333,
          311.8800333333333,
          311.8800333333333,
          311.8800333333333,
          311.8800333333333,
          311.8800333333333,
          311.8800333333333,
          311.8800333333333,
          311.8800333333333,
          311.8800333333333,
          311.8800333333333,
          311.8800333333333
         ]
        },
        {
         "hovertemplate": "%{y:.2f}",
         "line": {
          "color": "rgba(226,167,111,0.8)"
         },
         "mode": "lines",
         "name": "Volume (min, 1992)",
         "type": "scatter",
         "x": [
          "2023-01-01T00:00:00",
          "2023-01-08T00:00:00",
          "2023-01-15T00:00:00",
          "2023-01-22T00:00:00",
          "2023-02-01T00:00:00",
          "2023-02-08T00:00:00",
          "2023-02-15T00:00:00",
          "2023-02-22T00:00:00",
          "2023-03-01T00:00:00",
          "2023-03-08T00:00:00",
          "2023-03-15T00:00:00",
          "2023-03-22T00:00:00",
          "2023-04-01T00:00:00",
          "2023-04-08T00:00:00",
          "2023-04-15T00:00:00",
          "2023-04-22T00:00:00",
          "2023-05-01T00:00:00",
          "2023-05-08T00:00:00",
          "2023-05-15T00:00:00",
          "2023-05-22T00:00:00",
          "2023-06-01T00:00:00",
          "2023-06-08T00:00:00",
          "2023-06-15T00:00:00",
          "2023-06-22T00:00:00",
          "2023-07-01T00:00:00",
          "2023-07-08T00:00:00",
          "2023-07-15T00:00:00",
          "2023-07-22T00:00:00"
         ],
         "y": [
          47.698,
          47.698,
          47.698,
          47.698,
          47.698,
          47.698,
          47.698,
          47.698,
          47.698,
          47.698,
          47.698,
          47.698,
          47.698,
          47.698,
          47.698,
          47.698,
          47.698,
          47.698,
          47.698,
          47.698,
          47.698,
          47.698,
          47.698,
          47.698,
          47.698,
          47.698,
          47.698,
          47.698
         ]
        },
        {
         "hovertemplate": "%{y:.2f}",
         "line": {
          "color": "rgba(150,0,0,0.7)"
         },
         "mode": "lines",
         "name": "Volume (max, 1984)",
         "type": "scatter",
         "x": [
          "2023-01-01T00:00:00",
          "2023-01-08T00:00:00",
          "2023-01-15T00:00:00",
          "2023-01-22T00:00:00",
          "2023-02-01T00:00:00",
          "2023-02-08T00:00:00",
          "2023-02-15T00:00:00",
          "2023-02-22T00:00:00",
          "2023-03-01T00:00:00",
          "2023-03-08T00:00:00",
          "2023-03-15T00:00:00",
          "2023-03-22T00:00:00",
          "2023-04-01T00:00:00",
          "2023-04-08T00:00:00",
          "2023-04-15T00:00:00",
          "2023-04-22T00:00:00",
          "2023-05-01T00:00:00",
          "2023-05-08T00:00:00",
          "2023-05-15T00:00:00",
          "2023-05-22T00:00:00",
          "2023-06-01T00:00:00",
          "2023-06-08T00:00:00",
          "2023-06-15T00:00:00",
          "2023-06-22T00:00:00",
          "2023-07-01T00:00:00",
          "2023-07-08T00:00:00",
          "2023-07-15T00:00:00",
          "2023-07-22T00:00:00"
         ],
         "y": [
          1778.656,
          1778.656,
          1778.656,
          1778.656,
          1778.656,
          1778.656,
          1778.656,
          1778.656,
          1778.656,
          1778.656,
          1778.656,
          1778.656,
          1778.656,
          1778.656,
          1778.656,
          1778.656,
          1778.656,
          1778.656,
          1778.656,
          1778.656,
          1778.656,
          1778.656,
          1778.656,
          1778.656,
          1778.656,
          1778.656,
          1778.656,
          1778.656
         ]
        },
        {
         "hovertemplate": "%{y:.2f}",
         "line": {
          "color": "rgb(34,139,34)",
          "dash": "dot"
         },
         "mode": "lines",
         "name": "Latest known volume",
         "type": "scatter",
         "x": [
          "2023-01-01T00:00:00",
          "2023-01-08T00:00:00",
          "2023-01-15T00:00:00",
          "2023-01-22T00:00:00",
          "2023-02-01T00:00:00",
          "2023-02-08T00:00:00",
          "2023-02-15T00:00:00",
          "2023-02-22T00:00:00",
          "2023-03-01T00:00:00",
          "2023-03-08T00:00:00",
          "2023-03-15T00:00:00",
          "2023-03-22T00:00:00",
          "2023-04-01T00:00:00",
          "2023-04-08T00:00:00",
          "2023-04-15T00:00:00",
          "2023-04-22T00:00:00",
          "2023-05-01T00:00:00",
          "2023-05-08T00:00:00",
          "2023-05-15T00:00:00",
          "2023-05-22T00:00:00",
          "2023-06-01T00:00:00",
          "2023-06-08T00:00:00",
          "2023-06-15T00:00:00",
          "2023-06-22T00:00:00",
          "2023-07-01T00:00:00",
          "2023-07-08T00:00:00",
          "2023-07-15T00:00:00",
          "2023-07-22T00:00:00"
         ],
         "y": [
          null,
          null,
          null,
          null,
          null,
          null,
          null,
          null,
          null,
          null,
          null,
          null,
          null,
          null,
          null,
          null,
          null,
          null,
          null,
          null,
          null,
          null,
          null,
          null,
          null,
          null,
          null,
          null
         ]
        },
        {
         "hovertemplate": "%{y:.2f}",
         "line": {
          "width": 0
         },
         "marker": {
          "color": "#444"
         },
         "mode": "lines",
         "name": "Quantile 0.1 forecast",
         "showlegend": false,
         "type": "scatter",
         "x": [
          "2023-01-01T00:00:00",
          "2023-01-08T00:00:00",
          "2023-01-15T00:00:00",
          "2023-01-22T00:00:00",
          "2023-02-01T00:00:00",
          "2023-02-08T00:00:00",
          "2023-02-15T00:00:00",
          "2023-02-22T00:00:00",
          "2023-03-01T00:00:00",
          "2023-03-08T00:00:00",
          "2023-03-15T00:00:00",
          "2023-03-22T00:00:00",
          "2023-04-01T00:00:00",
          "2023-04-08T00:00:00",
          "2023-04-15T00:00:00",
          "2023-04-22T00:00:00",
          "2023-05-01T00:00:00",
          "2023-05-08T00:00:00",
          "2023-05-15T00:00:00",
          "2023-05-22T00:00:00",
          "2023-06-01T00:00:00",
          "2023-06-08T00:00:00",
          "2023-06-15T00:00:00",
          "2023-06-22T00:00:00",
          "2023-07-01T00:00:00",
          "2023-07-08T00:00:00",
          "2023-07-15T00:00:00",
          "2023-07-22T00:00:00"
         ],
         "y": [
          176.06411129731976,
          162.43207177440752,
          160.5145181284966,
          175.5757002116384,
          183.11368731476975,
          196.45191882530955,
          189.6399501851974,
          180.83976886608133,
          187.85721279944042,
          216.7834565830405,
          262.7157990518529,
          null,
          null,
          null,
          null,
          null,
          null,
          null,
          null,
          null,
          null,
          null,
          null,
          null,
          null,
          null,
          null,
          null
         ]
        },
        {
         "fill": "tonexty",
         "fillcolor": "rgba(148, 187, 207, 0.4)",
         "hoverinfo": "skip",
         "line": {
          "width": 0
         },
         "marker": {
          "color": "#444"
         },
         "mode": "lines",
         "name": "80% prediction interval",
         "type": "scatter",
         "x": [
          "2023-01-01T00:00:00",
          "2023-01-08T00:00:00",
          "2023-01-15T00:00:00",
          "2023-01-22T00:00:00",
          "2023-02-01T00:00:00",
          "2023-02-08T00:00:00",
          "2023-02-15T00:00:00",
          "2023-02-22T00:00:00",
          "2023-03-01T00:00:00",
          "2023-03-08T00:00:00",
          "2023-03-15T00:00:00",
          "2023-03-22T00:00:00",
          "2023-04-01T00:00:00",
          "2023-04-08T00:00:00",
          "2023-04-15T00:00:00",
          "2023-04-22T00:00:00",
          "2023-05-01T00:00:00",
          "2023-05-08T00:00:00",
          "2023-05-15T00:00:00",
          "2023-05-22T00:00:00",
          "2023-06-01T00:00:00",
          "2023-06-08T00:00:00",
          "2023-06-15T00:00:00",
          "2023-06-22T00:00:00",
          "2023-07-01T00:00:00",
          "2023-07-08T00:00:00",
          "2023-07-15T00:00:00",
          "2023-07-22T00:00:00"
         ],
         "y": [
          850.6563643495131,
          773.5839178384431,
          899.6106331731758,
          935.034823015949,
          1047.8095566423744,
          1040.578114349979,
          985.0020060362839,
          812.9762317405258,
          930.9611073393176,
          951.8125808536968,
          1130.8274666947707,
          null,
          null,
          null,
          null,
          null,
          null,
          null,
          null,
          null,
          null,
          null,
          null,
          null,
          null,
          null,
          null,
          null
         ]
        },
        {
         "hovertemplate": "%{y:.2f}",
         "line": {
          "width": 0
         },
         "marker": {
          "color": "#444"
         },
         "mode": "lines",
         "name": "Quantile 0.9 forecast",
         "showlegend": false,
         "type": "scatter",
         "x": [
          "2023-01-01T00:00:00",
          "2023-01-08T00:00:00",
          "2023-01-15T00:00:00",
          "2023-01-22T00:00:00",
          "2023-02-01T00:00:00",
          "2023-02-08T00:00:00",
          "2023-02-15T00:00:00",
          "2023-02-22T00:00:00",
          "2023-03-01T00:00:00",
          "2023-03-08T00:00:00",
          "2023-03-15T00:00:00",
          "2023-03-22T00:00:00",
          "2023-04-01T00:00:00",
          "2023-04-08T00:00:00",
          "2023-04-15T00:00:00",
          "2023-04-22T00:00:00",
          "2023-05-01T00:00:00",
          "2023-05-08T00:00:00",
          "2023-05-15T00:00:00",
          "2023-05-22T00:00:00",
          "2023-06-01T00:00:00",
          "2023-06-08T00:00:00",
          "2023-06-15T00:00:00",
          "2023-06-22T00:00:00",
          "2023-07-01T00:00:00",
          "2023-07-08T00:00:00",
          "2023-07-15T00:00:00",
          "2023-07-22T00:00:00"
         ],
         "y": [
          850.6563643495131,
          773.5839178384431,
          899.6106331731758,
          935.034823015949,
          1047.8095566423744,
          1040.578114349979,
          985.0020060362839,
          812.9762317405258,
          930.9611073393176,
          951.8125808536968,
          1130.8274666947707,
          null,
          null,
          null,
          null,
          null,
          null,
          null,
          null,
          null,
          null,
          null,
          null,
          null,
          null,
          null,
          null,
          null
         ]
        },
        {
         "hovertemplate": "%{y:.2f}",
         "line": {
          "color": "#384D7E"
         },
         "mode": "lines",
         "name": "Point forecast",
         "type": "scatter",
         "x": [
          "2023-01-01T00:00:00",
          "2023-01-08T00:00:00",
          "2023-01-15T00:00:00",
          "2023-01-22T00:00:00",
          "2023-02-01T00:00:00",
          "2023-02-08T00:00:00",
          "2023-02-15T00:00:00",
          "2023-02-22T00:00:00",
          "2023-03-01T00:00:00",
          "2023-03-08T00:00:00",
          "2023-03-15T00:00:00",
          "2023-03-22T00:00:00",
          "2023-04-01T00:00:00",
          "2023-04-08T00:00:00",
          "2023-04-15T00:00:00",
          "2023-04-22T00:00:00",
          "2023-05-01T00:00:00",
          "2023-05-08T00:00:00",
          "2023-05-15T00:00:00",
          "2023-05-22T00:00:00",
          "2023-06-01T00:00:00",
          "2023-06-08T00:00:00",
          "2023-06-15T00:00:00",
          "2023-06-22T00:00:00",
          "2023-07-01T00:00:00",
          "2023-07-08T00:00:00",
          "2023-07-15T00:00:00",
          "2023-07-22T00:00:00"
         ],
         "y": [
          403.2504963609578,
          376.0095823853031,
          404.44712615041004,
          398.99920454041154,
          412.1936248854236,
          402.6807904547288,
          397.459355456361,
          370.6895657432252,
          409.80367831759196,
          434.53998416049245,
          487.80168335186954,
          null,
          null,
          null,
          null,
          null,
          null,
          null,
          null,
          null,
          null,
          null,
          null,
          null,
          null,
          null,
          null,
          null
         ]
        }
       ],
       "layout": {
        "height": 500,
        "hovermode": "x",
        "template": {
         "data": {
          "bar": [
           {
            "error_x": {
             "color": "#2a3f5f"
            },
            "error_y": {
             "color": "#2a3f5f"
            },
            "marker": {
             "line": {
              "color": "white",
              "width": 0.5
             },
             "pattern": {
              "fillmode": "overlay",
              "size": 10,
              "solidity": 0.2
             }
            },
            "type": "bar"
           }
          ],
          "barpolar": [
           {
            "marker": {
             "line": {
              "color": "white",
              "width": 0.5
             },
             "pattern": {
              "fillmode": "overlay",
              "size": 10,
              "solidity": 0.2
             }
            },
            "type": "barpolar"
           }
          ],
          "carpet": [
           {
            "aaxis": {
             "endlinecolor": "#2a3f5f",
             "gridcolor": "#C8D4E3",
             "linecolor": "#C8D4E3",
             "minorgridcolor": "#C8D4E3",
             "startlinecolor": "#2a3f5f"
            },
            "baxis": {
             "endlinecolor": "#2a3f5f",
             "gridcolor": "#C8D4E3",
             "linecolor": "#C8D4E3",
             "minorgridcolor": "#C8D4E3",
             "startlinecolor": "#2a3f5f"
            },
            "type": "carpet"
           }
          ],
          "choropleth": [
           {
            "colorbar": {
             "outlinewidth": 0,
             "ticks": ""
            },
            "type": "choropleth"
           }
          ],
          "contour": [
           {
            "colorbar": {
             "outlinewidth": 0,
             "ticks": ""
            },
            "colorscale": [
             [
              0,
              "#0d0887"
             ],
             [
              0.1111111111111111,
              "#46039f"
             ],
             [
              0.2222222222222222,
              "#7201a8"
             ],
             [
              0.3333333333333333,
              "#9c179e"
             ],
             [
              0.4444444444444444,
              "#bd3786"
             ],
             [
              0.5555555555555556,
              "#d8576b"
             ],
             [
              0.6666666666666666,
              "#ed7953"
             ],
             [
              0.7777777777777778,
              "#fb9f3a"
             ],
             [
              0.8888888888888888,
              "#fdca26"
             ],
             [
              1,
              "#f0f921"
             ]
            ],
            "type": "contour"
           }
          ],
          "contourcarpet": [
           {
            "colorbar": {
             "outlinewidth": 0,
             "ticks": ""
            },
            "type": "contourcarpet"
           }
          ],
          "heatmap": [
           {
            "colorbar": {
             "outlinewidth": 0,
             "ticks": ""
            },
            "colorscale": [
             [
              0,
              "#0d0887"
             ],
             [
              0.1111111111111111,
              "#46039f"
             ],
             [
              0.2222222222222222,
              "#7201a8"
             ],
             [
              0.3333333333333333,
              "#9c179e"
             ],
             [
              0.4444444444444444,
              "#bd3786"
             ],
             [
              0.5555555555555556,
              "#d8576b"
             ],
             [
              0.6666666666666666,
              "#ed7953"
             ],
             [
              0.7777777777777778,
              "#fb9f3a"
             ],
             [
              0.8888888888888888,
              "#fdca26"
             ],
             [
              1,
              "#f0f921"
             ]
            ],
            "type": "heatmap"
           }
          ],
          "heatmapgl": [
           {
            "colorbar": {
             "outlinewidth": 0,
             "ticks": ""
            },
            "colorscale": [
             [
              0,
              "#0d0887"
             ],
             [
              0.1111111111111111,
              "#46039f"
             ],
             [
              0.2222222222222222,
              "#7201a8"
             ],
             [
              0.3333333333333333,
              "#9c179e"
             ],
             [
              0.4444444444444444,
              "#bd3786"
             ],
             [
              0.5555555555555556,
              "#d8576b"
             ],
             [
              0.6666666666666666,
              "#ed7953"
             ],
             [
              0.7777777777777778,
              "#fb9f3a"
             ],
             [
              0.8888888888888888,
              "#fdca26"
             ],
             [
              1,
              "#f0f921"
             ]
            ],
            "type": "heatmapgl"
           }
          ],
          "histogram": [
           {
            "marker": {
             "pattern": {
              "fillmode": "overlay",
              "size": 10,
              "solidity": 0.2
             }
            },
            "type": "histogram"
           }
          ],
          "histogram2d": [
           {
            "colorbar": {
             "outlinewidth": 0,
             "ticks": ""
            },
            "colorscale": [
             [
              0,
              "#0d0887"
             ],
             [
              0.1111111111111111,
              "#46039f"
             ],
             [
              0.2222222222222222,
              "#7201a8"
             ],
             [
              0.3333333333333333,
              "#9c179e"
             ],
             [
              0.4444444444444444,
              "#bd3786"
             ],
             [
              0.5555555555555556,
              "#d8576b"
             ],
             [
              0.6666666666666666,
              "#ed7953"
             ],
             [
              0.7777777777777778,
              "#fb9f3a"
             ],
             [
              0.8888888888888888,
              "#fdca26"
             ],
             [
              1,
              "#f0f921"
             ]
            ],
            "type": "histogram2d"
           }
          ],
          "histogram2dcontour": [
           {
            "colorbar": {
             "outlinewidth": 0,
             "ticks": ""
            },
            "colorscale": [
             [
              0,
              "#0d0887"
             ],
             [
              0.1111111111111111,
              "#46039f"
             ],
             [
              0.2222222222222222,
              "#7201a8"
             ],
             [
              0.3333333333333333,
              "#9c179e"
             ],
             [
              0.4444444444444444,
              "#bd3786"
             ],
             [
              0.5555555555555556,
              "#d8576b"
             ],
             [
              0.6666666666666666,
              "#ed7953"
             ],
             [
              0.7777777777777778,
              "#fb9f3a"
             ],
             [
              0.8888888888888888,
              "#fdca26"
             ],
             [
              1,
              "#f0f921"
             ]
            ],
            "type": "histogram2dcontour"
           }
          ],
          "mesh3d": [
           {
            "colorbar": {
             "outlinewidth": 0,
             "ticks": ""
            },
            "type": "mesh3d"
           }
          ],
          "parcoords": [
           {
            "line": {
             "colorbar": {
              "outlinewidth": 0,
              "ticks": ""
             }
            },
            "type": "parcoords"
           }
          ],
          "pie": [
           {
            "automargin": true,
            "type": "pie"
           }
          ],
          "scatter": [
           {
            "fillpattern": {
             "fillmode": "overlay",
             "size": 10,
             "solidity": 0.2
            },
            "type": "scatter"
           }
          ],
          "scatter3d": [
           {
            "line": {
             "colorbar": {
              "outlinewidth": 0,
              "ticks": ""
             }
            },
            "marker": {
             "colorbar": {
              "outlinewidth": 0,
              "ticks": ""
             }
            },
            "type": "scatter3d"
           }
          ],
          "scattercarpet": [
           {
            "marker": {
             "colorbar": {
              "outlinewidth": 0,
              "ticks": ""
             }
            },
            "type": "scattercarpet"
           }
          ],
          "scattergeo": [
           {
            "marker": {
             "colorbar": {
              "outlinewidth": 0,
              "ticks": ""
             }
            },
            "type": "scattergeo"
           }
          ],
          "scattergl": [
           {
            "marker": {
             "colorbar": {
              "outlinewidth": 0,
              "ticks": ""
             }
            },
            "type": "scattergl"
           }
          ],
          "scattermapbox": [
           {
            "marker": {
             "colorbar": {
              "outlinewidth": 0,
              "ticks": ""
             }
            },
            "type": "scattermapbox"
           }
          ],
          "scatterpolar": [
           {
            "marker": {
             "colorbar": {
              "outlinewidth": 0,
              "ticks": ""
             }
            },
            "type": "scatterpolar"
           }
          ],
          "scatterpolargl": [
           {
            "marker": {
             "colorbar": {
              "outlinewidth": 0,
              "ticks": ""
             }
            },
            "type": "scatterpolargl"
           }
          ],
          "scatterternary": [
           {
            "marker": {
             "colorbar": {
              "outlinewidth": 0,
              "ticks": ""
             }
            },
            "type": "scatterternary"
           }
          ],
          "surface": [
           {
            "colorbar": {
             "outlinewidth": 0,
             "ticks": ""
            },
            "colorscale": [
             [
              0,
              "#0d0887"
             ],
             [
              0.1111111111111111,
              "#46039f"
             ],
             [
              0.2222222222222222,
              "#7201a8"
             ],
             [
              0.3333333333333333,
              "#9c179e"
             ],
             [
              0.4444444444444444,
              "#bd3786"
             ],
             [
              0.5555555555555556,
              "#d8576b"
             ],
             [
              0.6666666666666666,
              "#ed7953"
             ],
             [
              0.7777777777777778,
              "#fb9f3a"
             ],
             [
              0.8888888888888888,
              "#fdca26"
             ],
             [
              1,
              "#f0f921"
             ]
            ],
            "type": "surface"
           }
          ],
          "table": [
           {
            "cells": {
             "fill": {
              "color": "#EBF0F8"
             },
             "line": {
              "color": "white"
             }
            },
            "header": {
             "fill": {
              "color": "#C8D4E3"
             },
             "line": {
              "color": "white"
             }
            },
            "type": "table"
           }
          ]
         },
         "layout": {
          "annotationdefaults": {
           "arrowcolor": "#2a3f5f",
           "arrowhead": 0,
           "arrowwidth": 1
          },
          "autotypenumbers": "strict",
          "coloraxis": {
           "colorbar": {
            "outlinewidth": 0,
            "ticks": ""
           }
          },
          "colorscale": {
           "diverging": [
            [
             0,
             "#8e0152"
            ],
            [
             0.1,
             "#c51b7d"
            ],
            [
             0.2,
             "#de77ae"
            ],
            [
             0.3,
             "#f1b6da"
            ],
            [
             0.4,
             "#fde0ef"
            ],
            [
             0.5,
             "#f7f7f7"
            ],
            [
             0.6,
             "#e6f5d0"
            ],
            [
             0.7,
             "#b8e186"
            ],
            [
             0.8,
             "#7fbc41"
            ],
            [
             0.9,
             "#4d9221"
            ],
            [
             1,
             "#276419"
            ]
           ],
           "sequential": [
            [
             0,
             "#0d0887"
            ],
            [
             0.1111111111111111,
             "#46039f"
            ],
            [
             0.2222222222222222,
             "#7201a8"
            ],
            [
             0.3333333333333333,
             "#9c179e"
            ],
            [
             0.4444444444444444,
             "#bd3786"
            ],
            [
             0.5555555555555556,
             "#d8576b"
            ],
            [
             0.6666666666666666,
             "#ed7953"
            ],
            [
             0.7777777777777778,
             "#fb9f3a"
            ],
            [
             0.8888888888888888,
             "#fdca26"
            ],
            [
             1,
             "#f0f921"
            ]
           ],
           "sequentialminus": [
            [
             0,
             "#0d0887"
            ],
            [
             0.1111111111111111,
             "#46039f"
            ],
            [
             0.2222222222222222,
             "#7201a8"
            ],
            [
             0.3333333333333333,
             "#9c179e"
            ],
            [
             0.4444444444444444,
             "#bd3786"
            ],
            [
             0.5555555555555556,
             "#d8576b"
            ],
            [
             0.6666666666666666,
             "#ed7953"
            ],
            [
             0.7777777777777778,
             "#fb9f3a"
            ],
            [
             0.8888888888888888,
             "#fdca26"
            ],
            [
             1,
             "#f0f921"
            ]
           ]
          },
          "colorway": [
           "#636efa",
           "#EF553B",
           "#00cc96",
           "#ab63fa",
           "#FFA15A",
           "#19d3f3",
           "#FF6692",
           "#B6E880",
           "#FF97FF",
           "#FECB52"
          ],
          "font": {
           "color": "#2a3f5f"
          },
          "geo": {
           "bgcolor": "white",
           "lakecolor": "white",
           "landcolor": "white",
           "showlakes": true,
           "showland": true,
           "subunitcolor": "#C8D4E3"
          },
          "hoverlabel": {
           "align": "left"
          },
          "hovermode": "closest",
          "mapbox": {
           "style": "light"
          },
          "paper_bgcolor": "white",
          "plot_bgcolor": "white",
          "polar": {
           "angularaxis": {
            "gridcolor": "#EBF0F8",
            "linecolor": "#EBF0F8",
            "ticks": ""
           },
           "bgcolor": "white",
           "radialaxis": {
            "gridcolor": "#EBF0F8",
            "linecolor": "#EBF0F8",
            "ticks": ""
           }
          },
          "scene": {
           "xaxis": {
            "backgroundcolor": "white",
            "gridcolor": "#DFE8F3",
            "gridwidth": 2,
            "linecolor": "#EBF0F8",
            "showbackground": true,
            "ticks": "",
            "zerolinecolor": "#EBF0F8"
           },
           "yaxis": {
            "backgroundcolor": "white",
            "gridcolor": "#DFE8F3",
            "gridwidth": 2,
            "linecolor": "#EBF0F8",
            "showbackground": true,
            "ticks": "",
            "zerolinecolor": "#EBF0F8"
           },
           "zaxis": {
            "backgroundcolor": "white",
            "gridcolor": "#DFE8F3",
            "gridwidth": 2,
            "linecolor": "#EBF0F8",
            "showbackground": true,
            "ticks": "",
            "zerolinecolor": "#EBF0F8"
           }
          },
          "shapedefaults": {
           "line": {
            "color": "#2a3f5f"
           }
          },
          "ternary": {
           "aaxis": {
            "gridcolor": "#DFE8F3",
            "linecolor": "#A2B1C6",
            "ticks": ""
           },
           "baxis": {
            "gridcolor": "#DFE8F3",
            "linecolor": "#A2B1C6",
            "ticks": ""
           },
           "bgcolor": "white",
           "caxis": {
            "gridcolor": "#DFE8F3",
            "linecolor": "#A2B1C6",
            "ticks": ""
           }
          },
          "title": {
           "x": 0.05
          },
          "xaxis": {
           "automargin": true,
           "gridcolor": "#EBF0F8",
           "linecolor": "#EBF0F8",
           "ticks": "",
           "title": {
            "standoff": 15
           },
           "zerolinecolor": "#EBF0F8",
           "zerolinewidth": 2
          },
          "yaxis": {
           "automargin": true,
           "gridcolor": "#EBF0F8",
           "linecolor": "#EBF0F8",
           "ticks": "",
           "title": {
            "standoff": 15
           },
           "zerolinecolor": "#EBF0F8",
           "zerolinewidth": 2
          }
         }
        },
        "title": {
         "text": "owyhee_r_bl_owyhee_dam - Apr-Jul 2023 forecast"
        },
        "width": 900,
        "xaxis": {
         "title": {
          "text": "Issue Date"
         }
        },
        "yaxis": {
         "title": {
          "text": "Volume (KAF)"
         }
        }
       }
      }
     },
     "metadata": {},
     "output_type": "display_data"
    },
    {
     "name": "stdout",
     "output_type": "stream",
     "text": [
      "owyhee_r_bl_owyhee_dam 2023-05-15\n",
      "P10 model: 0.2*ngm_ua + 0.8*ngm_pdsi_ua_s51\n",
      "P90 model: 0.8*base_swe + 0.2*swe_ua\n",
      "\n",
      "Actual volume: 524.00\n"
     ]
    },
    {
     "data": {
      "text/html": [
       "<style type=\"text/css\">\n",
       "</style>\n",
       "<table id=\"T_25ba5\">\n",
       "  <thead>\n",
       "    <tr>\n",
       "      <th class=\"index_name level0\" >idx</th>\n",
       "      <th id=\"T_25ba5_level0_col0\" class=\"col_heading level0 col0\" >forecast</th>\n",
       "      <th id=\"T_25ba5_level0_col1\" class=\"col_heading level0 col1\" >percent_mean</th>\n",
       "      <th id=\"T_25ba5_level0_col2\" class=\"col_heading level0 col2\" >percent_median</th>\n",
       "    </tr>\n",
       "  </thead>\n",
       "  <tbody>\n",
       "    <tr>\n",
       "      <th id=\"T_25ba5_level0_row0\" class=\"row_heading level0 row0\" >pred_volume_10</th>\n",
       "      <td id=\"T_25ba5_row0_col0\" class=\"data row0 col0\" >408.62</td>\n",
       "      <td id=\"T_25ba5_row0_col1\" class=\"data row0 col1\" >131%</td>\n",
       "      <td id=\"T_25ba5_row0_col2\" class=\"data row0 col2\" >172%</td>\n",
       "    </tr>\n",
       "    <tr>\n",
       "      <th id=\"T_25ba5_level0_row1\" class=\"row_heading level0 row1\" >pred_volume_50</th>\n",
       "      <td id=\"T_25ba5_row1_col0\" class=\"data row1 col0\" >520.01</td>\n",
       "      <td id=\"T_25ba5_row1_col1\" class=\"data row1 col1\" >167%</td>\n",
       "      <td id=\"T_25ba5_row1_col2\" class=\"data row1 col2\" >219%</td>\n",
       "    </tr>\n",
       "    <tr>\n",
       "      <th id=\"T_25ba5_level0_row2\" class=\"row_heading level0 row2\" >pred_volume_90</th>\n",
       "      <td id=\"T_25ba5_row2_col0\" class=\"data row2 col0\" >697.12</td>\n",
       "      <td id=\"T_25ba5_row2_col1\" class=\"data row2 col1\" >224%</td>\n",
       "      <td id=\"T_25ba5_row2_col2\" class=\"data row2 col2\" >294%</td>\n",
       "    </tr>\n",
       "  </tbody>\n",
       "</table>\n"
      ],
      "text/plain": [
       "<pandas.io.formats.style.Styler at 0x281898caa60>"
      ]
     },
     "metadata": {},
     "output_type": "display_data"
    },
    {
     "name": "stdout",
     "output_type": "stream",
     "text": [
      "owyhee_r_bl_owyhee_dam, 2023-05-15\n",
      "owyhee_r_bl_owyhee_dam, 2023-05-08\n",
      "\n",
      " SHAP feature contribution\n"
     ]
    },
    {
     "data": {
      "text/html": [
       "<style type=\"text/css\">\n",
       "#T_f3e51 th.col_heading.level0 {\n",
       "  text-align: center;\n",
       "}\n",
       "#T_f3e51 th.col_heading.level1 {\n",
       "  text-align: center;\n",
       "}\n",
       "#T_f3e51 th.col_heading.level2 {\n",
       "  text-align: center;\n",
       "}\n",
       "#T_f3e51 tr {\n",
       "  line-height: 21px;\n",
       "}\n",
       "#T_f3e51 td {\n",
       "  line-height: inherit;\n",
       "  padding-top: 0;\n",
       "  padding-bottom: 0;\n",
       "}\n",
       "#T_f3e51 th {\n",
       "  line-height: inherit;\n",
       "  padding-top: 0;\n",
       "  padding-bottom: 0;\n",
       "}\n",
       "#T_f3e51_row0_col0, #T_f3e51_row1_col0, #T_f3e51_row5_col0, #T_f3e51_row8_col0, #T_f3e51_row11_col0, #T_f3e51_row16_col0 {\n",
       "  text-align: left;\n",
       "  font-weight: bold;\n",
       "  border-right: 1px solid #D3D3D3;\n",
       "  font-weight: bold;\n",
       "  border-top: 1px solid #D3D3D3;\n",
       "}\n",
       "#T_f3e51_row0_col1, #T_f3e51_row0_col2, #T_f3e51_row0_col3, #T_f3e51_row0_col4, #T_f3e51_row0_col5, #T_f3e51_row0_col7, #T_f3e51_row0_col8, #T_f3e51_row0_col9, #T_f3e51_row1_col1, #T_f3e51_row1_col2, #T_f3e51_row1_col3, #T_f3e51_row1_col4, #T_f3e51_row1_col5, #T_f3e51_row1_col7, #T_f3e51_row1_col8, #T_f3e51_row1_col9, #T_f3e51_row5_col1, #T_f3e51_row5_col2, #T_f3e51_row5_col3, #T_f3e51_row5_col4, #T_f3e51_row5_col5, #T_f3e51_row5_col7, #T_f3e51_row5_col8, #T_f3e51_row5_col9, #T_f3e51_row8_col1, #T_f3e51_row8_col2, #T_f3e51_row8_col3, #T_f3e51_row8_col4, #T_f3e51_row8_col5, #T_f3e51_row8_col7, #T_f3e51_row8_col8, #T_f3e51_row8_col9, #T_f3e51_row11_col1, #T_f3e51_row11_col2, #T_f3e51_row11_col3, #T_f3e51_row11_col4, #T_f3e51_row11_col5, #T_f3e51_row11_col7, #T_f3e51_row11_col8, #T_f3e51_row11_col9, #T_f3e51_row16_col1, #T_f3e51_row16_col2, #T_f3e51_row16_col3, #T_f3e51_row16_col4, #T_f3e51_row16_col5, #T_f3e51_row16_col7, #T_f3e51_row16_col8, #T_f3e51_row16_col9 {\n",
       "  font-weight: bold;\n",
       "  border-top: 1px solid #D3D3D3;\n",
       "}\n",
       "#T_f3e51_row0_col6, #T_f3e51_row1_col6, #T_f3e51_row5_col6, #T_f3e51_row8_col6, #T_f3e51_row11_col6, #T_f3e51_row16_col6 {\n",
       "  border-left: 1px solid #D3D3D3;\n",
       "  font-weight: bold;\n",
       "  border-top: 1px solid #D3D3D3;\n",
       "}\n",
       "#T_f3e51_row2_col0, #T_f3e51_row3_col0, #T_f3e51_row4_col0, #T_f3e51_row6_col0, #T_f3e51_row7_col0, #T_f3e51_row9_col0, #T_f3e51_row10_col0, #T_f3e51_row12_col0, #T_f3e51_row13_col0, #T_f3e51_row14_col0, #T_f3e51_row15_col0, #T_f3e51_row17_col0, #T_f3e51_row18_col0, #T_f3e51_row19_col0 {\n",
       "  text-align: left;\n",
       "  font-weight: bold;\n",
       "  border-right: 1px solid #D3D3D3;\n",
       "  text-indent: 1em;\n",
       "  font-weight: normal;\n",
       "}\n",
       "#T_f3e51_row2_col2, #T_f3e51_row6_col2 {\n",
       "  width: 50px;\n",
       "  background: linear-gradient(90deg, transparent 25.0%, #1ca3ec 25.0%, #1ca3ec 26.7%, transparent 26.7%) no-repeat center;\n",
       "  background-size: 100% 50.0%;\n",
       "}\n",
       "#T_f3e51_row2_col3, #T_f3e51_row2_col8, #T_f3e51_row4_col3, #T_f3e51_row4_col4, #T_f3e51_row4_col8, #T_f3e51_row4_col9, #T_f3e51_row6_col3, #T_f3e51_row6_col8, #T_f3e51_row9_col4, #T_f3e51_row9_col9, #T_f3e51_row10_col3, #T_f3e51_row10_col4, #T_f3e51_row10_col8, #T_f3e51_row10_col9, #T_f3e51_row12_col3, #T_f3e51_row12_col4, #T_f3e51_row12_col8, #T_f3e51_row12_col9, #T_f3e51_row13_col3, #T_f3e51_row13_col4, #T_f3e51_row13_col8, #T_f3e51_row13_col9, #T_f3e51_row14_col3, #T_f3e51_row14_col4, #T_f3e51_row14_col8, #T_f3e51_row14_col9, #T_f3e51_row15_col3, #T_f3e51_row15_col4, #T_f3e51_row15_col8, #T_f3e51_row15_col9, #T_f3e51_row17_col4, #T_f3e51_row17_col9, #T_f3e51_row18_col4, #T_f3e51_row18_col9, #T_f3e51_row19_col4, #T_f3e51_row19_col9 {\n",
       "  width: 50px;\n",
       "}\n",
       "#T_f3e51_row2_col4 {\n",
       "  color: #c79854;\n",
       "  width: 50px;\n",
       "  background: linear-gradient(90deg, transparent 19.3%, #DABB8E 19.3%, #DABB8E 25.0%, transparent 25.0%) no-repeat center;\n",
       "  background-size: 100% 50.0%;\n",
       "}\n",
       "#T_f3e51_row2_col6, #T_f3e51_row3_col6, #T_f3e51_row4_col6, #T_f3e51_row6_col6, #T_f3e51_row7_col6, #T_f3e51_row9_col6, #T_f3e51_row10_col6, #T_f3e51_row12_col6, #T_f3e51_row13_col6, #T_f3e51_row14_col6, #T_f3e51_row15_col6, #T_f3e51_row17_col6, #T_f3e51_row18_col6, #T_f3e51_row19_col6 {\n",
       "  border-left: 1px solid #D3D3D3;\n",
       "}\n",
       "#T_f3e51_row2_col7 {\n",
       "  width: 50px;\n",
       "  background: linear-gradient(90deg, transparent 25.0%, #1ca3ec 25.0%, #1ca3ec 29.7%, transparent 29.7%) no-repeat center;\n",
       "  background-size: 100% 50.0%;\n",
       "}\n",
       "#T_f3e51_row2_col9 {\n",
       "  width: 50px;\n",
       "  background: linear-gradient(90deg, transparent 25.0%, #1ca3ec 25.0%, #1ca3ec 30.4%, transparent 30.4%) no-repeat center;\n",
       "  background-size: 100% 50.0%;\n",
       "}\n",
       "#T_f3e51_row3_col2 {\n",
       "  color: #c79854;\n",
       "  width: 50px;\n",
       "  background: linear-gradient(90deg, transparent 17.4%, #DABB8E 17.4%, #DABB8E 25.0%, transparent 25.0%) no-repeat center;\n",
       "  background-size: 100% 50.0%;\n",
       "}\n",
       "#T_f3e51_row3_col3 {\n",
       "  color: #c79854;\n",
       "  width: 50px;\n",
       "  background: linear-gradient(90deg, #DABB8E 25.0%, transparent 25.0%) no-repeat center;\n",
       "  background-size: 100% 50.0%;\n",
       "}\n",
       "#T_f3e51_row3_col4, #T_f3e51_row3_col9 {\n",
       "  color: #c79854;\n",
       "  width: 50px;\n",
       "  background: linear-gradient(90deg, transparent 20.3%, #DABB8E 20.3%, #DABB8E 25.0%, transparent 25.0%) no-repeat center;\n",
       "  background-size: 100% 50.0%;\n",
       "}\n",
       "#T_f3e51_row3_col7 {\n",
       "  color: #c79854;\n",
       "  width: 50px;\n",
       "  background: linear-gradient(90deg, transparent 18.1%, #DABB8E 18.1%, #DABB8E 25.0%, transparent 25.0%) no-repeat center;\n",
       "  background-size: 100% 50.0%;\n",
       "}\n",
       "#T_f3e51_row3_col8 {\n",
       "  color: #c79854;\n",
       "  width: 50px;\n",
       "  background: linear-gradient(90deg, transparent 0.6%, #DABB8E 0.6%, #DABB8E 25.0%, transparent 25.0%) no-repeat center;\n",
       "  background-size: 100% 50.0%;\n",
       "}\n",
       "#T_f3e51_row4_col2 {\n",
       "  color: #c79854;\n",
       "  width: 50px;\n",
       "  background: linear-gradient(90deg, transparent 19.5%, #DABB8E 19.5%, #DABB8E 25.0%, transparent 25.0%) no-repeat center;\n",
       "  background-size: 100% 50.0%;\n",
       "}\n",
       "#T_f3e51_row4_col7 {\n",
       "  color: #c79854;\n",
       "  width: 50px;\n",
       "  background: linear-gradient(90deg, transparent 19.9%, #DABB8E 19.9%, #DABB8E 25.0%, transparent 25.0%) no-repeat center;\n",
       "  background-size: 100% 50.0%;\n",
       "}\n",
       "#T_f3e51_row6_col4 {\n",
       "  width: 50px;\n",
       "  background: linear-gradient(90deg, transparent 25.0%, #1ca3ec 25.0%, #1ca3ec 30.3%, transparent 30.3%) no-repeat center;\n",
       "  background-size: 100% 50.0%;\n",
       "}\n",
       "#T_f3e51_row6_col7 {\n",
       "  width: 50px;\n",
       "  background: linear-gradient(90deg, transparent 25.0%, #1ca3ec 25.0%, #1ca3ec 26.2%, transparent 26.2%) no-repeat center;\n",
       "  background-size: 100% 50.0%;\n",
       "}\n",
       "#T_f3e51_row6_col9 {\n",
       "  width: 50px;\n",
       "  background: linear-gradient(90deg, transparent 25.0%, #1ca3ec 25.0%, #1ca3ec 29.4%, transparent 29.4%) no-repeat center;\n",
       "  background-size: 100% 50.0%;\n",
       "}\n",
       "#T_f3e51_row7_col2, #T_f3e51_row7_col7, #T_f3e51_row7_col9 {\n",
       "  width: 50px;\n",
       "  background: linear-gradient(90deg, transparent 25.0%, #1ca3ec 25.0%, #1ca3ec 25.7%, transparent 25.7%) no-repeat center;\n",
       "  background-size: 100% 50.0%;\n",
       "}\n",
       "#T_f3e51_row7_col3 {\n",
       "  color: #c79854;\n",
       "  width: 50px;\n",
       "  background: linear-gradient(90deg, transparent 24.7%, #DABB8E 24.7%, #DABB8E 25.0%, transparent 25.0%) no-repeat center;\n",
       "  background-size: 100% 50.0%;\n",
       "}\n",
       "#T_f3e51_row7_col4 {\n",
       "  width: 50px;\n",
       "  background: linear-gradient(90deg, transparent 25.0%, #1ca3ec 25.0%, #1ca3ec 26.0%, transparent 26.0%) no-repeat center;\n",
       "  background-size: 100% 50.0%;\n",
       "}\n",
       "#T_f3e51_row7_col8, #T_f3e51_row12_col2, #T_f3e51_row13_col2 {\n",
       "  color: #c79854;\n",
       "  width: 50px;\n",
       "  background: linear-gradient(90deg, transparent 24.8%, #DABB8E 24.8%, #DABB8E 25.0%, transparent 25.0%) no-repeat center;\n",
       "  background-size: 100% 50.0%;\n",
       "}\n",
       "#T_f3e51_row9_col2 {\n",
       "  width: 50px;\n",
       "  background: linear-gradient(90deg, transparent 25.0%, #1ca3ec 25.0%, #1ca3ec 28.9%, transparent 28.9%) no-repeat center;\n",
       "  background-size: 100% 50.0%;\n",
       "}\n",
       "#T_f3e51_row9_col3 {\n",
       "  width: 50px;\n",
       "  background: linear-gradient(90deg, transparent 25.0%, #1ca3ec 25.0%, #1ca3ec 26.3%, transparent 26.3%) no-repeat center;\n",
       "  background-size: 100% 50.0%;\n",
       "}\n",
       "#T_f3e51_row9_col7 {\n",
       "  width: 50px;\n",
       "  background: linear-gradient(90deg, transparent 25.0%, #1ca3ec 25.0%, #1ca3ec 28.8%, transparent 28.8%) no-repeat center;\n",
       "  background-size: 100% 50.0%;\n",
       "}\n",
       "#T_f3e51_row9_col8 {\n",
       "  width: 50px;\n",
       "  background: linear-gradient(90deg, transparent 25.0%, #1ca3ec 25.0%, #1ca3ec 26.4%, transparent 26.4%) no-repeat center;\n",
       "  background-size: 100% 50.0%;\n",
       "}\n",
       "#T_f3e51_row10_col2, #T_f3e51_row19_col2 {\n",
       "  color: #c79854;\n",
       "  width: 50px;\n",
       "  background: linear-gradient(90deg, transparent 24.4%, #DABB8E 24.4%, #DABB8E 25.0%, transparent 25.0%) no-repeat center;\n",
       "  background-size: 100% 50.0%;\n",
       "}\n",
       "#T_f3e51_row10_col7, #T_f3e51_row13_col7, #T_f3e51_row14_col2 {\n",
       "  width: 50px;\n",
       "  background: linear-gradient(90deg, transparent 25.0%, #1ca3ec 25.0%, #1ca3ec 25.4%, transparent 25.4%) no-repeat center;\n",
       "  background-size: 100% 50.0%;\n",
       "}\n",
       "#T_f3e51_row12_col7 {\n",
       "  width: 50px;\n",
       "  background: linear-gradient(90deg, transparent 25.0%, #1ca3ec 25.0%, #1ca3ec 25.1%, transparent 25.1%) no-repeat center;\n",
       "  background-size: 100% 50.0%;\n",
       "}\n",
       "#T_f3e51_row14_col7, #T_f3e51_row15_col2, #T_f3e51_row15_col7 {\n",
       "  width: 50px;\n",
       "  background: linear-gradient(90deg, transparent 25.0%, #1ca3ec 25.0%, #1ca3ec 25.3%, transparent 25.3%) no-repeat center;\n",
       "  background-size: 100% 50.0%;\n",
       "}\n",
       "#T_f3e51_row17_col2, #T_f3e51_row19_col3 {\n",
       "  color: #c79854;\n",
       "  width: 50px;\n",
       "  background: linear-gradient(90deg, transparent 24.2%, #DABB8E 24.2%, #DABB8E 25.0%, transparent 25.0%) no-repeat center;\n",
       "  background-size: 100% 50.0%;\n",
       "}\n",
       "#T_f3e51_row17_col3 {\n",
       "  color: #c79854;\n",
       "  width: 50px;\n",
       "  background: linear-gradient(90deg, transparent 22.6%, #DABB8E 22.6%, #DABB8E 25.0%, transparent 25.0%) no-repeat center;\n",
       "  background-size: 100% 50.0%;\n",
       "}\n",
       "#T_f3e51_row17_col7, #T_f3e51_row19_col8 {\n",
       "  color: #c79854;\n",
       "  width: 50px;\n",
       "  background: linear-gradient(90deg, transparent 24.1%, #DABB8E 24.1%, #DABB8E 25.0%, transparent 25.0%) no-repeat center;\n",
       "  background-size: 100% 50.0%;\n",
       "}\n",
       "#T_f3e51_row17_col8 {\n",
       "  color: #c79854;\n",
       "  width: 50px;\n",
       "  background: linear-gradient(90deg, transparent 22.5%, #DABB8E 22.5%, #DABB8E 25.0%, transparent 25.0%) no-repeat center;\n",
       "  background-size: 100% 50.0%;\n",
       "}\n",
       "#T_f3e51_row18_col2, #T_f3e51_row18_col7 {\n",
       "  color: #c79854;\n",
       "  width: 50px;\n",
       "  background: linear-gradient(90deg, transparent 24.5%, #DABB8E 24.5%, #DABB8E 25.0%, transparent 25.0%) no-repeat center;\n",
       "  background-size: 100% 50.0%;\n",
       "}\n",
       "#T_f3e51_row18_col3, #T_f3e51_row18_col8 {\n",
       "  color: #c79854;\n",
       "  width: 50px;\n",
       "  background: linear-gradient(90deg, transparent 24.0%, #DABB8E 24.0%, #DABB8E 25.0%, transparent 25.0%) no-repeat center;\n",
       "  background-size: 100% 50.0%;\n",
       "}\n",
       "#T_f3e51_row19_col7 {\n",
       "  color: #c79854;\n",
       "  width: 50px;\n",
       "  background: linear-gradient(90deg, transparent 24.3%, #DABB8E 24.3%, #DABB8E 25.0%, transparent 25.0%) no-repeat center;\n",
       "  background-size: 100% 50.0%;\n",
       "}\n",
       "#T_f3e51_level0_col0, #T_f3e51_level0_col5, #T_f3e51_level1_col0, #T_f3e51_level1_col5, #T_f3e51_level2_col0, #T_f3e51_level2_col5 {\n",
       "  border-right: 1px solid #D3D3D3;\n",
       "}\n",
       "</style>\n",
       "<table id=\"T_f3e51\">\n",
       "  <thead>\n",
       "    <tr>\n",
       "      <th id=\"T_f3e51_level0_col0\" class=\"col_heading level0 col0\" > </th>\n",
       "      <th id=\"T_f3e51_level0_col1\" class=\"col_heading level0 col1\" colspan=\"4\">Issue Date: 2023-05-15</th>\n",
       "      <th id=\"T_f3e51_level0_col5\" class=\"col_heading level0 col5\" > </th>\n",
       "      <th id=\"T_f3e51_level0_col6\" class=\"col_heading level0 col6\" colspan=\"4\">Previous Issue Date: 2023-05-08</th>\n",
       "    </tr>\n",
       "    <tr>\n",
       "      <th id=\"T_f3e51_level1_col0\" class=\"col_heading level1 col0\" > </th>\n",
       "      <th id=\"T_f3e51_level1_col1\" class=\"col_heading level1 col1\" ></th>\n",
       "      <th id=\"T_f3e51_level1_col2\" class=\"col_heading level1 col2\" colspan=\"3\">% Feature contribution</th>\n",
       "      <th id=\"T_f3e51_level1_col5\" class=\"col_heading level1 col5\" > </th>\n",
       "      <th id=\"T_f3e51_level1_col6\" class=\"col_heading level1 col6\" ></th>\n",
       "      <th id=\"T_f3e51_level1_col7\" class=\"col_heading level1 col7\" colspan=\"3\">% Feature contribution</th>\n",
       "    </tr>\n",
       "    <tr>\n",
       "      <th id=\"T_f3e51_level2_col0\" class=\"col_heading level2 col0\" >Feature</th>\n",
       "      <th id=\"T_f3e51_level2_col1\" class=\"col_heading level2 col1\" >Value</th>\n",
       "      <th id=\"T_f3e51_level2_col2\" class=\"col_heading level2 col2\" >Q0.5</th>\n",
       "      <th id=\"T_f3e51_level2_col3\" class=\"col_heading level2 col3\" >Q0.1</th>\n",
       "      <th id=\"T_f3e51_level2_col4\" class=\"col_heading level2 col4\" >Q0.9</th>\n",
       "      <th id=\"T_f3e51_level2_col5\" class=\"col_heading level2 col5\" >Rel</th>\n",
       "      <th id=\"T_f3e51_level2_col6\" class=\"col_heading level2 col6\" >Value</th>\n",
       "      <th id=\"T_f3e51_level2_col7\" class=\"col_heading level2 col7\" >Q0.5</th>\n",
       "      <th id=\"T_f3e51_level2_col8\" class=\"col_heading level2 col8\" >Q0.1</th>\n",
       "      <th id=\"T_f3e51_level2_col9\" class=\"col_heading level2 col9\" >Q0.9</th>\n",
       "    </tr>\n",
       "  </thead>\n",
       "  <tbody>\n",
       "    <tr>\n",
       "      <td id=\"T_f3e51_row0_col0\" class=\"data row0 col0\" >Base</td>\n",
       "      <td id=\"T_f3e51_row0_col1\" class=\"data row0 col1\" ></td>\n",
       "      <td id=\"T_f3e51_row0_col2\" class=\"data row0 col2\" >35.4%</td>\n",
       "      <td id=\"T_f3e51_row0_col3\" class=\"data row0 col3\" >19.6%</td>\n",
       "      <td id=\"T_f3e51_row0_col4\" class=\"data row0 col4\" >56.4%</td>\n",
       "      <td id=\"T_f3e51_row0_col5\" class=\"data row0 col5\" >1.25</td>\n",
       "      <td id=\"T_f3e51_row0_col6\" class=\"data row0 col6\" ></td>\n",
       "      <td id=\"T_f3e51_row0_col7\" class=\"data row0 col7\" >32.2%</td>\n",
       "      <td id=\"T_f3e51_row0_col8\" class=\"data row0 col8\" >20.7%</td>\n",
       "      <td id=\"T_f3e51_row0_col9\" class=\"data row0 col9\" >60.4%</td>\n",
       "    </tr>\n",
       "    <tr>\n",
       "      <td id=\"T_f3e51_row1_col0\" class=\"data row1 col0\" >Snowpack</td>\n",
       "      <td id=\"T_f3e51_row1_col1\" class=\"data row1 col1\" ></td>\n",
       "      <td id=\"T_f3e51_row1_col2\" class=\"data row1 col2\" >38.6%</td>\n",
       "      <td id=\"T_f3e51_row1_col3\" class=\"data row1 col3\" >65.3%</td>\n",
       "      <td id=\"T_f3e51_row1_col4\" class=\"data row1 col4\" >27.2%</td>\n",
       "      <td id=\"T_f3e51_row1_col5\" class=\"data row1 col5\" >1.02</td>\n",
       "      <td id=\"T_f3e51_row1_col6\" class=\"data row1 col6\" ></td>\n",
       "      <td id=\"T_f3e51_row1_col7\" class=\"data row1 col7\" >43.3%</td>\n",
       "      <td id=\"T_f3e51_row1_col8\" class=\"data row1 col8\" >63.7%</td>\n",
       "      <td id=\"T_f3e51_row1_col9\" class=\"data row1 col9\" >26.3%</td>\n",
       "    </tr>\n",
       "    <tr>\n",
       "      <td id=\"T_f3e51_row2_col0\" class=\"data row2 col0\" >SNOTEL/CDEC</td>\n",
       "      <td id=\"T_f3e51_row2_col1\" class=\"data row2 col1\" >167%</td>\n",
       "      <td id=\"T_f3e51_row2_col2\" class=\"data row2 col2\" >4.4%</td>\n",
       "      <td id=\"T_f3e51_row2_col3\" class=\"data row2 col3\" ></td>\n",
       "      <td id=\"T_f3e51_row2_col4\" class=\"data row2 col4\" >14.9%</td>\n",
       "      <td id=\"T_f3e51_row2_col5\" class=\"data row2 col5\" >0.31</td>\n",
       "      <td id=\"T_f3e51_row2_col6\" class=\"data row2 col6\" >188%</td>\n",
       "      <td id=\"T_f3e51_row2_col7\" class=\"data row2 col7\" >12.2%</td>\n",
       "      <td id=\"T_f3e51_row2_col8\" class=\"data row2 col8\" ></td>\n",
       "      <td id=\"T_f3e51_row2_col9\" class=\"data row2 col9\" >14.0%</td>\n",
       "    </tr>\n",
       "    <tr>\n",
       "      <td id=\"T_f3e51_row3_col0\" class=\"data row3 col0\" >UA-SWANN</td>\n",
       "      <td id=\"T_f3e51_row3_col1\" class=\"data row3 col1\" >63%-117%</td>\n",
       "      <td id=\"T_f3e51_row3_col2\" class=\"data row3 col2\" >19.9%</td>\n",
       "      <td id=\"T_f3e51_row3_col3\" class=\"data row3 col3\" >65.3%</td>\n",
       "      <td id=\"T_f3e51_row3_col4\" class=\"data row3 col4\" >12.3%</td>\n",
       "      <td id=\"T_f3e51_row3_col5\" class=\"data row3 col5\" >1.50</td>\n",
       "      <td id=\"T_f3e51_row3_col6\" class=\"data row3 col6\" >108%-116%</td>\n",
       "      <td id=\"T_f3e51_row3_col7\" class=\"data row3 col7\" >17.9%</td>\n",
       "      <td id=\"T_f3e51_row3_col8\" class=\"data row3 col8\" >63.7%</td>\n",
       "      <td id=\"T_f3e51_row3_col9\" class=\"data row3 col9\" >12.3%</td>\n",
       "    </tr>\n",
       "    <tr>\n",
       "      <td id=\"T_f3e51_row4_col0\" class=\"data row4 col0\" >ERA5-Land</td>\n",
       "      <td id=\"T_f3e51_row4_col1\" class=\"data row4 col1\" >163%</td>\n",
       "      <td id=\"T_f3e51_row4_col2\" class=\"data row4 col2\" >14.3%</td>\n",
       "      <td id=\"T_f3e51_row4_col3\" class=\"data row4 col3\" ></td>\n",
       "      <td id=\"T_f3e51_row4_col4\" class=\"data row4 col4\" ></td>\n",
       "      <td id=\"T_f3e51_row4_col5\" class=\"data row4 col5\" >1.35</td>\n",
       "      <td id=\"T_f3e51_row4_col6\" class=\"data row4 col6\" >595%</td>\n",
       "      <td id=\"T_f3e51_row4_col7\" class=\"data row4 col7\" >13.2%</td>\n",
       "      <td id=\"T_f3e51_row4_col8\" class=\"data row4 col8\" ></td>\n",
       "      <td id=\"T_f3e51_row4_col9\" class=\"data row4 col9\" ></td>\n",
       "    </tr>\n",
       "    <tr>\n",
       "      <td id=\"T_f3e51_row5_col0\" class=\"data row5 col0\" >Precipitation</td>\n",
       "      <td id=\"T_f3e51_row5_col1\" class=\"data row5 col1\" ></td>\n",
       "      <td id=\"T_f3e51_row5_col2\" class=\"data row5 col2\" >6.2%</td>\n",
       "      <td id=\"T_f3e51_row5_col3\" class=\"data row5 col3\" >0.8%</td>\n",
       "      <td id=\"T_f3e51_row5_col4\" class=\"data row5 col4\" >16.4%</td>\n",
       "      <td id=\"T_f3e51_row5_col5\" class=\"data row5 col5\" >0.60</td>\n",
       "      <td id=\"T_f3e51_row5_col6\" class=\"data row5 col6\" ></td>\n",
       "      <td id=\"T_f3e51_row5_col7\" class=\"data row5 col7\" >5.0%</td>\n",
       "      <td id=\"T_f3e51_row5_col8\" class=\"data row5 col8\" >0.5%</td>\n",
       "      <td id=\"T_f3e51_row5_col9\" class=\"data row5 col9\" >13.3%</td>\n",
       "    </tr>\n",
       "    <tr>\n",
       "      <td id=\"T_f3e51_row6_col0\" class=\"data row6 col0\" >SNOTEL/CDEC</td>\n",
       "      <td id=\"T_f3e51_row6_col1\" class=\"data row6 col1\" >113%</td>\n",
       "      <td id=\"T_f3e51_row6_col2\" class=\"data row6 col2\" >4.4%</td>\n",
       "      <td id=\"T_f3e51_row6_col3\" class=\"data row6 col3\" ></td>\n",
       "      <td id=\"T_f3e51_row6_col4\" class=\"data row6 col4\" >13.8%</td>\n",
       "      <td id=\"T_f3e51_row6_col5\" class=\"data row6 col5\" >0.99</td>\n",
       "      <td id=\"T_f3e51_row6_col6\" class=\"data row6 col6\" >117%</td>\n",
       "      <td id=\"T_f3e51_row6_col7\" class=\"data row6 col7\" >3.2%</td>\n",
       "      <td id=\"T_f3e51_row6_col8\" class=\"data row6 col8\" ></td>\n",
       "      <td id=\"T_f3e51_row6_col9\" class=\"data row6 col9\" >11.5%</td>\n",
       "    </tr>\n",
       "    <tr>\n",
       "      <td id=\"T_f3e51_row7_col0\" class=\"data row7 col0\" >UA-SWANN</td>\n",
       "      <td id=\"T_f3e51_row7_col1\" class=\"data row7 col1\" >104%-129%</td>\n",
       "      <td id=\"T_f3e51_row7_col2\" class=\"data row7 col2\" >1.8%</td>\n",
       "      <td id=\"T_f3e51_row7_col3\" class=\"data row7 col3\" >0.8%</td>\n",
       "      <td id=\"T_f3e51_row7_col4\" class=\"data row7 col4\" >2.6%</td>\n",
       "      <td id=\"T_f3e51_row7_col5\" class=\"data row7 col5\" >0.30</td>\n",
       "      <td id=\"T_f3e51_row7_col6\" class=\"data row7 col6\" >103%-131%</td>\n",
       "      <td id=\"T_f3e51_row7_col7\" class=\"data row7 col7\" >1.7%</td>\n",
       "      <td id=\"T_f3e51_row7_col8\" class=\"data row7 col8\" >0.5%</td>\n",
       "      <td id=\"T_f3e51_row7_col9\" class=\"data row7 col9\" >1.7%</td>\n",
       "    </tr>\n",
       "    <tr>\n",
       "      <td id=\"T_f3e51_row8_col0\" class=\"data row8 col0\" >Drought</td>\n",
       "      <td id=\"T_f3e51_row8_col1\" class=\"data row8 col1\" ></td>\n",
       "      <td id=\"T_f3e51_row8_col2\" class=\"data row8 col2\" >11.8%</td>\n",
       "      <td id=\"T_f3e51_row8_col3\" class=\"data row8 col3\" >3.3%</td>\n",
       "      <td id=\"T_f3e51_row8_col4\" class=\"data row8 col4\" ></td>\n",
       "      <td id=\"T_f3e51_row8_col5\" class=\"data row8 col5\" >1.00</td>\n",
       "      <td id=\"T_f3e51_row8_col6\" class=\"data row8 col6\" ></td>\n",
       "      <td id=\"T_f3e51_row8_col7\" class=\"data row8 col7\" >11.1%</td>\n",
       "      <td id=\"T_f3e51_row8_col8\" class=\"data row8 col8\" >3.7%</td>\n",
       "      <td id=\"T_f3e51_row8_col9\" class=\"data row8 col9\" ></td>\n",
       "    </tr>\n",
       "    <tr>\n",
       "      <td id=\"T_f3e51_row9_col0\" class=\"data row9 col0\" >PDSI</td>\n",
       "      <td id=\"T_f3e51_row9_col1\" class=\"data row9 col1\" >1.51</td>\n",
       "      <td id=\"T_f3e51_row9_col2\" class=\"data row9 col2\" >10.1%</td>\n",
       "      <td id=\"T_f3e51_row9_col3\" class=\"data row9 col3\" >3.3%</td>\n",
       "      <td id=\"T_f3e51_row9_col4\" class=\"data row9 col4\" ></td>\n",
       "      <td id=\"T_f3e51_row9_col5\" class=\"data row9 col5\" >1.11</td>\n",
       "      <td id=\"T_f3e51_row9_col6\" class=\"data row9 col6\" >1.56</td>\n",
       "      <td id=\"T_f3e51_row9_col7\" class=\"data row9 col7\" >9.9%</td>\n",
       "      <td id=\"T_f3e51_row9_col8\" class=\"data row9 col8\" >3.7%</td>\n",
       "      <td id=\"T_f3e51_row9_col9\" class=\"data row9 col9\" ></td>\n",
       "    </tr>\n",
       "    <tr>\n",
       "      <td id=\"T_f3e51_row10_col0\" class=\"data row10 col0\" >Soil water</td>\n",
       "      <td id=\"T_f3e51_row10_col1\" class=\"data row10 col1\" >94%-109%</td>\n",
       "      <td id=\"T_f3e51_row10_col2\" class=\"data row10 col2\" >1.7%</td>\n",
       "      <td id=\"T_f3e51_row10_col3\" class=\"data row10 col3\" ></td>\n",
       "      <td id=\"T_f3e51_row10_col4\" class=\"data row10 col4\" ></td>\n",
       "      <td id=\"T_f3e51_row10_col5\" class=\"data row10 col5\" >0.62</td>\n",
       "      <td id=\"T_f3e51_row10_col6\" class=\"data row10 col6\" >94%-174%</td>\n",
       "      <td id=\"T_f3e51_row10_col7\" class=\"data row10 col7\" >1.2%</td>\n",
       "      <td id=\"T_f3e51_row10_col8\" class=\"data row10 col8\" ></td>\n",
       "      <td id=\"T_f3e51_row10_col9\" class=\"data row10 col9\" ></td>\n",
       "    </tr>\n",
       "    <tr>\n",
       "      <td id=\"T_f3e51_row11_col0\" class=\"data row11 col0\" >Others</td>\n",
       "      <td id=\"T_f3e51_row11_col1\" class=\"data row11 col1\" ></td>\n",
       "      <td id=\"T_f3e51_row11_col2\" class=\"data row11 col2\" >2.8%</td>\n",
       "      <td id=\"T_f3e51_row11_col3\" class=\"data row11 col3\" ></td>\n",
       "      <td id=\"T_f3e51_row11_col4\" class=\"data row11 col4\" ></td>\n",
       "      <td id=\"T_f3e51_row11_col5\" class=\"data row11 col5\" >0.71</td>\n",
       "      <td id=\"T_f3e51_row11_col6\" class=\"data row11 col6\" ></td>\n",
       "      <td id=\"T_f3e51_row11_col7\" class=\"data row11 col7\" >3.0%</td>\n",
       "      <td id=\"T_f3e51_row11_col8\" class=\"data row11 col8\" ></td>\n",
       "      <td id=\"T_f3e51_row11_col9\" class=\"data row11 col9\" ></td>\n",
       "    </tr>\n",
       "    <tr>\n",
       "      <td id=\"T_f3e51_row12_col0\" class=\"data row12 col0\" >Temperature</td>\n",
       "      <td id=\"T_f3e51_row12_col1\" class=\"data row12 col1\" >1.08</td>\n",
       "      <td id=\"T_f3e51_row12_col2\" class=\"data row12 col2\" >0.5%</td>\n",
       "      <td id=\"T_f3e51_row12_col3\" class=\"data row12 col3\" ></td>\n",
       "      <td id=\"T_f3e51_row12_col4\" class=\"data row12 col4\" ></td>\n",
       "      <td id=\"T_f3e51_row12_col5\" class=\"data row12 col5\" >0.82</td>\n",
       "      <td id=\"T_f3e51_row12_col6\" class=\"data row12 col6\" >-7.50</td>\n",
       "      <td id=\"T_f3e51_row12_col7\" class=\"data row12 col7\" >0.3%</td>\n",
       "      <td id=\"T_f3e51_row12_col8\" class=\"data row12 col8\" ></td>\n",
       "      <td id=\"T_f3e51_row12_col9\" class=\"data row12 col9\" ></td>\n",
       "    </tr>\n",
       "    <tr>\n",
       "      <td id=\"T_f3e51_row13_col0\" class=\"data row13 col0\" >Snow cover</td>\n",
       "      <td id=\"T_f3e51_row13_col1\" class=\"data row13 col1\" >0.6% (0.7%)</td>\n",
       "      <td id=\"T_f3e51_row13_col2\" class=\"data row13 col2\" >0.4%</td>\n",
       "      <td id=\"T_f3e51_row13_col3\" class=\"data row13 col3\" ></td>\n",
       "      <td id=\"T_f3e51_row13_col4\" class=\"data row13 col4\" ></td>\n",
       "      <td id=\"T_f3e51_row13_col5\" class=\"data row13 col5\" >0.24</td>\n",
       "      <td id=\"T_f3e51_row13_col6\" class=\"data row13 col6\" >6.8% (1.8%)</td>\n",
       "      <td id=\"T_f3e51_row13_col7\" class=\"data row13 col7\" >1.2%</td>\n",
       "      <td id=\"T_f3e51_row13_col8\" class=\"data row13 col8\" ></td>\n",
       "      <td id=\"T_f3e51_row13_col9\" class=\"data row13 col9\" ></td>\n",
       "    </tr>\n",
       "    <tr>\n",
       "      <td id=\"T_f3e51_row14_col0\" class=\"data row14 col0\" >Snow albedo</td>\n",
       "      <td id=\"T_f3e51_row14_col1\" class=\"data row14 col1\" >102%</td>\n",
       "      <td id=\"T_f3e51_row14_col2\" class=\"data row14 col2\" >1.1%</td>\n",
       "      <td id=\"T_f3e51_row14_col3\" class=\"data row14 col3\" ></td>\n",
       "      <td id=\"T_f3e51_row14_col4\" class=\"data row14 col4\" ></td>\n",
       "      <td id=\"T_f3e51_row14_col5\" class=\"data row14 col5\" >2.78</td>\n",
       "      <td id=\"T_f3e51_row14_col6\" class=\"data row14 col6\" >100%</td>\n",
       "      <td id=\"T_f3e51_row14_col7\" class=\"data row14 col7\" >0.8%</td>\n",
       "      <td id=\"T_f3e51_row14_col8\" class=\"data row14 col8\" ></td>\n",
       "      <td id=\"T_f3e51_row14_col9\" class=\"data row14 col9\" ></td>\n",
       "    </tr>\n",
       "    <tr>\n",
       "      <td id=\"T_f3e51_row15_col0\" class=\"data row15 col0\" >Leaf area index</td>\n",
       "      <td id=\"T_f3e51_row15_col1\" class=\"data row15 col1\" >0.61-0.71</td>\n",
       "      <td id=\"T_f3e51_row15_col2\" class=\"data row15 col2\" >0.8%</td>\n",
       "      <td id=\"T_f3e51_row15_col3\" class=\"data row15 col3\" ></td>\n",
       "      <td id=\"T_f3e51_row15_col4\" class=\"data row15 col4\" ></td>\n",
       "      <td id=\"T_f3e51_row15_col5\" class=\"data row15 col5\" >0.67</td>\n",
       "      <td id=\"T_f3e51_row15_col6\" class=\"data row15 col6\" >0.61-0.71</td>\n",
       "      <td id=\"T_f3e51_row15_col7\" class=\"data row15 col7\" >0.7%</td>\n",
       "      <td id=\"T_f3e51_row15_col8\" class=\"data row15 col8\" ></td>\n",
       "      <td id=\"T_f3e51_row15_col9\" class=\"data row15 col9\" ></td>\n",
       "    </tr>\n",
       "    <tr>\n",
       "      <td id=\"T_f3e51_row16_col0\" class=\"data row16 col0\" >SEAS51 Forecast</td>\n",
       "      <td id=\"T_f3e51_row16_col1\" class=\"data row16 col1\" ></td>\n",
       "      <td id=\"T_f3e51_row16_col2\" class=\"data row16 col2\" >5.1%</td>\n",
       "      <td id=\"T_f3e51_row16_col3\" class=\"data row16 col3\" >10.9%</td>\n",
       "      <td id=\"T_f3e51_row16_col4\" class=\"data row16 col4\" ></td>\n",
       "      <td id=\"T_f3e51_row16_col5\" class=\"data row16 col5\" >0.70</td>\n",
       "      <td id=\"T_f3e51_row16_col6\" class=\"data row16 col6\" ></td>\n",
       "      <td id=\"T_f3e51_row16_col7\" class=\"data row16 col7\" >5.5%</td>\n",
       "      <td id=\"T_f3e51_row16_col8\" class=\"data row16 col8\" >11.4%</td>\n",
       "      <td id=\"T_f3e51_row16_col9\" class=\"data row16 col9\" ></td>\n",
       "    </tr>\n",
       "    <tr>\n",
       "      <td id=\"T_f3e51_row17_col0\" class=\"data row17 col0\" > Snowpack</td>\n",
       "      <td id=\"T_f3e51_row17_col1\" class=\"data row17 col1\" >146%-262%</td>\n",
       "      <td id=\"T_f3e51_row17_col2\" class=\"data row17 col2\" >2.2%</td>\n",
       "      <td id=\"T_f3e51_row17_col3\" class=\"data row17 col3\" >6.1%</td>\n",
       "      <td id=\"T_f3e51_row17_col4\" class=\"data row17 col4\" ></td>\n",
       "      <td id=\"T_f3e51_row17_col5\" class=\"data row17 col5\" >0.64</td>\n",
       "      <td id=\"T_f3e51_row17_col6\" class=\"data row17 col6\" >146%-262%</td>\n",
       "      <td id=\"T_f3e51_row17_col7\" class=\"data row17 col7\" >2.3%</td>\n",
       "      <td id=\"T_f3e51_row17_col8\" class=\"data row17 col8\" >6.4%</td>\n",
       "      <td id=\"T_f3e51_row17_col9\" class=\"data row17 col9\" ></td>\n",
       "    </tr>\n",
       "    <tr>\n",
       "      <td id=\"T_f3e51_row18_col0\" class=\"data row18 col0\" > Precipitation</td>\n",
       "      <td id=\"T_f3e51_row18_col1\" class=\"data row18 col1\" >104%-113%</td>\n",
       "      <td id=\"T_f3e51_row18_col2\" class=\"data row18 col2\" >1.3%</td>\n",
       "      <td id=\"T_f3e51_row18_col3\" class=\"data row18 col3\" >2.6%</td>\n",
       "      <td id=\"T_f3e51_row18_col4\" class=\"data row18 col4\" ></td>\n",
       "      <td id=\"T_f3e51_row18_col5\" class=\"data row18 col5\" >0.80</td>\n",
       "      <td id=\"T_f3e51_row18_col6\" class=\"data row18 col6\" >104%-113%</td>\n",
       "      <td id=\"T_f3e51_row18_col7\" class=\"data row18 col7\" >1.3%</td>\n",
       "      <td id=\"T_f3e51_row18_col8\" class=\"data row18 col8\" >2.7%</td>\n",
       "      <td id=\"T_f3e51_row18_col9\" class=\"data row18 col9\" ></td>\n",
       "    </tr>\n",
       "    <tr>\n",
       "      <td id=\"T_f3e51_row19_col0\" class=\"data row19 col0\" >Temperature</td>\n",
       "      <td id=\"T_f3e51_row19_col1\" class=\"data row19 col1\" >0.65; 1.16</td>\n",
       "      <td id=\"T_f3e51_row19_col2\" class=\"data row19 col2\" >1.7%</td>\n",
       "      <td id=\"T_f3e51_row19_col3\" class=\"data row19 col3\" >2.2%</td>\n",
       "      <td id=\"T_f3e51_row19_col4\" class=\"data row19 col4\" ></td>\n",
       "      <td id=\"T_f3e51_row19_col5\" class=\"data row19 col5\" >0.72</td>\n",
       "      <td id=\"T_f3e51_row19_col6\" class=\"data row19 col6\" >0.65; 1.16</td>\n",
       "      <td id=\"T_f3e51_row19_col7\" class=\"data row19 col7\" >1.9%</td>\n",
       "      <td id=\"T_f3e51_row19_col8\" class=\"data row19 col8\" >2.3%</td>\n",
       "      <td id=\"T_f3e51_row19_col9\" class=\"data row19 col9\" ></td>\n",
       "    </tr>\n",
       "  </tbody>\n",
       "</table>\n"
      ],
      "text/plain": [
       "<pandas.io.formats.style.Styler at 0x281899268b0>"
      ]
     },
     "metadata": {},
     "output_type": "display_data"
    },
    {
     "name": "stdout",
     "output_type": "stream",
     "text": [
      "\n",
      "Aggregated SHAP feature contribution\n"
     ]
    },
    {
     "data": {
      "text/html": [
       "<style type=\"text/css\">\n",
       "#T_097be_row0_col2, #T_097be_row1_col0, #T_097be_row1_col1 {\n",
       "  font-weight: bold;\n",
       "}\n",
       "</style>\n",
       "<table id=\"T_097be\">\n",
       "  <thead>\n",
       "    <tr>\n",
       "      <th class=\"blank level0\" >&nbsp;</th>\n",
       "      <th id=\"T_097be_level0_col0\" class=\"col_heading level0 col0\" >q50</th>\n",
       "      <th id=\"T_097be_level0_col1\" class=\"col_heading level0 col1\" >q10</th>\n",
       "      <th id=\"T_097be_level0_col2\" class=\"col_heading level0 col2\" >q90</th>\n",
       "      <th id=\"T_097be_level0_col3\" class=\"col_heading level0 col3\" >q50_prev</th>\n",
       "      <th id=\"T_097be_level0_col4\" class=\"col_heading level0 col4\" >q10_prev</th>\n",
       "      <th id=\"T_097be_level0_col5\" class=\"col_heading level0 col5\" >q90_prev</th>\n",
       "    </tr>\n",
       "    <tr>\n",
       "      <th class=\"index_name level0\" >feature_group</th>\n",
       "      <th class=\"blank col0\" >&nbsp;</th>\n",
       "      <th class=\"blank col1\" >&nbsp;</th>\n",
       "      <th class=\"blank col2\" >&nbsp;</th>\n",
       "      <th class=\"blank col3\" >&nbsp;</th>\n",
       "      <th class=\"blank col4\" >&nbsp;</th>\n",
       "      <th class=\"blank col5\" >&nbsp;</th>\n",
       "    </tr>\n",
       "  </thead>\n",
       "  <tbody>\n",
       "    <tr>\n",
       "      <th id=\"T_097be_level0_row0\" class=\"row_heading level0 row0\" >base</th>\n",
       "      <td id=\"T_097be_row0_col0\" class=\"data row0 col0\" >35.4%</td>\n",
       "      <td id=\"T_097be_row0_col1\" class=\"data row0 col1\" >19.6%</td>\n",
       "      <td id=\"T_097be_row0_col2\" class=\"data row0 col2\" >56.4%</td>\n",
       "      <td id=\"T_097be_row0_col3\" class=\"data row0 col3\" >32.2%</td>\n",
       "      <td id=\"T_097be_row0_col4\" class=\"data row0 col4\" >20.7%</td>\n",
       "      <td id=\"T_097be_row0_col5\" class=\"data row0 col5\" >60.4%</td>\n",
       "    </tr>\n",
       "    <tr>\n",
       "      <th id=\"T_097be_level0_row1\" class=\"row_heading level0 row1\" >swe</th>\n",
       "      <td id=\"T_097be_row1_col0\" class=\"data row1 col0\" >38.6%</td>\n",
       "      <td id=\"T_097be_row1_col1\" class=\"data row1 col1\" >65.3%</td>\n",
       "      <td id=\"T_097be_row1_col2\" class=\"data row1 col2\" >27.2%</td>\n",
       "      <td id=\"T_097be_row1_col3\" class=\"data row1 col3\" >43.3%</td>\n",
       "      <td id=\"T_097be_row1_col4\" class=\"data row1 col4\" >63.7%</td>\n",
       "      <td id=\"T_097be_row1_col5\" class=\"data row1 col5\" >26.3%</td>\n",
       "    </tr>\n",
       "    <tr>\n",
       "      <th id=\"T_097be_level0_row2\" class=\"row_heading level0 row2\" >prec_cml</th>\n",
       "      <td id=\"T_097be_row2_col0\" class=\"data row2 col0\" >6.2%</td>\n",
       "      <td id=\"T_097be_row2_col1\" class=\"data row2 col1\" >0.8%</td>\n",
       "      <td id=\"T_097be_row2_col2\" class=\"data row2 col2\" >16.4%</td>\n",
       "      <td id=\"T_097be_row2_col3\" class=\"data row2 col3\" >5.0%</td>\n",
       "      <td id=\"T_097be_row2_col4\" class=\"data row2 col4\" >0.5%</td>\n",
       "      <td id=\"T_097be_row2_col5\" class=\"data row2 col5\" >13.3%</td>\n",
       "    </tr>\n",
       "    <tr>\n",
       "      <th id=\"T_097be_level0_row3\" class=\"row_heading level0 row3\" >drought</th>\n",
       "      <td id=\"T_097be_row3_col0\" class=\"data row3 col0\" >11.8%</td>\n",
       "      <td id=\"T_097be_row3_col1\" class=\"data row3 col1\" >3.3%</td>\n",
       "      <td id=\"T_097be_row3_col2\" class=\"data row3 col2\" ></td>\n",
       "      <td id=\"T_097be_row3_col3\" class=\"data row3 col3\" >11.1%</td>\n",
       "      <td id=\"T_097be_row3_col4\" class=\"data row3 col4\" >3.7%</td>\n",
       "      <td id=\"T_097be_row3_col5\" class=\"data row3 col5\" ></td>\n",
       "    </tr>\n",
       "    <tr>\n",
       "      <th id=\"T_097be_level0_row4\" class=\"row_heading level0 row4\" >others</th>\n",
       "      <td id=\"T_097be_row4_col0\" class=\"data row4 col0\" >2.8%</td>\n",
       "      <td id=\"T_097be_row4_col1\" class=\"data row4 col1\" ></td>\n",
       "      <td id=\"T_097be_row4_col2\" class=\"data row4 col2\" ></td>\n",
       "      <td id=\"T_097be_row4_col3\" class=\"data row4 col3\" >3.0%</td>\n",
       "      <td id=\"T_097be_row4_col4\" class=\"data row4 col4\" ></td>\n",
       "      <td id=\"T_097be_row4_col5\" class=\"data row4 col5\" ></td>\n",
       "    </tr>\n",
       "    <tr>\n",
       "      <th id=\"T_097be_level0_row5\" class=\"row_heading level0 row5\" >fcst</th>\n",
       "      <td id=\"T_097be_row5_col0\" class=\"data row5 col0\" >5.1%</td>\n",
       "      <td id=\"T_097be_row5_col1\" class=\"data row5 col1\" >10.9%</td>\n",
       "      <td id=\"T_097be_row5_col2\" class=\"data row5 col2\" ></td>\n",
       "      <td id=\"T_097be_row5_col3\" class=\"data row5 col3\" >5.5%</td>\n",
       "      <td id=\"T_097be_row5_col4\" class=\"data row5 col4\" >11.4%</td>\n",
       "      <td id=\"T_097be_row5_col5\" class=\"data row5 col5\" ></td>\n",
       "    </tr>\n",
       "  </tbody>\n",
       "</table>\n"
      ],
      "text/plain": [
       "<pandas.io.formats.style.Styler at 0x28195659670>"
      ]
     },
     "metadata": {},
     "output_type": "display_data"
    },
    {
     "data": {
      "application/vnd.plotly.v1+json": {
       "config": {
        "plotlyServerURL": "https://plot.ly"
       },
       "data": [
        {
         "hovertemplate": "%{y:.2f}",
         "line": {
          "color": "rgba(0,0,0,0.25)",
          "dash": "dash"
         },
         "mode": "lines",
         "name": "Volume (median)",
         "type": "scatter",
         "x": [
          "2023-01-01T00:00:00",
          "2023-01-08T00:00:00",
          "2023-01-15T00:00:00",
          "2023-01-22T00:00:00",
          "2023-02-01T00:00:00",
          "2023-02-08T00:00:00",
          "2023-02-15T00:00:00",
          "2023-02-22T00:00:00",
          "2023-03-01T00:00:00",
          "2023-03-08T00:00:00",
          "2023-03-15T00:00:00",
          "2023-03-22T00:00:00",
          "2023-04-01T00:00:00",
          "2023-04-08T00:00:00",
          "2023-04-15T00:00:00",
          "2023-04-22T00:00:00",
          "2023-05-01T00:00:00",
          "2023-05-08T00:00:00",
          "2023-05-15T00:00:00",
          "2023-05-22T00:00:00",
          "2023-06-01T00:00:00",
          "2023-06-08T00:00:00",
          "2023-06-15T00:00:00",
          "2023-06-22T00:00:00",
          "2023-07-01T00:00:00",
          "2023-07-08T00:00:00",
          "2023-07-15T00:00:00",
          "2023-07-22T00:00:00"
         ],
         "y": [
          237.14600000000002,
          237.14600000000002,
          237.14600000000002,
          237.14600000000002,
          237.14600000000002,
          237.14600000000002,
          237.14600000000002,
          237.14600000000002,
          237.14600000000002,
          237.14600000000002,
          237.14600000000002,
          237.14600000000002,
          237.14600000000002,
          237.14600000000002,
          237.14600000000002,
          237.14600000000002,
          237.14600000000002,
          237.14600000000002,
          237.14600000000002,
          237.14600000000002,
          237.14600000000002,
          237.14600000000002,
          237.14600000000002,
          237.14600000000002,
          237.14600000000002,
          237.14600000000002,
          237.14600000000002,
          237.14600000000002
         ]
        },
        {
         "hovertemplate": "%{y:.2f}",
         "line": {
          "color": "rgba(0,0,0,0.25)",
          "dash": "dot"
         },
         "mode": "lines",
         "name": "Volume (mean)",
         "type": "scatter",
         "x": [
          "2023-01-01T00:00:00",
          "2023-01-08T00:00:00",
          "2023-01-15T00:00:00",
          "2023-01-22T00:00:00",
          "2023-02-01T00:00:00",
          "2023-02-08T00:00:00",
          "2023-02-15T00:00:00",
          "2023-02-22T00:00:00",
          "2023-03-01T00:00:00",
          "2023-03-08T00:00:00",
          "2023-03-15T00:00:00",
          "2023-03-22T00:00:00",
          "2023-04-01T00:00:00",
          "2023-04-08T00:00:00",
          "2023-04-15T00:00:00",
          "2023-04-22T00:00:00",
          "2023-05-01T00:00:00",
          "2023-05-08T00:00:00",
          "2023-05-15T00:00:00",
          "2023-05-22T00:00:00",
          "2023-06-01T00:00:00",
          "2023-06-08T00:00:00",
          "2023-06-15T00:00:00",
          "2023-06-22T00:00:00",
          "2023-07-01T00:00:00",
          "2023-07-08T00:00:00",
          "2023-07-15T00:00:00",
          "2023-07-22T00:00:00"
         ],
         "y": [
          311.8800333333333,
          311.8800333333333,
          311.8800333333333,
          311.8800333333333,
          311.8800333333333,
          311.8800333333333,
          311.8800333333333,
          311.8800333333333,
          311.8800333333333,
          311.8800333333333,
          311.8800333333333,
          311.8800333333333,
          311.8800333333333,
          311.8800333333333,
          311.8800333333333,
          311.8800333333333,
          311.8800333333333,
          311.8800333333333,
          311.8800333333333,
          311.8800333333333,
          311.8800333333333,
          311.8800333333333,
          311.8800333333333,
          311.8800333333333,
          311.8800333333333,
          311.8800333333333,
          311.8800333333333,
          311.8800333333333
         ]
        },
        {
         "hovertemplate": "%{y:.2f}",
         "line": {
          "color": "rgba(226,167,111,0.8)"
         },
         "mode": "lines",
         "name": "Volume (min, 1992)",
         "type": "scatter",
         "x": [
          "2023-01-01T00:00:00",
          "2023-01-08T00:00:00",
          "2023-01-15T00:00:00",
          "2023-01-22T00:00:00",
          "2023-02-01T00:00:00",
          "2023-02-08T00:00:00",
          "2023-02-15T00:00:00",
          "2023-02-22T00:00:00",
          "2023-03-01T00:00:00",
          "2023-03-08T00:00:00",
          "2023-03-15T00:00:00",
          "2023-03-22T00:00:00",
          "2023-04-01T00:00:00",
          "2023-04-08T00:00:00",
          "2023-04-15T00:00:00",
          "2023-04-22T00:00:00",
          "2023-05-01T00:00:00",
          "2023-05-08T00:00:00",
          "2023-05-15T00:00:00",
          "2023-05-22T00:00:00",
          "2023-06-01T00:00:00",
          "2023-06-08T00:00:00",
          "2023-06-15T00:00:00",
          "2023-06-22T00:00:00",
          "2023-07-01T00:00:00",
          "2023-07-08T00:00:00",
          "2023-07-15T00:00:00",
          "2023-07-22T00:00:00"
         ],
         "y": [
          47.698,
          47.698,
          47.698,
          47.698,
          47.698,
          47.698,
          47.698,
          47.698,
          47.698,
          47.698,
          47.698,
          47.698,
          47.698,
          47.698,
          47.698,
          47.698,
          47.698,
          47.698,
          47.698,
          47.698,
          47.698,
          47.698,
          47.698,
          47.698,
          47.698,
          47.698,
          47.698,
          47.698
         ]
        },
        {
         "hovertemplate": "%{y:.2f}",
         "line": {
          "color": "rgba(150,0,0,0.7)"
         },
         "mode": "lines",
         "name": "Volume (max, 1984)",
         "type": "scatter",
         "x": [
          "2023-01-01T00:00:00",
          "2023-01-08T00:00:00",
          "2023-01-15T00:00:00",
          "2023-01-22T00:00:00",
          "2023-02-01T00:00:00",
          "2023-02-08T00:00:00",
          "2023-02-15T00:00:00",
          "2023-02-22T00:00:00",
          "2023-03-01T00:00:00",
          "2023-03-08T00:00:00",
          "2023-03-15T00:00:00",
          "2023-03-22T00:00:00",
          "2023-04-01T00:00:00",
          "2023-04-08T00:00:00",
          "2023-04-15T00:00:00",
          "2023-04-22T00:00:00",
          "2023-05-01T00:00:00",
          "2023-05-08T00:00:00",
          "2023-05-15T00:00:00",
          "2023-05-22T00:00:00",
          "2023-06-01T00:00:00",
          "2023-06-08T00:00:00",
          "2023-06-15T00:00:00",
          "2023-06-22T00:00:00",
          "2023-07-01T00:00:00",
          "2023-07-08T00:00:00",
          "2023-07-15T00:00:00",
          "2023-07-22T00:00:00"
         ],
         "y": [
          1778.656,
          1778.656,
          1778.656,
          1778.656,
          1778.656,
          1778.656,
          1778.656,
          1778.656,
          1778.656,
          1778.656,
          1778.656,
          1778.656,
          1778.656,
          1778.656,
          1778.656,
          1778.656,
          1778.656,
          1778.656,
          1778.656,
          1778.656,
          1778.656,
          1778.656,
          1778.656,
          1778.656,
          1778.656,
          1778.656,
          1778.656,
          1778.656
         ]
        },
        {
         "hovertemplate": "%{y:.2f}",
         "line": {
          "color": "rgb(34,139,34)",
          "dash": "dot"
         },
         "mode": "lines",
         "name": "Latest known volume",
         "type": "scatter",
         "x": [
          "2023-01-01T00:00:00",
          "2023-01-08T00:00:00",
          "2023-01-15T00:00:00",
          "2023-01-22T00:00:00",
          "2023-02-01T00:00:00",
          "2023-02-08T00:00:00",
          "2023-02-15T00:00:00",
          "2023-02-22T00:00:00",
          "2023-03-01T00:00:00",
          "2023-03-08T00:00:00",
          "2023-03-15T00:00:00",
          "2023-03-22T00:00:00",
          "2023-04-01T00:00:00",
          "2023-04-08T00:00:00",
          "2023-04-15T00:00:00",
          "2023-04-22T00:00:00",
          "2023-05-01T00:00:00",
          "2023-05-08T00:00:00",
          "2023-05-15T00:00:00",
          "2023-05-22T00:00:00",
          "2023-06-01T00:00:00",
          "2023-06-08T00:00:00",
          "2023-06-15T00:00:00",
          "2023-06-22T00:00:00",
          "2023-07-01T00:00:00",
          "2023-07-08T00:00:00",
          "2023-07-15T00:00:00",
          "2023-07-22T00:00:00"
         ],
         "y": [
          null,
          null,
          null,
          null,
          null,
          null,
          null,
          null,
          null,
          null,
          null,
          null,
          null,
          null,
          null,
          null,
          271.479,
          271.479,
          271.479,
          null,
          null,
          null,
          null,
          null,
          null,
          null,
          null,
          null
         ]
        },
        {
         "hovertemplate": "%{y:.2f}",
         "line": {
          "width": 0
         },
         "marker": {
          "color": "#444"
         },
         "mode": "lines",
         "name": "Quantile 0.1 forecast",
         "showlegend": false,
         "type": "scatter",
         "x": [
          "2023-01-01T00:00:00",
          "2023-01-08T00:00:00",
          "2023-01-15T00:00:00",
          "2023-01-22T00:00:00",
          "2023-02-01T00:00:00",
          "2023-02-08T00:00:00",
          "2023-02-15T00:00:00",
          "2023-02-22T00:00:00",
          "2023-03-01T00:00:00",
          "2023-03-08T00:00:00",
          "2023-03-15T00:00:00",
          "2023-03-22T00:00:00",
          "2023-04-01T00:00:00",
          "2023-04-08T00:00:00",
          "2023-04-15T00:00:00",
          "2023-04-22T00:00:00",
          "2023-05-01T00:00:00",
          "2023-05-08T00:00:00",
          "2023-05-15T00:00:00",
          "2023-05-22T00:00:00",
          "2023-06-01T00:00:00",
          "2023-06-08T00:00:00",
          "2023-06-15T00:00:00",
          "2023-06-22T00:00:00",
          "2023-07-01T00:00:00",
          "2023-07-08T00:00:00",
          "2023-07-15T00:00:00",
          "2023-07-22T00:00:00"
         ],
         "y": [
          176.06411129731976,
          162.43207177440752,
          160.5145181284966,
          175.5757002116384,
          183.11368731476975,
          196.45191882530955,
          189.6399501851974,
          180.83976886608133,
          187.85721279944042,
          216.7834565830405,
          262.7157990518529,
          303.3760000550211,
          348.2827306474146,
          362.026453296195,
          324.2635737992424,
          307.4018965647131,
          449.625885198649,
          418.47588058213984,
          408.62021048373134,
          null,
          null,
          null,
          null,
          null,
          null,
          null,
          null,
          null
         ]
        },
        {
         "fill": "tonexty",
         "fillcolor": "rgba(148, 187, 207, 0.4)",
         "hoverinfo": "skip",
         "line": {
          "width": 0
         },
         "marker": {
          "color": "#444"
         },
         "mode": "lines",
         "name": "80% prediction interval",
         "type": "scatter",
         "x": [
          "2023-01-01T00:00:00",
          "2023-01-08T00:00:00",
          "2023-01-15T00:00:00",
          "2023-01-22T00:00:00",
          "2023-02-01T00:00:00",
          "2023-02-08T00:00:00",
          "2023-02-15T00:00:00",
          "2023-02-22T00:00:00",
          "2023-03-01T00:00:00",
          "2023-03-08T00:00:00",
          "2023-03-15T00:00:00",
          "2023-03-22T00:00:00",
          "2023-04-01T00:00:00",
          "2023-04-08T00:00:00",
          "2023-04-15T00:00:00",
          "2023-04-22T00:00:00",
          "2023-05-01T00:00:00",
          "2023-05-08T00:00:00",
          "2023-05-15T00:00:00",
          "2023-05-22T00:00:00",
          "2023-06-01T00:00:00",
          "2023-06-08T00:00:00",
          "2023-06-15T00:00:00",
          "2023-06-22T00:00:00",
          "2023-07-01T00:00:00",
          "2023-07-08T00:00:00",
          "2023-07-15T00:00:00",
          "2023-07-22T00:00:00"
         ],
         "y": [
          850.6563643495131,
          773.5839178384431,
          899.6106331731758,
          935.034823015949,
          1047.8095566423744,
          1040.578114349979,
          985.0020060362839,
          812.9762317405258,
          930.9611073393176,
          951.8125808536968,
          1130.8274666947707,
          1346.9440626794717,
          1451.9785266909007,
          1444.560083106665,
          1145.4798142781115,
          1123.2547042320402,
          897.579849190119,
          836.0814351217296,
          697.1163958943358,
          null,
          null,
          null,
          null,
          null,
          null,
          null,
          null,
          null
         ]
        },
        {
         "hovertemplate": "%{y:.2f}",
         "line": {
          "width": 0
         },
         "marker": {
          "color": "#444"
         },
         "mode": "lines",
         "name": "Quantile 0.9 forecast",
         "showlegend": false,
         "type": "scatter",
         "x": [
          "2023-01-01T00:00:00",
          "2023-01-08T00:00:00",
          "2023-01-15T00:00:00",
          "2023-01-22T00:00:00",
          "2023-02-01T00:00:00",
          "2023-02-08T00:00:00",
          "2023-02-15T00:00:00",
          "2023-02-22T00:00:00",
          "2023-03-01T00:00:00",
          "2023-03-08T00:00:00",
          "2023-03-15T00:00:00",
          "2023-03-22T00:00:00",
          "2023-04-01T00:00:00",
          "2023-04-08T00:00:00",
          "2023-04-15T00:00:00",
          "2023-04-22T00:00:00",
          "2023-05-01T00:00:00",
          "2023-05-08T00:00:00",
          "2023-05-15T00:00:00",
          "2023-05-22T00:00:00",
          "2023-06-01T00:00:00",
          "2023-06-08T00:00:00",
          "2023-06-15T00:00:00",
          "2023-06-22T00:00:00",
          "2023-07-01T00:00:00",
          "2023-07-08T00:00:00",
          "2023-07-15T00:00:00",
          "2023-07-22T00:00:00"
         ],
         "y": [
          850.6563643495131,
          773.5839178384431,
          899.6106331731758,
          935.034823015949,
          1047.8095566423744,
          1040.578114349979,
          985.0020060362839,
          812.9762317405258,
          930.9611073393176,
          951.8125808536968,
          1130.8274666947707,
          1346.9440626794717,
          1451.9785266909007,
          1444.560083106665,
          1145.4798142781115,
          1123.2547042320402,
          897.579849190119,
          836.0814351217296,
          697.1163958943358,
          null,
          null,
          null,
          null,
          null,
          null,
          null,
          null,
          null
         ]
        },
        {
         "hovertemplate": "%{y:.2f}",
         "line": {
          "color": "#384D7E"
         },
         "mode": "lines",
         "name": "Point forecast",
         "type": "scatter",
         "x": [
          "2023-01-01T00:00:00",
          "2023-01-08T00:00:00",
          "2023-01-15T00:00:00",
          "2023-01-22T00:00:00",
          "2023-02-01T00:00:00",
          "2023-02-08T00:00:00",
          "2023-02-15T00:00:00",
          "2023-02-22T00:00:00",
          "2023-03-01T00:00:00",
          "2023-03-08T00:00:00",
          "2023-03-15T00:00:00",
          "2023-03-22T00:00:00",
          "2023-04-01T00:00:00",
          "2023-04-08T00:00:00",
          "2023-04-15T00:00:00",
          "2023-04-22T00:00:00",
          "2023-05-01T00:00:00",
          "2023-05-08T00:00:00",
          "2023-05-15T00:00:00",
          "2023-05-22T00:00:00",
          "2023-06-01T00:00:00",
          "2023-06-08T00:00:00",
          "2023-06-15T00:00:00",
          "2023-06-22T00:00:00",
          "2023-07-01T00:00:00",
          "2023-07-08T00:00:00",
          "2023-07-15T00:00:00",
          "2023-07-22T00:00:00"
         ],
         "y": [
          403.2504963609578,
          376.0095823853031,
          404.44712615041004,
          398.99920454041154,
          412.1936248854236,
          402.6807904547288,
          397.459355456361,
          370.6895657432252,
          409.80367831759196,
          434.53998416049245,
          487.80168335186954,
          565.1309931855831,
          655.4388875599794,
          688.7171289971045,
          643.8372074534668,
          636.2237009197738,
          613.8350064996524,
          570.8717764949405,
          520.0085672589904,
          null,
          null,
          null,
          null,
          null,
          null,
          null,
          null,
          null
         ]
        }
       ],
       "layout": {
        "height": 500,
        "hovermode": "x",
        "template": {
         "data": {
          "bar": [
           {
            "error_x": {
             "color": "#2a3f5f"
            },
            "error_y": {
             "color": "#2a3f5f"
            },
            "marker": {
             "line": {
              "color": "white",
              "width": 0.5
             },
             "pattern": {
              "fillmode": "overlay",
              "size": 10,
              "solidity": 0.2
             }
            },
            "type": "bar"
           }
          ],
          "barpolar": [
           {
            "marker": {
             "line": {
              "color": "white",
              "width": 0.5
             },
             "pattern": {
              "fillmode": "overlay",
              "size": 10,
              "solidity": 0.2
             }
            },
            "type": "barpolar"
           }
          ],
          "carpet": [
           {
            "aaxis": {
             "endlinecolor": "#2a3f5f",
             "gridcolor": "#C8D4E3",
             "linecolor": "#C8D4E3",
             "minorgridcolor": "#C8D4E3",
             "startlinecolor": "#2a3f5f"
            },
            "baxis": {
             "endlinecolor": "#2a3f5f",
             "gridcolor": "#C8D4E3",
             "linecolor": "#C8D4E3",
             "minorgridcolor": "#C8D4E3",
             "startlinecolor": "#2a3f5f"
            },
            "type": "carpet"
           }
          ],
          "choropleth": [
           {
            "colorbar": {
             "outlinewidth": 0,
             "ticks": ""
            },
            "type": "choropleth"
           }
          ],
          "contour": [
           {
            "colorbar": {
             "outlinewidth": 0,
             "ticks": ""
            },
            "colorscale": [
             [
              0,
              "#0d0887"
             ],
             [
              0.1111111111111111,
              "#46039f"
             ],
             [
              0.2222222222222222,
              "#7201a8"
             ],
             [
              0.3333333333333333,
              "#9c179e"
             ],
             [
              0.4444444444444444,
              "#bd3786"
             ],
             [
              0.5555555555555556,
              "#d8576b"
             ],
             [
              0.6666666666666666,
              "#ed7953"
             ],
             [
              0.7777777777777778,
              "#fb9f3a"
             ],
             [
              0.8888888888888888,
              "#fdca26"
             ],
             [
              1,
              "#f0f921"
             ]
            ],
            "type": "contour"
           }
          ],
          "contourcarpet": [
           {
            "colorbar": {
             "outlinewidth": 0,
             "ticks": ""
            },
            "type": "contourcarpet"
           }
          ],
          "heatmap": [
           {
            "colorbar": {
             "outlinewidth": 0,
             "ticks": ""
            },
            "colorscale": [
             [
              0,
              "#0d0887"
             ],
             [
              0.1111111111111111,
              "#46039f"
             ],
             [
              0.2222222222222222,
              "#7201a8"
             ],
             [
              0.3333333333333333,
              "#9c179e"
             ],
             [
              0.4444444444444444,
              "#bd3786"
             ],
             [
              0.5555555555555556,
              "#d8576b"
             ],
             [
              0.6666666666666666,
              "#ed7953"
             ],
             [
              0.7777777777777778,
              "#fb9f3a"
             ],
             [
              0.8888888888888888,
              "#fdca26"
             ],
             [
              1,
              "#f0f921"
             ]
            ],
            "type": "heatmap"
           }
          ],
          "heatmapgl": [
           {
            "colorbar": {
             "outlinewidth": 0,
             "ticks": ""
            },
            "colorscale": [
             [
              0,
              "#0d0887"
             ],
             [
              0.1111111111111111,
              "#46039f"
             ],
             [
              0.2222222222222222,
              "#7201a8"
             ],
             [
              0.3333333333333333,
              "#9c179e"
             ],
             [
              0.4444444444444444,
              "#bd3786"
             ],
             [
              0.5555555555555556,
              "#d8576b"
             ],
             [
              0.6666666666666666,
              "#ed7953"
             ],
             [
              0.7777777777777778,
              "#fb9f3a"
             ],
             [
              0.8888888888888888,
              "#fdca26"
             ],
             [
              1,
              "#f0f921"
             ]
            ],
            "type": "heatmapgl"
           }
          ],
          "histogram": [
           {
            "marker": {
             "pattern": {
              "fillmode": "overlay",
              "size": 10,
              "solidity": 0.2
             }
            },
            "type": "histogram"
           }
          ],
          "histogram2d": [
           {
            "colorbar": {
             "outlinewidth": 0,
             "ticks": ""
            },
            "colorscale": [
             [
              0,
              "#0d0887"
             ],
             [
              0.1111111111111111,
              "#46039f"
             ],
             [
              0.2222222222222222,
              "#7201a8"
             ],
             [
              0.3333333333333333,
              "#9c179e"
             ],
             [
              0.4444444444444444,
              "#bd3786"
             ],
             [
              0.5555555555555556,
              "#d8576b"
             ],
             [
              0.6666666666666666,
              "#ed7953"
             ],
             [
              0.7777777777777778,
              "#fb9f3a"
             ],
             [
              0.8888888888888888,
              "#fdca26"
             ],
             [
              1,
              "#f0f921"
             ]
            ],
            "type": "histogram2d"
           }
          ],
          "histogram2dcontour": [
           {
            "colorbar": {
             "outlinewidth": 0,
             "ticks": ""
            },
            "colorscale": [
             [
              0,
              "#0d0887"
             ],
             [
              0.1111111111111111,
              "#46039f"
             ],
             [
              0.2222222222222222,
              "#7201a8"
             ],
             [
              0.3333333333333333,
              "#9c179e"
             ],
             [
              0.4444444444444444,
              "#bd3786"
             ],
             [
              0.5555555555555556,
              "#d8576b"
             ],
             [
              0.6666666666666666,
              "#ed7953"
             ],
             [
              0.7777777777777778,
              "#fb9f3a"
             ],
             [
              0.8888888888888888,
              "#fdca26"
             ],
             [
              1,
              "#f0f921"
             ]
            ],
            "type": "histogram2dcontour"
           }
          ],
          "mesh3d": [
           {
            "colorbar": {
             "outlinewidth": 0,
             "ticks": ""
            },
            "type": "mesh3d"
           }
          ],
          "parcoords": [
           {
            "line": {
             "colorbar": {
              "outlinewidth": 0,
              "ticks": ""
             }
            },
            "type": "parcoords"
           }
          ],
          "pie": [
           {
            "automargin": true,
            "type": "pie"
           }
          ],
          "scatter": [
           {
            "fillpattern": {
             "fillmode": "overlay",
             "size": 10,
             "solidity": 0.2
            },
            "type": "scatter"
           }
          ],
          "scatter3d": [
           {
            "line": {
             "colorbar": {
              "outlinewidth": 0,
              "ticks": ""
             }
            },
            "marker": {
             "colorbar": {
              "outlinewidth": 0,
              "ticks": ""
             }
            },
            "type": "scatter3d"
           }
          ],
          "scattercarpet": [
           {
            "marker": {
             "colorbar": {
              "outlinewidth": 0,
              "ticks": ""
             }
            },
            "type": "scattercarpet"
           }
          ],
          "scattergeo": [
           {
            "marker": {
             "colorbar": {
              "outlinewidth": 0,
              "ticks": ""
             }
            },
            "type": "scattergeo"
           }
          ],
          "scattergl": [
           {
            "marker": {
             "colorbar": {
              "outlinewidth": 0,
              "ticks": ""
             }
            },
            "type": "scattergl"
           }
          ],
          "scattermapbox": [
           {
            "marker": {
             "colorbar": {
              "outlinewidth": 0,
              "ticks": ""
             }
            },
            "type": "scattermapbox"
           }
          ],
          "scatterpolar": [
           {
            "marker": {
             "colorbar": {
              "outlinewidth": 0,
              "ticks": ""
             }
            },
            "type": "scatterpolar"
           }
          ],
          "scatterpolargl": [
           {
            "marker": {
             "colorbar": {
              "outlinewidth": 0,
              "ticks": ""
             }
            },
            "type": "scatterpolargl"
           }
          ],
          "scatterternary": [
           {
            "marker": {
             "colorbar": {
              "outlinewidth": 0,
              "ticks": ""
             }
            },
            "type": "scatterternary"
           }
          ],
          "surface": [
           {
            "colorbar": {
             "outlinewidth": 0,
             "ticks": ""
            },
            "colorscale": [
             [
              0,
              "#0d0887"
             ],
             [
              0.1111111111111111,
              "#46039f"
             ],
             [
              0.2222222222222222,
              "#7201a8"
             ],
             [
              0.3333333333333333,
              "#9c179e"
             ],
             [
              0.4444444444444444,
              "#bd3786"
             ],
             [
              0.5555555555555556,
              "#d8576b"
             ],
             [
              0.6666666666666666,
              "#ed7953"
             ],
             [
              0.7777777777777778,
              "#fb9f3a"
             ],
             [
              0.8888888888888888,
              "#fdca26"
             ],
             [
              1,
              "#f0f921"
             ]
            ],
            "type": "surface"
           }
          ],
          "table": [
           {
            "cells": {
             "fill": {
              "color": "#EBF0F8"
             },
             "line": {
              "color": "white"
             }
            },
            "header": {
             "fill": {
              "color": "#C8D4E3"
             },
             "line": {
              "color": "white"
             }
            },
            "type": "table"
           }
          ]
         },
         "layout": {
          "annotationdefaults": {
           "arrowcolor": "#2a3f5f",
           "arrowhead": 0,
           "arrowwidth": 1
          },
          "autotypenumbers": "strict",
          "coloraxis": {
           "colorbar": {
            "outlinewidth": 0,
            "ticks": ""
           }
          },
          "colorscale": {
           "diverging": [
            [
             0,
             "#8e0152"
            ],
            [
             0.1,
             "#c51b7d"
            ],
            [
             0.2,
             "#de77ae"
            ],
            [
             0.3,
             "#f1b6da"
            ],
            [
             0.4,
             "#fde0ef"
            ],
            [
             0.5,
             "#f7f7f7"
            ],
            [
             0.6,
             "#e6f5d0"
            ],
            [
             0.7,
             "#b8e186"
            ],
            [
             0.8,
             "#7fbc41"
            ],
            [
             0.9,
             "#4d9221"
            ],
            [
             1,
             "#276419"
            ]
           ],
           "sequential": [
            [
             0,
             "#0d0887"
            ],
            [
             0.1111111111111111,
             "#46039f"
            ],
            [
             0.2222222222222222,
             "#7201a8"
            ],
            [
             0.3333333333333333,
             "#9c179e"
            ],
            [
             0.4444444444444444,
             "#bd3786"
            ],
            [
             0.5555555555555556,
             "#d8576b"
            ],
            [
             0.6666666666666666,
             "#ed7953"
            ],
            [
             0.7777777777777778,
             "#fb9f3a"
            ],
            [
             0.8888888888888888,
             "#fdca26"
            ],
            [
             1,
             "#f0f921"
            ]
           ],
           "sequentialminus": [
            [
             0,
             "#0d0887"
            ],
            [
             0.1111111111111111,
             "#46039f"
            ],
            [
             0.2222222222222222,
             "#7201a8"
            ],
            [
             0.3333333333333333,
             "#9c179e"
            ],
            [
             0.4444444444444444,
             "#bd3786"
            ],
            [
             0.5555555555555556,
             "#d8576b"
            ],
            [
             0.6666666666666666,
             "#ed7953"
            ],
            [
             0.7777777777777778,
             "#fb9f3a"
            ],
            [
             0.8888888888888888,
             "#fdca26"
            ],
            [
             1,
             "#f0f921"
            ]
           ]
          },
          "colorway": [
           "#636efa",
           "#EF553B",
           "#00cc96",
           "#ab63fa",
           "#FFA15A",
           "#19d3f3",
           "#FF6692",
           "#B6E880",
           "#FF97FF",
           "#FECB52"
          ],
          "font": {
           "color": "#2a3f5f"
          },
          "geo": {
           "bgcolor": "white",
           "lakecolor": "white",
           "landcolor": "white",
           "showlakes": true,
           "showland": true,
           "subunitcolor": "#C8D4E3"
          },
          "hoverlabel": {
           "align": "left"
          },
          "hovermode": "closest",
          "mapbox": {
           "style": "light"
          },
          "paper_bgcolor": "white",
          "plot_bgcolor": "white",
          "polar": {
           "angularaxis": {
            "gridcolor": "#EBF0F8",
            "linecolor": "#EBF0F8",
            "ticks": ""
           },
           "bgcolor": "white",
           "radialaxis": {
            "gridcolor": "#EBF0F8",
            "linecolor": "#EBF0F8",
            "ticks": ""
           }
          },
          "scene": {
           "xaxis": {
            "backgroundcolor": "white",
            "gridcolor": "#DFE8F3",
            "gridwidth": 2,
            "linecolor": "#EBF0F8",
            "showbackground": true,
            "ticks": "",
            "zerolinecolor": "#EBF0F8"
           },
           "yaxis": {
            "backgroundcolor": "white",
            "gridcolor": "#DFE8F3",
            "gridwidth": 2,
            "linecolor": "#EBF0F8",
            "showbackground": true,
            "ticks": "",
            "zerolinecolor": "#EBF0F8"
           },
           "zaxis": {
            "backgroundcolor": "white",
            "gridcolor": "#DFE8F3",
            "gridwidth": 2,
            "linecolor": "#EBF0F8",
            "showbackground": true,
            "ticks": "",
            "zerolinecolor": "#EBF0F8"
           }
          },
          "shapedefaults": {
           "line": {
            "color": "#2a3f5f"
           }
          },
          "ternary": {
           "aaxis": {
            "gridcolor": "#DFE8F3",
            "linecolor": "#A2B1C6",
            "ticks": ""
           },
           "baxis": {
            "gridcolor": "#DFE8F3",
            "linecolor": "#A2B1C6",
            "ticks": ""
           },
           "bgcolor": "white",
           "caxis": {
            "gridcolor": "#DFE8F3",
            "linecolor": "#A2B1C6",
            "ticks": ""
           }
          },
          "title": {
           "x": 0.05
          },
          "xaxis": {
           "automargin": true,
           "gridcolor": "#EBF0F8",
           "linecolor": "#EBF0F8",
           "ticks": "",
           "title": {
            "standoff": 15
           },
           "zerolinecolor": "#EBF0F8",
           "zerolinewidth": 2
          },
          "yaxis": {
           "automargin": true,
           "gridcolor": "#EBF0F8",
           "linecolor": "#EBF0F8",
           "ticks": "",
           "title": {
            "standoff": 15
           },
           "zerolinecolor": "#EBF0F8",
           "zerolinewidth": 2
          }
         }
        },
        "title": {
         "text": "owyhee_r_bl_owyhee_dam - Apr-Jul 2023 forecast"
        },
        "width": 900,
        "xaxis": {
         "title": {
          "text": "Issue Date"
         }
        },
        "yaxis": {
         "title": {
          "text": "Volume (KAF)"
         }
        }
       }
      }
     },
     "metadata": {},
     "output_type": "display_data"
    },
    {
     "name": "stdout",
     "output_type": "stream",
     "text": [
      "pueblo_reservoir_inflow 2023-03-15\n",
      "P10 model: 0.2*pdsi_swe_s51 + 0.8*pdsi_swe_era5\n",
      "P90 model: 0.8*ngm_pdsi_era5_s51 + 0.2*base_swe\n",
      "\n",
      "Actual volume: 312.86\n"
     ]
    },
    {
     "data": {
      "text/html": [
       "<style type=\"text/css\">\n",
       "</style>\n",
       "<table id=\"T_15aea\">\n",
       "  <thead>\n",
       "    <tr>\n",
       "      <th class=\"index_name level0\" >idx</th>\n",
       "      <th id=\"T_15aea_level0_col0\" class=\"col_heading level0 col0\" >forecast</th>\n",
       "      <th id=\"T_15aea_level0_col1\" class=\"col_heading level0 col1\" >percent_mean</th>\n",
       "      <th id=\"T_15aea_level0_col2\" class=\"col_heading level0 col2\" >percent_median</th>\n",
       "    </tr>\n",
       "  </thead>\n",
       "  <tbody>\n",
       "    <tr>\n",
       "      <th id=\"T_15aea_level0_row0\" class=\"row_heading level0 row0\" >pred_volume_10</th>\n",
       "      <td id=\"T_15aea_row0_col0\" class=\"data row0 col0\" >200.52</td>\n",
       "      <td id=\"T_15aea_row0_col1\" class=\"data row0 col1\" >58%</td>\n",
       "      <td id=\"T_15aea_row0_col2\" class=\"data row0 col2\" >61%</td>\n",
       "    </tr>\n",
       "    <tr>\n",
       "      <th id=\"T_15aea_level0_row1\" class=\"row_heading level0 row1\" >pred_volume_50</th>\n",
       "      <td id=\"T_15aea_row1_col0\" class=\"data row1 col0\" >278.40</td>\n",
       "      <td id=\"T_15aea_row1_col1\" class=\"data row1 col1\" >81%</td>\n",
       "      <td id=\"T_15aea_row1_col2\" class=\"data row1 col2\" >85%</td>\n",
       "    </tr>\n",
       "    <tr>\n",
       "      <th id=\"T_15aea_level0_row2\" class=\"row_heading level0 row2\" >pred_volume_90</th>\n",
       "      <td id=\"T_15aea_row2_col0\" class=\"data row2 col0\" >420.64</td>\n",
       "      <td id=\"T_15aea_row2_col1\" class=\"data row2 col1\" >123%</td>\n",
       "      <td id=\"T_15aea_row2_col2\" class=\"data row2 col2\" >129%</td>\n",
       "    </tr>\n",
       "  </tbody>\n",
       "</table>\n"
      ],
      "text/plain": [
       "<pandas.io.formats.style.Styler at 0x28189926730>"
      ]
     },
     "metadata": {},
     "output_type": "display_data"
    },
    {
     "name": "stdout",
     "output_type": "stream",
     "text": [
      "pueblo_reservoir_inflow, 2023-03-15\n",
      "pueblo_reservoir_inflow, 2023-03-08\n",
      "\n",
      " SHAP feature contribution\n"
     ]
    },
    {
     "data": {
      "text/html": [
       "<style type=\"text/css\">\n",
       "#T_2a99e th.col_heading.level0 {\n",
       "  text-align: center;\n",
       "}\n",
       "#T_2a99e th.col_heading.level1 {\n",
       "  text-align: center;\n",
       "}\n",
       "#T_2a99e th.col_heading.level2 {\n",
       "  text-align: center;\n",
       "}\n",
       "#T_2a99e tr {\n",
       "  line-height: 21px;\n",
       "}\n",
       "#T_2a99e td {\n",
       "  line-height: inherit;\n",
       "  padding-top: 0;\n",
       "  padding-bottom: 0;\n",
       "}\n",
       "#T_2a99e th {\n",
       "  line-height: inherit;\n",
       "  padding-top: 0;\n",
       "  padding-bottom: 0;\n",
       "}\n",
       "#T_2a99e_row0_col0, #T_2a99e_row1_col0, #T_2a99e_row5_col0, #T_2a99e_row8_col0, #T_2a99e_row11_col0, #T_2a99e_row16_col0 {\n",
       "  text-align: left;\n",
       "  font-weight: bold;\n",
       "  border-right: 1px solid #D3D3D3;\n",
       "  font-weight: bold;\n",
       "  border-top: 1px solid #D3D3D3;\n",
       "}\n",
       "#T_2a99e_row0_col1, #T_2a99e_row0_col2, #T_2a99e_row0_col3, #T_2a99e_row0_col4, #T_2a99e_row0_col5, #T_2a99e_row0_col7, #T_2a99e_row0_col8, #T_2a99e_row0_col9, #T_2a99e_row1_col1, #T_2a99e_row1_col2, #T_2a99e_row1_col3, #T_2a99e_row1_col4, #T_2a99e_row1_col5, #T_2a99e_row1_col7, #T_2a99e_row1_col8, #T_2a99e_row1_col9, #T_2a99e_row5_col1, #T_2a99e_row5_col2, #T_2a99e_row5_col3, #T_2a99e_row5_col4, #T_2a99e_row5_col5, #T_2a99e_row5_col7, #T_2a99e_row5_col8, #T_2a99e_row5_col9, #T_2a99e_row8_col1, #T_2a99e_row8_col2, #T_2a99e_row8_col3, #T_2a99e_row8_col4, #T_2a99e_row8_col5, #T_2a99e_row8_col7, #T_2a99e_row8_col8, #T_2a99e_row8_col9, #T_2a99e_row11_col1, #T_2a99e_row11_col2, #T_2a99e_row11_col3, #T_2a99e_row11_col4, #T_2a99e_row11_col5, #T_2a99e_row11_col7, #T_2a99e_row11_col8, #T_2a99e_row11_col9, #T_2a99e_row16_col1, #T_2a99e_row16_col2, #T_2a99e_row16_col3, #T_2a99e_row16_col4, #T_2a99e_row16_col5, #T_2a99e_row16_col7, #T_2a99e_row16_col8, #T_2a99e_row16_col9 {\n",
       "  font-weight: bold;\n",
       "  border-top: 1px solid #D3D3D3;\n",
       "}\n",
       "#T_2a99e_row0_col6, #T_2a99e_row1_col6, #T_2a99e_row5_col6, #T_2a99e_row8_col6, #T_2a99e_row11_col6, #T_2a99e_row16_col6 {\n",
       "  border-left: 1px solid #D3D3D3;\n",
       "  font-weight: bold;\n",
       "  border-top: 1px solid #D3D3D3;\n",
       "}\n",
       "#T_2a99e_row2_col0, #T_2a99e_row3_col0, #T_2a99e_row4_col0, #T_2a99e_row6_col0, #T_2a99e_row7_col0, #T_2a99e_row9_col0, #T_2a99e_row10_col0, #T_2a99e_row12_col0, #T_2a99e_row13_col0, #T_2a99e_row14_col0, #T_2a99e_row15_col0, #T_2a99e_row17_col0, #T_2a99e_row18_col0, #T_2a99e_row19_col0 {\n",
       "  text-align: left;\n",
       "  font-weight: bold;\n",
       "  border-right: 1px solid #D3D3D3;\n",
       "  text-indent: 1em;\n",
       "  font-weight: normal;\n",
       "}\n",
       "#T_2a99e_row2_col2 {\n",
       "  width: 50px;\n",
       "  background: linear-gradient(90deg, transparent 25.0%, #1ca3ec 25.0%, #1ca3ec 37.0%, transparent 37.0%) no-repeat center;\n",
       "  background-size: 100% 50.0%;\n",
       "}\n",
       "#T_2a99e_row2_col3 {\n",
       "  width: 50px;\n",
       "  background: linear-gradient(90deg, transparent 25.0%, #1ca3ec 25.0%, #1ca3ec 40.7%, transparent 40.7%) no-repeat center;\n",
       "  background-size: 100% 50.0%;\n",
       "}\n",
       "#T_2a99e_row2_col4 {\n",
       "  width: 50px;\n",
       "  background: linear-gradient(90deg, transparent 25.0%, #1ca3ec 25.0%, #1ca3ec 41.4%, transparent 41.4%) no-repeat center;\n",
       "  background-size: 100% 50.0%;\n",
       "}\n",
       "#T_2a99e_row2_col6, #T_2a99e_row3_col6, #T_2a99e_row4_col6, #T_2a99e_row6_col6, #T_2a99e_row7_col6, #T_2a99e_row9_col6, #T_2a99e_row10_col6, #T_2a99e_row12_col6, #T_2a99e_row13_col6, #T_2a99e_row14_col6, #T_2a99e_row15_col6, #T_2a99e_row17_col6, #T_2a99e_row18_col6, #T_2a99e_row19_col6 {\n",
       "  border-left: 1px solid #D3D3D3;\n",
       "}\n",
       "#T_2a99e_row2_col7 {\n",
       "  width: 50px;\n",
       "  background: linear-gradient(90deg, transparent 25.0%, #1ca3ec 25.0%, #1ca3ec 34.8%, transparent 34.8%) no-repeat center;\n",
       "  background-size: 100% 50.0%;\n",
       "}\n",
       "#T_2a99e_row2_col8 {\n",
       "  width: 50px;\n",
       "  background: linear-gradient(90deg, transparent 25.0%, #1ca3ec 25.0%, #1ca3ec 28.9%, transparent 28.9%) no-repeat center;\n",
       "  background-size: 100% 50.0%;\n",
       "}\n",
       "#T_2a99e_row2_col9 {\n",
       "  width: 50px;\n",
       "  background: linear-gradient(90deg, transparent 25.0%, #1ca3ec 25.0%, #1ca3ec 39.2%, transparent 39.2%) no-repeat center;\n",
       "  background-size: 100% 50.0%;\n",
       "}\n",
       "#T_2a99e_row3_col2, #T_2a99e_row4_col2 {\n",
       "  width: 50px;\n",
       "  background: linear-gradient(90deg, transparent 25.0%, #1ca3ec 25.0%, #1ca3ec 27.0%, transparent 27.0%) no-repeat center;\n",
       "  background-size: 100% 50.0%;\n",
       "}\n",
       "#T_2a99e_row3_col3, #T_2a99e_row3_col4, #T_2a99e_row3_col9, #T_2a99e_row7_col3, #T_2a99e_row7_col4, #T_2a99e_row7_col9 {\n",
       "  width: 50px;\n",
       "}\n",
       "#T_2a99e_row3_col7 {\n",
       "  width: 50px;\n",
       "  background: linear-gradient(90deg, transparent 25.0%, #1ca3ec 25.0%, #1ca3ec 26.3%, transparent 26.3%) no-repeat center;\n",
       "  background-size: 100% 50.0%;\n",
       "}\n",
       "#T_2a99e_row3_col8 {\n",
       "  color: #c79854;\n",
       "  width: 50px;\n",
       "  background: linear-gradient(90deg, transparent 21.9%, #DABB8E 21.9%, #DABB8E 25.0%, transparent 25.0%) no-repeat center;\n",
       "  background-size: 100% 50.0%;\n",
       "}\n",
       "#T_2a99e_row4_col3 {\n",
       "  color: #c79854;\n",
       "  width: 50px;\n",
       "  background: linear-gradient(90deg, transparent 20.3%, #DABB8E 20.3%, #DABB8E 25.0%, transparent 25.0%) no-repeat center;\n",
       "  background-size: 100% 50.0%;\n",
       "}\n",
       "#T_2a99e_row4_col4, #T_2a99e_row14_col3 {\n",
       "  width: 50px;\n",
       "  background: linear-gradient(90deg, transparent 25.0%, #1ca3ec 25.0%, #1ca3ec 25.1%, transparent 25.1%) no-repeat center;\n",
       "  background-size: 100% 50.0%;\n",
       "}\n",
       "#T_2a99e_row4_col7 {\n",
       "  width: 50px;\n",
       "  background: linear-gradient(90deg, transparent 25.0%, #1ca3ec 25.0%, #1ca3ec 26.6%, transparent 26.6%) no-repeat center;\n",
       "  background-size: 100% 50.0%;\n",
       "}\n",
       "#T_2a99e_row4_col8 {\n",
       "  color: #c79854;\n",
       "  width: 50px;\n",
       "  background: linear-gradient(90deg, transparent 17.8%, #DABB8E 17.8%, #DABB8E 25.0%, transparent 25.0%) no-repeat center;\n",
       "  background-size: 100% 50.0%;\n",
       "}\n",
       "#T_2a99e_row4_col9, #T_2a99e_row14_col9 {\n",
       "  color: #c79854;\n",
       "  width: 50px;\n",
       "  background: linear-gradient(90deg, transparent 24.8%, #DABB8E 24.8%, #DABB8E 25.0%, transparent 25.0%) no-repeat center;\n",
       "  background-size: 100% 50.0%;\n",
       "}\n",
       "#T_2a99e_row6_col2 {\n",
       "  color: #c79854;\n",
       "  width: 50px;\n",
       "  background: linear-gradient(90deg, transparent 23.1%, #DABB8E 23.1%, #DABB8E 25.0%, transparent 25.0%) no-repeat center;\n",
       "  background-size: 100% 50.0%;\n",
       "}\n",
       "#T_2a99e_row6_col3 {\n",
       "  color: #c79854;\n",
       "  width: 50px;\n",
       "  background: linear-gradient(90deg, transparent 20.1%, #DABB8E 20.1%, #DABB8E 25.0%, transparent 25.0%) no-repeat center;\n",
       "  background-size: 100% 50.0%;\n",
       "}\n",
       "#T_2a99e_row6_col4, #T_2a99e_row13_col9 {\n",
       "  color: #c79854;\n",
       "  width: 50px;\n",
       "  background: linear-gradient(90deg, transparent 20.7%, #DABB8E 20.7%, #DABB8E 25.0%, transparent 25.0%) no-repeat center;\n",
       "  background-size: 100% 50.0%;\n",
       "}\n",
       "#T_2a99e_row6_col7, #T_2a99e_row13_col8 {\n",
       "  color: #c79854;\n",
       "  width: 50px;\n",
       "  background: linear-gradient(90deg, transparent 22.0%, #DABB8E 22.0%, #DABB8E 25.0%, transparent 25.0%) no-repeat center;\n",
       "  background-size: 100% 50.0%;\n",
       "}\n",
       "#T_2a99e_row6_col8 {\n",
       "  color: #c79854;\n",
       "  width: 50px;\n",
       "  background: linear-gradient(90deg, transparent 23.0%, #DABB8E 23.0%, #DABB8E 25.0%, transparent 25.0%) no-repeat center;\n",
       "  background-size: 100% 50.0%;\n",
       "}\n",
       "#T_2a99e_row6_col9 {\n",
       "  color: #c79854;\n",
       "  width: 50px;\n",
       "  background: linear-gradient(90deg, transparent 19.4%, #DABB8E 19.4%, #DABB8E 25.0%, transparent 25.0%) no-repeat center;\n",
       "  background-size: 100% 50.0%;\n",
       "}\n",
       "#T_2a99e_row7_col2 {\n",
       "  color: #c79854;\n",
       "  width: 50px;\n",
       "  background: linear-gradient(90deg, transparent 17.3%, #DABB8E 17.3%, #DABB8E 25.0%, transparent 25.0%) no-repeat center;\n",
       "  background-size: 100% 50.0%;\n",
       "}\n",
       "#T_2a99e_row7_col7 {\n",
       "  color: #c79854;\n",
       "  width: 50px;\n",
       "  background: linear-gradient(90deg, transparent 16.9%, #DABB8E 16.9%, #DABB8E 25.0%, transparent 25.0%) no-repeat center;\n",
       "  background-size: 100% 50.0%;\n",
       "}\n",
       "#T_2a99e_row7_col8 {\n",
       "  color: #c79854;\n",
       "  width: 50px;\n",
       "  background: linear-gradient(90deg, transparent 20.0%, #DABB8E 20.0%, #DABB8E 25.0%, transparent 25.0%) no-repeat center;\n",
       "  background-size: 100% 50.0%;\n",
       "}\n",
       "#T_2a99e_row9_col2, #T_2a99e_row9_col7 {\n",
       "  color: #c79854;\n",
       "  width: 50px;\n",
       "  background: linear-gradient(90deg, transparent 20.2%, #DABB8E 20.2%, #DABB8E 25.0%, transparent 25.0%) no-repeat center;\n",
       "  background-size: 100% 50.0%;\n",
       "}\n",
       "#T_2a99e_row9_col3 {\n",
       "  color: #c79854;\n",
       "  width: 50px;\n",
       "  background: linear-gradient(90deg, transparent 9.7%, #DABB8E 9.7%, #DABB8E 25.0%, transparent 25.0%) no-repeat center;\n",
       "  background-size: 100% 50.0%;\n",
       "}\n",
       "#T_2a99e_row9_col4 {\n",
       "  color: #c79854;\n",
       "  width: 50px;\n",
       "  background: linear-gradient(90deg, transparent 21.2%, #DABB8E 21.2%, #DABB8E 25.0%, transparent 25.0%) no-repeat center;\n",
       "  background-size: 100% 50.0%;\n",
       "}\n",
       "#T_2a99e_row9_col8 {\n",
       "  color: #c79854;\n",
       "  width: 50px;\n",
       "  background: linear-gradient(90deg, transparent 14.4%, #DABB8E 14.4%, #DABB8E 25.0%, transparent 25.0%) no-repeat center;\n",
       "  background-size: 100% 50.0%;\n",
       "}\n",
       "#T_2a99e_row9_col9 {\n",
       "  color: #c79854;\n",
       "  width: 50px;\n",
       "  background: linear-gradient(90deg, transparent 21.5%, #DABB8E 21.5%, #DABB8E 25.0%, transparent 25.0%) no-repeat center;\n",
       "  background-size: 100% 50.0%;\n",
       "}\n",
       "#T_2a99e_row10_col2, #T_2a99e_row13_col2 {\n",
       "  color: #c79854;\n",
       "  width: 50px;\n",
       "  background: linear-gradient(90deg, transparent 24.3%, #DABB8E 24.3%, #DABB8E 25.0%, transparent 25.0%) no-repeat center;\n",
       "  background-size: 100% 50.0%;\n",
       "}\n",
       "#T_2a99e_row10_col3 {\n",
       "  color: #c79854;\n",
       "  width: 50px;\n",
       "  background: linear-gradient(90deg, transparent 23.2%, #DABB8E 23.2%, #DABB8E 25.0%, transparent 25.0%) no-repeat center;\n",
       "  background-size: 100% 50.0%;\n",
       "}\n",
       "#T_2a99e_row10_col4 {\n",
       "  color: #c79854;\n",
       "  width: 50px;\n",
       "  background: linear-gradient(90deg, transparent 22.4%, #DABB8E 22.4%, #DABB8E 25.0%, transparent 25.0%) no-repeat center;\n",
       "  background-size: 100% 50.0%;\n",
       "}\n",
       "#T_2a99e_row10_col7, #T_2a99e_row18_col2, #T_2a99e_row18_col7 {\n",
       "  color: #c79854;\n",
       "  width: 50px;\n",
       "  background: linear-gradient(90deg, transparent 24.0%, #DABB8E 24.0%, #DABB8E 25.0%, transparent 25.0%) no-repeat center;\n",
       "  background-size: 100% 50.0%;\n",
       "}\n",
       "#T_2a99e_row10_col8 {\n",
       "  color: #c79854;\n",
       "  width: 50px;\n",
       "  background: linear-gradient(90deg, transparent 21.7%, #DABB8E 21.7%, #DABB8E 25.0%, transparent 25.0%) no-repeat center;\n",
       "  background-size: 100% 50.0%;\n",
       "}\n",
       "#T_2a99e_row10_col9 {\n",
       "  color: #c79854;\n",
       "  width: 50px;\n",
       "  background: linear-gradient(90deg, transparent 21.3%, #DABB8E 21.3%, #DABB8E 25.0%, transparent 25.0%) no-repeat center;\n",
       "  background-size: 100% 50.0%;\n",
       "}\n",
       "#T_2a99e_row12_col2, #T_2a99e_row12_col7, #T_2a99e_row14_col8, #T_2a99e_row19_col8 {\n",
       "  width: 50px;\n",
       "  background: linear-gradient(90deg, transparent 25.0%, #1ca3ec 25.0%, #1ca3ec 25.2%, transparent 25.2%) no-repeat center;\n",
       "  background-size: 100% 50.0%;\n",
       "}\n",
       "#T_2a99e_row12_col3 {\n",
       "  color: #c79854;\n",
       "  width: 50px;\n",
       "  background: linear-gradient(90deg, transparent 25.0%, #DABB8E 25.0%, #DABB8E 25.0%, transparent 25.0%) no-repeat center;\n",
       "  background-size: 100% 50.0%;\n",
       "}\n",
       "#T_2a99e_row12_col4, #T_2a99e_row12_col9 {\n",
       "  width: 50px;\n",
       "  background: linear-gradient(90deg, transparent 25.0%, #1ca3ec 25.0%, #1ca3ec 25.0%, transparent 25.0%) no-repeat center;\n",
       "  background-size: 100% 50.0%;\n",
       "}\n",
       "#T_2a99e_row12_col8, #T_2a99e_row14_col2, #T_2a99e_row14_col4, #T_2a99e_row14_col7 {\n",
       "  color: #c79854;\n",
       "  width: 50px;\n",
       "  background: linear-gradient(90deg, transparent 24.9%, #DABB8E 24.9%, #DABB8E 25.0%, transparent 25.0%) no-repeat center;\n",
       "  background-size: 100% 50.0%;\n",
       "}\n",
       "#T_2a99e_row13_col3, #T_2a99e_row15_col3 {\n",
       "  width: 50px;\n",
       "  background: linear-gradient(90deg, transparent 25.0%, #1ca3ec 25.0%, #1ca3ec 25.4%, transparent 25.4%) no-repeat center;\n",
       "  background-size: 100% 50.0%;\n",
       "}\n",
       "#T_2a99e_row13_col4 {\n",
       "  color: #c79854;\n",
       "  width: 50px;\n",
       "  background: linear-gradient(90deg, transparent 20.9%, #DABB8E 20.9%, #DABB8E 25.0%, transparent 25.0%) no-repeat center;\n",
       "  background-size: 100% 50.0%;\n",
       "}\n",
       "#T_2a99e_row13_col7 {\n",
       "  color: #c79854;\n",
       "  width: 50px;\n",
       "  background: linear-gradient(90deg, transparent 24.4%, #DABB8E 24.4%, #DABB8E 25.0%, transparent 25.0%) no-repeat center;\n",
       "  background-size: 100% 50.0%;\n",
       "}\n",
       "#T_2a99e_row15_col2, #T_2a99e_row15_col7 {\n",
       "  width: 50px;\n",
       "  background: linear-gradient(90deg, transparent 25.0%, #1ca3ec 25.0%, #1ca3ec 25.8%, transparent 25.8%) no-repeat center;\n",
       "  background-size: 100% 50.0%;\n",
       "}\n",
       "#T_2a99e_row15_col4, #T_2a99e_row15_col9 {\n",
       "  width: 50px;\n",
       "  background: linear-gradient(90deg, transparent 25.0%, #1ca3ec 25.0%, #1ca3ec 25.3%, transparent 25.3%) no-repeat center;\n",
       "  background-size: 100% 50.0%;\n",
       "}\n",
       "#T_2a99e_row15_col8 {\n",
       "  width: 50px;\n",
       "  background: linear-gradient(90deg, transparent 25.0%, #1ca3ec 25.0%, #1ca3ec 25.9%, transparent 25.9%) no-repeat center;\n",
       "  background-size: 100% 50.0%;\n",
       "}\n",
       "#T_2a99e_row17_col2, #T_2a99e_row17_col7 {\n",
       "  width: 50px;\n",
       "  background: linear-gradient(90deg, transparent 25.0%, #1ca3ec 25.0%, #1ca3ec 27.5%, transparent 27.5%) no-repeat center;\n",
       "  background-size: 100% 50.0%;\n",
       "}\n",
       "#T_2a99e_row17_col3 {\n",
       "  width: 50px;\n",
       "  background: linear-gradient(90deg, transparent 25.0%, #1ca3ec 25.0%, #1ca3ec 29.4%, transparent 29.4%) no-repeat center;\n",
       "  background-size: 100% 50.0%;\n",
       "}\n",
       "#T_2a99e_row17_col4 {\n",
       "  width: 50px;\n",
       "  background: linear-gradient(90deg, transparent 25.0%, #1ca3ec 25.0%, #1ca3ec 28.7%, transparent 28.7%) no-repeat center;\n",
       "  background-size: 100% 50.0%;\n",
       "}\n",
       "#T_2a99e_row17_col8 {\n",
       "  width: 50px;\n",
       "  background: linear-gradient(90deg, transparent 25.0%, #1ca3ec 25.0%, #1ca3ec 26.5%, transparent 26.5%) no-repeat center;\n",
       "  background-size: 100% 50.0%;\n",
       "}\n",
       "#T_2a99e_row17_col9 {\n",
       "  width: 50px;\n",
       "  background: linear-gradient(90deg, transparent 25.0%, #1ca3ec 25.0%, #1ca3ec 29.0%, transparent 29.0%) no-repeat center;\n",
       "  background-size: 100% 50.0%;\n",
       "}\n",
       "#T_2a99e_row18_col3 {\n",
       "  color: #c79854;\n",
       "  width: 50px;\n",
       "  background: linear-gradient(90deg, transparent 23.6%, #DABB8E 23.6%, #DABB8E 25.0%, transparent 25.0%) no-repeat center;\n",
       "  background-size: 100% 50.0%;\n",
       "}\n",
       "#T_2a99e_row18_col4, #T_2a99e_row18_col9 {\n",
       "  color: #c79854;\n",
       "  width: 50px;\n",
       "  background: linear-gradient(90deg, transparent 24.2%, #DABB8E 24.2%, #DABB8E 25.0%, transparent 25.0%) no-repeat center;\n",
       "  background-size: 100% 50.0%;\n",
       "}\n",
       "#T_2a99e_row18_col8 {\n",
       "  color: #c79854;\n",
       "  width: 50px;\n",
       "  background: linear-gradient(90deg, transparent 24.6%, #DABB8E 24.6%, #DABB8E 25.0%, transparent 25.0%) no-repeat center;\n",
       "  background-size: 100% 50.0%;\n",
       "}\n",
       "#T_2a99e_row19_col2 {\n",
       "  width: 50px;\n",
       "  background: linear-gradient(90deg, transparent 25.0%, #1ca3ec 25.0%, #1ca3ec 26.9%, transparent 26.9%) no-repeat center;\n",
       "  background-size: 100% 50.0%;\n",
       "}\n",
       "#T_2a99e_row19_col3 {\n",
       "  color: #c79854;\n",
       "  width: 50px;\n",
       "  background: linear-gradient(90deg, transparent 24.5%, #DABB8E 24.5%, #DABB8E 25.0%, transparent 25.0%) no-repeat center;\n",
       "  background-size: 100% 50.0%;\n",
       "}\n",
       "#T_2a99e_row19_col4 {\n",
       "  width: 50px;\n",
       "  background: linear-gradient(90deg, transparent 25.0%, #1ca3ec 25.0%, #1ca3ec 27.7%, transparent 27.7%) no-repeat center;\n",
       "  background-size: 100% 50.0%;\n",
       "}\n",
       "#T_2a99e_row19_col7 {\n",
       "  width: 50px;\n",
       "  background: linear-gradient(90deg, transparent 25.0%, #1ca3ec 25.0%, #1ca3ec 27.1%, transparent 27.1%) no-repeat center;\n",
       "  background-size: 100% 50.0%;\n",
       "}\n",
       "#T_2a99e_row19_col9 {\n",
       "  width: 50px;\n",
       "  background: linear-gradient(90deg, transparent 25.0%, #1ca3ec 25.0%, #1ca3ec 27.4%, transparent 27.4%) no-repeat center;\n",
       "  background-size: 100% 50.0%;\n",
       "}\n",
       "#T_2a99e_level0_col0, #T_2a99e_level0_col5, #T_2a99e_level1_col0, #T_2a99e_level1_col5, #T_2a99e_level2_col0, #T_2a99e_level2_col5 {\n",
       "  border-right: 1px solid #D3D3D3;\n",
       "}\n",
       "</style>\n",
       "<table id=\"T_2a99e\">\n",
       "  <thead>\n",
       "    <tr>\n",
       "      <th id=\"T_2a99e_level0_col0\" class=\"col_heading level0 col0\" > </th>\n",
       "      <th id=\"T_2a99e_level0_col1\" class=\"col_heading level0 col1\" colspan=\"4\">Issue Date: 2023-03-15</th>\n",
       "      <th id=\"T_2a99e_level0_col5\" class=\"col_heading level0 col5\" > </th>\n",
       "      <th id=\"T_2a99e_level0_col6\" class=\"col_heading level0 col6\" colspan=\"4\">Previous Issue Date: 2023-03-08</th>\n",
       "    </tr>\n",
       "    <tr>\n",
       "      <th id=\"T_2a99e_level1_col0\" class=\"col_heading level1 col0\" > </th>\n",
       "      <th id=\"T_2a99e_level1_col1\" class=\"col_heading level1 col1\" ></th>\n",
       "      <th id=\"T_2a99e_level1_col2\" class=\"col_heading level1 col2\" colspan=\"3\">% Feature contribution</th>\n",
       "      <th id=\"T_2a99e_level1_col5\" class=\"col_heading level1 col5\" > </th>\n",
       "      <th id=\"T_2a99e_level1_col6\" class=\"col_heading level1 col6\" ></th>\n",
       "      <th id=\"T_2a99e_level1_col7\" class=\"col_heading level1 col7\" colspan=\"3\">% Feature contribution</th>\n",
       "    </tr>\n",
       "    <tr>\n",
       "      <th id=\"T_2a99e_level2_col0\" class=\"col_heading level2 col0\" >Feature</th>\n",
       "      <th id=\"T_2a99e_level2_col1\" class=\"col_heading level2 col1\" >Value</th>\n",
       "      <th id=\"T_2a99e_level2_col2\" class=\"col_heading level2 col2\" >Q0.5</th>\n",
       "      <th id=\"T_2a99e_level2_col3\" class=\"col_heading level2 col3\" >Q0.1</th>\n",
       "      <th id=\"T_2a99e_level2_col4\" class=\"col_heading level2 col4\" >Q0.9</th>\n",
       "      <th id=\"T_2a99e_level2_col5\" class=\"col_heading level2 col5\" >Rel</th>\n",
       "      <th id=\"T_2a99e_level2_col6\" class=\"col_heading level2 col6\" >Value</th>\n",
       "      <th id=\"T_2a99e_level2_col7\" class=\"col_heading level2 col7\" >Q0.5</th>\n",
       "      <th id=\"T_2a99e_level2_col8\" class=\"col_heading level2 col8\" >Q0.1</th>\n",
       "      <th id=\"T_2a99e_level2_col9\" class=\"col_heading level2 col9\" >Q0.9</th>\n",
       "    </tr>\n",
       "  </thead>\n",
       "  <tbody>\n",
       "    <tr>\n",
       "      <td id=\"T_2a99e_row0_col0\" class=\"data row0 col0\" >Base</td>\n",
       "      <td id=\"T_2a99e_row0_col1\" class=\"data row0 col1\" ></td>\n",
       "      <td id=\"T_2a99e_row0_col2\" class=\"data row0 col2\" >38.3%</td>\n",
       "      <td id=\"T_2a99e_row0_col3\" class=\"data row0 col3\" >19.8%</td>\n",
       "      <td id=\"T_2a99e_row0_col4\" class=\"data row0 col4\" >36.9%</td>\n",
       "      <td id=\"T_2a99e_row0_col5\" class=\"data row0 col5\" >1.69</td>\n",
       "      <td id=\"T_2a99e_row0_col6\" class=\"data row0 col6\" ></td>\n",
       "      <td id=\"T_2a99e_row0_col7\" class=\"data row0 col7\" >40.4%</td>\n",
       "      <td id=\"T_2a99e_row0_col8\" class=\"data row0 col8\" >33.0%</td>\n",
       "      <td id=\"T_2a99e_row0_col9\" class=\"data row0 col9\" >36.5%</td>\n",
       "    </tr>\n",
       "    <tr>\n",
       "      <td id=\"T_2a99e_row1_col0\" class=\"data row1 col0\" >Snowpack</td>\n",
       "      <td id=\"T_2a99e_row1_col1\" class=\"data row1 col1\" ></td>\n",
       "      <td id=\"T_2a99e_row1_col2\" class=\"data row1 col2\" >25.8%</td>\n",
       "      <td id=\"T_2a99e_row1_col3\" class=\"data row1 col3\" >33.1%</td>\n",
       "      <td id=\"T_2a99e_row1_col4\" class=\"data row1 col4\" >26.8%</td>\n",
       "      <td id=\"T_2a99e_row1_col5\" class=\"data row1 col5\" >0.51</td>\n",
       "      <td id=\"T_2a99e_row1_col6\" class=\"data row1 col6\" ></td>\n",
       "      <td id=\"T_2a99e_row1_col7\" class=\"data row1 col7\" >20.5%</td>\n",
       "      <td id=\"T_2a99e_row1_col8\" class=\"data row1 col8\" >23.0%</td>\n",
       "      <td id=\"T_2a99e_row1_col9\" class=\"data row1 col9\" >23.3%</td>\n",
       "    </tr>\n",
       "    <tr>\n",
       "      <td id=\"T_2a99e_row2_col0\" class=\"data row2 col0\" >SNOTEL/CDEC</td>\n",
       "      <td id=\"T_2a99e_row2_col1\" class=\"data row2 col1\" >101%</td>\n",
       "      <td id=\"T_2a99e_row2_col2\" class=\"data row2 col2\" >19.3%</td>\n",
       "      <td id=\"T_2a99e_row2_col3\" class=\"data row2 col3\" >25.4%</td>\n",
       "      <td id=\"T_2a99e_row2_col4\" class=\"data row2 col4\" >26.6%</td>\n",
       "      <td id=\"T_2a99e_row2_col5\" class=\"data row2 col5\" >0.86</td>\n",
       "      <td id=\"T_2a99e_row2_col6\" class=\"data row2 col6\" >94%</td>\n",
       "      <td id=\"T_2a99e_row2_col7\" class=\"data row2 col7\" >15.9%</td>\n",
       "      <td id=\"T_2a99e_row2_col8\" class=\"data row2 col8\" >6.4%</td>\n",
       "      <td id=\"T_2a99e_row2_col9\" class=\"data row2 col9\" >23.0%</td>\n",
       "    </tr>\n",
       "    <tr>\n",
       "      <td id=\"T_2a99e_row3_col0\" class=\"data row3 col0\" >UA-SWANN</td>\n",
       "      <td id=\"T_2a99e_row3_col1\" class=\"data row3 col1\" >49%-95%</td>\n",
       "      <td id=\"T_2a99e_row3_col2\" class=\"data row3 col2\" >3.2%</td>\n",
       "      <td id=\"T_2a99e_row3_col3\" class=\"data row3 col3\" ></td>\n",
       "      <td id=\"T_2a99e_row3_col4\" class=\"data row3 col4\" ></td>\n",
       "      <td id=\"T_2a99e_row3_col5\" class=\"data row3 col5\" >0.19</td>\n",
       "      <td id=\"T_2a99e_row3_col6\" class=\"data row3 col6\" >51%-78%</td>\n",
       "      <td id=\"T_2a99e_row3_col7\" class=\"data row3 col7\" >2.2%</td>\n",
       "      <td id=\"T_2a99e_row3_col8\" class=\"data row3 col8\" >5.1%</td>\n",
       "      <td id=\"T_2a99e_row3_col9\" class=\"data row3 col9\" ></td>\n",
       "    </tr>\n",
       "    <tr>\n",
       "      <td id=\"T_2a99e_row4_col0\" class=\"data row4 col0\" >ERA5-Land</td>\n",
       "      <td id=\"T_2a99e_row4_col1\" class=\"data row4 col1\" >87%</td>\n",
       "      <td id=\"T_2a99e_row4_col2\" class=\"data row4 col2\" >3.3%</td>\n",
       "      <td id=\"T_2a99e_row4_col3\" class=\"data row4 col3\" >7.7%</td>\n",
       "      <td id=\"T_2a99e_row4_col4\" class=\"data row4 col4\" >0.2%</td>\n",
       "      <td id=\"T_2a99e_row4_col5\" class=\"data row4 col5\" >0.29</td>\n",
       "      <td id=\"T_2a99e_row4_col6\" class=\"data row4 col6\" >80%</td>\n",
       "      <td id=\"T_2a99e_row4_col7\" class=\"data row4 col7\" >2.5%</td>\n",
       "      <td id=\"T_2a99e_row4_col8\" class=\"data row4 col8\" >11.6%</td>\n",
       "      <td id=\"T_2a99e_row4_col9\" class=\"data row4 col9\" >0.2%</td>\n",
       "    </tr>\n",
       "    <tr>\n",
       "      <td id=\"T_2a99e_row5_col0\" class=\"data row5 col0\" >Precipitation</td>\n",
       "      <td id=\"T_2a99e_row5_col1\" class=\"data row5 col1\" ></td>\n",
       "      <td id=\"T_2a99e_row5_col2\" class=\"data row5 col2\" >15.4%</td>\n",
       "      <td id=\"T_2a99e_row5_col3\" class=\"data row5 col3\" >7.9%</td>\n",
       "      <td id=\"T_2a99e_row5_col4\" class=\"data row5 col4\" >7.0%</td>\n",
       "      <td id=\"T_2a99e_row5_col5\" class=\"data row5 col5\" >2.18</td>\n",
       "      <td id=\"T_2a99e_row5_col6\" class=\"data row5 col6\" ></td>\n",
       "      <td id=\"T_2a99e_row5_col7\" class=\"data row5 col7\" >18.1%</td>\n",
       "      <td id=\"T_2a99e_row5_col8\" class=\"data row5 col8\" >11.3%</td>\n",
       "      <td id=\"T_2a99e_row5_col9\" class=\"data row5 col9\" >9.0%</td>\n",
       "    </tr>\n",
       "    <tr>\n",
       "      <td id=\"T_2a99e_row6_col0\" class=\"data row6 col0\" >SNOTEL/CDEC</td>\n",
       "      <td id=\"T_2a99e_row6_col1\" class=\"data row6 col1\" >100%</td>\n",
       "      <td id=\"T_2a99e_row6_col2\" class=\"data row6 col2\" >3.0%</td>\n",
       "      <td id=\"T_2a99e_row6_col3\" class=\"data row6 col3\" >7.9%</td>\n",
       "      <td id=\"T_2a99e_row6_col4\" class=\"data row6 col4\" >7.0%</td>\n",
       "      <td id=\"T_2a99e_row6_col5\" class=\"data row6 col5\" >1.39</td>\n",
       "      <td id=\"T_2a99e_row6_col6\" class=\"data row6 col6\" >97%</td>\n",
       "      <td id=\"T_2a99e_row6_col7\" class=\"data row6 col7\" >4.9%</td>\n",
       "      <td id=\"T_2a99e_row6_col8\" class=\"data row6 col8\" >3.2%</td>\n",
       "      <td id=\"T_2a99e_row6_col9\" class=\"data row6 col9\" >9.0%</td>\n",
       "    </tr>\n",
       "    <tr>\n",
       "      <td id=\"T_2a99e_row7_col0\" class=\"data row7 col0\" >UA-SWANN</td>\n",
       "      <td id=\"T_2a99e_row7_col1\" class=\"data row7 col1\" >51%-67%</td>\n",
       "      <td id=\"T_2a99e_row7_col2\" class=\"data row7 col2\" >12.4%</td>\n",
       "      <td id=\"T_2a99e_row7_col3\" class=\"data row7 col3\" ></td>\n",
       "      <td id=\"T_2a99e_row7_col4\" class=\"data row7 col4\" ></td>\n",
       "      <td id=\"T_2a99e_row7_col5\" class=\"data row7 col5\" >2.53</td>\n",
       "      <td id=\"T_2a99e_row7_col6\" class=\"data row7 col6\" >54%-69%</td>\n",
       "      <td id=\"T_2a99e_row7_col7\" class=\"data row7 col7\" >13.2%</td>\n",
       "      <td id=\"T_2a99e_row7_col8\" class=\"data row7 col8\" >8.1%</td>\n",
       "      <td id=\"T_2a99e_row7_col9\" class=\"data row7 col9\" ></td>\n",
       "    </tr>\n",
       "    <tr>\n",
       "      <td id=\"T_2a99e_row8_col0\" class=\"data row8 col0\" >Drought</td>\n",
       "      <td id=\"T_2a99e_row8_col1\" class=\"data row8 col1\" ></td>\n",
       "      <td id=\"T_2a99e_row8_col2\" class=\"data row8 col2\" >8.9%</td>\n",
       "      <td id=\"T_2a99e_row8_col3\" class=\"data row8 col3\" >27.5%</td>\n",
       "      <td id=\"T_2a99e_row8_col4\" class=\"data row8 col4\" >10.4%</td>\n",
       "      <td id=\"T_2a99e_row8_col5\" class=\"data row8 col5\" >1.28</td>\n",
       "      <td id=\"T_2a99e_row8_col6\" class=\"data row8 col6\" ></td>\n",
       "      <td id=\"T_2a99e_row8_col7\" class=\"data row8 col7\" >9.3%</td>\n",
       "      <td id=\"T_2a99e_row8_col8\" class=\"data row8 col8\" >22.4%</td>\n",
       "      <td id=\"T_2a99e_row8_col9\" class=\"data row8 col9\" >11.7%</td>\n",
       "    </tr>\n",
       "    <tr>\n",
       "      <td id=\"T_2a99e_row9_col0\" class=\"data row9 col0\" >PDSI</td>\n",
       "      <td id=\"T_2a99e_row9_col1\" class=\"data row9 col1\" >-1.45</td>\n",
       "      <td id=\"T_2a99e_row9_col2\" class=\"data row9 col2\" >7.7%</td>\n",
       "      <td id=\"T_2a99e_row9_col3\" class=\"data row9 col3\" >24.7%</td>\n",
       "      <td id=\"T_2a99e_row9_col4\" class=\"data row9 col4\" >6.1%</td>\n",
       "      <td id=\"T_2a99e_row9_col5\" class=\"data row9 col5\" >1.54</td>\n",
       "      <td id=\"T_2a99e_row9_col6\" class=\"data row9 col6\" >-1.45</td>\n",
       "      <td id=\"T_2a99e_row9_col7\" class=\"data row9 col7\" >7.7%</td>\n",
       "      <td id=\"T_2a99e_row9_col8\" class=\"data row9 col8\" >17.1%</td>\n",
       "      <td id=\"T_2a99e_row9_col9\" class=\"data row9 col9\" >5.7%</td>\n",
       "    </tr>\n",
       "    <tr>\n",
       "      <td id=\"T_2a99e_row10_col0\" class=\"data row10 col0\" >Soil water</td>\n",
       "      <td id=\"T_2a99e_row10_col1\" class=\"data row10 col1\" >89%-102%</td>\n",
       "      <td id=\"T_2a99e_row10_col2\" class=\"data row10 col2\" >1.1%</td>\n",
       "      <td id=\"T_2a99e_row10_col3\" class=\"data row10 col3\" >2.8%</td>\n",
       "      <td id=\"T_2a99e_row10_col4\" class=\"data row10 col4\" >4.2%</td>\n",
       "      <td id=\"T_2a99e_row10_col5\" class=\"data row10 col5\" >0.60</td>\n",
       "      <td id=\"T_2a99e_row10_col6\" class=\"data row10 col6\" >89%-99%</td>\n",
       "      <td id=\"T_2a99e_row10_col7\" class=\"data row10 col7\" >1.6%</td>\n",
       "      <td id=\"T_2a99e_row10_col8\" class=\"data row10 col8\" >5.3%</td>\n",
       "      <td id=\"T_2a99e_row10_col9\" class=\"data row10 col9\" >6.0%</td>\n",
       "    </tr>\n",
       "    <tr>\n",
       "      <td id=\"T_2a99e_row11_col0\" class=\"data row11 col0\" >Others</td>\n",
       "      <td id=\"T_2a99e_row11_col1\" class=\"data row11 col1\" ></td>\n",
       "      <td id=\"T_2a99e_row11_col2\" class=\"data row11 col2\" >2.9%</td>\n",
       "      <td id=\"T_2a99e_row11_col3\" class=\"data row11 col3\" >1.5%</td>\n",
       "      <td id=\"T_2a99e_row11_col4\" class=\"data row11 col4\" >7.3%</td>\n",
       "      <td id=\"T_2a99e_row11_col5\" class=\"data row11 col5\" >0.81</td>\n",
       "      <td id=\"T_2a99e_row11_col6\" class=\"data row11 col6\" ></td>\n",
       "      <td id=\"T_2a99e_row11_col7\" class=\"data row11 col7\" >2.6%</td>\n",
       "      <td id=\"T_2a99e_row11_col8\" class=\"data row11 col8\" >6.9%</td>\n",
       "      <td id=\"T_2a99e_row11_col9\" class=\"data row11 col9\" >7.7%</td>\n",
       "    </tr>\n",
       "    <tr>\n",
       "      <td id=\"T_2a99e_row12_col0\" class=\"data row12 col0\" >Temperature</td>\n",
       "      <td id=\"T_2a99e_row12_col1\" class=\"data row12 col1\" >-1.30</td>\n",
       "      <td id=\"T_2a99e_row12_col2\" class=\"data row12 col2\" >0.4%</td>\n",
       "      <td id=\"T_2a99e_row12_col3\" class=\"data row12 col3\" >0.1%</td>\n",
       "      <td id=\"T_2a99e_row12_col4\" class=\"data row12 col4\" >0.0%</td>\n",
       "      <td id=\"T_2a99e_row12_col5\" class=\"data row12 col5\" >0.87</td>\n",
       "      <td id=\"T_2a99e_row12_col6\" class=\"data row12 col6\" >0.25</td>\n",
       "      <td id=\"T_2a99e_row12_col7\" class=\"data row12 col7\" >0.4%</td>\n",
       "      <td id=\"T_2a99e_row12_col8\" class=\"data row12 col8\" >0.2%</td>\n",
       "      <td id=\"T_2a99e_row12_col9\" class=\"data row12 col9\" >0.1%</td>\n",
       "    </tr>\n",
       "    <tr>\n",
       "      <td id=\"T_2a99e_row13_col0\" class=\"data row13 col0\" >Snow cover</td>\n",
       "      <td id=\"T_2a99e_row13_col1\" class=\"data row13 col1\" >58% (66%)</td>\n",
       "      <td id=\"T_2a99e_row13_col2\" class=\"data row13 col2\" >1.2%</td>\n",
       "      <td id=\"T_2a99e_row13_col3\" class=\"data row13 col3\" >0.7%</td>\n",
       "      <td id=\"T_2a99e_row13_col4\" class=\"data row13 col4\" >6.6%</td>\n",
       "      <td id=\"T_2a99e_row13_col5\" class=\"data row13 col5\" >0.95</td>\n",
       "      <td id=\"T_2a99e_row13_col6\" class=\"data row13 col6\" >63% (71%)</td>\n",
       "      <td id=\"T_2a99e_row13_col7\" class=\"data row13 col7\" >1.0%</td>\n",
       "      <td id=\"T_2a99e_row13_col8\" class=\"data row13 col8\" >4.9%</td>\n",
       "      <td id=\"T_2a99e_row13_col9\" class=\"data row13 col9\" >6.9%</td>\n",
       "    </tr>\n",
       "    <tr>\n",
       "      <td id=\"T_2a99e_row14_col0\" class=\"data row14 col0\" >Snow albedo</td>\n",
       "      <td id=\"T_2a99e_row14_col1\" class=\"data row14 col1\" >99%</td>\n",
       "      <td id=\"T_2a99e_row14_col2\" class=\"data row14 col2\" >0.1%</td>\n",
       "      <td id=\"T_2a99e_row14_col3\" class=\"data row14 col3\" >0.1%</td>\n",
       "      <td id=\"T_2a99e_row14_col4\" class=\"data row14 col4\" >0.2%</td>\n",
       "      <td id=\"T_2a99e_row14_col5\" class=\"data row14 col5\" >0.16</td>\n",
       "      <td id=\"T_2a99e_row14_col6\" class=\"data row14 col6\" >96%</td>\n",
       "      <td id=\"T_2a99e_row14_col7\" class=\"data row14 col7\" >0.1%</td>\n",
       "      <td id=\"T_2a99e_row14_col8\" class=\"data row14 col8\" >0.4%</td>\n",
       "      <td id=\"T_2a99e_row14_col9\" class=\"data row14 col9\" >0.3%</td>\n",
       "    </tr>\n",
       "    <tr>\n",
       "      <td id=\"T_2a99e_row15_col0\" class=\"data row15 col0\" >Leaf area index</td>\n",
       "      <td id=\"T_2a99e_row15_col1\" class=\"data row15 col1\" >1.42-2.86</td>\n",
       "      <td id=\"T_2a99e_row15_col2\" class=\"data row15 col2\" >1.2%</td>\n",
       "      <td id=\"T_2a99e_row15_col3\" class=\"data row15 col3\" >0.6%</td>\n",
       "      <td id=\"T_2a99e_row15_col4\" class=\"data row15 col4\" >0.4%</td>\n",
       "      <td id=\"T_2a99e_row15_col5\" class=\"data row15 col5\" >1.16</td>\n",
       "      <td id=\"T_2a99e_row15_col6\" class=\"data row15 col6\" >1.42-2.85</td>\n",
       "      <td id=\"T_2a99e_row15_col7\" class=\"data row15 col7\" >1.2%</td>\n",
       "      <td id=\"T_2a99e_row15_col8\" class=\"data row15 col8\" >1.4%</td>\n",
       "      <td id=\"T_2a99e_row15_col9\" class=\"data row15 col9\" >0.4%</td>\n",
       "    </tr>\n",
       "    <tr>\n",
       "      <td id=\"T_2a99e_row16_col0\" class=\"data row16 col0\" >SEAS51 Forecast</td>\n",
       "      <td id=\"T_2a99e_row16_col1\" class=\"data row16 col1\" ></td>\n",
       "      <td id=\"T_2a99e_row16_col2\" class=\"data row16 col2\" >8.6%</td>\n",
       "      <td id=\"T_2a99e_row16_col3\" class=\"data row16 col3\" >10.1%</td>\n",
       "      <td id=\"T_2a99e_row16_col4\" class=\"data row16 col4\" >11.7%</td>\n",
       "      <td id=\"T_2a99e_row16_col5\" class=\"data row16 col5\" >0.93</td>\n",
       "      <td id=\"T_2a99e_row16_col6\" class=\"data row16 col6\" ></td>\n",
       "      <td id=\"T_2a99e_row16_col7\" class=\"data row16 col7\" >9.0%</td>\n",
       "      <td id=\"T_2a99e_row16_col8\" class=\"data row16 col8\" >3.3%</td>\n",
       "      <td id=\"T_2a99e_row16_col9\" class=\"data row16 col9\" >11.7%</td>\n",
       "    </tr>\n",
       "    <tr>\n",
       "      <td id=\"T_2a99e_row17_col0\" class=\"data row17 col0\" > Snowpack</td>\n",
       "      <td id=\"T_2a99e_row17_col1\" class=\"data row17 col1\" >161%-166%</td>\n",
       "      <td id=\"T_2a99e_row17_col2\" class=\"data row17 col2\" >4.0%</td>\n",
       "      <td id=\"T_2a99e_row17_col3\" class=\"data row17 col3\" >7.1%</td>\n",
       "      <td id=\"T_2a99e_row17_col4\" class=\"data row17 col4\" >6.0%</td>\n",
       "      <td id=\"T_2a99e_row17_col5\" class=\"data row17 col5\" >0.88</td>\n",
       "      <td id=\"T_2a99e_row17_col6\" class=\"data row17 col6\" >161%-166%</td>\n",
       "      <td id=\"T_2a99e_row17_col7\" class=\"data row17 col7\" >4.0%</td>\n",
       "      <td id=\"T_2a99e_row17_col8\" class=\"data row17 col8\" >2.4%</td>\n",
       "      <td id=\"T_2a99e_row17_col9\" class=\"data row17 col9\" >6.5%</td>\n",
       "    </tr>\n",
       "    <tr>\n",
       "      <td id=\"T_2a99e_row18_col0\" class=\"data row18 col0\" > Precipitation</td>\n",
       "      <td id=\"T_2a99e_row18_col1\" class=\"data row18 col1\" >93%-95%</td>\n",
       "      <td id=\"T_2a99e_row18_col2\" class=\"data row18 col2\" >1.6%</td>\n",
       "      <td id=\"T_2a99e_row18_col3\" class=\"data row18 col3\" >2.2%</td>\n",
       "      <td id=\"T_2a99e_row18_col4\" class=\"data row18 col4\" >1.4%</td>\n",
       "      <td id=\"T_2a99e_row18_col5\" class=\"data row18 col5\" >0.85</td>\n",
       "      <td id=\"T_2a99e_row18_col6\" class=\"data row18 col6\" >93%-95%</td>\n",
       "      <td id=\"T_2a99e_row18_col7\" class=\"data row18 col7\" >1.6%</td>\n",
       "      <td id=\"T_2a99e_row18_col8\" class=\"data row18 col8\" >0.6%</td>\n",
       "      <td id=\"T_2a99e_row18_col9\" class=\"data row18 col9\" >1.4%</td>\n",
       "    </tr>\n",
       "    <tr>\n",
       "      <td id=\"T_2a99e_row19_col0\" class=\"data row19 col0\" >Temperature</td>\n",
       "      <td id=\"T_2a99e_row19_col1\" class=\"data row19 col1\" >-3.20; -1.93</td>\n",
       "      <td id=\"T_2a99e_row19_col2\" class=\"data row19 col2\" >3.0%</td>\n",
       "      <td id=\"T_2a99e_row19_col3\" class=\"data row19 col3\" >0.8%</td>\n",
       "      <td id=\"T_2a99e_row19_col4\" class=\"data row19 col4\" >4.3%</td>\n",
       "      <td id=\"T_2a99e_row19_col5\" class=\"data row19 col5\" >1.08</td>\n",
       "      <td id=\"T_2a99e_row19_col6\" class=\"data row19 col6\" >-3.20; -1.93</td>\n",
       "      <td id=\"T_2a99e_row19_col7\" class=\"data row19 col7\" >3.3%</td>\n",
       "      <td id=\"T_2a99e_row19_col8\" class=\"data row19 col8\" >0.3%</td>\n",
       "      <td id=\"T_2a99e_row19_col9\" class=\"data row19 col9\" >3.8%</td>\n",
       "    </tr>\n",
       "  </tbody>\n",
       "</table>\n"
      ],
      "text/plain": [
       "<pandas.io.formats.style.Styler at 0x2818b092160>"
      ]
     },
     "metadata": {},
     "output_type": "display_data"
    },
    {
     "name": "stdout",
     "output_type": "stream",
     "text": [
      "\n",
      "Aggregated SHAP feature contribution\n"
     ]
    },
    {
     "data": {
      "text/html": [
       "<style type=\"text/css\">\n",
       "#T_e60c3_row0_col0, #T_e60c3_row0_col2, #T_e60c3_row1_col1 {\n",
       "  font-weight: bold;\n",
       "}\n",
       "</style>\n",
       "<table id=\"T_e60c3\">\n",
       "  <thead>\n",
       "    <tr>\n",
       "      <th class=\"blank level0\" >&nbsp;</th>\n",
       "      <th id=\"T_e60c3_level0_col0\" class=\"col_heading level0 col0\" >q50</th>\n",
       "      <th id=\"T_e60c3_level0_col1\" class=\"col_heading level0 col1\" >q10</th>\n",
       "      <th id=\"T_e60c3_level0_col2\" class=\"col_heading level0 col2\" >q90</th>\n",
       "      <th id=\"T_e60c3_level0_col3\" class=\"col_heading level0 col3\" >q50_prev</th>\n",
       "      <th id=\"T_e60c3_level0_col4\" class=\"col_heading level0 col4\" >q10_prev</th>\n",
       "      <th id=\"T_e60c3_level0_col5\" class=\"col_heading level0 col5\" >q90_prev</th>\n",
       "    </tr>\n",
       "    <tr>\n",
       "      <th class=\"index_name level0\" >feature_group</th>\n",
       "      <th class=\"blank col0\" >&nbsp;</th>\n",
       "      <th class=\"blank col1\" >&nbsp;</th>\n",
       "      <th class=\"blank col2\" >&nbsp;</th>\n",
       "      <th class=\"blank col3\" >&nbsp;</th>\n",
       "      <th class=\"blank col4\" >&nbsp;</th>\n",
       "      <th class=\"blank col5\" >&nbsp;</th>\n",
       "    </tr>\n",
       "  </thead>\n",
       "  <tbody>\n",
       "    <tr>\n",
       "      <th id=\"T_e60c3_level0_row0\" class=\"row_heading level0 row0\" >base</th>\n",
       "      <td id=\"T_e60c3_row0_col0\" class=\"data row0 col0\" >38.3%</td>\n",
       "      <td id=\"T_e60c3_row0_col1\" class=\"data row0 col1\" >19.8%</td>\n",
       "      <td id=\"T_e60c3_row0_col2\" class=\"data row0 col2\" >36.9%</td>\n",
       "      <td id=\"T_e60c3_row0_col3\" class=\"data row0 col3\" >40.4%</td>\n",
       "      <td id=\"T_e60c3_row0_col4\" class=\"data row0 col4\" >33.0%</td>\n",
       "      <td id=\"T_e60c3_row0_col5\" class=\"data row0 col5\" >36.5%</td>\n",
       "    </tr>\n",
       "    <tr>\n",
       "      <th id=\"T_e60c3_level0_row1\" class=\"row_heading level0 row1\" >swe</th>\n",
       "      <td id=\"T_e60c3_row1_col0\" class=\"data row1 col0\" >25.8%</td>\n",
       "      <td id=\"T_e60c3_row1_col1\" class=\"data row1 col1\" >33.1%</td>\n",
       "      <td id=\"T_e60c3_row1_col2\" class=\"data row1 col2\" >26.8%</td>\n",
       "      <td id=\"T_e60c3_row1_col3\" class=\"data row1 col3\" >20.5%</td>\n",
       "      <td id=\"T_e60c3_row1_col4\" class=\"data row1 col4\" >23.0%</td>\n",
       "      <td id=\"T_e60c3_row1_col5\" class=\"data row1 col5\" >23.3%</td>\n",
       "    </tr>\n",
       "    <tr>\n",
       "      <th id=\"T_e60c3_level0_row2\" class=\"row_heading level0 row2\" >prec_cml</th>\n",
       "      <td id=\"T_e60c3_row2_col0\" class=\"data row2 col0\" >15.4%</td>\n",
       "      <td id=\"T_e60c3_row2_col1\" class=\"data row2 col1\" >7.9%</td>\n",
       "      <td id=\"T_e60c3_row2_col2\" class=\"data row2 col2\" >7.0%</td>\n",
       "      <td id=\"T_e60c3_row2_col3\" class=\"data row2 col3\" >18.1%</td>\n",
       "      <td id=\"T_e60c3_row2_col4\" class=\"data row2 col4\" >11.3%</td>\n",
       "      <td id=\"T_e60c3_row2_col5\" class=\"data row2 col5\" >9.0%</td>\n",
       "    </tr>\n",
       "    <tr>\n",
       "      <th id=\"T_e60c3_level0_row3\" class=\"row_heading level0 row3\" >drought</th>\n",
       "      <td id=\"T_e60c3_row3_col0\" class=\"data row3 col0\" >8.9%</td>\n",
       "      <td id=\"T_e60c3_row3_col1\" class=\"data row3 col1\" >27.5%</td>\n",
       "      <td id=\"T_e60c3_row3_col2\" class=\"data row3 col2\" >10.4%</td>\n",
       "      <td id=\"T_e60c3_row3_col3\" class=\"data row3 col3\" >9.3%</td>\n",
       "      <td id=\"T_e60c3_row3_col4\" class=\"data row3 col4\" >22.4%</td>\n",
       "      <td id=\"T_e60c3_row3_col5\" class=\"data row3 col5\" >11.7%</td>\n",
       "    </tr>\n",
       "    <tr>\n",
       "      <th id=\"T_e60c3_level0_row4\" class=\"row_heading level0 row4\" >others</th>\n",
       "      <td id=\"T_e60c3_row4_col0\" class=\"data row4 col0\" >2.9%</td>\n",
       "      <td id=\"T_e60c3_row4_col1\" class=\"data row4 col1\" >1.5%</td>\n",
       "      <td id=\"T_e60c3_row4_col2\" class=\"data row4 col2\" >7.3%</td>\n",
       "      <td id=\"T_e60c3_row4_col3\" class=\"data row4 col3\" >2.6%</td>\n",
       "      <td id=\"T_e60c3_row4_col4\" class=\"data row4 col4\" >6.9%</td>\n",
       "      <td id=\"T_e60c3_row4_col5\" class=\"data row4 col5\" >7.7%</td>\n",
       "    </tr>\n",
       "    <tr>\n",
       "      <th id=\"T_e60c3_level0_row5\" class=\"row_heading level0 row5\" >fcst</th>\n",
       "      <td id=\"T_e60c3_row5_col0\" class=\"data row5 col0\" >8.6%</td>\n",
       "      <td id=\"T_e60c3_row5_col1\" class=\"data row5 col1\" >10.1%</td>\n",
       "      <td id=\"T_e60c3_row5_col2\" class=\"data row5 col2\" >11.7%</td>\n",
       "      <td id=\"T_e60c3_row5_col3\" class=\"data row5 col3\" >9.0%</td>\n",
       "      <td id=\"T_e60c3_row5_col4\" class=\"data row5 col4\" >3.3%</td>\n",
       "      <td id=\"T_e60c3_row5_col5\" class=\"data row5 col5\" >11.7%</td>\n",
       "    </tr>\n",
       "  </tbody>\n",
       "</table>\n"
      ],
      "text/plain": [
       "<pandas.io.formats.style.Styler at 0x281898d70d0>"
      ]
     },
     "metadata": {},
     "output_type": "display_data"
    },
    {
     "data": {
      "application/vnd.plotly.v1+json": {
       "config": {
        "plotlyServerURL": "https://plot.ly"
       },
       "data": [
        {
         "hovertemplate": "%{y:.2f}",
         "line": {
          "color": "rgba(0,0,0,0.25)",
          "dash": "dash"
         },
         "mode": "lines",
         "name": "Volume (median)",
         "type": "scatter",
         "x": [
          "2023-01-01T00:00:00",
          "2023-01-08T00:00:00",
          "2023-01-15T00:00:00",
          "2023-01-22T00:00:00",
          "2023-02-01T00:00:00",
          "2023-02-08T00:00:00",
          "2023-02-15T00:00:00",
          "2023-02-22T00:00:00",
          "2023-03-01T00:00:00",
          "2023-03-08T00:00:00",
          "2023-03-15T00:00:00",
          "2023-03-22T00:00:00",
          "2023-04-01T00:00:00",
          "2023-04-08T00:00:00",
          "2023-04-15T00:00:00",
          "2023-04-22T00:00:00",
          "2023-05-01T00:00:00",
          "2023-05-08T00:00:00",
          "2023-05-15T00:00:00",
          "2023-05-22T00:00:00",
          "2023-06-01T00:00:00",
          "2023-06-08T00:00:00",
          "2023-06-15T00:00:00",
          "2023-06-22T00:00:00",
          "2023-07-01T00:00:00",
          "2023-07-08T00:00:00",
          "2023-07-15T00:00:00",
          "2023-07-22T00:00:00"
         ],
         "y": [
          326.9715,
          326.9715,
          326.9715,
          326.9715,
          326.9715,
          326.9715,
          326.9715,
          326.9715,
          326.9715,
          326.9715,
          326.9715,
          326.9715,
          326.9715,
          326.9715,
          326.9715,
          326.9715,
          326.9715,
          326.9715,
          326.9715,
          326.9715,
          326.9715,
          326.9715,
          326.9715,
          326.9715,
          326.9715,
          326.9715,
          326.9715,
          326.9715
         ]
        },
        {
         "hovertemplate": "%{y:.2f}",
         "line": {
          "color": "rgba(0,0,0,0.25)",
          "dash": "dot"
         },
         "mode": "lines",
         "name": "Volume (mean)",
         "type": "scatter",
         "x": [
          "2023-01-01T00:00:00",
          "2023-01-08T00:00:00",
          "2023-01-15T00:00:00",
          "2023-01-22T00:00:00",
          "2023-02-01T00:00:00",
          "2023-02-08T00:00:00",
          "2023-02-15T00:00:00",
          "2023-02-22T00:00:00",
          "2023-03-01T00:00:00",
          "2023-03-08T00:00:00",
          "2023-03-15T00:00:00",
          "2023-03-22T00:00:00",
          "2023-04-01T00:00:00",
          "2023-04-08T00:00:00",
          "2023-04-15T00:00:00",
          "2023-04-22T00:00:00",
          "2023-05-01T00:00:00",
          "2023-05-08T00:00:00",
          "2023-05-15T00:00:00",
          "2023-05-22T00:00:00",
          "2023-06-01T00:00:00",
          "2023-06-08T00:00:00",
          "2023-06-15T00:00:00",
          "2023-06-22T00:00:00",
          "2023-07-01T00:00:00",
          "2023-07-08T00:00:00",
          "2023-07-15T00:00:00",
          "2023-07-22T00:00:00"
         ],
         "y": [
          342.99553333333336,
          342.99553333333336,
          342.99553333333336,
          342.99553333333336,
          342.99553333333336,
          342.99553333333336,
          342.99553333333336,
          342.99553333333336,
          342.99553333333336,
          342.99553333333336,
          342.99553333333336,
          342.99553333333336,
          342.99553333333336,
          342.99553333333336,
          342.99553333333336,
          342.99553333333336,
          342.99553333333336,
          342.99553333333336,
          342.99553333333336,
          342.99553333333336,
          342.99553333333336,
          342.99553333333336,
          342.99553333333336,
          342.99553333333336,
          342.99553333333336,
          342.99553333333336,
          342.99553333333336,
          342.99553333333336
         ]
        },
        {
         "hovertemplate": "%{y:.2f}",
         "line": {
          "color": "rgba(226,167,111,0.8)"
         },
         "mode": "lines",
         "name": "Volume (min, 2002)",
         "type": "scatter",
         "x": [
          "2023-01-01T00:00:00",
          "2023-01-08T00:00:00",
          "2023-01-15T00:00:00",
          "2023-01-22T00:00:00",
          "2023-02-01T00:00:00",
          "2023-02-08T00:00:00",
          "2023-02-15T00:00:00",
          "2023-02-22T00:00:00",
          "2023-03-01T00:00:00",
          "2023-03-08T00:00:00",
          "2023-03-15T00:00:00",
          "2023-03-22T00:00:00",
          "2023-04-01T00:00:00",
          "2023-04-08T00:00:00",
          "2023-04-15T00:00:00",
          "2023-04-22T00:00:00",
          "2023-05-01T00:00:00",
          "2023-05-08T00:00:00",
          "2023-05-15T00:00:00",
          "2023-05-22T00:00:00",
          "2023-06-01T00:00:00",
          "2023-06-08T00:00:00",
          "2023-06-15T00:00:00",
          "2023-06-22T00:00:00",
          "2023-07-01T00:00:00",
          "2023-07-08T00:00:00",
          "2023-07-15T00:00:00",
          "2023-07-22T00:00:00"
         ],
         "y": [
          91.587,
          91.587,
          91.587,
          91.587,
          91.587,
          91.587,
          91.587,
          91.587,
          91.587,
          91.587,
          91.587,
          91.587,
          91.587,
          91.587,
          91.587,
          91.587,
          91.587,
          91.587,
          91.587,
          91.587,
          91.587,
          91.587,
          91.587,
          91.587,
          91.587,
          91.587,
          91.587,
          91.587
         ]
        },
        {
         "hovertemplate": "%{y:.2f}",
         "line": {
          "color": "rgba(150,0,0,0.7)"
         },
         "mode": "lines",
         "name": "Volume (max, 1995)",
         "type": "scatter",
         "x": [
          "2023-01-01T00:00:00",
          "2023-01-08T00:00:00",
          "2023-01-15T00:00:00",
          "2023-01-22T00:00:00",
          "2023-02-01T00:00:00",
          "2023-02-08T00:00:00",
          "2023-02-15T00:00:00",
          "2023-02-22T00:00:00",
          "2023-03-01T00:00:00",
          "2023-03-08T00:00:00",
          "2023-03-15T00:00:00",
          "2023-03-22T00:00:00",
          "2023-04-01T00:00:00",
          "2023-04-08T00:00:00",
          "2023-04-15T00:00:00",
          "2023-04-22T00:00:00",
          "2023-05-01T00:00:00",
          "2023-05-08T00:00:00",
          "2023-05-15T00:00:00",
          "2023-05-22T00:00:00",
          "2023-06-01T00:00:00",
          "2023-06-08T00:00:00",
          "2023-06-15T00:00:00",
          "2023-06-22T00:00:00",
          "2023-07-01T00:00:00",
          "2023-07-08T00:00:00",
          "2023-07-15T00:00:00",
          "2023-07-22T00:00:00"
         ],
         "y": [
          759.522,
          759.522,
          759.522,
          759.522,
          759.522,
          759.522,
          759.522,
          759.522,
          759.522,
          759.522,
          759.522,
          759.522,
          759.522,
          759.522,
          759.522,
          759.522,
          759.522,
          759.522,
          759.522,
          759.522,
          759.522,
          759.522,
          759.522,
          759.522,
          759.522,
          759.522,
          759.522,
          759.522
         ]
        },
        {
         "hovertemplate": "%{y:.2f}",
         "line": {
          "color": "rgb(34,139,34)",
          "dash": "dot"
         },
         "mode": "lines",
         "name": "Latest known volume",
         "type": "scatter",
         "x": [
          "2023-01-01T00:00:00",
          "2023-01-08T00:00:00",
          "2023-01-15T00:00:00",
          "2023-01-22T00:00:00",
          "2023-02-01T00:00:00",
          "2023-02-08T00:00:00",
          "2023-02-15T00:00:00",
          "2023-02-22T00:00:00",
          "2023-03-01T00:00:00",
          "2023-03-08T00:00:00",
          "2023-03-15T00:00:00",
          "2023-03-22T00:00:00",
          "2023-04-01T00:00:00",
          "2023-04-08T00:00:00",
          "2023-04-15T00:00:00",
          "2023-04-22T00:00:00",
          "2023-05-01T00:00:00",
          "2023-05-08T00:00:00",
          "2023-05-15T00:00:00",
          "2023-05-22T00:00:00",
          "2023-06-01T00:00:00",
          "2023-06-08T00:00:00",
          "2023-06-15T00:00:00",
          "2023-06-22T00:00:00",
          "2023-07-01T00:00:00",
          "2023-07-08T00:00:00",
          "2023-07-15T00:00:00",
          "2023-07-22T00:00:00"
         ],
         "y": [
          null,
          null,
          null,
          null,
          null,
          null,
          null,
          null,
          null,
          null,
          null,
          null,
          null,
          null,
          null,
          null,
          null,
          null,
          null,
          null,
          null,
          null,
          null,
          null,
          null,
          null,
          null,
          null
         ]
        },
        {
         "hovertemplate": "%{y:.2f}",
         "line": {
          "width": 0
         },
         "marker": {
          "color": "#444"
         },
         "mode": "lines",
         "name": "Quantile 0.1 forecast",
         "showlegend": false,
         "type": "scatter",
         "x": [
          "2023-01-01T00:00:00",
          "2023-01-08T00:00:00",
          "2023-01-15T00:00:00",
          "2023-01-22T00:00:00",
          "2023-02-01T00:00:00",
          "2023-02-08T00:00:00",
          "2023-02-15T00:00:00",
          "2023-02-22T00:00:00",
          "2023-03-01T00:00:00",
          "2023-03-08T00:00:00",
          "2023-03-15T00:00:00",
          "2023-03-22T00:00:00",
          "2023-04-01T00:00:00",
          "2023-04-08T00:00:00",
          "2023-04-15T00:00:00",
          "2023-04-22T00:00:00",
          "2023-05-01T00:00:00",
          "2023-05-08T00:00:00",
          "2023-05-15T00:00:00",
          "2023-05-22T00:00:00",
          "2023-06-01T00:00:00",
          "2023-06-08T00:00:00",
          "2023-06-15T00:00:00",
          "2023-06-22T00:00:00",
          "2023-07-01T00:00:00",
          "2023-07-08T00:00:00",
          "2023-07-15T00:00:00",
          "2023-07-22T00:00:00"
         ],
         "y": [
          115.77889451448462,
          176.27872928482952,
          172.47955446728832,
          192.69951594604288,
          198.5667331853286,
          187.72727127501463,
          188.6876631278828,
          195.81038652473848,
          192.99621166840245,
          192.0453185255306,
          200.51555512638117,
          null,
          null,
          null,
          null,
          null,
          null,
          null,
          null,
          null,
          null,
          null,
          null,
          null,
          null,
          null,
          null,
          null
         ]
        },
        {
         "fill": "tonexty",
         "fillcolor": "rgba(148, 187, 207, 0.4)",
         "hoverinfo": "skip",
         "line": {
          "width": 0
         },
         "marker": {
          "color": "#444"
         },
         "mode": "lines",
         "name": "80% prediction interval",
         "type": "scatter",
         "x": [
          "2023-01-01T00:00:00",
          "2023-01-08T00:00:00",
          "2023-01-15T00:00:00",
          "2023-01-22T00:00:00",
          "2023-02-01T00:00:00",
          "2023-02-08T00:00:00",
          "2023-02-15T00:00:00",
          "2023-02-22T00:00:00",
          "2023-03-01T00:00:00",
          "2023-03-08T00:00:00",
          "2023-03-15T00:00:00",
          "2023-03-22T00:00:00",
          "2023-04-01T00:00:00",
          "2023-04-08T00:00:00",
          "2023-04-15T00:00:00",
          "2023-04-22T00:00:00",
          "2023-05-01T00:00:00",
          "2023-05-08T00:00:00",
          "2023-05-15T00:00:00",
          "2023-05-22T00:00:00",
          "2023-06-01T00:00:00",
          "2023-06-08T00:00:00",
          "2023-06-15T00:00:00",
          "2023-06-22T00:00:00",
          "2023-07-01T00:00:00",
          "2023-07-08T00:00:00",
          "2023-07-15T00:00:00",
          "2023-07-22T00:00:00"
         ],
         "y": [
          407.03104849761183,
          460.81780656054156,
          448.61920578307,
          457.6634777262987,
          454.343367991891,
          443.6406242872011,
          436.7534411386116,
          451.3007593328791,
          456.6090196193909,
          399.6129762655448,
          420.64370892610685,
          null,
          null,
          null,
          null,
          null,
          null,
          null,
          null,
          null,
          null,
          null,
          null,
          null,
          null,
          null,
          null,
          null
         ]
        },
        {
         "hovertemplate": "%{y:.2f}",
         "line": {
          "width": 0
         },
         "marker": {
          "color": "#444"
         },
         "mode": "lines",
         "name": "Quantile 0.9 forecast",
         "showlegend": false,
         "type": "scatter",
         "x": [
          "2023-01-01T00:00:00",
          "2023-01-08T00:00:00",
          "2023-01-15T00:00:00",
          "2023-01-22T00:00:00",
          "2023-02-01T00:00:00",
          "2023-02-08T00:00:00",
          "2023-02-15T00:00:00",
          "2023-02-22T00:00:00",
          "2023-03-01T00:00:00",
          "2023-03-08T00:00:00",
          "2023-03-15T00:00:00",
          "2023-03-22T00:00:00",
          "2023-04-01T00:00:00",
          "2023-04-08T00:00:00",
          "2023-04-15T00:00:00",
          "2023-04-22T00:00:00",
          "2023-05-01T00:00:00",
          "2023-05-08T00:00:00",
          "2023-05-15T00:00:00",
          "2023-05-22T00:00:00",
          "2023-06-01T00:00:00",
          "2023-06-08T00:00:00",
          "2023-06-15T00:00:00",
          "2023-06-22T00:00:00",
          "2023-07-01T00:00:00",
          "2023-07-08T00:00:00",
          "2023-07-15T00:00:00",
          "2023-07-22T00:00:00"
         ],
         "y": [
          407.03104849761183,
          460.81780656054156,
          448.61920578307,
          457.6634777262987,
          454.343367991891,
          443.6406242872011,
          436.7534411386116,
          451.3007593328791,
          456.6090196193909,
          399.6129762655448,
          420.64370892610685,
          null,
          null,
          null,
          null,
          null,
          null,
          null,
          null,
          null,
          null,
          null,
          null,
          null,
          null,
          null,
          null,
          null
         ]
        },
        {
         "hovertemplate": "%{y:.2f}",
         "line": {
          "color": "#384D7E"
         },
         "mode": "lines",
         "name": "Point forecast",
         "type": "scatter",
         "x": [
          "2023-01-01T00:00:00",
          "2023-01-08T00:00:00",
          "2023-01-15T00:00:00",
          "2023-01-22T00:00:00",
          "2023-02-01T00:00:00",
          "2023-02-08T00:00:00",
          "2023-02-15T00:00:00",
          "2023-02-22T00:00:00",
          "2023-03-01T00:00:00",
          "2023-03-08T00:00:00",
          "2023-03-15T00:00:00",
          "2023-03-22T00:00:00",
          "2023-04-01T00:00:00",
          "2023-04-08T00:00:00",
          "2023-04-15T00:00:00",
          "2023-04-22T00:00:00",
          "2023-05-01T00:00:00",
          "2023-05-08T00:00:00",
          "2023-05-15T00:00:00",
          "2023-05-22T00:00:00",
          "2023-06-01T00:00:00",
          "2023-06-08T00:00:00",
          "2023-06-15T00:00:00",
          "2023-06-22T00:00:00",
          "2023-07-01T00:00:00",
          "2023-07-08T00:00:00",
          "2023-07-15T00:00:00",
          "2023-07-22T00:00:00"
         ],
         "y": [
          255.574374681031,
          291.1512877276569,
          282.86316425270195,
          286.0847066183672,
          285.77096757088447,
          275.38147618926064,
          275.1195152782585,
          280.63332521300305,
          283.5124829396616,
          264.6679917986229,
          278.39957872387174,
          null,
          null,
          null,
          null,
          null,
          null,
          null,
          null,
          null,
          null,
          null,
          null,
          null,
          null,
          null,
          null,
          null
         ]
        }
       ],
       "layout": {
        "height": 500,
        "hovermode": "x",
        "template": {
         "data": {
          "bar": [
           {
            "error_x": {
             "color": "#2a3f5f"
            },
            "error_y": {
             "color": "#2a3f5f"
            },
            "marker": {
             "line": {
              "color": "white",
              "width": 0.5
             },
             "pattern": {
              "fillmode": "overlay",
              "size": 10,
              "solidity": 0.2
             }
            },
            "type": "bar"
           }
          ],
          "barpolar": [
           {
            "marker": {
             "line": {
              "color": "white",
              "width": 0.5
             },
             "pattern": {
              "fillmode": "overlay",
              "size": 10,
              "solidity": 0.2
             }
            },
            "type": "barpolar"
           }
          ],
          "carpet": [
           {
            "aaxis": {
             "endlinecolor": "#2a3f5f",
             "gridcolor": "#C8D4E3",
             "linecolor": "#C8D4E3",
             "minorgridcolor": "#C8D4E3",
             "startlinecolor": "#2a3f5f"
            },
            "baxis": {
             "endlinecolor": "#2a3f5f",
             "gridcolor": "#C8D4E3",
             "linecolor": "#C8D4E3",
             "minorgridcolor": "#C8D4E3",
             "startlinecolor": "#2a3f5f"
            },
            "type": "carpet"
           }
          ],
          "choropleth": [
           {
            "colorbar": {
             "outlinewidth": 0,
             "ticks": ""
            },
            "type": "choropleth"
           }
          ],
          "contour": [
           {
            "colorbar": {
             "outlinewidth": 0,
             "ticks": ""
            },
            "colorscale": [
             [
              0,
              "#0d0887"
             ],
             [
              0.1111111111111111,
              "#46039f"
             ],
             [
              0.2222222222222222,
              "#7201a8"
             ],
             [
              0.3333333333333333,
              "#9c179e"
             ],
             [
              0.4444444444444444,
              "#bd3786"
             ],
             [
              0.5555555555555556,
              "#d8576b"
             ],
             [
              0.6666666666666666,
              "#ed7953"
             ],
             [
              0.7777777777777778,
              "#fb9f3a"
             ],
             [
              0.8888888888888888,
              "#fdca26"
             ],
             [
              1,
              "#f0f921"
             ]
            ],
            "type": "contour"
           }
          ],
          "contourcarpet": [
           {
            "colorbar": {
             "outlinewidth": 0,
             "ticks": ""
            },
            "type": "contourcarpet"
           }
          ],
          "heatmap": [
           {
            "colorbar": {
             "outlinewidth": 0,
             "ticks": ""
            },
            "colorscale": [
             [
              0,
              "#0d0887"
             ],
             [
              0.1111111111111111,
              "#46039f"
             ],
             [
              0.2222222222222222,
              "#7201a8"
             ],
             [
              0.3333333333333333,
              "#9c179e"
             ],
             [
              0.4444444444444444,
              "#bd3786"
             ],
             [
              0.5555555555555556,
              "#d8576b"
             ],
             [
              0.6666666666666666,
              "#ed7953"
             ],
             [
              0.7777777777777778,
              "#fb9f3a"
             ],
             [
              0.8888888888888888,
              "#fdca26"
             ],
             [
              1,
              "#f0f921"
             ]
            ],
            "type": "heatmap"
           }
          ],
          "heatmapgl": [
           {
            "colorbar": {
             "outlinewidth": 0,
             "ticks": ""
            },
            "colorscale": [
             [
              0,
              "#0d0887"
             ],
             [
              0.1111111111111111,
              "#46039f"
             ],
             [
              0.2222222222222222,
              "#7201a8"
             ],
             [
              0.3333333333333333,
              "#9c179e"
             ],
             [
              0.4444444444444444,
              "#bd3786"
             ],
             [
              0.5555555555555556,
              "#d8576b"
             ],
             [
              0.6666666666666666,
              "#ed7953"
             ],
             [
              0.7777777777777778,
              "#fb9f3a"
             ],
             [
              0.8888888888888888,
              "#fdca26"
             ],
             [
              1,
              "#f0f921"
             ]
            ],
            "type": "heatmapgl"
           }
          ],
          "histogram": [
           {
            "marker": {
             "pattern": {
              "fillmode": "overlay",
              "size": 10,
              "solidity": 0.2
             }
            },
            "type": "histogram"
           }
          ],
          "histogram2d": [
           {
            "colorbar": {
             "outlinewidth": 0,
             "ticks": ""
            },
            "colorscale": [
             [
              0,
              "#0d0887"
             ],
             [
              0.1111111111111111,
              "#46039f"
             ],
             [
              0.2222222222222222,
              "#7201a8"
             ],
             [
              0.3333333333333333,
              "#9c179e"
             ],
             [
              0.4444444444444444,
              "#bd3786"
             ],
             [
              0.5555555555555556,
              "#d8576b"
             ],
             [
              0.6666666666666666,
              "#ed7953"
             ],
             [
              0.7777777777777778,
              "#fb9f3a"
             ],
             [
              0.8888888888888888,
              "#fdca26"
             ],
             [
              1,
              "#f0f921"
             ]
            ],
            "type": "histogram2d"
           }
          ],
          "histogram2dcontour": [
           {
            "colorbar": {
             "outlinewidth": 0,
             "ticks": ""
            },
            "colorscale": [
             [
              0,
              "#0d0887"
             ],
             [
              0.1111111111111111,
              "#46039f"
             ],
             [
              0.2222222222222222,
              "#7201a8"
             ],
             [
              0.3333333333333333,
              "#9c179e"
             ],
             [
              0.4444444444444444,
              "#bd3786"
             ],
             [
              0.5555555555555556,
              "#d8576b"
             ],
             [
              0.6666666666666666,
              "#ed7953"
             ],
             [
              0.7777777777777778,
              "#fb9f3a"
             ],
             [
              0.8888888888888888,
              "#fdca26"
             ],
             [
              1,
              "#f0f921"
             ]
            ],
            "type": "histogram2dcontour"
           }
          ],
          "mesh3d": [
           {
            "colorbar": {
             "outlinewidth": 0,
             "ticks": ""
            },
            "type": "mesh3d"
           }
          ],
          "parcoords": [
           {
            "line": {
             "colorbar": {
              "outlinewidth": 0,
              "ticks": ""
             }
            },
            "type": "parcoords"
           }
          ],
          "pie": [
           {
            "automargin": true,
            "type": "pie"
           }
          ],
          "scatter": [
           {
            "fillpattern": {
             "fillmode": "overlay",
             "size": 10,
             "solidity": 0.2
            },
            "type": "scatter"
           }
          ],
          "scatter3d": [
           {
            "line": {
             "colorbar": {
              "outlinewidth": 0,
              "ticks": ""
             }
            },
            "marker": {
             "colorbar": {
              "outlinewidth": 0,
              "ticks": ""
             }
            },
            "type": "scatter3d"
           }
          ],
          "scattercarpet": [
           {
            "marker": {
             "colorbar": {
              "outlinewidth": 0,
              "ticks": ""
             }
            },
            "type": "scattercarpet"
           }
          ],
          "scattergeo": [
           {
            "marker": {
             "colorbar": {
              "outlinewidth": 0,
              "ticks": ""
             }
            },
            "type": "scattergeo"
           }
          ],
          "scattergl": [
           {
            "marker": {
             "colorbar": {
              "outlinewidth": 0,
              "ticks": ""
             }
            },
            "type": "scattergl"
           }
          ],
          "scattermapbox": [
           {
            "marker": {
             "colorbar": {
              "outlinewidth": 0,
              "ticks": ""
             }
            },
            "type": "scattermapbox"
           }
          ],
          "scatterpolar": [
           {
            "marker": {
             "colorbar": {
              "outlinewidth": 0,
              "ticks": ""
             }
            },
            "type": "scatterpolar"
           }
          ],
          "scatterpolargl": [
           {
            "marker": {
             "colorbar": {
              "outlinewidth": 0,
              "ticks": ""
             }
            },
            "type": "scatterpolargl"
           }
          ],
          "scatterternary": [
           {
            "marker": {
             "colorbar": {
              "outlinewidth": 0,
              "ticks": ""
             }
            },
            "type": "scatterternary"
           }
          ],
          "surface": [
           {
            "colorbar": {
             "outlinewidth": 0,
             "ticks": ""
            },
            "colorscale": [
             [
              0,
              "#0d0887"
             ],
             [
              0.1111111111111111,
              "#46039f"
             ],
             [
              0.2222222222222222,
              "#7201a8"
             ],
             [
              0.3333333333333333,
              "#9c179e"
             ],
             [
              0.4444444444444444,
              "#bd3786"
             ],
             [
              0.5555555555555556,
              "#d8576b"
             ],
             [
              0.6666666666666666,
              "#ed7953"
             ],
             [
              0.7777777777777778,
              "#fb9f3a"
             ],
             [
              0.8888888888888888,
              "#fdca26"
             ],
             [
              1,
              "#f0f921"
             ]
            ],
            "type": "surface"
           }
          ],
          "table": [
           {
            "cells": {
             "fill": {
              "color": "#EBF0F8"
             },
             "line": {
              "color": "white"
             }
            },
            "header": {
             "fill": {
              "color": "#C8D4E3"
             },
             "line": {
              "color": "white"
             }
            },
            "type": "table"
           }
          ]
         },
         "layout": {
          "annotationdefaults": {
           "arrowcolor": "#2a3f5f",
           "arrowhead": 0,
           "arrowwidth": 1
          },
          "autotypenumbers": "strict",
          "coloraxis": {
           "colorbar": {
            "outlinewidth": 0,
            "ticks": ""
           }
          },
          "colorscale": {
           "diverging": [
            [
             0,
             "#8e0152"
            ],
            [
             0.1,
             "#c51b7d"
            ],
            [
             0.2,
             "#de77ae"
            ],
            [
             0.3,
             "#f1b6da"
            ],
            [
             0.4,
             "#fde0ef"
            ],
            [
             0.5,
             "#f7f7f7"
            ],
            [
             0.6,
             "#e6f5d0"
            ],
            [
             0.7,
             "#b8e186"
            ],
            [
             0.8,
             "#7fbc41"
            ],
            [
             0.9,
             "#4d9221"
            ],
            [
             1,
             "#276419"
            ]
           ],
           "sequential": [
            [
             0,
             "#0d0887"
            ],
            [
             0.1111111111111111,
             "#46039f"
            ],
            [
             0.2222222222222222,
             "#7201a8"
            ],
            [
             0.3333333333333333,
             "#9c179e"
            ],
            [
             0.4444444444444444,
             "#bd3786"
            ],
            [
             0.5555555555555556,
             "#d8576b"
            ],
            [
             0.6666666666666666,
             "#ed7953"
            ],
            [
             0.7777777777777778,
             "#fb9f3a"
            ],
            [
             0.8888888888888888,
             "#fdca26"
            ],
            [
             1,
             "#f0f921"
            ]
           ],
           "sequentialminus": [
            [
             0,
             "#0d0887"
            ],
            [
             0.1111111111111111,
             "#46039f"
            ],
            [
             0.2222222222222222,
             "#7201a8"
            ],
            [
             0.3333333333333333,
             "#9c179e"
            ],
            [
             0.4444444444444444,
             "#bd3786"
            ],
            [
             0.5555555555555556,
             "#d8576b"
            ],
            [
             0.6666666666666666,
             "#ed7953"
            ],
            [
             0.7777777777777778,
             "#fb9f3a"
            ],
            [
             0.8888888888888888,
             "#fdca26"
            ],
            [
             1,
             "#f0f921"
            ]
           ]
          },
          "colorway": [
           "#636efa",
           "#EF553B",
           "#00cc96",
           "#ab63fa",
           "#FFA15A",
           "#19d3f3",
           "#FF6692",
           "#B6E880",
           "#FF97FF",
           "#FECB52"
          ],
          "font": {
           "color": "#2a3f5f"
          },
          "geo": {
           "bgcolor": "white",
           "lakecolor": "white",
           "landcolor": "white",
           "showlakes": true,
           "showland": true,
           "subunitcolor": "#C8D4E3"
          },
          "hoverlabel": {
           "align": "left"
          },
          "hovermode": "closest",
          "mapbox": {
           "style": "light"
          },
          "paper_bgcolor": "white",
          "plot_bgcolor": "white",
          "polar": {
           "angularaxis": {
            "gridcolor": "#EBF0F8",
            "linecolor": "#EBF0F8",
            "ticks": ""
           },
           "bgcolor": "white",
           "radialaxis": {
            "gridcolor": "#EBF0F8",
            "linecolor": "#EBF0F8",
            "ticks": ""
           }
          },
          "scene": {
           "xaxis": {
            "backgroundcolor": "white",
            "gridcolor": "#DFE8F3",
            "gridwidth": 2,
            "linecolor": "#EBF0F8",
            "showbackground": true,
            "ticks": "",
            "zerolinecolor": "#EBF0F8"
           },
           "yaxis": {
            "backgroundcolor": "white",
            "gridcolor": "#DFE8F3",
            "gridwidth": 2,
            "linecolor": "#EBF0F8",
            "showbackground": true,
            "ticks": "",
            "zerolinecolor": "#EBF0F8"
           },
           "zaxis": {
            "backgroundcolor": "white",
            "gridcolor": "#DFE8F3",
            "gridwidth": 2,
            "linecolor": "#EBF0F8",
            "showbackground": true,
            "ticks": "",
            "zerolinecolor": "#EBF0F8"
           }
          },
          "shapedefaults": {
           "line": {
            "color": "#2a3f5f"
           }
          },
          "ternary": {
           "aaxis": {
            "gridcolor": "#DFE8F3",
            "linecolor": "#A2B1C6",
            "ticks": ""
           },
           "baxis": {
            "gridcolor": "#DFE8F3",
            "linecolor": "#A2B1C6",
            "ticks": ""
           },
           "bgcolor": "white",
           "caxis": {
            "gridcolor": "#DFE8F3",
            "linecolor": "#A2B1C6",
            "ticks": ""
           }
          },
          "title": {
           "x": 0.05
          },
          "xaxis": {
           "automargin": true,
           "gridcolor": "#EBF0F8",
           "linecolor": "#EBF0F8",
           "ticks": "",
           "title": {
            "standoff": 15
           },
           "zerolinecolor": "#EBF0F8",
           "zerolinewidth": 2
          },
          "yaxis": {
           "automargin": true,
           "gridcolor": "#EBF0F8",
           "linecolor": "#EBF0F8",
           "ticks": "",
           "title": {
            "standoff": 15
           },
           "zerolinecolor": "#EBF0F8",
           "zerolinewidth": 2
          }
         }
        },
        "title": {
         "text": "pueblo_reservoir_inflow - Apr-Jul 2023 forecast"
        },
        "width": 900,
        "xaxis": {
         "title": {
          "text": "Issue Date"
         }
        },
        "yaxis": {
         "title": {
          "text": "Volume (KAF)"
         }
        }
       }
      }
     },
     "metadata": {},
     "output_type": "display_data"
    },
    {
     "name": "stdout",
     "output_type": "stream",
     "text": [
      "pueblo_reservoir_inflow 2023-05-15\n",
      "P10 model: 0.2*ngm_ua + 0.8*pdsi_swe_era5\n",
      "P90 model: 0.8*ngm_pdsi_era5_s51 + 0.2*base_swe\n",
      "\n",
      "Actual volume: 312.86\n"
     ]
    },
    {
     "data": {
      "text/html": [
       "<style type=\"text/css\">\n",
       "</style>\n",
       "<table id=\"T_7a2c2\">\n",
       "  <thead>\n",
       "    <tr>\n",
       "      <th class=\"index_name level0\" >idx</th>\n",
       "      <th id=\"T_7a2c2_level0_col0\" class=\"col_heading level0 col0\" >forecast</th>\n",
       "      <th id=\"T_7a2c2_level0_col1\" class=\"col_heading level0 col1\" >percent_mean</th>\n",
       "      <th id=\"T_7a2c2_level0_col2\" class=\"col_heading level0 col2\" >percent_median</th>\n",
       "    </tr>\n",
       "  </thead>\n",
       "  <tbody>\n",
       "    <tr>\n",
       "      <th id=\"T_7a2c2_level0_row0\" class=\"row_heading level0 row0\" >pred_volume_10</th>\n",
       "      <td id=\"T_7a2c2_row0_col0\" class=\"data row0 col0\" >211.67</td>\n",
       "      <td id=\"T_7a2c2_row0_col1\" class=\"data row0 col1\" >62%</td>\n",
       "      <td id=\"T_7a2c2_row0_col2\" class=\"data row0 col2\" >65%</td>\n",
       "    </tr>\n",
       "    <tr>\n",
       "      <th id=\"T_7a2c2_level0_row1\" class=\"row_heading level0 row1\" >pred_volume_50</th>\n",
       "      <td id=\"T_7a2c2_row1_col0\" class=\"data row1 col0\" >274.98</td>\n",
       "      <td id=\"T_7a2c2_row1_col1\" class=\"data row1 col1\" >80%</td>\n",
       "      <td id=\"T_7a2c2_row1_col2\" class=\"data row1 col2\" >84%</td>\n",
       "    </tr>\n",
       "    <tr>\n",
       "      <th id=\"T_7a2c2_level0_row2\" class=\"row_heading level0 row2\" >pred_volume_90</th>\n",
       "      <td id=\"T_7a2c2_row2_col0\" class=\"data row2 col0\" >397.21</td>\n",
       "      <td id=\"T_7a2c2_row2_col1\" class=\"data row2 col1\" >116%</td>\n",
       "      <td id=\"T_7a2c2_row2_col2\" class=\"data row2 col2\" >121%</td>\n",
       "    </tr>\n",
       "  </tbody>\n",
       "</table>\n"
      ],
      "text/plain": [
       "<pandas.io.formats.style.Styler at 0x281898d7130>"
      ]
     },
     "metadata": {},
     "output_type": "display_data"
    },
    {
     "name": "stdout",
     "output_type": "stream",
     "text": [
      "pueblo_reservoir_inflow, 2023-05-15\n",
      "pueblo_reservoir_inflow, 2023-05-08\n",
      "\n",
      " SHAP feature contribution\n"
     ]
    },
    {
     "data": {
      "text/html": [
       "<style type=\"text/css\">\n",
       "#T_cf663 th.col_heading.level0 {\n",
       "  text-align: center;\n",
       "}\n",
       "#T_cf663 th.col_heading.level1 {\n",
       "  text-align: center;\n",
       "}\n",
       "#T_cf663 th.col_heading.level2 {\n",
       "  text-align: center;\n",
       "}\n",
       "#T_cf663 tr {\n",
       "  line-height: 21px;\n",
       "}\n",
       "#T_cf663 td {\n",
       "  line-height: inherit;\n",
       "  padding-top: 0;\n",
       "  padding-bottom: 0;\n",
       "}\n",
       "#T_cf663 th {\n",
       "  line-height: inherit;\n",
       "  padding-top: 0;\n",
       "  padding-bottom: 0;\n",
       "}\n",
       "#T_cf663_row0_col0, #T_cf663_row1_col0, #T_cf663_row5_col0, #T_cf663_row8_col0, #T_cf663_row11_col0, #T_cf663_row16_col0 {\n",
       "  text-align: left;\n",
       "  font-weight: bold;\n",
       "  border-right: 1px solid #D3D3D3;\n",
       "  font-weight: bold;\n",
       "  border-top: 1px solid #D3D3D3;\n",
       "}\n",
       "#T_cf663_row0_col1, #T_cf663_row0_col2, #T_cf663_row0_col3, #T_cf663_row0_col4, #T_cf663_row0_col5, #T_cf663_row0_col7, #T_cf663_row0_col8, #T_cf663_row0_col9, #T_cf663_row1_col1, #T_cf663_row1_col2, #T_cf663_row1_col3, #T_cf663_row1_col4, #T_cf663_row1_col5, #T_cf663_row1_col7, #T_cf663_row1_col8, #T_cf663_row1_col9, #T_cf663_row5_col1, #T_cf663_row5_col2, #T_cf663_row5_col3, #T_cf663_row5_col4, #T_cf663_row5_col5, #T_cf663_row5_col7, #T_cf663_row5_col8, #T_cf663_row5_col9, #T_cf663_row8_col1, #T_cf663_row8_col2, #T_cf663_row8_col3, #T_cf663_row8_col4, #T_cf663_row8_col5, #T_cf663_row8_col7, #T_cf663_row8_col8, #T_cf663_row8_col9, #T_cf663_row11_col1, #T_cf663_row11_col2, #T_cf663_row11_col3, #T_cf663_row11_col4, #T_cf663_row11_col5, #T_cf663_row11_col7, #T_cf663_row11_col8, #T_cf663_row11_col9, #T_cf663_row16_col1, #T_cf663_row16_col2, #T_cf663_row16_col3, #T_cf663_row16_col4, #T_cf663_row16_col5, #T_cf663_row16_col7, #T_cf663_row16_col8, #T_cf663_row16_col9 {\n",
       "  font-weight: bold;\n",
       "  border-top: 1px solid #D3D3D3;\n",
       "}\n",
       "#T_cf663_row0_col6, #T_cf663_row1_col6, #T_cf663_row5_col6, #T_cf663_row8_col6, #T_cf663_row11_col6, #T_cf663_row16_col6 {\n",
       "  border-left: 1px solid #D3D3D3;\n",
       "  font-weight: bold;\n",
       "  border-top: 1px solid #D3D3D3;\n",
       "}\n",
       "#T_cf663_row2_col0, #T_cf663_row3_col0, #T_cf663_row4_col0, #T_cf663_row6_col0, #T_cf663_row7_col0, #T_cf663_row9_col0, #T_cf663_row10_col0, #T_cf663_row12_col0, #T_cf663_row13_col0, #T_cf663_row14_col0, #T_cf663_row15_col0, #T_cf663_row17_col0, #T_cf663_row18_col0, #T_cf663_row19_col0 {\n",
       "  text-align: left;\n",
       "  font-weight: bold;\n",
       "  border-right: 1px solid #D3D3D3;\n",
       "  text-indent: 1em;\n",
       "  font-weight: normal;\n",
       "}\n",
       "#T_cf663_row2_col2 {\n",
       "  width: 50px;\n",
       "  background: linear-gradient(90deg, transparent 25.0%, #1ca3ec 25.0%, #1ca3ec 32.9%, transparent 32.9%) no-repeat center;\n",
       "  background-size: 100% 50.0%;\n",
       "}\n",
       "#T_cf663_row2_col3 {\n",
       "  width: 50px;\n",
       "  background: linear-gradient(90deg, transparent 25.0%, #1ca3ec 25.0%, #1ca3ec 28.0%, transparent 28.0%) no-repeat center;\n",
       "  background-size: 100% 50.0%;\n",
       "}\n",
       "#T_cf663_row2_col4 {\n",
       "  width: 50px;\n",
       "  background: linear-gradient(90deg, transparent 25.0%, #1ca3ec 25.0%, #1ca3ec 31.0%, transparent 31.0%) no-repeat center;\n",
       "  background-size: 100% 50.0%;\n",
       "}\n",
       "#T_cf663_row2_col6, #T_cf663_row3_col6, #T_cf663_row4_col6, #T_cf663_row6_col6, #T_cf663_row7_col6, #T_cf663_row9_col6, #T_cf663_row10_col6, #T_cf663_row12_col6, #T_cf663_row13_col6, #T_cf663_row14_col6, #T_cf663_row15_col6, #T_cf663_row17_col6, #T_cf663_row18_col6, #T_cf663_row19_col6 {\n",
       "  border-left: 1px solid #D3D3D3;\n",
       "}\n",
       "#T_cf663_row2_col7 {\n",
       "  width: 50px;\n",
       "  background: linear-gradient(90deg, transparent 25.0%, #1ca3ec 25.0%, #1ca3ec 34.1%, transparent 34.1%) no-repeat center;\n",
       "  background-size: 100% 50.0%;\n",
       "}\n",
       "#T_cf663_row2_col8, #T_cf663_row3_col4, #T_cf663_row3_col9, #T_cf663_row6_col8, #T_cf663_row7_col4, #T_cf663_row7_col9, #T_cf663_row17_col3, #T_cf663_row18_col3, #T_cf663_row19_col3 {\n",
       "  width: 50px;\n",
       "}\n",
       "#T_cf663_row2_col9 {\n",
       "  width: 50px;\n",
       "  background: linear-gradient(90deg, transparent 25.0%, #1ca3ec 25.0%, #1ca3ec 32.8%, transparent 32.8%) no-repeat center;\n",
       "  background-size: 100% 50.0%;\n",
       "}\n",
       "#T_cf663_row3_col2 {\n",
       "  color: #c79854;\n",
       "  width: 50px;\n",
       "  background: linear-gradient(90deg, transparent 23.5%, #DABB8E 23.5%, #DABB8E 25.0%, transparent 25.0%) no-repeat center;\n",
       "  background-size: 100% 50.0%;\n",
       "}\n",
       "#T_cf663_row3_col3 {\n",
       "  color: #c79854;\n",
       "  width: 50px;\n",
       "  background: linear-gradient(90deg, transparent 18.0%, #DABB8E 18.0%, #DABB8E 25.0%, transparent 25.0%) no-repeat center;\n",
       "  background-size: 100% 50.0%;\n",
       "}\n",
       "#T_cf663_row3_col7 {\n",
       "  width: 50px;\n",
       "  background: linear-gradient(90deg, transparent 25.0%, #1ca3ec 25.0%, #1ca3ec 26.0%, transparent 26.0%) no-repeat center;\n",
       "  background-size: 100% 50.0%;\n",
       "}\n",
       "#T_cf663_row3_col8 {\n",
       "  color: #c79854;\n",
       "  width: 50px;\n",
       "  background: linear-gradient(90deg, transparent 18.8%, #DABB8E 18.8%, #DABB8E 25.0%, transparent 25.0%) no-repeat center;\n",
       "  background-size: 100% 50.0%;\n",
       "}\n",
       "#T_cf663_row4_col2 {\n",
       "  width: 50px;\n",
       "  background: linear-gradient(90deg, transparent 25.0%, #1ca3ec 25.0%, #1ca3ec 26.5%, transparent 26.5%) no-repeat center;\n",
       "  background-size: 100% 50.0%;\n",
       "}\n",
       "#T_cf663_row4_col3, #T_cf663_row9_col4, #T_cf663_row13_col9 {\n",
       "  color: #c79854;\n",
       "  width: 50px;\n",
       "  background: linear-gradient(90deg, transparent 21.3%, #DABB8E 21.3%, #DABB8E 25.0%, transparent 25.0%) no-repeat center;\n",
       "  background-size: 100% 50.0%;\n",
       "}\n",
       "#T_cf663_row4_col4 {\n",
       "  color: #c79854;\n",
       "  width: 50px;\n",
       "  background: linear-gradient(90deg, transparent 24.7%, #DABB8E 24.7%, #DABB8E 25.0%, transparent 25.0%) no-repeat center;\n",
       "  background-size: 100% 50.0%;\n",
       "}\n",
       "#T_cf663_row4_col7 {\n",
       "  width: 50px;\n",
       "  background: linear-gradient(90deg, transparent 25.0%, #1ca3ec 25.0%, #1ca3ec 26.6%, transparent 26.6%) no-repeat center;\n",
       "  background-size: 100% 50.0%;\n",
       "}\n",
       "#T_cf663_row4_col8 {\n",
       "  color: #c79854;\n",
       "  width: 50px;\n",
       "  background: linear-gradient(90deg, transparent 20.2%, #DABB8E 20.2%, #DABB8E 25.0%, transparent 25.0%) no-repeat center;\n",
       "  background-size: 100% 50.0%;\n",
       "}\n",
       "#T_cf663_row4_col9, #T_cf663_row12_col3, #T_cf663_row12_col7, #T_cf663_row14_col4, #T_cf663_row14_col9, #T_cf663_row17_col8, #T_cf663_row18_col2, #T_cf663_row18_col7, #T_cf663_row18_col8 {\n",
       "  color: #c79854;\n",
       "  width: 50px;\n",
       "  background: linear-gradient(90deg, transparent 24.8%, #DABB8E 24.8%, #DABB8E 25.0%, transparent 25.0%) no-repeat center;\n",
       "  background-size: 100% 50.0%;\n",
       "}\n",
       "#T_cf663_row6_col2, #T_cf663_row6_col9 {\n",
       "  width: 50px;\n",
       "  background: linear-gradient(90deg, transparent 25.0%, #1ca3ec 25.0%, #1ca3ec 26.9%, transparent 26.9%) no-repeat center;\n",
       "  background-size: 100% 50.0%;\n",
       "}\n",
       "#T_cf663_row6_col3, #T_cf663_row17_col2, #T_cf663_row17_col7 {\n",
       "  width: 50px;\n",
       "  background: linear-gradient(90deg, transparent 25.0%, #1ca3ec 25.0%, #1ca3ec 26.3%, transparent 26.3%) no-repeat center;\n",
       "  background-size: 100% 50.0%;\n",
       "}\n",
       "#T_cf663_row6_col4 {\n",
       "  width: 50px;\n",
       "  background: linear-gradient(90deg, transparent 25.0%, #1ca3ec 25.0%, #1ca3ec 27.9%, transparent 27.9%) no-repeat center;\n",
       "  background-size: 100% 50.0%;\n",
       "}\n",
       "#T_cf663_row6_col7 {\n",
       "  width: 50px;\n",
       "  background: linear-gradient(90deg, transparent 25.0%, #1ca3ec 25.0%, #1ca3ec 25.8%, transparent 25.8%) no-repeat center;\n",
       "  background-size: 100% 50.0%;\n",
       "}\n",
       "#T_cf663_row7_col2 {\n",
       "  color: #c79854;\n",
       "  width: 50px;\n",
       "  background: linear-gradient(90deg, transparent 22.5%, #DABB8E 22.5%, #DABB8E 25.0%, transparent 25.0%) no-repeat center;\n",
       "  background-size: 100% 50.0%;\n",
       "}\n",
       "#T_cf663_row7_col3 {\n",
       "  color: #c79854;\n",
       "  width: 50px;\n",
       "  background: linear-gradient(90deg, transparent 21.7%, #DABB8E 21.7%, #DABB8E 25.0%, transparent 25.0%) no-repeat center;\n",
       "  background-size: 100% 50.0%;\n",
       "}\n",
       "#T_cf663_row7_col7 {\n",
       "  color: #c79854;\n",
       "  width: 50px;\n",
       "  background: linear-gradient(90deg, transparent 20.8%, #DABB8E 20.8%, #DABB8E 25.0%, transparent 25.0%) no-repeat center;\n",
       "  background-size: 100% 50.0%;\n",
       "}\n",
       "#T_cf663_row7_col8 {\n",
       "  color: #c79854;\n",
       "  width: 50px;\n",
       "  background: linear-gradient(90deg, transparent 20.6%, #DABB8E 20.6%, #DABB8E 25.0%, transparent 25.0%) no-repeat center;\n",
       "  background-size: 100% 50.0%;\n",
       "}\n",
       "#T_cf663_row9_col2, #T_cf663_row9_col7 {\n",
       "  color: #c79854;\n",
       "  width: 50px;\n",
       "  background: linear-gradient(90deg, transparent 20.3%, #DABB8E 20.3%, #DABB8E 25.0%, transparent 25.0%) no-repeat center;\n",
       "  background-size: 100% 50.0%;\n",
       "}\n",
       "#T_cf663_row9_col3, #T_cf663_row9_col8 {\n",
       "  color: #c79854;\n",
       "  width: 50px;\n",
       "  background: linear-gradient(90deg, transparent 20.0%, #DABB8E 20.0%, #DABB8E 25.0%, transparent 25.0%) no-repeat center;\n",
       "  background-size: 100% 50.0%;\n",
       "}\n",
       "#T_cf663_row9_col9 {\n",
       "  color: #c79854;\n",
       "  width: 50px;\n",
       "  background: linear-gradient(90deg, transparent 21.0%, #DABB8E 21.0%, #DABB8E 25.0%, transparent 25.0%) no-repeat center;\n",
       "  background-size: 100% 50.0%;\n",
       "}\n",
       "#T_cf663_row10_col2 {\n",
       "  width: 50px;\n",
       "  background: linear-gradient(90deg, transparent 25.0%, #1ca3ec 25.0%, #1ca3ec 25.7%, transparent 25.7%) no-repeat center;\n",
       "  background-size: 100% 50.0%;\n",
       "}\n",
       "#T_cf663_row10_col3 {\n",
       "  color: #c79854;\n",
       "  width: 50px;\n",
       "  background: linear-gradient(90deg, transparent 23.9%, #DABB8E 23.9%, #DABB8E 25.0%, transparent 25.0%) no-repeat center;\n",
       "  background-size: 100% 50.0%;\n",
       "}\n",
       "#T_cf663_row10_col4, #T_cf663_row13_col7, #T_cf663_row19_col7 {\n",
       "  color: #c79854;\n",
       "  width: 50px;\n",
       "  background: linear-gradient(90deg, transparent 24.3%, #DABB8E 24.3%, #DABB8E 25.0%, transparent 25.0%) no-repeat center;\n",
       "  background-size: 100% 50.0%;\n",
       "}\n",
       "#T_cf663_row10_col7, #T_cf663_row15_col2, #T_cf663_row15_col7, #T_cf663_row19_col2 {\n",
       "  width: 50px;\n",
       "  background: linear-gradient(90deg, transparent 25.0%, #1ca3ec 25.0%, #1ca3ec 25.5%, transparent 25.5%) no-repeat center;\n",
       "  background-size: 100% 50.0%;\n",
       "}\n",
       "#T_cf663_row10_col8 {\n",
       "  color: #c79854;\n",
       "  width: 50px;\n",
       "  background: linear-gradient(90deg, transparent 23.6%, #DABB8E 23.6%, #DABB8E 25.0%, transparent 25.0%) no-repeat center;\n",
       "  background-size: 100% 50.0%;\n",
       "}\n",
       "#T_cf663_row10_col9 {\n",
       "  color: #c79854;\n",
       "  width: 50px;\n",
       "  background: linear-gradient(90deg, transparent 22.7%, #DABB8E 22.7%, #DABB8E 25.0%, transparent 25.0%) no-repeat center;\n",
       "  background-size: 100% 50.0%;\n",
       "}\n",
       "#T_cf663_row12_col2, #T_cf663_row14_col8 {\n",
       "  width: 50px;\n",
       "  background: linear-gradient(90deg, transparent 25.0%, #1ca3ec 25.0%, #1ca3ec 25.2%, transparent 25.2%) no-repeat center;\n",
       "  background-size: 100% 50.0%;\n",
       "}\n",
       "#T_cf663_row12_col4, #T_cf663_row12_col9, #T_cf663_row14_col2, #T_cf663_row14_col7 {\n",
       "  width: 50px;\n",
       "  background: linear-gradient(90deg, transparent 25.0%, #1ca3ec 25.0%, #1ca3ec 25.1%, transparent 25.1%) no-repeat center;\n",
       "  background-size: 100% 50.0%;\n",
       "}\n",
       "#T_cf663_row12_col8, #T_cf663_row18_col4 {\n",
       "  color: #c79854;\n",
       "  width: 50px;\n",
       "  background: linear-gradient(90deg, transparent 24.9%, #DABB8E 24.9%, #DABB8E 25.0%, transparent 25.0%) no-repeat center;\n",
       "  background-size: 100% 50.0%;\n",
       "}\n",
       "#T_cf663_row13_col2 {\n",
       "  color: #c79854;\n",
       "  width: 50px;\n",
       "  background: linear-gradient(90deg, transparent 24.1%, #DABB8E 24.1%, #DABB8E 25.0%, transparent 25.0%) no-repeat center;\n",
       "  background-size: 100% 50.0%;\n",
       "}\n",
       "#T_cf663_row13_col3, #T_cf663_row15_col3, #T_cf663_row15_col8 {\n",
       "  width: 50px;\n",
       "  background: linear-gradient(90deg, transparent 25.0%, #1ca3ec 25.0%, #1ca3ec 25.4%, transparent 25.4%) no-repeat center;\n",
       "  background-size: 100% 50.0%;\n",
       "}\n",
       "#T_cf663_row13_col4 {\n",
       "  color: #c79854;\n",
       "  width: 50px;\n",
       "  background: linear-gradient(90deg, transparent 21.4%, #DABB8E 21.4%, #DABB8E 25.0%, transparent 25.0%) no-repeat center;\n",
       "  background-size: 100% 50.0%;\n",
       "}\n",
       "#T_cf663_row13_col8 {\n",
       "  color: #c79854;\n",
       "  width: 50px;\n",
       "  background: linear-gradient(90deg, transparent 24.5%, #DABB8E 24.5%, #DABB8E 25.0%, transparent 25.0%) no-repeat center;\n",
       "  background-size: 100% 50.0%;\n",
       "}\n",
       "#T_cf663_row14_col3, #T_cf663_row19_col8 {\n",
       "  width: 50px;\n",
       "  background: linear-gradient(90deg, transparent 25.0%, #1ca3ec 25.0%, #1ca3ec 25.0%, transparent 25.0%) no-repeat center;\n",
       "  background-size: 100% 50.0%;\n",
       "}\n",
       "#T_cf663_row15_col4 {\n",
       "  width: 50px;\n",
       "  background: linear-gradient(90deg, transparent 25.0%, #1ca3ec 25.0%, #1ca3ec 25.6%, transparent 25.6%) no-repeat center;\n",
       "  background-size: 100% 50.0%;\n",
       "}\n",
       "#T_cf663_row15_col9 {\n",
       "  width: 50px;\n",
       "  background: linear-gradient(90deg, transparent 25.0%, #1ca3ec 25.0%, #1ca3ec 25.3%, transparent 25.3%) no-repeat center;\n",
       "  background-size: 100% 50.0%;\n",
       "}\n",
       "#T_cf663_row17_col4 {\n",
       "  width: 50px;\n",
       "  background: linear-gradient(90deg, transparent 25.0%, #1ca3ec 25.0%, #1ca3ec 27.6%, transparent 27.6%) no-repeat center;\n",
       "  background-size: 100% 50.0%;\n",
       "}\n",
       "#T_cf663_row17_col9 {\n",
       "  width: 50px;\n",
       "  background: linear-gradient(90deg, transparent 25.0%, #1ca3ec 25.0%, #1ca3ec 27.3%, transparent 27.3%) no-repeat center;\n",
       "  background-size: 100% 50.0%;\n",
       "}\n",
       "#T_cf663_row18_col9 {\n",
       "  color: #c79854;\n",
       "  width: 50px;\n",
       "  background: linear-gradient(90deg, transparent 25.0%, #DABB8E 25.0%, #DABB8E 25.0%, transparent 25.0%) no-repeat center;\n",
       "  background-size: 100% 50.0%;\n",
       "}\n",
       "#T_cf663_row19_col4 {\n",
       "  color: #c79854;\n",
       "  width: 50px;\n",
       "  background: linear-gradient(90deg, transparent 24.2%, #DABB8E 24.2%, #DABB8E 25.0%, transparent 25.0%) no-repeat center;\n",
       "  background-size: 100% 50.0%;\n",
       "}\n",
       "#T_cf663_row19_col9 {\n",
       "  color: #c79854;\n",
       "  width: 50px;\n",
       "  background: linear-gradient(90deg, transparent 24.4%, #DABB8E 24.4%, #DABB8E 25.0%, transparent 25.0%) no-repeat center;\n",
       "  background-size: 100% 50.0%;\n",
       "}\n",
       "#T_cf663_level0_col0, #T_cf663_level0_col5, #T_cf663_level1_col0, #T_cf663_level1_col5, #T_cf663_level2_col0, #T_cf663_level2_col5 {\n",
       "  border-right: 1px solid #D3D3D3;\n",
       "}\n",
       "</style>\n",
       "<table id=\"T_cf663\">\n",
       "  <thead>\n",
       "    <tr>\n",
       "      <th id=\"T_cf663_level0_col0\" class=\"col_heading level0 col0\" > </th>\n",
       "      <th id=\"T_cf663_level0_col1\" class=\"col_heading level0 col1\" colspan=\"4\">Issue Date: 2023-05-15</th>\n",
       "      <th id=\"T_cf663_level0_col5\" class=\"col_heading level0 col5\" > </th>\n",
       "      <th id=\"T_cf663_level0_col6\" class=\"col_heading level0 col6\" colspan=\"4\">Previous Issue Date: 2023-05-08</th>\n",
       "    </tr>\n",
       "    <tr>\n",
       "      <th id=\"T_cf663_level1_col0\" class=\"col_heading level1 col0\" > </th>\n",
       "      <th id=\"T_cf663_level1_col1\" class=\"col_heading level1 col1\" ></th>\n",
       "      <th id=\"T_cf663_level1_col2\" class=\"col_heading level1 col2\" colspan=\"3\">% Feature contribution</th>\n",
       "      <th id=\"T_cf663_level1_col5\" class=\"col_heading level1 col5\" > </th>\n",
       "      <th id=\"T_cf663_level1_col6\" class=\"col_heading level1 col6\" ></th>\n",
       "      <th id=\"T_cf663_level1_col7\" class=\"col_heading level1 col7\" colspan=\"3\">% Feature contribution</th>\n",
       "    </tr>\n",
       "    <tr>\n",
       "      <th id=\"T_cf663_level2_col0\" class=\"col_heading level2 col0\" >Feature</th>\n",
       "      <th id=\"T_cf663_level2_col1\" class=\"col_heading level2 col1\" >Value</th>\n",
       "      <th id=\"T_cf663_level2_col2\" class=\"col_heading level2 col2\" >Q0.5</th>\n",
       "      <th id=\"T_cf663_level2_col3\" class=\"col_heading level2 col3\" >Q0.1</th>\n",
       "      <th id=\"T_cf663_level2_col4\" class=\"col_heading level2 col4\" >Q0.9</th>\n",
       "      <th id=\"T_cf663_level2_col5\" class=\"col_heading level2 col5\" >Rel</th>\n",
       "      <th id=\"T_cf663_level2_col6\" class=\"col_heading level2 col6\" >Value</th>\n",
       "      <th id=\"T_cf663_level2_col7\" class=\"col_heading level2 col7\" >Q0.5</th>\n",
       "      <th id=\"T_cf663_level2_col8\" class=\"col_heading level2 col8\" >Q0.1</th>\n",
       "      <th id=\"T_cf663_level2_col9\" class=\"col_heading level2 col9\" >Q0.9</th>\n",
       "    </tr>\n",
       "  </thead>\n",
       "  <tbody>\n",
       "    <tr>\n",
       "      <td id=\"T_cf663_row0_col0\" class=\"data row0 col0\" >Base</td>\n",
       "      <td id=\"T_cf663_row0_col1\" class=\"data row0 col1\" ></td>\n",
       "      <td id=\"T_cf663_row0_col2\" class=\"data row0 col2\" >47.9%</td>\n",
       "      <td id=\"T_cf663_row0_col3\" class=\"data row0 col3\" >45.5%</td>\n",
       "      <td id=\"T_cf663_row0_col4\" class=\"data row0 col4\" >53.7%</td>\n",
       "      <td id=\"T_cf663_row0_col5\" class=\"data row0 col5\" >1.69</td>\n",
       "      <td id=\"T_cf663_row0_col6\" class=\"data row0 col6\" ></td>\n",
       "      <td id=\"T_cf663_row0_col7\" class=\"data row0 col7\" >45.1%</td>\n",
       "      <td id=\"T_cf663_row0_col8\" class=\"data row0 col8\" >49.3%</td>\n",
       "      <td id=\"T_cf663_row0_col9\" class=\"data row0 col9\" >49.6%</td>\n",
       "    </tr>\n",
       "    <tr>\n",
       "      <td id=\"T_cf663_row1_col0\" class=\"data row1 col0\" >Snowpack</td>\n",
       "      <td id=\"T_cf663_row1_col1\" class=\"data row1 col1\" ></td>\n",
       "      <td id=\"T_cf663_row1_col2\" class=\"data row1 col2\" >23.6%</td>\n",
       "      <td id=\"T_cf663_row1_col3\" class=\"data row1 col3\" >29.4%</td>\n",
       "      <td id=\"T_cf663_row1_col4\" class=\"data row1 col4\" >13.6%</td>\n",
       "      <td id=\"T_cf663_row1_col5\" class=\"data row1 col5\" >0.62</td>\n",
       "      <td id=\"T_cf663_row1_col6\" class=\"data row1 col6\" ></td>\n",
       "      <td id=\"T_cf663_row1_col7\" class=\"data row1 col7\" >25.2%</td>\n",
       "      <td id=\"T_cf663_row1_col8\" class=\"data row1 col8\" >23.6%</td>\n",
       "      <td id=\"T_cf663_row1_col9\" class=\"data row1 col9\" >17.2%</td>\n",
       "    </tr>\n",
       "    <tr>\n",
       "      <td id=\"T_cf663_row2_col0\" class=\"data row2 col0\" >SNOTEL/CDEC</td>\n",
       "      <td id=\"T_cf663_row2_col1\" class=\"data row2 col1\" >101%</td>\n",
       "      <td id=\"T_cf663_row2_col2\" class=\"data row2 col2\" >17.0%</td>\n",
       "      <td id=\"T_cf663_row2_col3\" class=\"data row2 col3\" >6.4%</td>\n",
       "      <td id=\"T_cf663_row2_col4\" class=\"data row2 col4\" >12.9%</td>\n",
       "      <td id=\"T_cf663_row2_col5\" class=\"data row2 col5\" >1.20</td>\n",
       "      <td id=\"T_cf663_row2_col6\" class=\"data row2 col6\" >90%</td>\n",
       "      <td id=\"T_cf663_row2_col7\" class=\"data row2 col7\" >19.6%</td>\n",
       "      <td id=\"T_cf663_row2_col8\" class=\"data row2 col8\" ></td>\n",
       "      <td id=\"T_cf663_row2_col9\" class=\"data row2 col9\" >16.7%</td>\n",
       "    </tr>\n",
       "    <tr>\n",
       "      <td id=\"T_cf663_row3_col0\" class=\"data row3 col0\" >UA-SWANN</td>\n",
       "      <td id=\"T_cf663_row3_col1\" class=\"data row3 col1\" >60%-80%</td>\n",
       "      <td id=\"T_cf663_row3_col2\" class=\"data row3 col2\" >3.3%</td>\n",
       "      <td id=\"T_cf663_row3_col3\" class=\"data row3 col3\" >15.1%</td>\n",
       "      <td id=\"T_cf663_row3_col4\" class=\"data row3 col4\" ></td>\n",
       "      <td id=\"T_cf663_row3_col5\" class=\"data row3 col5\" >0.25</td>\n",
       "      <td id=\"T_cf663_row3_col6\" class=\"data row3 col6\" >21%-75%</td>\n",
       "      <td id=\"T_cf663_row3_col7\" class=\"data row3 col7\" >2.2%</td>\n",
       "      <td id=\"T_cf663_row3_col8\" class=\"data row3 col8\" >13.2%</td>\n",
       "      <td id=\"T_cf663_row3_col9\" class=\"data row3 col9\" ></td>\n",
       "    </tr>\n",
       "    <tr>\n",
       "      <td id=\"T_cf663_row4_col0\" class=\"data row4 col0\" >ERA5-Land</td>\n",
       "      <td id=\"T_cf663_row4_col1\" class=\"data row4 col1\" >110%</td>\n",
       "      <td id=\"T_cf663_row4_col2\" class=\"data row4 col2\" >3.3%</td>\n",
       "      <td id=\"T_cf663_row4_col3\" class=\"data row4 col3\" >7.9%</td>\n",
       "      <td id=\"T_cf663_row4_col4\" class=\"data row4 col4\" >0.7%</td>\n",
       "      <td id=\"T_cf663_row4_col5\" class=\"data row4 col5\" >0.31</td>\n",
       "      <td id=\"T_cf663_row4_col6\" class=\"data row4 col6\" >101%</td>\n",
       "      <td id=\"T_cf663_row4_col7\" class=\"data row4 col7\" >3.4%</td>\n",
       "      <td id=\"T_cf663_row4_col8\" class=\"data row4 col8\" >10.4%</td>\n",
       "      <td id=\"T_cf663_row4_col9\" class=\"data row4 col9\" >0.5%</td>\n",
       "    </tr>\n",
       "    <tr>\n",
       "      <td id=\"T_cf663_row5_col0\" class=\"data row5 col0\" >Precipitation</td>\n",
       "      <td id=\"T_cf663_row5_col1\" class=\"data row5 col1\" ></td>\n",
       "      <td id=\"T_cf663_row5_col2\" class=\"data row5 col2\" >9.3%</td>\n",
       "      <td id=\"T_cf663_row5_col3\" class=\"data row5 col3\" >9.9%</td>\n",
       "      <td id=\"T_cf663_row5_col4\" class=\"data row5 col4\" >6.3%</td>\n",
       "      <td id=\"T_cf663_row5_col5\" class=\"data row5 col5\" >0.89</td>\n",
       "      <td id=\"T_cf663_row5_col6\" class=\"data row5 col6\" ></td>\n",
       "      <td id=\"T_cf663_row5_col7\" class=\"data row5 col7\" >10.8%</td>\n",
       "      <td id=\"T_cf663_row5_col8\" class=\"data row5 col8\" >9.6%</td>\n",
       "      <td id=\"T_cf663_row5_col9\" class=\"data row5 col9\" >4.1%</td>\n",
       "    </tr>\n",
       "    <tr>\n",
       "      <td id=\"T_cf663_row6_col0\" class=\"data row6 col0\" >SNOTEL/CDEC</td>\n",
       "      <td id=\"T_cf663_row6_col1\" class=\"data row6 col1\" >100%</td>\n",
       "      <td id=\"T_cf663_row6_col2\" class=\"data row6 col2\" >4.0%</td>\n",
       "      <td id=\"T_cf663_row6_col3\" class=\"data row6 col3\" >2.8%</td>\n",
       "      <td id=\"T_cf663_row6_col4\" class=\"data row6 col4\" >6.3%</td>\n",
       "      <td id=\"T_cf663_row6_col5\" class=\"data row6 col5\" >0.89</td>\n",
       "      <td id=\"T_cf663_row6_col6\" class=\"data row6 col6\" >94%</td>\n",
       "      <td id=\"T_cf663_row6_col7\" class=\"data row6 col7\" >1.8%</td>\n",
       "      <td id=\"T_cf663_row6_col8\" class=\"data row6 col8\" ></td>\n",
       "      <td id=\"T_cf663_row6_col9\" class=\"data row6 col9\" >4.1%</td>\n",
       "    </tr>\n",
       "    <tr>\n",
       "      <td id=\"T_cf663_row7_col0\" class=\"data row7 col0\" >UA-SWANN</td>\n",
       "      <td id=\"T_cf663_row7_col1\" class=\"data row7 col1\" >86%-94%</td>\n",
       "      <td id=\"T_cf663_row7_col2\" class=\"data row7 col2\" >5.3%</td>\n",
       "      <td id=\"T_cf663_row7_col3\" class=\"data row7 col3\" >7.1%</td>\n",
       "      <td id=\"T_cf663_row7_col4\" class=\"data row7 col4\" ></td>\n",
       "      <td id=\"T_cf663_row7_col5\" class=\"data row7 col5\" >0.89</td>\n",
       "      <td id=\"T_cf663_row7_col6\" class=\"data row7 col6\" >66%-70%</td>\n",
       "      <td id=\"T_cf663_row7_col7\" class=\"data row7 col7\" >9.0%</td>\n",
       "      <td id=\"T_cf663_row7_col8\" class=\"data row7 col8\" >9.6%</td>\n",
       "      <td id=\"T_cf663_row7_col9\" class=\"data row7 col9\" ></td>\n",
       "    </tr>\n",
       "    <tr>\n",
       "      <td id=\"T_cf663_row8_col0\" class=\"data row8 col0\" >Drought</td>\n",
       "      <td id=\"T_cf663_row8_col1\" class=\"data row8 col1\" ></td>\n",
       "      <td id=\"T_cf663_row8_col2\" class=\"data row8 col2\" >11.5%</td>\n",
       "      <td id=\"T_cf663_row8_col3\" class=\"data row8 col3\" >13.0%</td>\n",
       "      <td id=\"T_cf663_row8_col4\" class=\"data row8 col4\" >9.5%</td>\n",
       "      <td id=\"T_cf663_row8_col5\" class=\"data row8 col5\" >0.97</td>\n",
       "      <td id=\"T_cf663_row8_col6\" class=\"data row8 col6\" ></td>\n",
       "      <td id=\"T_cf663_row8_col7\" class=\"data row8 col7\" >11.2%</td>\n",
       "      <td id=\"T_cf663_row8_col8\" class=\"data row8 col8\" >13.8%</td>\n",
       "      <td id=\"T_cf663_row8_col9\" class=\"data row8 col9\" >13.4%</td>\n",
       "    </tr>\n",
       "    <tr>\n",
       "      <td id=\"T_cf663_row9_col0\" class=\"data row9 col0\" >PDSI</td>\n",
       "      <td id=\"T_cf663_row9_col1\" class=\"data row9 col1\" >-1.68</td>\n",
       "      <td id=\"T_cf663_row9_col2\" class=\"data row9 col2\" >10.0%</td>\n",
       "      <td id=\"T_cf663_row9_col3\" class=\"data row9 col3\" >10.6%</td>\n",
       "      <td id=\"T_cf663_row9_col4\" class=\"data row9 col4\" >8.0%</td>\n",
       "      <td id=\"T_cf663_row9_col5\" class=\"data row9 col5\" >1.10</td>\n",
       "      <td id=\"T_cf663_row9_col6\" class=\"data row9 col6\" >-1.77</td>\n",
       "      <td id=\"T_cf663_row9_col7\" class=\"data row9 col7\" >10.2%</td>\n",
       "      <td id=\"T_cf663_row9_col8\" class=\"data row9 col8\" >10.7%</td>\n",
       "      <td id=\"T_cf663_row9_col9\" class=\"data row9 col9\" >8.5%</td>\n",
       "    </tr>\n",
       "    <tr>\n",
       "      <td id=\"T_cf663_row10_col0\" class=\"data row10 col0\" >Soil water</td>\n",
       "      <td id=\"T_cf663_row10_col1\" class=\"data row10 col1\" >87%-125%</td>\n",
       "      <td id=\"T_cf663_row10_col2\" class=\"data row10 col2\" >1.5%</td>\n",
       "      <td id=\"T_cf663_row10_col3\" class=\"data row10 col3\" >2.4%</td>\n",
       "      <td id=\"T_cf663_row10_col4\" class=\"data row10 col4\" >1.5%</td>\n",
       "      <td id=\"T_cf663_row10_col5\" class=\"data row10 col5\" >0.54</td>\n",
       "      <td id=\"T_cf663_row10_col6\" class=\"data row10 col6\" >86%-99%</td>\n",
       "      <td id=\"T_cf663_row10_col7\" class=\"data row10 col7\" >1.0%</td>\n",
       "      <td id=\"T_cf663_row10_col8\" class=\"data row10 col8\" >3.1%</td>\n",
       "      <td id=\"T_cf663_row10_col9\" class=\"data row10 col9\" >4.9%</td>\n",
       "    </tr>\n",
       "    <tr>\n",
       "      <td id=\"T_cf663_row11_col0\" class=\"data row11 col0\" >Others</td>\n",
       "      <td id=\"T_cf663_row11_col1\" class=\"data row11 col1\" ></td>\n",
       "      <td id=\"T_cf663_row11_col2\" class=\"data row11 col2\" >3.5%</td>\n",
       "      <td id=\"T_cf663_row11_col3\" class=\"data row11 col3\" >2.1%</td>\n",
       "      <td id=\"T_cf663_row11_col4\" class=\"data row11 col4\" >9.4%</td>\n",
       "      <td id=\"T_cf663_row11_col5\" class=\"data row11 col5\" >0.87</td>\n",
       "      <td id=\"T_cf663_row11_col6\" class=\"data row11 col6\" ></td>\n",
       "      <td id=\"T_cf663_row11_col7\" class=\"data row11 col7\" >3.0%</td>\n",
       "      <td id=\"T_cf663_row11_col8\" class=\"data row11 col8\" >2.7%</td>\n",
       "      <td id=\"T_cf663_row11_col9\" class=\"data row11 col9\" >9.3%</td>\n",
       "    </tr>\n",
       "    <tr>\n",
       "      <td id=\"T_cf663_row12_col0\" class=\"data row12 col0\" >Temperature</td>\n",
       "      <td id=\"T_cf663_row12_col1\" class=\"data row12 col1\" >-4.33</td>\n",
       "      <td id=\"T_cf663_row12_col2\" class=\"data row12 col2\" >0.4%</td>\n",
       "      <td id=\"T_cf663_row12_col3\" class=\"data row12 col3\" >0.4%</td>\n",
       "      <td id=\"T_cf663_row12_col4\" class=\"data row12 col4\" >0.2%</td>\n",
       "      <td id=\"T_cf663_row12_col5\" class=\"data row12 col5\" >0.56</td>\n",
       "      <td id=\"T_cf663_row12_col6\" class=\"data row12 col6\" >0.53</td>\n",
       "      <td id=\"T_cf663_row12_col7\" class=\"data row12 col7\" >0.4%</td>\n",
       "      <td id=\"T_cf663_row12_col8\" class=\"data row12 col8\" >0.2%</td>\n",
       "      <td id=\"T_cf663_row12_col9\" class=\"data row12 col9\" >0.2%</td>\n",
       "    </tr>\n",
       "    <tr>\n",
       "      <td id=\"T_cf663_row13_col0\" class=\"data row13 col0\" >Snow cover</td>\n",
       "      <td id=\"T_cf663_row13_col1\" class=\"data row13 col1\" >27% (28%)</td>\n",
       "      <td id=\"T_cf663_row13_col2\" class=\"data row13 col2\" >1.8%</td>\n",
       "      <td id=\"T_cf663_row13_col3\" class=\"data row13 col3\" >0.9%</td>\n",
       "      <td id=\"T_cf663_row13_col4\" class=\"data row13 col4\" >7.6%</td>\n",
       "      <td id=\"T_cf663_row13_col5\" class=\"data row13 col5\" >1.04</td>\n",
       "      <td id=\"T_cf663_row13_col6\" class=\"data row13 col6\" >26% (34%)</td>\n",
       "      <td id=\"T_cf663_row13_col7\" class=\"data row13 col7\" >1.4%</td>\n",
       "      <td id=\"T_cf663_row13_col8\" class=\"data row13 col8\" >1.1%</td>\n",
       "      <td id=\"T_cf663_row13_col9\" class=\"data row13 col9\" >8.0%</td>\n",
       "    </tr>\n",
       "    <tr>\n",
       "      <td id=\"T_cf663_row14_col0\" class=\"data row14 col0\" >Snow albedo</td>\n",
       "      <td id=\"T_cf663_row14_col1\" class=\"data row14 col1\" >104%</td>\n",
       "      <td id=\"T_cf663_row14_col2\" class=\"data row14 col2\" >0.2%</td>\n",
       "      <td id=\"T_cf663_row14_col3\" class=\"data row14 col3\" >0.0%</td>\n",
       "      <td id=\"T_cf663_row14_col4\" class=\"data row14 col4\" >0.3%</td>\n",
       "      <td id=\"T_cf663_row14_col5\" class=\"data row14 col5\" >0.43</td>\n",
       "      <td id=\"T_cf663_row14_col6\" class=\"data row14 col6\" >98%</td>\n",
       "      <td id=\"T_cf663_row14_col7\" class=\"data row14 col7\" >0.1%</td>\n",
       "      <td id=\"T_cf663_row14_col8\" class=\"data row14 col8\" >0.4%</td>\n",
       "      <td id=\"T_cf663_row14_col9\" class=\"data row14 col9\" >0.4%</td>\n",
       "    </tr>\n",
       "    <tr>\n",
       "      <td id=\"T_cf663_row15_col0\" class=\"data row15 col0\" >Leaf area index</td>\n",
       "      <td id=\"T_cf663_row15_col1\" class=\"data row15 col1\" >1.49-3.00</td>\n",
       "      <td id=\"T_cf663_row15_col2\" class=\"data row15 col2\" >1.1%</td>\n",
       "      <td id=\"T_cf663_row15_col3\" class=\"data row15 col3\" >0.8%</td>\n",
       "      <td id=\"T_cf663_row15_col4\" class=\"data row15 col4\" >1.2%</td>\n",
       "      <td id=\"T_cf663_row15_col5\" class=\"data row15 col5\" >0.94</td>\n",
       "      <td id=\"T_cf663_row15_col6\" class=\"data row15 col6\" >1.48-2.98</td>\n",
       "      <td id=\"T_cf663_row15_col7\" class=\"data row15 col7\" >1.0%</td>\n",
       "      <td id=\"T_cf663_row15_col8\" class=\"data row15 col8\" >0.9%</td>\n",
       "      <td id=\"T_cf663_row15_col9\" class=\"data row15 col9\" >0.7%</td>\n",
       "    </tr>\n",
       "    <tr>\n",
       "      <td id=\"T_cf663_row16_col0\" class=\"data row16 col0\" >SEAS51 Forecast</td>\n",
       "      <td id=\"T_cf663_row16_col1\" class=\"data row16 col1\" ></td>\n",
       "      <td id=\"T_cf663_row16_col2\" class=\"data row16 col2\" >4.3%</td>\n",
       "      <td id=\"T_cf663_row16_col3\" class=\"data row16 col3\" ></td>\n",
       "      <td id=\"T_cf663_row16_col4\" class=\"data row16 col4\" >7.4%</td>\n",
       "      <td id=\"T_cf663_row16_col5\" class=\"data row16 col5\" >0.58</td>\n",
       "      <td id=\"T_cf663_row16_col6\" class=\"data row16 col6\" ></td>\n",
       "      <td id=\"T_cf663_row16_col7\" class=\"data row16 col7\" >4.7%</td>\n",
       "      <td id=\"T_cf663_row16_col8\" class=\"data row16 col8\" >1.0%</td>\n",
       "      <td id=\"T_cf663_row16_col9\" class=\"data row16 col9\" >6.4%</td>\n",
       "    </tr>\n",
       "    <tr>\n",
       "      <td id=\"T_cf663_row17_col0\" class=\"data row17 col0\" > Snowpack</td>\n",
       "      <td id=\"T_cf663_row17_col1\" class=\"data row17 col1\" >217%-237%</td>\n",
       "      <td id=\"T_cf663_row17_col2\" class=\"data row17 col2\" >2.7%</td>\n",
       "      <td id=\"T_cf663_row17_col3\" class=\"data row17 col3\" ></td>\n",
       "      <td id=\"T_cf663_row17_col4\" class=\"data row17 col4\" >5.5%</td>\n",
       "      <td id=\"T_cf663_row17_col5\" class=\"data row17 col5\" >0.79</td>\n",
       "      <td id=\"T_cf663_row17_col6\" class=\"data row17 col6\" >217%-237%</td>\n",
       "      <td id=\"T_cf663_row17_col7\" class=\"data row17 col7\" >2.7%</td>\n",
       "      <td id=\"T_cf663_row17_col8\" class=\"data row17 col8\" >0.4%</td>\n",
       "      <td id=\"T_cf663_row17_col9\" class=\"data row17 col9\" >5.0%</td>\n",
       "    </tr>\n",
       "    <tr>\n",
       "      <td id=\"T_cf663_row18_col0\" class=\"data row18 col0\" > Precipitation</td>\n",
       "      <td id=\"T_cf663_row18_col1\" class=\"data row18 col1\" >88%-94%</td>\n",
       "      <td id=\"T_cf663_row18_col2\" class=\"data row18 col2\" >0.5%</td>\n",
       "      <td id=\"T_cf663_row18_col3\" class=\"data row18 col3\" ></td>\n",
       "      <td id=\"T_cf663_row18_col4\" class=\"data row18 col4\" >0.3%</td>\n",
       "      <td id=\"T_cf663_row18_col5\" class=\"data row18 col5\" >0.33</td>\n",
       "      <td id=\"T_cf663_row18_col6\" class=\"data row18 col6\" >88%-94%</td>\n",
       "      <td id=\"T_cf663_row18_col7\" class=\"data row18 col7\" >0.4%</td>\n",
       "      <td id=\"T_cf663_row18_col8\" class=\"data row18 col8\" >0.5%</td>\n",
       "      <td id=\"T_cf663_row18_col9\" class=\"data row18 col9\" >0.0%</td>\n",
       "    </tr>\n",
       "    <tr>\n",
       "      <td id=\"T_cf663_row19_col0\" class=\"data row19 col0\" >Temperature</td>\n",
       "      <td id=\"T_cf663_row19_col1\" class=\"data row19 col1\" >0.03; 0.14</td>\n",
       "      <td id=\"T_cf663_row19_col2\" class=\"data row19 col2\" >1.0%</td>\n",
       "      <td id=\"T_cf663_row19_col3\" class=\"data row19 col3\" ></td>\n",
       "      <td id=\"T_cf663_row19_col4\" class=\"data row19 col4\" >1.7%</td>\n",
       "      <td id=\"T_cf663_row19_col5\" class=\"data row19 col5\" >0.46</td>\n",
       "      <td id=\"T_cf663_row19_col6\" class=\"data row19 col6\" >0.03; 0.14</td>\n",
       "      <td id=\"T_cf663_row19_col7\" class=\"data row19 col7\" >1.6%</td>\n",
       "      <td id=\"T_cf663_row19_col8\" class=\"data row19 col8\" >0.1%</td>\n",
       "      <td id=\"T_cf663_row19_col9\" class=\"data row19 col9\" >1.3%</td>\n",
       "    </tr>\n",
       "  </tbody>\n",
       "</table>\n"
      ],
      "text/plain": [
       "<pandas.io.formats.style.Styler at 0x2818b70c520>"
      ]
     },
     "metadata": {},
     "output_type": "display_data"
    },
    {
     "name": "stdout",
     "output_type": "stream",
     "text": [
      "\n",
      "Aggregated SHAP feature contribution\n"
     ]
    },
    {
     "data": {
      "text/html": [
       "<style type=\"text/css\">\n",
       "#T_913ac_row0_col0, #T_913ac_row0_col1, #T_913ac_row0_col2 {\n",
       "  font-weight: bold;\n",
       "}\n",
       "</style>\n",
       "<table id=\"T_913ac\">\n",
       "  <thead>\n",
       "    <tr>\n",
       "      <th class=\"blank level0\" >&nbsp;</th>\n",
       "      <th id=\"T_913ac_level0_col0\" class=\"col_heading level0 col0\" >q50</th>\n",
       "      <th id=\"T_913ac_level0_col1\" class=\"col_heading level0 col1\" >q10</th>\n",
       "      <th id=\"T_913ac_level0_col2\" class=\"col_heading level0 col2\" >q90</th>\n",
       "      <th id=\"T_913ac_level0_col3\" class=\"col_heading level0 col3\" >q50_prev</th>\n",
       "      <th id=\"T_913ac_level0_col4\" class=\"col_heading level0 col4\" >q10_prev</th>\n",
       "      <th id=\"T_913ac_level0_col5\" class=\"col_heading level0 col5\" >q90_prev</th>\n",
       "    </tr>\n",
       "    <tr>\n",
       "      <th class=\"index_name level0\" >feature_group</th>\n",
       "      <th class=\"blank col0\" >&nbsp;</th>\n",
       "      <th class=\"blank col1\" >&nbsp;</th>\n",
       "      <th class=\"blank col2\" >&nbsp;</th>\n",
       "      <th class=\"blank col3\" >&nbsp;</th>\n",
       "      <th class=\"blank col4\" >&nbsp;</th>\n",
       "      <th class=\"blank col5\" >&nbsp;</th>\n",
       "    </tr>\n",
       "  </thead>\n",
       "  <tbody>\n",
       "    <tr>\n",
       "      <th id=\"T_913ac_level0_row0\" class=\"row_heading level0 row0\" >base</th>\n",
       "      <td id=\"T_913ac_row0_col0\" class=\"data row0 col0\" >47.9%</td>\n",
       "      <td id=\"T_913ac_row0_col1\" class=\"data row0 col1\" >45.5%</td>\n",
       "      <td id=\"T_913ac_row0_col2\" class=\"data row0 col2\" >53.7%</td>\n",
       "      <td id=\"T_913ac_row0_col3\" class=\"data row0 col3\" >45.1%</td>\n",
       "      <td id=\"T_913ac_row0_col4\" class=\"data row0 col4\" >49.3%</td>\n",
       "      <td id=\"T_913ac_row0_col5\" class=\"data row0 col5\" >49.6%</td>\n",
       "    </tr>\n",
       "    <tr>\n",
       "      <th id=\"T_913ac_level0_row1\" class=\"row_heading level0 row1\" >swe</th>\n",
       "      <td id=\"T_913ac_row1_col0\" class=\"data row1 col0\" >23.6%</td>\n",
       "      <td id=\"T_913ac_row1_col1\" class=\"data row1 col1\" >29.4%</td>\n",
       "      <td id=\"T_913ac_row1_col2\" class=\"data row1 col2\" >13.6%</td>\n",
       "      <td id=\"T_913ac_row1_col3\" class=\"data row1 col3\" >25.2%</td>\n",
       "      <td id=\"T_913ac_row1_col4\" class=\"data row1 col4\" >23.6%</td>\n",
       "      <td id=\"T_913ac_row1_col5\" class=\"data row1 col5\" >17.2%</td>\n",
       "    </tr>\n",
       "    <tr>\n",
       "      <th id=\"T_913ac_level0_row2\" class=\"row_heading level0 row2\" >prec_cml</th>\n",
       "      <td id=\"T_913ac_row2_col0\" class=\"data row2 col0\" >9.3%</td>\n",
       "      <td id=\"T_913ac_row2_col1\" class=\"data row2 col1\" >9.9%</td>\n",
       "      <td id=\"T_913ac_row2_col2\" class=\"data row2 col2\" >6.3%</td>\n",
       "      <td id=\"T_913ac_row2_col3\" class=\"data row2 col3\" >10.8%</td>\n",
       "      <td id=\"T_913ac_row2_col4\" class=\"data row2 col4\" >9.6%</td>\n",
       "      <td id=\"T_913ac_row2_col5\" class=\"data row2 col5\" >4.1%</td>\n",
       "    </tr>\n",
       "    <tr>\n",
       "      <th id=\"T_913ac_level0_row3\" class=\"row_heading level0 row3\" >drought</th>\n",
       "      <td id=\"T_913ac_row3_col0\" class=\"data row3 col0\" >11.5%</td>\n",
       "      <td id=\"T_913ac_row3_col1\" class=\"data row3 col1\" >13.0%</td>\n",
       "      <td id=\"T_913ac_row3_col2\" class=\"data row3 col2\" >9.5%</td>\n",
       "      <td id=\"T_913ac_row3_col3\" class=\"data row3 col3\" >11.2%</td>\n",
       "      <td id=\"T_913ac_row3_col4\" class=\"data row3 col4\" >13.8%</td>\n",
       "      <td id=\"T_913ac_row3_col5\" class=\"data row3 col5\" >13.4%</td>\n",
       "    </tr>\n",
       "    <tr>\n",
       "      <th id=\"T_913ac_level0_row4\" class=\"row_heading level0 row4\" >others</th>\n",
       "      <td id=\"T_913ac_row4_col0\" class=\"data row4 col0\" >3.5%</td>\n",
       "      <td id=\"T_913ac_row4_col1\" class=\"data row4 col1\" >2.1%</td>\n",
       "      <td id=\"T_913ac_row4_col2\" class=\"data row4 col2\" >9.4%</td>\n",
       "      <td id=\"T_913ac_row4_col3\" class=\"data row4 col3\" >3.0%</td>\n",
       "      <td id=\"T_913ac_row4_col4\" class=\"data row4 col4\" >2.7%</td>\n",
       "      <td id=\"T_913ac_row4_col5\" class=\"data row4 col5\" >9.3%</td>\n",
       "    </tr>\n",
       "    <tr>\n",
       "      <th id=\"T_913ac_level0_row5\" class=\"row_heading level0 row5\" >fcst</th>\n",
       "      <td id=\"T_913ac_row5_col0\" class=\"data row5 col0\" >4.3%</td>\n",
       "      <td id=\"T_913ac_row5_col1\" class=\"data row5 col1\" ></td>\n",
       "      <td id=\"T_913ac_row5_col2\" class=\"data row5 col2\" >7.4%</td>\n",
       "      <td id=\"T_913ac_row5_col3\" class=\"data row5 col3\" >4.7%</td>\n",
       "      <td id=\"T_913ac_row5_col4\" class=\"data row5 col4\" >1.0%</td>\n",
       "      <td id=\"T_913ac_row5_col5\" class=\"data row5 col5\" >6.4%</td>\n",
       "    </tr>\n",
       "  </tbody>\n",
       "</table>\n"
      ],
      "text/plain": [
       "<pandas.io.formats.style.Styler at 0x2818b28e190>"
      ]
     },
     "metadata": {},
     "output_type": "display_data"
    },
    {
     "data": {
      "application/vnd.plotly.v1+json": {
       "config": {
        "plotlyServerURL": "https://plot.ly"
       },
       "data": [
        {
         "hovertemplate": "%{y:.2f}",
         "line": {
          "color": "rgba(0,0,0,0.25)",
          "dash": "dash"
         },
         "mode": "lines",
         "name": "Volume (median)",
         "type": "scatter",
         "x": [
          "2023-01-01T00:00:00",
          "2023-01-08T00:00:00",
          "2023-01-15T00:00:00",
          "2023-01-22T00:00:00",
          "2023-02-01T00:00:00",
          "2023-02-08T00:00:00",
          "2023-02-15T00:00:00",
          "2023-02-22T00:00:00",
          "2023-03-01T00:00:00",
          "2023-03-08T00:00:00",
          "2023-03-15T00:00:00",
          "2023-03-22T00:00:00",
          "2023-04-01T00:00:00",
          "2023-04-08T00:00:00",
          "2023-04-15T00:00:00",
          "2023-04-22T00:00:00",
          "2023-05-01T00:00:00",
          "2023-05-08T00:00:00",
          "2023-05-15T00:00:00",
          "2023-05-22T00:00:00",
          "2023-06-01T00:00:00",
          "2023-06-08T00:00:00",
          "2023-06-15T00:00:00",
          "2023-06-22T00:00:00",
          "2023-07-01T00:00:00",
          "2023-07-08T00:00:00",
          "2023-07-15T00:00:00",
          "2023-07-22T00:00:00"
         ],
         "y": [
          326.9715,
          326.9715,
          326.9715,
          326.9715,
          326.9715,
          326.9715,
          326.9715,
          326.9715,
          326.9715,
          326.9715,
          326.9715,
          326.9715,
          326.9715,
          326.9715,
          326.9715,
          326.9715,
          326.9715,
          326.9715,
          326.9715,
          326.9715,
          326.9715,
          326.9715,
          326.9715,
          326.9715,
          326.9715,
          326.9715,
          326.9715,
          326.9715
         ]
        },
        {
         "hovertemplate": "%{y:.2f}",
         "line": {
          "color": "rgba(0,0,0,0.25)",
          "dash": "dot"
         },
         "mode": "lines",
         "name": "Volume (mean)",
         "type": "scatter",
         "x": [
          "2023-01-01T00:00:00",
          "2023-01-08T00:00:00",
          "2023-01-15T00:00:00",
          "2023-01-22T00:00:00",
          "2023-02-01T00:00:00",
          "2023-02-08T00:00:00",
          "2023-02-15T00:00:00",
          "2023-02-22T00:00:00",
          "2023-03-01T00:00:00",
          "2023-03-08T00:00:00",
          "2023-03-15T00:00:00",
          "2023-03-22T00:00:00",
          "2023-04-01T00:00:00",
          "2023-04-08T00:00:00",
          "2023-04-15T00:00:00",
          "2023-04-22T00:00:00",
          "2023-05-01T00:00:00",
          "2023-05-08T00:00:00",
          "2023-05-15T00:00:00",
          "2023-05-22T00:00:00",
          "2023-06-01T00:00:00",
          "2023-06-08T00:00:00",
          "2023-06-15T00:00:00",
          "2023-06-22T00:00:00",
          "2023-07-01T00:00:00",
          "2023-07-08T00:00:00",
          "2023-07-15T00:00:00",
          "2023-07-22T00:00:00"
         ],
         "y": [
          342.99553333333336,
          342.99553333333336,
          342.99553333333336,
          342.99553333333336,
          342.99553333333336,
          342.99553333333336,
          342.99553333333336,
          342.99553333333336,
          342.99553333333336,
          342.99553333333336,
          342.99553333333336,
          342.99553333333336,
          342.99553333333336,
          342.99553333333336,
          342.99553333333336,
          342.99553333333336,
          342.99553333333336,
          342.99553333333336,
          342.99553333333336,
          342.99553333333336,
          342.99553333333336,
          342.99553333333336,
          342.99553333333336,
          342.99553333333336,
          342.99553333333336,
          342.99553333333336,
          342.99553333333336,
          342.99553333333336
         ]
        },
        {
         "hovertemplate": "%{y:.2f}",
         "line": {
          "color": "rgba(226,167,111,0.8)"
         },
         "mode": "lines",
         "name": "Volume (min, 2002)",
         "type": "scatter",
         "x": [
          "2023-01-01T00:00:00",
          "2023-01-08T00:00:00",
          "2023-01-15T00:00:00",
          "2023-01-22T00:00:00",
          "2023-02-01T00:00:00",
          "2023-02-08T00:00:00",
          "2023-02-15T00:00:00",
          "2023-02-22T00:00:00",
          "2023-03-01T00:00:00",
          "2023-03-08T00:00:00",
          "2023-03-15T00:00:00",
          "2023-03-22T00:00:00",
          "2023-04-01T00:00:00",
          "2023-04-08T00:00:00",
          "2023-04-15T00:00:00",
          "2023-04-22T00:00:00",
          "2023-05-01T00:00:00",
          "2023-05-08T00:00:00",
          "2023-05-15T00:00:00",
          "2023-05-22T00:00:00",
          "2023-06-01T00:00:00",
          "2023-06-08T00:00:00",
          "2023-06-15T00:00:00",
          "2023-06-22T00:00:00",
          "2023-07-01T00:00:00",
          "2023-07-08T00:00:00",
          "2023-07-15T00:00:00",
          "2023-07-22T00:00:00"
         ],
         "y": [
          91.587,
          91.587,
          91.587,
          91.587,
          91.587,
          91.587,
          91.587,
          91.587,
          91.587,
          91.587,
          91.587,
          91.587,
          91.587,
          91.587,
          91.587,
          91.587,
          91.587,
          91.587,
          91.587,
          91.587,
          91.587,
          91.587,
          91.587,
          91.587,
          91.587,
          91.587,
          91.587,
          91.587
         ]
        },
        {
         "hovertemplate": "%{y:.2f}",
         "line": {
          "color": "rgba(150,0,0,0.7)"
         },
         "mode": "lines",
         "name": "Volume (max, 1995)",
         "type": "scatter",
         "x": [
          "2023-01-01T00:00:00",
          "2023-01-08T00:00:00",
          "2023-01-15T00:00:00",
          "2023-01-22T00:00:00",
          "2023-02-01T00:00:00",
          "2023-02-08T00:00:00",
          "2023-02-15T00:00:00",
          "2023-02-22T00:00:00",
          "2023-03-01T00:00:00",
          "2023-03-08T00:00:00",
          "2023-03-15T00:00:00",
          "2023-03-22T00:00:00",
          "2023-04-01T00:00:00",
          "2023-04-08T00:00:00",
          "2023-04-15T00:00:00",
          "2023-04-22T00:00:00",
          "2023-05-01T00:00:00",
          "2023-05-08T00:00:00",
          "2023-05-15T00:00:00",
          "2023-05-22T00:00:00",
          "2023-06-01T00:00:00",
          "2023-06-08T00:00:00",
          "2023-06-15T00:00:00",
          "2023-06-22T00:00:00",
          "2023-07-01T00:00:00",
          "2023-07-08T00:00:00",
          "2023-07-15T00:00:00",
          "2023-07-22T00:00:00"
         ],
         "y": [
          759.522,
          759.522,
          759.522,
          759.522,
          759.522,
          759.522,
          759.522,
          759.522,
          759.522,
          759.522,
          759.522,
          759.522,
          759.522,
          759.522,
          759.522,
          759.522,
          759.522,
          759.522,
          759.522,
          759.522,
          759.522,
          759.522,
          759.522,
          759.522,
          759.522,
          759.522,
          759.522,
          759.522
         ]
        },
        {
         "hovertemplate": "%{y:.2f}",
         "line": {
          "color": "rgb(34,139,34)",
          "dash": "dot"
         },
         "mode": "lines",
         "name": "Latest known volume",
         "type": "scatter",
         "x": [
          "2023-01-01T00:00:00",
          "2023-01-08T00:00:00",
          "2023-01-15T00:00:00",
          "2023-01-22T00:00:00",
          "2023-02-01T00:00:00",
          "2023-02-08T00:00:00",
          "2023-02-15T00:00:00",
          "2023-02-22T00:00:00",
          "2023-03-01T00:00:00",
          "2023-03-08T00:00:00",
          "2023-03-15T00:00:00",
          "2023-03-22T00:00:00",
          "2023-04-01T00:00:00",
          "2023-04-08T00:00:00",
          "2023-04-15T00:00:00",
          "2023-04-22T00:00:00",
          "2023-05-01T00:00:00",
          "2023-05-08T00:00:00",
          "2023-05-15T00:00:00",
          "2023-05-22T00:00:00",
          "2023-06-01T00:00:00",
          "2023-06-08T00:00:00",
          "2023-06-15T00:00:00",
          "2023-06-22T00:00:00",
          "2023-07-01T00:00:00",
          "2023-07-08T00:00:00",
          "2023-07-15T00:00:00",
          "2023-07-22T00:00:00"
         ],
         "y": [
          null,
          null,
          null,
          null,
          null,
          null,
          null,
          null,
          null,
          null,
          null,
          null,
          null,
          null,
          null,
          null,
          12.117,
          12.117,
          12.117,
          null,
          null,
          null,
          null,
          null,
          null,
          null,
          null,
          null
         ]
        },
        {
         "hovertemplate": "%{y:.2f}",
         "line": {
          "width": 0
         },
         "marker": {
          "color": "#444"
         },
         "mode": "lines",
         "name": "Quantile 0.1 forecast",
         "showlegend": false,
         "type": "scatter",
         "x": [
          "2023-01-01T00:00:00",
          "2023-01-08T00:00:00",
          "2023-01-15T00:00:00",
          "2023-01-22T00:00:00",
          "2023-02-01T00:00:00",
          "2023-02-08T00:00:00",
          "2023-02-15T00:00:00",
          "2023-02-22T00:00:00",
          "2023-03-01T00:00:00",
          "2023-03-08T00:00:00",
          "2023-03-15T00:00:00",
          "2023-03-22T00:00:00",
          "2023-04-01T00:00:00",
          "2023-04-08T00:00:00",
          "2023-04-15T00:00:00",
          "2023-04-22T00:00:00",
          "2023-05-01T00:00:00",
          "2023-05-08T00:00:00",
          "2023-05-15T00:00:00",
          "2023-05-22T00:00:00",
          "2023-06-01T00:00:00",
          "2023-06-08T00:00:00",
          "2023-06-15T00:00:00",
          "2023-06-22T00:00:00",
          "2023-07-01T00:00:00",
          "2023-07-08T00:00:00",
          "2023-07-15T00:00:00",
          "2023-07-22T00:00:00"
         ],
         "y": [
          115.77889451448462,
          176.27872928482952,
          172.47955446728832,
          192.69951594604288,
          198.5667331853286,
          187.72727127501463,
          188.6876631278828,
          195.81038652473848,
          192.99621166840245,
          192.0453185255306,
          200.51555512638117,
          205.7620760434886,
          211.14628834272267,
          214.4292645630393,
          201.9421122799634,
          193.91858908874983,
          212.94646874721627,
          200.27745471313688,
          211.66593725969918,
          null,
          null,
          null,
          null,
          null,
          null,
          null,
          null,
          null
         ]
        },
        {
         "fill": "tonexty",
         "fillcolor": "rgba(148, 187, 207, 0.4)",
         "hoverinfo": "skip",
         "line": {
          "width": 0
         },
         "marker": {
          "color": "#444"
         },
         "mode": "lines",
         "name": "80% prediction interval",
         "type": "scatter",
         "x": [
          "2023-01-01T00:00:00",
          "2023-01-08T00:00:00",
          "2023-01-15T00:00:00",
          "2023-01-22T00:00:00",
          "2023-02-01T00:00:00",
          "2023-02-08T00:00:00",
          "2023-02-15T00:00:00",
          "2023-02-22T00:00:00",
          "2023-03-01T00:00:00",
          "2023-03-08T00:00:00",
          "2023-03-15T00:00:00",
          "2023-03-22T00:00:00",
          "2023-04-01T00:00:00",
          "2023-04-08T00:00:00",
          "2023-04-15T00:00:00",
          "2023-04-22T00:00:00",
          "2023-05-01T00:00:00",
          "2023-05-08T00:00:00",
          "2023-05-15T00:00:00",
          "2023-05-22T00:00:00",
          "2023-06-01T00:00:00",
          "2023-06-08T00:00:00",
          "2023-06-15T00:00:00",
          "2023-06-22T00:00:00",
          "2023-07-01T00:00:00",
          "2023-07-08T00:00:00",
          "2023-07-15T00:00:00",
          "2023-07-22T00:00:00"
         ],
         "y": [
          407.03104849761183,
          460.81780656054156,
          448.61920578307,
          457.6634777262987,
          454.343367991891,
          443.6406242872011,
          436.7534411386116,
          451.3007593328791,
          456.6090196193909,
          399.6129762655448,
          420.64370892610685,
          425.6013544547293,
          426.52774044471613,
          392.7110682742327,
          391.60818841123717,
          387.0605290358331,
          379.88790665941985,
          361.8598502464512,
          397.21409683615013,
          null,
          null,
          null,
          null,
          null,
          null,
          null,
          null,
          null
         ]
        },
        {
         "hovertemplate": "%{y:.2f}",
         "line": {
          "width": 0
         },
         "marker": {
          "color": "#444"
         },
         "mode": "lines",
         "name": "Quantile 0.9 forecast",
         "showlegend": false,
         "type": "scatter",
         "x": [
          "2023-01-01T00:00:00",
          "2023-01-08T00:00:00",
          "2023-01-15T00:00:00",
          "2023-01-22T00:00:00",
          "2023-02-01T00:00:00",
          "2023-02-08T00:00:00",
          "2023-02-15T00:00:00",
          "2023-02-22T00:00:00",
          "2023-03-01T00:00:00",
          "2023-03-08T00:00:00",
          "2023-03-15T00:00:00",
          "2023-03-22T00:00:00",
          "2023-04-01T00:00:00",
          "2023-04-08T00:00:00",
          "2023-04-15T00:00:00",
          "2023-04-22T00:00:00",
          "2023-05-01T00:00:00",
          "2023-05-08T00:00:00",
          "2023-05-15T00:00:00",
          "2023-05-22T00:00:00",
          "2023-06-01T00:00:00",
          "2023-06-08T00:00:00",
          "2023-06-15T00:00:00",
          "2023-06-22T00:00:00",
          "2023-07-01T00:00:00",
          "2023-07-08T00:00:00",
          "2023-07-15T00:00:00",
          "2023-07-22T00:00:00"
         ],
         "y": [
          407.03104849761183,
          460.81780656054156,
          448.61920578307,
          457.6634777262987,
          454.343367991891,
          443.6406242872011,
          436.7534411386116,
          451.3007593328791,
          456.6090196193909,
          399.6129762655448,
          420.64370892610685,
          425.6013544547293,
          426.52774044471613,
          392.7110682742327,
          391.60818841123717,
          387.0605290358331,
          379.88790665941985,
          361.8598502464512,
          397.21409683615013,
          null,
          null,
          null,
          null,
          null,
          null,
          null,
          null,
          null
         ]
        },
        {
         "hovertemplate": "%{y:.2f}",
         "line": {
          "color": "#384D7E"
         },
         "mode": "lines",
         "name": "Point forecast",
         "type": "scatter",
         "x": [
          "2023-01-01T00:00:00",
          "2023-01-08T00:00:00",
          "2023-01-15T00:00:00",
          "2023-01-22T00:00:00",
          "2023-02-01T00:00:00",
          "2023-02-08T00:00:00",
          "2023-02-15T00:00:00",
          "2023-02-22T00:00:00",
          "2023-03-01T00:00:00",
          "2023-03-08T00:00:00",
          "2023-03-15T00:00:00",
          "2023-03-22T00:00:00",
          "2023-04-01T00:00:00",
          "2023-04-08T00:00:00",
          "2023-04-15T00:00:00",
          "2023-04-22T00:00:00",
          "2023-05-01T00:00:00",
          "2023-05-08T00:00:00",
          "2023-05-15T00:00:00",
          "2023-05-22T00:00:00",
          "2023-06-01T00:00:00",
          "2023-06-08T00:00:00",
          "2023-06-15T00:00:00",
          "2023-06-22T00:00:00",
          "2023-07-01T00:00:00",
          "2023-07-08T00:00:00",
          "2023-07-15T00:00:00",
          "2023-07-22T00:00:00"
         ],
         "y": [
          255.574374681031,
          291.1512877276569,
          282.86316425270195,
          286.0847066183672,
          285.77096757088447,
          275.38147618926064,
          275.1195152782585,
          280.63332521300305,
          283.5124829396616,
          264.6679917986229,
          278.39957872387174,
          283.6318457850504,
          283.7505007178862,
          267.05434563434187,
          251.98699190013753,
          250.26327333443675,
          260.39639960999,
          254.71278367714137,
          274.9767786366825,
          null,
          null,
          null,
          null,
          null,
          null,
          null,
          null,
          null
         ]
        }
       ],
       "layout": {
        "height": 500,
        "hovermode": "x",
        "template": {
         "data": {
          "bar": [
           {
            "error_x": {
             "color": "#2a3f5f"
            },
            "error_y": {
             "color": "#2a3f5f"
            },
            "marker": {
             "line": {
              "color": "white",
              "width": 0.5
             },
             "pattern": {
              "fillmode": "overlay",
              "size": 10,
              "solidity": 0.2
             }
            },
            "type": "bar"
           }
          ],
          "barpolar": [
           {
            "marker": {
             "line": {
              "color": "white",
              "width": 0.5
             },
             "pattern": {
              "fillmode": "overlay",
              "size": 10,
              "solidity": 0.2
             }
            },
            "type": "barpolar"
           }
          ],
          "carpet": [
           {
            "aaxis": {
             "endlinecolor": "#2a3f5f",
             "gridcolor": "#C8D4E3",
             "linecolor": "#C8D4E3",
             "minorgridcolor": "#C8D4E3",
             "startlinecolor": "#2a3f5f"
            },
            "baxis": {
             "endlinecolor": "#2a3f5f",
             "gridcolor": "#C8D4E3",
             "linecolor": "#C8D4E3",
             "minorgridcolor": "#C8D4E3",
             "startlinecolor": "#2a3f5f"
            },
            "type": "carpet"
           }
          ],
          "choropleth": [
           {
            "colorbar": {
             "outlinewidth": 0,
             "ticks": ""
            },
            "type": "choropleth"
           }
          ],
          "contour": [
           {
            "colorbar": {
             "outlinewidth": 0,
             "ticks": ""
            },
            "colorscale": [
             [
              0,
              "#0d0887"
             ],
             [
              0.1111111111111111,
              "#46039f"
             ],
             [
              0.2222222222222222,
              "#7201a8"
             ],
             [
              0.3333333333333333,
              "#9c179e"
             ],
             [
              0.4444444444444444,
              "#bd3786"
             ],
             [
              0.5555555555555556,
              "#d8576b"
             ],
             [
              0.6666666666666666,
              "#ed7953"
             ],
             [
              0.7777777777777778,
              "#fb9f3a"
             ],
             [
              0.8888888888888888,
              "#fdca26"
             ],
             [
              1,
              "#f0f921"
             ]
            ],
            "type": "contour"
           }
          ],
          "contourcarpet": [
           {
            "colorbar": {
             "outlinewidth": 0,
             "ticks": ""
            },
            "type": "contourcarpet"
           }
          ],
          "heatmap": [
           {
            "colorbar": {
             "outlinewidth": 0,
             "ticks": ""
            },
            "colorscale": [
             [
              0,
              "#0d0887"
             ],
             [
              0.1111111111111111,
              "#46039f"
             ],
             [
              0.2222222222222222,
              "#7201a8"
             ],
             [
              0.3333333333333333,
              "#9c179e"
             ],
             [
              0.4444444444444444,
              "#bd3786"
             ],
             [
              0.5555555555555556,
              "#d8576b"
             ],
             [
              0.6666666666666666,
              "#ed7953"
             ],
             [
              0.7777777777777778,
              "#fb9f3a"
             ],
             [
              0.8888888888888888,
              "#fdca26"
             ],
             [
              1,
              "#f0f921"
             ]
            ],
            "type": "heatmap"
           }
          ],
          "heatmapgl": [
           {
            "colorbar": {
             "outlinewidth": 0,
             "ticks": ""
            },
            "colorscale": [
             [
              0,
              "#0d0887"
             ],
             [
              0.1111111111111111,
              "#46039f"
             ],
             [
              0.2222222222222222,
              "#7201a8"
             ],
             [
              0.3333333333333333,
              "#9c179e"
             ],
             [
              0.4444444444444444,
              "#bd3786"
             ],
             [
              0.5555555555555556,
              "#d8576b"
             ],
             [
              0.6666666666666666,
              "#ed7953"
             ],
             [
              0.7777777777777778,
              "#fb9f3a"
             ],
             [
              0.8888888888888888,
              "#fdca26"
             ],
             [
              1,
              "#f0f921"
             ]
            ],
            "type": "heatmapgl"
           }
          ],
          "histogram": [
           {
            "marker": {
             "pattern": {
              "fillmode": "overlay",
              "size": 10,
              "solidity": 0.2
             }
            },
            "type": "histogram"
           }
          ],
          "histogram2d": [
           {
            "colorbar": {
             "outlinewidth": 0,
             "ticks": ""
            },
            "colorscale": [
             [
              0,
              "#0d0887"
             ],
             [
              0.1111111111111111,
              "#46039f"
             ],
             [
              0.2222222222222222,
              "#7201a8"
             ],
             [
              0.3333333333333333,
              "#9c179e"
             ],
             [
              0.4444444444444444,
              "#bd3786"
             ],
             [
              0.5555555555555556,
              "#d8576b"
             ],
             [
              0.6666666666666666,
              "#ed7953"
             ],
             [
              0.7777777777777778,
              "#fb9f3a"
             ],
             [
              0.8888888888888888,
              "#fdca26"
             ],
             [
              1,
              "#f0f921"
             ]
            ],
            "type": "histogram2d"
           }
          ],
          "histogram2dcontour": [
           {
            "colorbar": {
             "outlinewidth": 0,
             "ticks": ""
            },
            "colorscale": [
             [
              0,
              "#0d0887"
             ],
             [
              0.1111111111111111,
              "#46039f"
             ],
             [
              0.2222222222222222,
              "#7201a8"
             ],
             [
              0.3333333333333333,
              "#9c179e"
             ],
             [
              0.4444444444444444,
              "#bd3786"
             ],
             [
              0.5555555555555556,
              "#d8576b"
             ],
             [
              0.6666666666666666,
              "#ed7953"
             ],
             [
              0.7777777777777778,
              "#fb9f3a"
             ],
             [
              0.8888888888888888,
              "#fdca26"
             ],
             [
              1,
              "#f0f921"
             ]
            ],
            "type": "histogram2dcontour"
           }
          ],
          "mesh3d": [
           {
            "colorbar": {
             "outlinewidth": 0,
             "ticks": ""
            },
            "type": "mesh3d"
           }
          ],
          "parcoords": [
           {
            "line": {
             "colorbar": {
              "outlinewidth": 0,
              "ticks": ""
             }
            },
            "type": "parcoords"
           }
          ],
          "pie": [
           {
            "automargin": true,
            "type": "pie"
           }
          ],
          "scatter": [
           {
            "fillpattern": {
             "fillmode": "overlay",
             "size": 10,
             "solidity": 0.2
            },
            "type": "scatter"
           }
          ],
          "scatter3d": [
           {
            "line": {
             "colorbar": {
              "outlinewidth": 0,
              "ticks": ""
             }
            },
            "marker": {
             "colorbar": {
              "outlinewidth": 0,
              "ticks": ""
             }
            },
            "type": "scatter3d"
           }
          ],
          "scattercarpet": [
           {
            "marker": {
             "colorbar": {
              "outlinewidth": 0,
              "ticks": ""
             }
            },
            "type": "scattercarpet"
           }
          ],
          "scattergeo": [
           {
            "marker": {
             "colorbar": {
              "outlinewidth": 0,
              "ticks": ""
             }
            },
            "type": "scattergeo"
           }
          ],
          "scattergl": [
           {
            "marker": {
             "colorbar": {
              "outlinewidth": 0,
              "ticks": ""
             }
            },
            "type": "scattergl"
           }
          ],
          "scattermapbox": [
           {
            "marker": {
             "colorbar": {
              "outlinewidth": 0,
              "ticks": ""
             }
            },
            "type": "scattermapbox"
           }
          ],
          "scatterpolar": [
           {
            "marker": {
             "colorbar": {
              "outlinewidth": 0,
              "ticks": ""
             }
            },
            "type": "scatterpolar"
           }
          ],
          "scatterpolargl": [
           {
            "marker": {
             "colorbar": {
              "outlinewidth": 0,
              "ticks": ""
             }
            },
            "type": "scatterpolargl"
           }
          ],
          "scatterternary": [
           {
            "marker": {
             "colorbar": {
              "outlinewidth": 0,
              "ticks": ""
             }
            },
            "type": "scatterternary"
           }
          ],
          "surface": [
           {
            "colorbar": {
             "outlinewidth": 0,
             "ticks": ""
            },
            "colorscale": [
             [
              0,
              "#0d0887"
             ],
             [
              0.1111111111111111,
              "#46039f"
             ],
             [
              0.2222222222222222,
              "#7201a8"
             ],
             [
              0.3333333333333333,
              "#9c179e"
             ],
             [
              0.4444444444444444,
              "#bd3786"
             ],
             [
              0.5555555555555556,
              "#d8576b"
             ],
             [
              0.6666666666666666,
              "#ed7953"
             ],
             [
              0.7777777777777778,
              "#fb9f3a"
             ],
             [
              0.8888888888888888,
              "#fdca26"
             ],
             [
              1,
              "#f0f921"
             ]
            ],
            "type": "surface"
           }
          ],
          "table": [
           {
            "cells": {
             "fill": {
              "color": "#EBF0F8"
             },
             "line": {
              "color": "white"
             }
            },
            "header": {
             "fill": {
              "color": "#C8D4E3"
             },
             "line": {
              "color": "white"
             }
            },
            "type": "table"
           }
          ]
         },
         "layout": {
          "annotationdefaults": {
           "arrowcolor": "#2a3f5f",
           "arrowhead": 0,
           "arrowwidth": 1
          },
          "autotypenumbers": "strict",
          "coloraxis": {
           "colorbar": {
            "outlinewidth": 0,
            "ticks": ""
           }
          },
          "colorscale": {
           "diverging": [
            [
             0,
             "#8e0152"
            ],
            [
             0.1,
             "#c51b7d"
            ],
            [
             0.2,
             "#de77ae"
            ],
            [
             0.3,
             "#f1b6da"
            ],
            [
             0.4,
             "#fde0ef"
            ],
            [
             0.5,
             "#f7f7f7"
            ],
            [
             0.6,
             "#e6f5d0"
            ],
            [
             0.7,
             "#b8e186"
            ],
            [
             0.8,
             "#7fbc41"
            ],
            [
             0.9,
             "#4d9221"
            ],
            [
             1,
             "#276419"
            ]
           ],
           "sequential": [
            [
             0,
             "#0d0887"
            ],
            [
             0.1111111111111111,
             "#46039f"
            ],
            [
             0.2222222222222222,
             "#7201a8"
            ],
            [
             0.3333333333333333,
             "#9c179e"
            ],
            [
             0.4444444444444444,
             "#bd3786"
            ],
            [
             0.5555555555555556,
             "#d8576b"
            ],
            [
             0.6666666666666666,
             "#ed7953"
            ],
            [
             0.7777777777777778,
             "#fb9f3a"
            ],
            [
             0.8888888888888888,
             "#fdca26"
            ],
            [
             1,
             "#f0f921"
            ]
           ],
           "sequentialminus": [
            [
             0,
             "#0d0887"
            ],
            [
             0.1111111111111111,
             "#46039f"
            ],
            [
             0.2222222222222222,
             "#7201a8"
            ],
            [
             0.3333333333333333,
             "#9c179e"
            ],
            [
             0.4444444444444444,
             "#bd3786"
            ],
            [
             0.5555555555555556,
             "#d8576b"
            ],
            [
             0.6666666666666666,
             "#ed7953"
            ],
            [
             0.7777777777777778,
             "#fb9f3a"
            ],
            [
             0.8888888888888888,
             "#fdca26"
            ],
            [
             1,
             "#f0f921"
            ]
           ]
          },
          "colorway": [
           "#636efa",
           "#EF553B",
           "#00cc96",
           "#ab63fa",
           "#FFA15A",
           "#19d3f3",
           "#FF6692",
           "#B6E880",
           "#FF97FF",
           "#FECB52"
          ],
          "font": {
           "color": "#2a3f5f"
          },
          "geo": {
           "bgcolor": "white",
           "lakecolor": "white",
           "landcolor": "white",
           "showlakes": true,
           "showland": true,
           "subunitcolor": "#C8D4E3"
          },
          "hoverlabel": {
           "align": "left"
          },
          "hovermode": "closest",
          "mapbox": {
           "style": "light"
          },
          "paper_bgcolor": "white",
          "plot_bgcolor": "white",
          "polar": {
           "angularaxis": {
            "gridcolor": "#EBF0F8",
            "linecolor": "#EBF0F8",
            "ticks": ""
           },
           "bgcolor": "white",
           "radialaxis": {
            "gridcolor": "#EBF0F8",
            "linecolor": "#EBF0F8",
            "ticks": ""
           }
          },
          "scene": {
           "xaxis": {
            "backgroundcolor": "white",
            "gridcolor": "#DFE8F3",
            "gridwidth": 2,
            "linecolor": "#EBF0F8",
            "showbackground": true,
            "ticks": "",
            "zerolinecolor": "#EBF0F8"
           },
           "yaxis": {
            "backgroundcolor": "white",
            "gridcolor": "#DFE8F3",
            "gridwidth": 2,
            "linecolor": "#EBF0F8",
            "showbackground": true,
            "ticks": "",
            "zerolinecolor": "#EBF0F8"
           },
           "zaxis": {
            "backgroundcolor": "white",
            "gridcolor": "#DFE8F3",
            "gridwidth": 2,
            "linecolor": "#EBF0F8",
            "showbackground": true,
            "ticks": "",
            "zerolinecolor": "#EBF0F8"
           }
          },
          "shapedefaults": {
           "line": {
            "color": "#2a3f5f"
           }
          },
          "ternary": {
           "aaxis": {
            "gridcolor": "#DFE8F3",
            "linecolor": "#A2B1C6",
            "ticks": ""
           },
           "baxis": {
            "gridcolor": "#DFE8F3",
            "linecolor": "#A2B1C6",
            "ticks": ""
           },
           "bgcolor": "white",
           "caxis": {
            "gridcolor": "#DFE8F3",
            "linecolor": "#A2B1C6",
            "ticks": ""
           }
          },
          "title": {
           "x": 0.05
          },
          "xaxis": {
           "automargin": true,
           "gridcolor": "#EBF0F8",
           "linecolor": "#EBF0F8",
           "ticks": "",
           "title": {
            "standoff": 15
           },
           "zerolinecolor": "#EBF0F8",
           "zerolinewidth": 2
          },
          "yaxis": {
           "automargin": true,
           "gridcolor": "#EBF0F8",
           "linecolor": "#EBF0F8",
           "ticks": "",
           "title": {
            "standoff": 15
           },
           "zerolinecolor": "#EBF0F8",
           "zerolinewidth": 2
          }
         }
        },
        "title": {
         "text": "pueblo_reservoir_inflow - Apr-Jul 2023 forecast"
        },
        "width": 900,
        "xaxis": {
         "title": {
          "text": "Issue Date"
         }
        },
        "yaxis": {
         "title": {
          "text": "Volume (KAF)"
         }
        }
       }
      }
     },
     "metadata": {},
     "output_type": "display_data"
    }
   ],
   "source": [
    "for site_id in [\"owyhee_r_bl_owyhee_dam\", \"pueblo_reservoir_inflow\"]:\n",
    "    for issue_date in [\"2023-03-15\",\"2023-05-15\"]:\n",
    "        print(site_id, issue_date)\n",
    "        generate_report(\n",
    "            pred_output_long_map,\n",
    "            pred_output_transform,\n",
    "            df_features_pom,\n",
    "            df_pred,\n",
    "            site_id=site_id,\n",
    "            issue_date=issue_date,\n",
    "            save_tbl_img=True,\n",
    "            save_plot_img=False\n",
    "        )"
   ]
  }
 ],
 "metadata": {
  "kernelspec": {
   "display_name": "base",
   "language": "python",
   "name": "python3"
  },
  "language_info": {
   "codemirror_mode": {
    "name": "ipython",
    "version": 3
   },
   "file_extension": ".py",
   "mimetype": "text/x-python",
   "name": "python",
   "nbconvert_exporter": "python",
   "pygments_lexer": "ipython3",
   "version": "3.8.5"
  }
 },
 "nbformat": 4,
 "nbformat_minor": 2
}
